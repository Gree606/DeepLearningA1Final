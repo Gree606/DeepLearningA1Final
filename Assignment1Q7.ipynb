{
  "cells": [
    {
      "cell_type": "code",
      "execution_count": null,
      "metadata": {
        "colab": {
          "background_save": true
        },
        "id": "ko4IB5IGiglb"
      },
      "outputs": [],
      "source": [
        "import numpy as np\n",
        "import pandas as pd\n",
        "from tensorflow.keras.datasets import mnist, fashion_mnist\n",
        "from sklearn.model_selection import train_test_split\n",
        "from sklearn.metrics import accuracy_score\n",
        "!pip install wandb -q\n",
        "import wandb"
      ]
    },
    {
      "cell_type": "code",
      "execution_count": null,
      "metadata": {
        "colab": {
          "base_uri": "https://localhost:8080/"
        },
        "id": "Wwo-MSGkisv1",
        "outputId": "48dc69f6-c633-402c-cde5-129658284ec3"
      },
      "outputs": [
        {
          "name": "stdout",
          "output_type": "stream",
          "text": [
            "Number of examples in training set\n",
            "(54000, 784)\n",
            "(10, 54000)\n",
            "(54000,)\n",
            "No of examples in validation set\n",
            "(6000, 784)\n",
            "(6000,)\n",
            "No of examples in test set\n",
            "(10000, 784)\n",
            "(10000,)\n"
          ]
        }
      ],
      "source": [
        "def getData():\n",
        "    (trainX, trainY), (testX, testY) = fashion_mnist.load_data()\n",
        "    trainX = trainX.reshape(trainX.shape[0], -1)\n",
        "    testX = testX.reshape(testX.shape[0], -1)\n",
        "    trainX = trainX/255.0\n",
        "    testX = testX/255.0\n",
        "    \n",
        "    \n",
        "    trainX, valX, trainY, valY = train_test_split(trainX, trainY, test_size=0.1, random_state=42)\n",
        "    \n",
        "    oneHotYtrain = np.zeros((10,trainY.shape[0]))\n",
        "    oneHotYtrain[trainY, np.array(list(range(trainY.shape[0])))] = 1\n",
        "\n",
        "    oneHotYval= np.zeros((10,valY.shape[0]))\n",
        "    oneHotYval[valY, np.array(list(range(valY.shape[0])))] = 1\n",
        "\n",
        "    \n",
        "    \n",
        "    print(\"Number of examples in training set\")\n",
        "    print(trainX.shape)\n",
        "    print(oneHotYtrain.shape)\n",
        "    print(trainY.shape)\n",
        "    \n",
        "    print(\"No of examples in validation set\")\n",
        "    print(valX.shape)\n",
        "    print(valY.shape)\n",
        "    print(\"No of examples in test set\")\n",
        "    print(testX.shape)\n",
        "    print(testY.shape)\n",
        "    \n",
        "    return trainX.T, oneHotYtrain, trainY.T ,valX.T, valY.T, testX.T, testY.T, oneHotYval\n",
        "\n",
        "\n",
        "trainX, oneHotYtrain, trainY, valX, valY, testX, testY, oneHotYval = getData() "
      ]
    },
    {
      "cell_type": "code",
      "execution_count": null,
      "metadata": {
        "id": "juGkHHcjiszG"
      },
      "outputs": [],
      "source": [
        "def sigmoidFn(z):\n",
        "    return 1. / (1.+np.exp(-z))\n",
        "def reluFn(z):\n",
        "    return np.maximum(0,z)\n",
        "def tanhFn(z):\n",
        "    return np.tanh(z)\n",
        "def softmaxFn(z):\n",
        "    soft = np.zeros(z.shape)\n",
        "    for i in range(0, z.shape[1]):\n",
        "        numr = np.exp(z[:, i])\n",
        "        soft[:, i] = numr/np.sum(numr)\n",
        "    return soft\n",
        "\n",
        "#Derivatives\n",
        "def dSigmoid(z):\n",
        "    return sigmoidFn(z) * (1-sigmoidFn(z))\n",
        "def dRelu(z):\n",
        "    return 1*(z>0) \n",
        "def dTanh(z):\n",
        "    return (1 - (np.tanh(z)**2))\n",
        "\n",
        "def softmaxFn(z):\n",
        "    soft = np.zeros(z.shape)\n",
        "    for i in range(0, z.shape[1]):\n",
        "        numr = np.exp(z[:, i])\n",
        "        soft[:, i] = numr/np.sum(numr)\n",
        "    return soft\n",
        "\n",
        "def initParameters(inLayer, hidLayer, outLayer,initilisation):\n",
        "    W = []\n",
        "    B  = []\n",
        "    layers = [inLayer] + hidLayer + [outLayer]\n",
        "    for i in range(len(hidLayer)+1):\n",
        "        if initilisation == 'random':\n",
        "            W.append(np.random.rand(layers[i+1], layers[i])*0.01)\n",
        "        if initilisation == 'xavier':\n",
        "            W.append(np.random.randn(layers[i+1],layers[i])*np.sqrt(2/layers[i+1]))\n",
        "        B.append(np.random.randn(layers[i+1],1))\n",
        "    print('W length=',len(W))\n",
        "    print('B length=',len(B))\n",
        "    print('W shape=',W[3].shape)\n",
        "    print('B shape=',B[3].shape)\n",
        "    return W, B\n",
        "\n",
        "# initialize_parameters(784,[128,128,124],10,'random')"
      ]
    },
    {
      "cell_type": "code",
      "execution_count": null,
      "metadata": {
        "id": "D6K0GHxCis18"
      },
      "outputs": [],
      "source": [
        "import numpy as np\n",
        "from sklearn.metrics import mean_squared_error\n",
        "\n",
        "class DLA:\n",
        "\n",
        "    def __init__(self,inLayer,hidLayer,outLayer ,initForm, activation,lossFn):\n",
        "           \n",
        "        self.inLayer   = inLayer\n",
        "        self.outLayer  = outLayer\n",
        "        self.hidLayer   = hidLayer\n",
        "        self.activation = activation\n",
        "        self.lossFn = lossFn\n",
        "        self.W    = []\n",
        "        self.B     = []\n",
        "        self.initForm = initForm\n",
        "        self.W,self.B = initParameters(self.inLayer,self.hidLayer,self.outLayer,self.initForm)\n",
        "\n",
        "    \n",
        "    \n",
        "\n",
        "    def forward_propagation(self,input):\n",
        "\n",
        "        self.A = []\n",
        "        self.H  = []\n",
        "        k=0\n",
        "        \n",
        "        self.A.append(np.matmul(self.W[k],input)+self.B[k])\n",
        "        if self.activation == 'sigmoid':\n",
        "          self.H.append(sigmoidFn(self.A[k]))\n",
        "        elif self.activation == 'tanh':\n",
        "          self.H.append(tanhFn(self.A[k]))\n",
        "        elif self.activation == 'relu': \n",
        "          self.H.append(reluFn(self.A[k])) \n",
        "\n",
        "\n",
        "        for k in range(1,len(self.hidLayer)):\n",
        "            self.A.append(np.matmul(self.W[k],self.H[k-1])+self.B[k])\n",
        "            if self.activation == 'sigmoid':\n",
        "              self.H.append(sigmoidFn(self.A[k]))\n",
        "            elif self.activation == 'tanh':\n",
        "              self.H.append(tanhFn(self.A[k]))\n",
        "            elif self.activation == 'relu': \n",
        "              self.H.append(reluFn(self.A[k])) \n",
        "  \n",
        "\n",
        "\n",
        "        k=len(self.hidLayer)\n",
        "        self.A.append(np.matmul(self.W[k],self.H[k-1])+self.B[k])\n",
        "        self.H.append(softmaxFn(self.A[k]))\n",
        "\n",
        "        return self.H[-1]\n",
        "\n",
        "    def back_propagation(self,trainX,trainY):\n",
        "        dA  = [0]*(len(self.hidLayer)+1)\n",
        "        dH  = [0]*(len(self.hidLayer)+1)\n",
        "        dW  = [0]*(len(self.W))\n",
        "        dB  = [0]*(len(self.B))\n",
        "\n",
        "        n_samples = trainX.shape[1]  # Change depending on the dimensions of data\n",
        "\n",
        "\n",
        "        for k in reversed(range(len(self.hidLayer)+1)):\n",
        "            if k == len(self.hidLayer):\n",
        "              if self.lossFn == 'cross_entropy':\n",
        "                  dA[k] = self.H[k]  - trainY  # keep or remove T depending on the dimensions of data\n",
        "              elif self.lossFn == 'square_loss': \n",
        "                  dA[k] = (self.H[k] - trainY) * self.H[k] * (1 - self.H[k]) \n",
        "                \n",
        "            else:\n",
        "                dH[k] = (1/n_samples)*np.matmul(self.W[k+1].T,dA[k+1])\n",
        "                if self.activation == 'sigmoid':\n",
        "                  dA[k] = (1/n_samples)*np.multiply(dH[k],dSigmoid(self.A[k]))\n",
        "                elif self.activation == 'tanh':\n",
        "                  dA[k] = (1/n_samples)*np.multiply(dH[k],dTanh(self.A[k]))\n",
        "                elif self.activation == 'relu':\n",
        "                  dA[k] = (1/n_samples)*np.multiply(dH[k],dRelu(self.A[k]))\n",
        "                \n",
        "\n",
        "            if k == 0:\n",
        "                dW[k] = (1/n_samples)*np.matmul(dA[k],trainX.T) \n",
        "            else:\n",
        "                dW[k] = (1/n_samples)*np.matmul(dA[k],self.H[k-1].T)\n",
        "\n",
        "            dB[k]  = (1/n_samples)*np.sum(dA[k], axis=1, keepdims = True)\n",
        "        return dW,dB\n",
        "\n",
        "\n",
        "    def predict(self, X,y ):\n",
        "      output =  self.forward_propagation(X)\n",
        "      out_class=(np.argmax(output,axis=0))\n",
        "      accuracy = round(accuracy_score(y, out_class) * 100, 3)\n",
        "      return accuracy , out_class\n",
        "    def selectOpt(self,trainX,trainY,valX ,valY ,epochs,learningRate,optimiser='gd',batchSize = 64,lambd=0.0005): \n",
        "      steps = 0\n",
        "      pre_update_w = np.multiply(self.W,0)\n",
        "      pre_update_b = np.multiply(self.B,0)\n",
        "      update_w = np.multiply(self.W,0)\n",
        "      update_b = np.multiply(self.B,0)\n",
        "      vw = 0.0\n",
        "      vb = 0.0\n",
        "      eps = 1e-8\n",
        "      a1 =0.0\n",
        "      gamma = 0.9\n",
        "      beta = 0.999\n",
        "      beta1 = 0.9\n",
        "      beta2 = 0.999\n",
        "      m_t, v_t, m_hat_w, v_hat_w, m_b,v_b,m_hat_b,v_hat_b = 0.0,0.0,0.0,0.0,0.0,0.0,0.0,0.0 \n",
        "      trainAccuracy=[]\n",
        "      valAccuracy=[]\n",
        "      trainingLoss=[]\n",
        "      validationLoss=[]\n",
        "      for i in range(epochs):\n",
        "        \n",
        "\n",
        "            for batch in range(0, trainX.shape[1], batchSize):\n",
        "\n",
        "              train_b_imag =  trainX[:,batch:batch+batchSize]\n",
        "              train_l_imag =  oneHotYtrain[:,batch:batch+batchSize]\n",
        "              output =  self.forward_propagation(train_b_imag)\n",
        "              g_weights,g_biases = self.back_propagation(train_b_imag,train_l_imag)\n",
        "              if optimiser == 'gd':\n",
        "                 self.W = self.W - np.multiply(learningRate,g_weights) - np.multiply(learningRate*lambd,self.W)\n",
        "                 self.B = self.B - np.multiply(learningRate,g_biases)\n",
        "             \n",
        "              if optimiser == 'mgd':\n",
        "                 \n",
        "                 update_w = np.multiply(gamma,pre_update_w) + np.multiply(learningRate,g_weights)\n",
        "                 self.W = self.W - update_w - np.multiply(learningRate*lambd,self.W)\n",
        "                \n",
        "                 update_b = np.multiply(gamma,pre_update_b) + np.multiply(learningRate,g_biases)\n",
        "                 self.B = self.B - update_b\n",
        "                 pre_update_w = update_w\n",
        "                 pre_update_b = update_b\n",
        "\n",
        "              if optimiser == 'ngd':\n",
        "                 \n",
        "                 cache_w = self.W\n",
        "                 cache_b = self.B\n",
        "                 self.W = self.W - np.multiply(gamma,pre_update_w)\n",
        "                 self.B = self.B - np.multiply(gamma,pre_update_b)\n",
        "                 output =  self.forward_propagation(train_b_imag)\n",
        "                 g_weights,g_biases = self.back_propagation(train_b_imag,train_l_imag)\n",
        "\n",
        "                 update_w = np.multiply(gamma,pre_update_w) + np.multiply(learningRate,g_weights)\n",
        "                 cache_w = cache_w - update_w - np.multiply(learningRate*lambd,cache_w)\n",
        "                    \n",
        "                 update_b = np.multiply(gamma,pre_update_b) + np.multiply(learningRate,g_biases)\n",
        "                 cache_b = cache_b - update_b\n",
        "\n",
        "                 self.W = cache_w\n",
        "                 self.B = cache_b\n",
        "                 pre_update_w = update_w\n",
        "                 pre_update_b = update_b\n",
        "                \n",
        "              if optimiser == 'rmsprop': \n",
        "\n",
        "                 vw = np.multiply(vw,beta) + np.multiply(1-beta,np.power(g_weights,2))\n",
        "                 vb = np.multiply(vb,beta) + np.multiply(1-beta,np.power(g_biases,2))\n",
        "\n",
        "          \n",
        "                 update_w = np.multiply(g_weights,learningRate/np.power(vw+eps,1/2))\n",
        "                 update_b = np.multiply(g_biases,learningRate/np.power(vb+eps,1/2))\n",
        "                 \n",
        "                 self.W = self.W - update_w - np.multiply(learningRate*lambd,self.W)\n",
        "                 self.B = self.B - update_b\n",
        "                    \n",
        "              if optimiser == 'adam':\n",
        "                 m_t = np.multiply(beta1,m_t) + np.multiply(1-beta1,g_weights)\n",
        "                 v_t = np.multiply(beta2,v_t) + np.multiply(1-beta2,np.power(g_weights,2))\n",
        "                 m_b = np.multiply(beta1,m_b) + np.multiply(1-beta1,g_biases)\n",
        "                 v_b = np.multiply(beta2,v_b) + np.multiply(1-beta2,np.power(g_biases,2))\n",
        "                \n",
        "                 m_hat_w = m_t/(1 - np.power(beta1,i+1))\n",
        "                 m_hat_b = m_b/(1 - np.power(beta1,i+1))\n",
        "                \n",
        "                 v_hat_w = v_t/(1 - np.power(beta2,i+1))\n",
        "                 v_hat_b = v_b/(1 - np.power(beta2,i+1))\n",
        "                 update_w = (learningRate / np.power(v_hat_w + eps, 1/2)) * m_hat_w\n",
        "                 update_b = (learningRate / np.power(v_hat_b + eps, 1/2)) * m_hat_b\n",
        "                 self.W = self.W - update_w - np.multiply(learningRate*lambd,self.W)\n",
        "                 self.B = self.B - update_b\n",
        "\n",
        "              if optimiser == 'nadam':\n",
        "                 \n",
        "                 self.W = self.W - np.multiply(gamma,update_w)\n",
        "                 self.B  = self.B  - np.multiply(gamma,update_b)\n",
        "\n",
        "                 g_weights,g_biases = self.back_propagation(train_b_imag,train_l_imag)\n",
        "\n",
        "                 m_t =  np.multiply(beta1,m_t) + np.multiply(1 - beta1,g_weights)\n",
        "                 v_t =  np.multiply(beta2,v_t) + np.multiply(1 - beta2,np.power(g_weights, 2))\n",
        "\n",
        "                 m_b =  np.multiply(beta1,m_b) + np.multiply(1 - beta1,g_biases)\n",
        "                 v_b =  np.multiply(beta2,v_b) + np.multiply(1 - beta2,np.power(g_biases, 2))\n",
        "                \n",
        "                 m_hat_w = m_t / (1 - np.power(beta1, i+1)) \n",
        "                 v_hat_t = v_t / (1 - np.power(beta2, i+1))\n",
        "\n",
        "                 m_hat_b = m_b / (1 - np.power(beta1, i+1)) \n",
        "                 v_hat_b = v_b / (1 - np.power(beta2, i+1))\n",
        "  \n",
        "                 a1 = (1-beta1)/(1-np.power(beta,i+1))\n",
        "                 update_w = np.multiply(learningRate/(np.power(v_hat_t + eps,1/2)),(np.multiply(a1,g_weights) + np.multiply(beta1,m_hat_w)))#(a4 + a2))\n",
        "                 update_b = np.multiply(learningRate/(np.power(v_hat_b + eps,1/2)),(np.multiply(a1,g_biases)+np.multiply(beta1,m_hat_b) ))#(a5 + a3))\n",
        "                 self.W = self.W - update_w - np.multiply(learningRate*lambd,self.W)\n",
        "                 self.B = self.B - update_b\n",
        "                \n",
        "            \n",
        "            #Training loss for full dataset\n",
        "            predicted_train = self.forward_propagation(trainX)\n",
        "            predicted_train_label=(np.argmax(predicted_train,axis=0)) \n",
        "             \n",
        "            acc1 = 100*np.sum(predicted_train_label==trainY)/predicted_train.shape[1]\n",
        "            trainAccuracy.append(acc1)\n",
        "\n",
        "            predicted_val = self.forward_propagation(valX)\n",
        "            predicted_val_label=(np.argmax(predicted_val,axis=0))\n",
        "              \n",
        "            acc2 = 100*np.sum(predicted_val_label==valY)/predicted_val.shape[1]\n",
        "            valAccuracy.append(acc2)\n",
        "\n",
        "            a =self.W[1:len(self.hidLayer)]\n",
        "            b = np.sum([(np.sum((a[i]**2).reshape(1,-1))) for i in range(len(a))]) \n",
        "            if self.lossFn == 'cross_entropy':\n",
        "              trainLoss = (-np.sum(np.multiply(oneHotYtrain,np.log(predicted_train)))+((lambd/2.)*b))/trainY.shape[0]\n",
        "              valLoss = (-np.sum(np.multiply(oneHotYval,np.log(predicted_val)))+((lambd/2.)*b))/valY.shape[0]\n",
        "\n",
        "            elif self.lossFn =='square_loss':\n",
        "              trainLoss = (1/2) * np.sum((oneHotYtrain - predicted_train)**2)/trainY.shape[0]\n",
        "              valLoss =((1/2) * np.sum((oneHotYtrain- predicted_val)**2))/valY.shape[0]\n",
        "            trainingLoss.append(trainLoss)\n",
        "            validationLoss.append(valLoss)\n",
        "\n",
        "\n",
        "            print('Epoch {}: training_accuracy = {:.2f} %, training_loss= {:.5f}  ,Validation accuracy = {:.2f} ,Validation loss = {:.5f}'.format(i,acc1,trainLoss,acc2,valLoss))\n",
        "                        \n",
        "         \n",
        "      return trainAccuracy,valAccuracy,trainingLoss,validationLoss"
      ]
    },
    {
      "cell_type": "code",
      "execution_count": null,
      "metadata": {
        "colab": {
          "base_uri": "https://localhost:8080/"
        },
        "id": "Tv8393RPis4Y",
        "outputId": "4dce5e6f-6bf6-479d-9104-55113ac4f8eb"
      },
      "outputs": [
        {
          "name": "stderr",
          "output_type": "stream",
          "text": [
            "\u001b[34m\u001b[1mwandb\u001b[0m: \u001b[33mWARNING\u001b[0m Calling wandb.login() after wandb.init() has no effect.\n"
          ]
        },
        {
          "data": {
            "text/plain": [
              "True"
            ]
          },
          "execution_count": 23,
          "metadata": {},
          "output_type": "execute_result"
        }
      ],
      "source": [
        "%pip install wandb -q\n",
        "import wandb\n",
        "wandb.login()"
      ]
    },
    {
      "cell_type": "code",
      "execution_count": null,
      "metadata": {
        "colab": {
          "base_uri": "https://localhost:8080/"
        },
        "id": "1xfjeSSxitAU",
        "outputId": "44d86eb0-9f8f-4544-ee02-c93d6ac861a8"
      },
      "outputs": [
        {
          "name": "stdout",
          "output_type": "stream",
          "text": [
            "W length= 4\n",
            "B length= 4\n",
            "W shape= (10, 128)\n",
            "B shape= (10, 1)\n",
            "Epoch 0: training_accuracy = 80.24 %, training_loss= 0.53657  ,Validation accuracy = 80.17 ,Validation loss = 0.54266\n",
            "Epoch 1: training_accuracy = 81.34 %, training_loss= 0.50594  ,Validation accuracy = 81.07 ,Validation loss = 0.51876\n",
            "Epoch 2: training_accuracy = 81.40 %, training_loss= 0.50242  ,Validation accuracy = 80.80 ,Validation loss = 0.51958\n",
            "Epoch 3: training_accuracy = 82.27 %, training_loss= 0.47892  ,Validation accuracy = 81.75 ,Validation loss = 0.50109\n",
            "Epoch 4: training_accuracy = 82.78 %, training_loss= 0.46426  ,Validation accuracy = 82.20 ,Validation loss = 0.48897\n",
            "Epoch 5: training_accuracy = 83.02 %, training_loss= 0.45781  ,Validation accuracy = 82.15 ,Validation loss = 0.48537\n",
            "Epoch 6: training_accuracy = 83.40 %, training_loss= 0.44921  ,Validation accuracy = 82.45 ,Validation loss = 0.47759\n",
            "Epoch 7: training_accuracy = 83.57 %, training_loss= 0.44411  ,Validation accuracy = 82.72 ,Validation loss = 0.47406\n",
            "Epoch 8: training_accuracy = 83.71 %, training_loss= 0.44095  ,Validation accuracy = 82.72 ,Validation loss = 0.47171\n",
            "Epoch 9: training_accuracy = 83.84 %, training_loss= 0.43721  ,Validation accuracy = 83.00 ,Validation loss = 0.46937\n",
            "Epoch 10: training_accuracy = 83.96 %, training_loss= 0.43481  ,Validation accuracy = 83.18 ,Validation loss = 0.46749\n",
            "Epoch 11: training_accuracy = 84.06 %, training_loss= 0.43165  ,Validation accuracy = 83.33 ,Validation loss = 0.46561\n",
            "Epoch 12: training_accuracy = 84.10 %, training_loss= 0.42997  ,Validation accuracy = 83.40 ,Validation loss = 0.46449\n",
            "Epoch 13: training_accuracy = 84.22 %, training_loss= 0.42764  ,Validation accuracy = 83.53 ,Validation loss = 0.46292\n",
            "Epoch 14: training_accuracy = 84.35 %, training_loss= 0.42622  ,Validation accuracy = 83.53 ,Validation loss = 0.46151\n",
            "Epoch 15: training_accuracy = 84.40 %, training_loss= 0.42390  ,Validation accuracy = 83.48 ,Validation loss = 0.45996\n",
            "Epoch 16: training_accuracy = 84.48 %, training_loss= 0.42251  ,Validation accuracy = 83.58 ,Validation loss = 0.45923\n",
            "Epoch 17: training_accuracy = 84.50 %, training_loss= 0.42041  ,Validation accuracy = 83.63 ,Validation loss = 0.45812\n",
            "Epoch 18: training_accuracy = 84.61 %, training_loss= 0.41818  ,Validation accuracy = 83.73 ,Validation loss = 0.45652\n",
            "Epoch 19: training_accuracy = 84.70 %, training_loss= 0.41603  ,Validation accuracy = 83.98 ,Validation loss = 0.45488\n"
          ]
        }
      ],
      "source": [
        "#Q7\n",
        "numClass = 10\n",
        "model = DLA(28*28,[128,128,128],numClass,initForm= 'xavier',activation='relu', lossFn= 'cross_entropy')\n",
        "import warnings\n",
        "warnings.filterwarnings(\"ignore\", category=np.VisibleDeprecationWarning)\n",
        "acc1,acc2,train_loss, val_loss= model.selectOpt(trainX,trainY,valX ,valY ,learningRate = 0.01,epochs=20, optimiser='adam',batchSize =32,lambd=0.0005)\n"
      ]
    },
    {
      "cell_type": "code",
      "execution_count": null,
      "metadata": {
        "colab": {
          "base_uri": "https://localhost:8080/"
        },
        "id": "g6MTvwMaXl-P",
        "outputId": "1df14ced-0d02-46ee-b013-03b5542fa45a"
      },
      "outputs": [
        {
          "name": "stdout",
          "output_type": "stream",
          "text": [
            "(784, 10000)\n",
            "(10000,)\n"
          ]
        }
      ],
      "source": [
        "print(testX.shape)\n",
        "print(testY.shape)"
      ]
    },
    {
      "cell_type": "code",
      "execution_count": null,
      "metadata": {
        "colab": {
          "base_uri": "https://localhost:8080/",
          "height": 891
        },
        "id": "o9rjco-8G563",
        "outputId": "b237a620-44aa-40ae-fde4-8dba9eab3b09"
      },
      "outputs": [
        {
          "data": {
            "text/html": [
              "Finishing last run (ID:c3xaabzt) before initializing another..."
            ],
            "text/plain": [
              "<IPython.core.display.HTML object>"
            ]
          },
          "metadata": {},
          "output_type": "display_data"
        },
        {
          "data": {
            "text/html": [
              "Waiting for W&B process to finish... <strong style=\"color:green\">(success).</strong>"
            ],
            "text/plain": [
              "<IPython.core.display.HTML object>"
            ]
          },
          "metadata": {},
          "output_type": "display_data"
        },
        {
          "data": {
            "text/html": [
              " View run <strong style=\"color:#cdcd00\">confusion_matrix</strong> at: <a href='https://wandb.ai/sleya7110/test_confusion/runs/c3xaabzt' target=\"_blank\">https://wandb.ai/sleya7110/test_confusion/runs/c3xaabzt</a><br/>Synced 5 W&B file(s), 0 media file(s), 0 artifact file(s) and 0 other file(s)"
            ],
            "text/plain": [
              "<IPython.core.display.HTML object>"
            ]
          },
          "metadata": {},
          "output_type": "display_data"
        },
        {
          "data": {
            "text/html": [
              "Find logs at: <code>./wandb/run-20230317_073913-c3xaabzt/logs</code>"
            ],
            "text/plain": [
              "<IPython.core.display.HTML object>"
            ]
          },
          "metadata": {},
          "output_type": "display_data"
        },
        {
          "data": {
            "text/html": [
              "Successfully finished last run (ID:c3xaabzt). Initializing new run:<br/>"
            ],
            "text/plain": [
              "<IPython.core.display.HTML object>"
            ]
          },
          "metadata": {},
          "output_type": "display_data"
        },
        {
          "data": {
            "text/html": [
              "Tracking run with wandb version 0.14.0"
            ],
            "text/plain": [
              "<IPython.core.display.HTML object>"
            ]
          },
          "metadata": {},
          "output_type": "display_data"
        },
        {
          "data": {
            "text/html": [
              "Run data is saved locally in <code>/content/wandb/run-20230317_075339-17nfodht</code>"
            ],
            "text/plain": [
              "<IPython.core.display.HTML object>"
            ]
          },
          "metadata": {},
          "output_type": "display_data"
        },
        {
          "data": {
            "text/html": [
              "Syncing run <strong><a href='https://wandb.ai/sleya7110/test_confusion/runs/17nfodht' target=\"_blank\">confusion_matrix</a></strong> to <a href='https://wandb.ai/sleya7110/test_confusion' target=\"_blank\">Weights & Biases</a> (<a href='https://wandb.me/run' target=\"_blank\">docs</a>)<br/>"
            ],
            "text/plain": [
              "<IPython.core.display.HTML object>"
            ]
          },
          "metadata": {},
          "output_type": "display_data"
        },
        {
          "data": {
            "text/html": [
              " View project at <a href='https://wandb.ai/sleya7110/test_confusion' target=\"_blank\">https://wandb.ai/sleya7110/test_confusion</a>"
            ],
            "text/plain": [
              "<IPython.core.display.HTML object>"
            ]
          },
          "metadata": {},
          "output_type": "display_data"
        },
        {
          "data": {
            "text/html": [
              " View run at <a href='https://wandb.ai/sleya7110/test_confusion/runs/17nfodht' target=\"_blank\">https://wandb.ai/sleya7110/test_confusion/runs/17nfodht</a>"
            ],
            "text/plain": [
              "<IPython.core.display.HTML object>"
            ]
          },
          "metadata": {},
          "output_type": "display_data"
        },
        {
          "name": "stdout",
          "output_type": "stream",
          "text": [
            "Test accuracy  82.57\n"
          ]
        },
        {
          "data": {
            "image/png": "[encoded data removed]",
            "text/plain": [
              "<Figure size 2880x1440 with 2 Axes>"
            ]
          },
          "metadata": {},
          "output_type": "display_data"
        }
      ],
      "source": [
        "import wandb\n",
        "wandb.init(project=\"test_confusion\", entity=\"sleya7110\", name=\"confusion_matrix\")\n",
        "class_names = ['T-shirt/top', 'Trouser', 'Pullover', 'Dress', 'Coat',\n",
        "               'Sandal', 'Shirt', 'Sneaker', 'Bag', 'Ankle boot']\n",
        "\n",
        "from sklearn.metrics import confusion_matrix\n",
        "import seaborn as sns\n",
        "import matplotlib.pyplot as plt\n",
        "# accuracy = model.predict(testX,testY)\n",
        "accuracy, test_predicted = model.predict(testX,testY)\n",
        "bern_cnf_matrix_train = confusion_matrix(testY, test_predicted, normalize='true')\n",
        "plt.figure(figsize=(40,20))\n",
        "ax = sns.heatmap(bern_cnf_matrix_train, annot=bern_cnf_matrix_train,xticklabels=class_names, yticklabels=class_names)\n",
        "ax.set_title(\"Confusion Matrix (Test set)\", size=12)\n",
        "ax.set_xlabel(\"Predicted label\", size=12)\n",
        "ax.set_ylabel(\"True label\", size=12)\n",
        "plt.savefig(\"Test_confusionmatrix\")\n",
        "# Load the confusion matrix images\n",
        "img1 = plt.imread(\"Test_confusionmatrix.png\")\n",
        "\n",
        "print(\"Test accuracy \",accuracy)\n",
        "# Log images of the confusion matrices\n",
        "wandb.log({\"Confusion Matrix - Test set\": wandb.Image(img1)})\n",
        "\n"
      ]
    },
    {
      "cell_type": "code",
      "execution_count": null,
      "metadata": {
        "id": "xIIl9gEVdd5E"
      },
      "outputs": [],
      "source": []
    }
  ],
  "metadata": {
    "accelerator": "GPU",
    "colab": {
      "provenance": []
    },
    "gpuClass": "standard",
    "kernelspec": {
      "display_name": "Python 3",
      "language": "python",
      "name": "python3"
    },
    "language_info": {
      "codemirror_mode": {
        "name": "ipython",
        "version": 3
      },
      "file_extension": ".py",
      "mimetype": "text/x-python",
      "name": "python",
      "nbconvert_exporter": "python",
      "pygments_lexer": "ipython3",
      "version": "3.10.6"
    }
  },
  "nbformat": 4,
  "nbformat_minor": 0
}