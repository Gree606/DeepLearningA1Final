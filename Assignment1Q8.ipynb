{
  "cells": [
    {
      "cell_type": "code",
      "execution_count": null,
      "metadata": {
        "colab": {
          "background_save": true
        },
        "id": "ko4IB5IGiglb",
        "outputId": "976ec2d5-cd46-4344-a112-a375a1c50443"
      },
      "outputs": [
        {
          "name": "stdout",
          "output_type": "stream",
          "text": [
            "\u001b[2K     \u001b[90m━━━━━━━━━━━━━━━━━━━━━━━━━━━━━━━━━━━━━━━━\u001b[0m \u001b[32m2.0/2.0 MB\u001b[0m \u001b[31m12.6 MB/s\u001b[0m eta \u001b[36m0:00:00\u001b[0m\n",
            "\u001b[2K     \u001b[90m━━━━━━━━━━━━━━━━━━━━━━━━━━━━━━━━━━━━━━\u001b[0m \u001b[32m189.1/189.1 KB\u001b[0m \u001b[31m11.0 MB/s\u001b[0m eta \u001b[36m0:00:00\u001b[0m\n",
            "\u001b[2K     \u001b[90m━━━━━━━━━━━━━━━━━━━━━━━━━━━━━━━━━━━━━━\u001b[0m \u001b[32m184.3/184.3 KB\u001b[0m \u001b[31m10.1 MB/s\u001b[0m eta \u001b[36m0:00:00\u001b[0m\n",
            "\u001b[?25h  Preparing metadata (setup.py) ... \u001b[?25l\u001b[?25hdone\n",
            "\u001b[2K     \u001b[90m━━━━━━━━━━━━━━━━━━━━━━━━━━━━━━━━━━━━━━━━\u001b[0m \u001b[32m62.7/62.7 KB\u001b[0m \u001b[31m4.6 MB/s\u001b[0m eta \u001b[36m0:00:00\u001b[0m\n",
            "\u001b[?25h  Building wheel for pathtools (setup.py) ... \u001b[?25l\u001b[?25hdone\n"
          ]
        }
      ],
      "source": [
        "import numpy as np\n",
        "import pandas as pd\n",
        "from tensorflow.keras.datasets import mnist, fashion_mnist\n",
        "from sklearn.model_selection import train_test_split\n",
        "from sklearn.metrics import accuracy_score\n",
        "!pip install wandb -q\n",
        "import wandb"
      ]
    },
    {
      "cell_type": "code",
      "execution_count": null,
      "metadata": {
        "colab": {
          "base_uri": "https://localhost:8080/"
        },
        "id": "Wwo-MSGkisv1",
        "outputId": "f5f150e0-3c59-432b-dc12-b154da489daf"
      },
      "outputs": [
        {
          "name": "stdout",
          "output_type": "stream",
          "text": [
            "Number of examples in training set\n",
            "(54000, 784)\n",
            "(10, 54000)\n",
            "(54000,)\n",
            "No of examples in validation set\n",
            "(6000, 784)\n",
            "(6000,)\n",
            "No of examples in test set\n",
            "(10000, 784)\n",
            "(10000,)\n"
          ]
        }
      ],
      "source": [
        "def getData():\n",
        "    (trainX, trainY), (testX, testY) = fashion_mnist.load_data()\n",
        "    trainX = trainX.reshape(trainX.shape[0], -1)\n",
        "    testX = testX.reshape(testX.shape[0], -1)\n",
        "    trainX = trainX/255.0\n",
        "    testX = testX/255.0\n",
        "    \n",
        "    \n",
        "    trainX, valX, trainY, valY = train_test_split(trainX, trainY, test_size=0.1, random_state=42)\n",
        "    \n",
        "    oneHotYtrain = np.zeros((10,trainY.shape[0]))\n",
        "    oneHotYtrain[trainY, np.array(list(range(trainY.shape[0])))] = 1\n",
        "\n",
        "    oneHotYval= np.zeros((10,valY.shape[0]))\n",
        "    oneHotYval[valY, np.array(list(range(valY.shape[0])))] = 1\n",
        "\n",
        "    \n",
        "    \n",
        "    print(\"Number of examples in training set\")\n",
        "    print(trainX.shape)\n",
        "    print(oneHotYtrain.shape)\n",
        "    print(trainY.shape)\n",
        "    \n",
        "    print(\"No of examples in validation set\")\n",
        "    print(valX.shape)\n",
        "    print(valY.shape)\n",
        "    print(\"No of examples in test set\")\n",
        "    print(testX.shape)\n",
        "    print(testY.shape)\n",
        "    \n",
        "    return trainX.T, oneHotYtrain, trainY.T ,valX.T, valY.T, testX.T, testY.T, oneHotYval\n",
        "\n",
        "\n",
        "trainX, oneHotYtrain, trainY, valX, valY, testX, testY, oneHotYval = getData() "
      ]
    },
    {
      "cell_type": "code",
      "execution_count": null,
      "metadata": {
        "id": "juGkHHcjiszG"
      },
      "outputs": [],
      "source": [
        "def sigmoidFn(z):\n",
        "    return 1. / (1.+np.exp(-z))\n",
        "def reluFn(z):\n",
        "    return np.maximum(0,z)\n",
        "def tanhFn(z):\n",
        "    return np.tanh(z)\n",
        "def softmaxFn(z):\n",
        "    soft = np.zeros(z.shape)\n",
        "    for i in range(0, z.shape[1]):\n",
        "        numr = np.exp(z[:, i])\n",
        "        soft[:, i] = numr/np.sum(numr)\n",
        "    return soft\n",
        "\n",
        "#Derivatives\n",
        "def dSigmoid(z):\n",
        "    return sigmoidFn(z) * (1-sigmoidFn(z))\n",
        "def dRelu(z):\n",
        "    return 1*(z>0) \n",
        "def dTanh(z):\n",
        "    return (1 - (np.tanh(z)**2))\n",
        "\n",
        "def softmaxFn(z):\n",
        "    soft = np.zeros(z.shape)\n",
        "    for i in range(0, z.shape[1]):\n",
        "        numr = np.exp(z[:, i])\n",
        "        soft[:, i] = numr/np.sum(numr)\n",
        "    return soft\n",
        "\n",
        "def initParameters(inLayer, hidLayer, outLayer,initilisation):\n",
        "    W = []\n",
        "    B  = []\n",
        "    layers = [inLayer] + hidLayer + [outLayer]\n",
        "    for i in range(len(hidLayer)+1):\n",
        "        if initilisation == 'random':\n",
        "            W.append(np.random.rand(layers[i+1], layers[i])*0.01)\n",
        "        if initilisation == 'xavier':\n",
        "            W.append(np.random.randn(layers[i+1],layers[i])*np.sqrt(2/layers[i+1]))\n",
        "        B.append(np.random.randn(layers[i+1],1))\n",
        "    print('W length=',len(W))\n",
        "    print('B length=',len(B))\n",
        "    print('W shape=',W[3].shape)\n",
        "    print('B shape=',B[3].shape)\n",
        "    return W, B\n",
        "\n",
        "# initialize_parameters(784,[128,128,124],10,'random')"
      ]
    },
    {
      "cell_type": "code",
      "execution_count": null,
      "metadata": {
        "id": "D6K0GHxCis18"
      },
      "outputs": [],
      "source": [
        "import numpy as np\n",
        "from sklearn.metrics import mean_squared_error\n",
        "\n",
        "class DLA:\n",
        "\n",
        "    def __init__(self,inLayer,hidLayer,outLayer ,initForm, activation,lossFn):\n",
        "           \n",
        "        self.inLayer   = inLayer\n",
        "        self.outLayer  = outLayer\n",
        "        self.hidLayer   = hidLayer\n",
        "        self.activation = activation\n",
        "        self.lossFn = lossFn\n",
        "        self.W    = []\n",
        "        self.B     = []\n",
        "        self.initForm = initForm\n",
        "        self.W,self.B = initParameters(self.inLayer,self.hidLayer,self.outLayer,self.initForm)\n",
        "\n",
        "    \n",
        "    \n",
        "\n",
        "    def forward_propagation(self,input):\n",
        "\n",
        "        self.A = []\n",
        "        self.H  = []\n",
        "        k=0\n",
        "        \n",
        "        self.A.append(np.matmul(self.W[k],input)+self.B[k])\n",
        "        if self.activation == 'sigmoid':\n",
        "          self.H.append(sigmoidFn(self.A[k]))\n",
        "        elif self.activation == 'tanh':\n",
        "          self.H.append(tanhFn(self.A[k]))\n",
        "        elif self.activation == 'relu': \n",
        "          self.H.append(reluFn(self.A[k])) \n",
        "\n",
        "\n",
        "        for k in range(1,len(self.hidLayer)):\n",
        "            self.A.append(np.matmul(self.W[k],self.H[k-1])+self.B[k])\n",
        "            if self.activation == 'sigmoid':\n",
        "              self.H.append(sigmoidFn(self.A[k]))\n",
        "            elif self.activation == 'tanh':\n",
        "              self.H.append(tanhFn(self.A[k]))\n",
        "            elif self.activation == 'relu': \n",
        "              self.H.append(reluFn(self.A[k])) \n",
        "  \n",
        "\n",
        "\n",
        "        k=len(self.hidLayer)\n",
        "        self.A.append(np.matmul(self.W[k],self.H[k-1])+self.B[k])\n",
        "        self.H.append(softmaxFn(self.A[k]))\n",
        "\n",
        "        return self.H[-1]\n",
        "\n",
        "    def back_propagation(self,trainX,trainY):\n",
        "        dA  = [0]*(len(self.hidLayer)+1)\n",
        "        dH  = [0]*(len(self.hidLayer)+1)\n",
        "        dW  = [0]*(len(self.W))\n",
        "        dB  = [0]*(len(self.B))\n",
        "\n",
        "        n_samples = trainX.shape[1]  # Change depending on the dimensions of data\n",
        "\n",
        "\n",
        "        for k in reversed(range(len(self.hidLayer)+1)):\n",
        "            if k == len(self.hidLayer):\n",
        "              if self.lossFn == 'cross_entropy':\n",
        "                  dA[k] = self.H[k]  - trainY  # keep or remove T depending on the dimensions of data\n",
        "              elif self.lossFn == 'square_loss': \n",
        "                  dA[k] = (self.H[k] - trainY) * self.H[k] * (1 - self.H[k]) \n",
        "                \n",
        "            else:\n",
        "                dH[k] = (1/n_samples)*np.matmul(self.W[k+1].T,dA[k+1])\n",
        "                if self.activation == 'sigmoid':\n",
        "                  dA[k] = (1/n_samples)*np.multiply(dH[k],dSigmoid(self.A[k]))\n",
        "                elif self.activation == 'tanh':\n",
        "                  dA[k] = (1/n_samples)*np.multiply(dH[k],dTanh(self.A[k]))\n",
        "                elif self.activation == 'relu':\n",
        "                  dA[k] = (1/n_samples)*np.multiply(dH[k],dRelu(self.A[k]))\n",
        "                \n",
        "\n",
        "            if k == 0:\n",
        "                dW[k] = (1/n_samples)*np.matmul(dA[k],trainX.T) \n",
        "            else:\n",
        "                dW[k] = (1/n_samples)*np.matmul(dA[k],self.H[k-1].T)\n",
        "\n",
        "            dB[k]  = (1/n_samples)*np.sum(dA[k], axis=1, keepdims = True)\n",
        "        return dW,dB\n",
        "\n",
        "\n",
        "    def predict(self, X,y ):\n",
        "      output =  self.forward_propagation(X)\n",
        "      out_class=(np.argmax(output,axis=0))\n",
        "      accuracy = round(accuracy_score(y, out_class) * 100, 3)\n",
        "      return accuracy\n",
        "    def selectOpt(self,trainX,trainY,valX ,valY ,epochs,learningRate,optimiser='gd',batchSize = 64,lambd=0.0005): \n",
        "      steps = 0\n",
        "      pre_update_w = np.multiply(self.W,0)\n",
        "      pre_update_b = np.multiply(self.B,0)\n",
        "      update_w = np.multiply(self.W,0)\n",
        "      update_b = np.multiply(self.B,0)\n",
        "      vw = 0.0\n",
        "      vb = 0.0\n",
        "      eps = 1e-8\n",
        "      a1 =0.0\n",
        "      gamma = 0.9\n",
        "      beta = 0.999\n",
        "      beta1 = 0.9\n",
        "      beta2 = 0.999\n",
        "      m_t, v_t, m_hat_w, v_hat_w, m_b,v_b,m_hat_b,v_hat_b = 0.0,0.0,0.0,0.0,0.0,0.0,0.0,0.0 \n",
        "\n",
        "      for i in range(epochs):\n",
        "        \n",
        "\n",
        "            for batch in range(0, trainX.shape[1], batchSize):\n",
        "\n",
        "              train_b_imag =  trainX[:,batch:batch+batchSize]\n",
        "              train_l_imag =  oneHotYtrain[:,batch:batch+batchSize]\n",
        "              output =  self.forward_propagation(train_b_imag)\n",
        "              g_weights,g_biases = self.back_propagation(train_b_imag,train_l_imag)\n",
        "              if optimiser == 'gd':\n",
        "                 self.W = self.W - np.multiply(learningRate,g_weights) - np.multiply(learningRate*lambd,self.W)\n",
        "                 self.B = self.B - np.multiply(learningRate,g_biases)\n",
        "             \n",
        "              if optimiser == 'mgd':\n",
        "                 \n",
        "                 update_w = np.multiply(gamma,pre_update_w) + np.multiply(learningRate,g_weights)\n",
        "                 self.W = self.W - update_w - np.multiply(learningRate*lambd,self.W)\n",
        "                \n",
        "                 update_b = np.multiply(gamma,pre_update_b) + np.multiply(learningRate,g_biases)\n",
        "                 self.B = self.B - update_b\n",
        "                 pre_update_w = update_w\n",
        "                 pre_update_b = update_b\n",
        "\n",
        "              if optimiser == 'ngd':\n",
        "                 \n",
        "                 cache_w = self.W\n",
        "                 cache_b = self.B\n",
        "                 self.W = self.W - np.multiply(gamma,pre_update_w)\n",
        "                 self.B = self.B - np.multiply(gamma,pre_update_b)\n",
        "                 output =  self.forward_propagation(train_b_imag)\n",
        "                 g_weights,g_biases = self.back_propagation(train_b_imag,train_l_imag)\n",
        "\n",
        "                 update_w = np.multiply(gamma,pre_update_w) + np.multiply(learningRate,g_weights)\n",
        "                 cache_w = cache_w - update_w - np.multiply(learningRate*lambd,cache_w)\n",
        "                    \n",
        "                 update_b = np.multiply(gamma,pre_update_b) + np.multiply(learningRate,g_biases)\n",
        "                 cache_b = cache_b - update_b\n",
        "\n",
        "                 self.W = cache_w\n",
        "                 self.B = cache_b\n",
        "                 pre_update_w = update_w\n",
        "                 pre_update_b = update_b\n",
        "                \n",
        "              if optimiser == 'rmsprop': \n",
        "\n",
        "                 vw = np.multiply(vw,beta) + np.multiply(1-beta,np.power(g_weights,2))\n",
        "                 vb = np.multiply(vb,beta) + np.multiply(1-beta,np.power(g_biases,2))\n",
        "\n",
        "          \n",
        "                 update_w = np.multiply(g_weights,learningRate/np.power(vw+eps,1/2))\n",
        "                 update_b = np.multiply(g_biases,learningRate/np.power(vb+eps,1/2))\n",
        "                 \n",
        "                 self.W = self.W - update_w - np.multiply(learningRate*lambd,self.W)\n",
        "                 self.B = self.B - update_b\n",
        "                    \n",
        "              if optimiser == 'adam':\n",
        "                 m_t = np.multiply(beta1,m_t) + np.multiply(1-beta1,g_weights)\n",
        "                 v_t = np.multiply(beta2,v_t) + np.multiply(1-beta2,np.power(g_weights,2))\n",
        "                 m_b = np.multiply(beta1,m_b) + np.multiply(1-beta1,g_biases)\n",
        "                 v_b = np.multiply(beta2,v_b) + np.multiply(1-beta2,np.power(g_biases,2))\n",
        "                \n",
        "                 m_hat_w = m_t/(1 - np.power(beta1,i+1))\n",
        "                 m_hat_b = m_b/(1 - np.power(beta1,i+1))\n",
        "                \n",
        "                 v_hat_w = v_t/(1 - np.power(beta2,i+1))\n",
        "                 v_hat_b = v_b/(1 - np.power(beta2,i+1))\n",
        "                 update_w = (learningRate / np.power(v_hat_w + eps, 1/2)) * m_hat_w\n",
        "                 update_b = (learningRate / np.power(v_hat_b + eps, 1/2)) * m_hat_b\n",
        "                 self.W = self.W - update_w - np.multiply(learningRate*lambd,self.W)\n",
        "                 self.B = self.B - update_b\n",
        "\n",
        "              if optimiser == 'nadam':\n",
        "                 \n",
        "                 self.W = self.W - np.multiply(gamma,update_w)\n",
        "                 self.B  = self.B  - np.multiply(gamma,update_b)\n",
        "\n",
        "                 g_weights,g_biases = self.back_propagation(train_b_imag,train_l_imag)\n",
        "\n",
        "                 m_t =  np.multiply(beta1,m_t) + np.multiply(1 - beta1,g_weights)\n",
        "                 v_t =  np.multiply(beta2,v_t) + np.multiply(1 - beta2,np.power(g_weights, 2))\n",
        "\n",
        "                 m_b =  np.multiply(beta1,m_b) + np.multiply(1 - beta1,g_biases)\n",
        "                 v_b =  np.multiply(beta2,v_b) + np.multiply(1 - beta2,np.power(g_biases, 2))\n",
        "                \n",
        "                 m_hat_w = m_t / (1 - np.power(beta1, i+1)) \n",
        "                 v_hat_t = v_t / (1 - np.power(beta2, i+1))\n",
        "\n",
        "                 m_hat_b = m_b / (1 - np.power(beta1, i+1)) \n",
        "                 v_hat_b = v_b / (1 - np.power(beta2, i+1))\n",
        "  \n",
        "                 a1 = (1-beta1)/(1-np.power(beta,i+1))\n",
        "                 update_w = np.multiply(learningRate/(np.power(v_hat_t + eps,1/2)),(np.multiply(a1,g_weights) + np.multiply(beta1,m_hat_w)))#(a4 + a2))\n",
        "                 update_b = np.multiply(learningRate/(np.power(v_hat_b + eps,1/2)),(np.multiply(a1,g_biases)+np.multiply(beta1,m_hat_b) ))#(a5 + a3))\n",
        "                 self.W = self.W - update_w - np.multiply(learningRate*lambd,self.W)\n",
        "                 self.B = self.B - update_b\n",
        "                \n",
        "            \n",
        "            #Training loss for full dataset\n",
        "            predicted_train = self.forward_propagation(trainX)\n",
        "            predicted_train_label=(np.argmax(predicted_train,axis=0)) \n",
        "             \n",
        "            acc1 = round(accuracy_score(trainY, predicted_train_label) * 100, 3)\n",
        "\n",
        "            predicted_val = self.forward_propagation(valX)\n",
        "            predicted_val_label=(np.argmax(predicted_val,axis=0))\n",
        "              \n",
        "            acc2 = round(accuracy_score(valY, predicted_val_label) * 100, 3)\n",
        "\n",
        "            a =self.W[1:len(self.hidLayer)]\n",
        "            b = np.sum([(np.sum((a[i]**2).reshape(1,-1))) for i in range(len(a))]) \n",
        "            if self.lossFn == 'cross_entropy':\n",
        "              train_loss = (-np.sum(np.multiply(oneHotYtrain,np.log(predicted_train)))+((lambd/2.)*b))/trainY.shape[0]\n",
        "              val_loss = (-np.sum(np.multiply(oneHotYval,np.log(predicted_val)))+((lambd/2.)*b))/valY.shape[0]\n",
        "\n",
        "            #train_loss = -np.sum(np.multiply(train_l_imag,np.log(output)))/train_l_imag.shape[1]    \n",
        "            #print('training_loss for epoch {} = {}'.format(i,train_loss))\n",
        "\n",
        "            print('Epoch {}: training_accuracy = {:.2f} %, training_loss= {:.5f}  ,Validation accuracy = {:.2f} ,Validation loss = {:.5f}'.format(i,acc1,train_loss,acc2,val_loss))\n",
        "            \n",
        "\n",
        "\n",
        "            #print(\"Training loss\", train_loss)\n",
        "            #target_class=(np.argmax(y_train_encode,axis=1))\n",
        "            #acc1 = 100*np.sum(out_class==y_train)/output.shape[1]\n",
        "            \n",
        "            \n",
        "            #Validate = self.forward_propagation(X_val)\n",
        "            #out_class=(np.argmax(Validate,axis=0))\n",
        "            #target_class_validate=(np.argmax(y_val,axis=1))\n",
        "            #acc2 = 100*np.sum(out_class==y_val)/Validate.shape[1]\n",
        "            \n",
        "         \n",
        "            #print('Epoch {}: training_accuracy = {:.2f}, Validation accuracy = {:.2f}'.format(i,acc1,acc2))\n",
        "            \n",
        "            #run_name = \"init_{}_act_{}_lr_{}_opt_{}_L2_{}_bs_{}_ep_{}_hh_{}\".format(self.initialisation,self.activation,learning_rate,optimiser,lambd,batch_size, epochs, self.hidden_layer)\n",
        "            #print(run_name)\n",
        "            \n",
        "            #print(\"Accuracy:{} epoch  {}\".format(i,acc1))\n",
        "            wandb.log({\"val_accuracy\": acc2,\"accuracy\": acc1,\"steps\":epochs,\"train_loss\":train_loss,\"val_loss\":val_loss},)\n",
        "            #run_name = \"init_{}_act_{}_lr_{}_opt_{}_L2_{}_bs_{}_ep_{}_hh_{}\".format(self.initialisation,self.activation,learning_rate,optimiser,lambd,batch_size, epochs, self.hidden_layer)\n",
        "            #print(run_name)\n",
        "            \n",
        "\n",
        "         \n",
        "      return acc1,acc2,train_loss,val_loss"
      ]
    },
    {
      "cell_type": "code",
      "execution_count": null,
      "metadata": {
        "colab": {
          "base_uri": "https://localhost:8080/"
        },
        "id": "Tv8393RPis4Y",
        "outputId": "85aa98c9-f37a-4888-8289-c1b75a0abe1c"
      },
      "outputs": [
        {
          "data": {
            "text/plain": [
              "True"
            ]
          },
          "execution_count": 35,
          "metadata": {},
          "output_type": "execute_result"
        }
      ],
      "source": [
        "%pip install wandb -q\n",
        "import wandb\n",
        "wandb.login()"
      ]
    },
    {
      "cell_type": "code",
      "execution_count": null,
      "metadata": {
        "id": "1UApiZ6CmGD_"
      },
      "outputs": [],
      "source": [
        "sweep_config = {\n",
        "    'method': 'random', #grid, random\n",
        "    'metric': {\n",
        "      'name': 'accuracy',\n",
        "      'goal': 'maximize'  \n",
        "    },\n",
        "    'parameters': {\n",
        "        'epochs': {\n",
        "            'values': [5,10,20,50]\n",
        "        },\n",
        "        'learningRate': {\n",
        "            'values': [1e-2,1e-3]\n",
        "        },\n",
        "        'optimiser': {\n",
        "            'values': ['gd','mgd','ngd', 'rmsprop','adam','nadam']\n",
        "        },\n",
        "        'activation': {\n",
        "            'values': ['relu','tanh','sigmoid']\n",
        "        },\n",
        "        'hidLayer': {\n",
        "            'values': [[64,64,64],[128,128,128],[32,64,128]]\n",
        "        },\n",
        "        'batchSize':{\n",
        "            'values':[32,64,128]\n",
        "        },\n",
        "        'weight_decay':{\n",
        "            'values':[0.0,0.0005]\n",
        "        },\n",
        "        'lossFn':{\n",
        "            'values':['cross_entropy']\n",
        "        },\n",
        "        'initForm':{\n",
        "            'values':['random','xavier']\n",
        "        }\n",
        "    }\n",
        "}"
      ]
    },
    {
      "cell_type": "code",
      "execution_count": null,
      "metadata": {
        "colab": {
          "base_uri": "https://localhost:8080/"
        },
        "id": "aXvZnFe8mGG7",
        "outputId": "17b06d32-4c32-444d-a845-cefffeb2bda0"
      },
      "outputs": [
        {
          "name": "stdout",
          "output_type": "stream",
          "text": [
            "Create sweep with ID: 7ov9vtoe\n",
            "Sweep URL: https://wandb.ai/sleya7110/Assignment1DLQ9/sweeps/7ov9vtoe\n"
          ]
        }
      ],
      "source": [
        "sweep_id = wandb.sweep(sweep_config, entity=\"sleya7110\", project=\"Assignment1DLQ9\")"
      ]
    },
    {
      "cell_type": "code",
      "execution_count": null,
      "metadata": {
        "id": "szx0S2KUmGKD"
      },
      "outputs": [],
      "source": [
        "def train():\n",
        "    #steps = 10\n",
        "    # Default values for hyper-parameters we're going to sweep over\n",
        "    config_defaults = {\n",
        "        'epochs': 10,\n",
        "        'learningRate': 1e-3,\n",
        "        'hidLayer':[16,16,16],\n",
        "        'learningRate':1e-2,\n",
        "        'optimiser':'mgd',\n",
        "        'activation':'sigmoid',\n",
        "        'inLayer': 28*28,\n",
        "        'outLayer': 10,\n",
        "        'batchSize':64,\n",
        "        'weight_decay':0.005,\n",
        "        'lossFn':'cross_entropy',\n",
        "        'initForm':'xavier'\n",
        "    }\n",
        "\n",
        "    # Initialize a new wandb run\n",
        "    wandb.init(project='Assignment1DLQ9', entity='sleya7110',config=config_defaults)\n",
        "    \n",
        "    \n",
        "    # Config is a variable that holds and saves hyperparameters and inputs\n",
        "    config = wandb.config\n",
        "    learningRate = config.learningRate\n",
        "    epochs = config.epochs\n",
        "    hidLayer = config.hidLayer\n",
        "    activation = config.activation\n",
        "    optimiser = config.optimiser\n",
        "    inLayer = config.inLayer\n",
        "    outLayer = config.outLayer\n",
        "    batchSize = config.batchSize\n",
        "    weight_decay = config.weight_decay\n",
        "    lossFn = config.lossFn\n",
        "    initForm = config.initForm\n",
        "    #run_name = \"init_{}_act_{}_lr_{}_opt_{}_L2_{}_bs_{}_ep_{}_hh_{}\".format(initialisation,activation,learning_rate,optimiser, weight_decay,batch_size, epochs, hidden_layer)\n",
        "    \n",
        "    #wandb.run.name = run_name\n",
        "    #wandb.run.save()\n",
        "    #wandb.run.finish()\n",
        "    # Model training here\n",
        "    sweep_network    = DLA(inLayer, hidLayer, outLayer,initForm,activation,lossFn)\n",
        "    acc1,acc2,train_loss,val_loss  = sweep_network.selectOpt(trainX,trainY,valX,valY,epochs,learningRate,optimiser,batchSize,weight_decay)\n"
      ]
    },
    {
      "cell_type": "code",
      "execution_count": null,
      "metadata": {
        "colab": {
          "background_save": true,
          "base_uri": "https://localhost:8080/",
          "height": 1000,
          "referenced_widgets": [
            "74a4139e46f04c9fbe64a39494bacea1",
            "162cb23d89f444ff9ae2321065f5f40f",
            "ca31365dfa1d4888b9f22c2522b30d63",
            "b4cbf5101b5c42a193802395ce311c34",
            "bb5eff9a4db542c1842dd9990b3873fc",
            "5916c4adae2848bea3cf683b9d45e98b",
            "8baaaf6fd6434ad79c74d6f4dab2d056",
            "99ea75d8709e4a51aca11682775e0ed4",
            "74f024ed66694b95abec6de3cd44096c",
            "9678f1d4e8584f0293ba6f6a3c20df7a",
            "eac7a2617fb34a8db5226e19d34eebaa",
            "d143727f7b4e407f95d6e085c6e31995",
            "f14c8d06a189473eb25fc54426ddcb0c",
            "7e91e2ce08b3486d9cd56d28c0d2fc0f",
            "c9f266e3f6d24ff5a7fd1d0d7d924b40",
            "c9703d00ceb44932807caea1e95122a0",
            "7218eeb6bf8448a4bb612cd7b9f45212",
            "ee13a453a85542f68d1be7f240f66a1d",
            "aea86a28e68b4d61bb7f87a6fbaa4a3e",
            "debab52555634fb5a371c30803e3f064",
            "2b7dc3a865954321921fe44b8e1b2444",
            "2d64ea7f7cbe4174b92c82bd125965bc",
            "c6b5383ca51347778629e18a78bac737",
            "cf25569b02b049b69ed7e411ff7b0e9f",
            "0f6cde6f4d98487bb1b939e3f8905033",
            "1303a94bd29c4514904dcb73d3d5701c",
            "056e625eb6a64dc0a1baf8eef76fde13",
            "be55426859c8433ea9e8f743deb92dde",
            "e6d53cfd577345ecbb3ec0b3a1f5fa99",
            "0888677784d24c15a6f798a639fca393",
            "926cb0a52f614227a622d0b1a26c5d3e"
          ]
        },
        "id": "Udnot6I7mGMI",
        "outputId": "8e74ffc3-bcb4-492a-8a41-a6ea345cd146"
      },
      "outputs": [
        {
          "name": "stderr",
          "output_type": "stream",
          "text": [
            "\u001b[34m\u001b[1mwandb\u001b[0m: Agent Starting Run: 5717bm7z with config:\n",
            "\u001b[34m\u001b[1mwandb\u001b[0m: \tactivation: sigmoid\n",
            "\u001b[34m\u001b[1mwandb\u001b[0m: \tbatchSize: 64\n",
            "\u001b[34m\u001b[1mwandb\u001b[0m: \tepochs: 5\n",
            "\u001b[34m\u001b[1mwandb\u001b[0m: \thidLayer: [128, 128, 128]\n",
            "\u001b[34m\u001b[1mwandb\u001b[0m: \tinitForm: xavier\n",
            "\u001b[34m\u001b[1mwandb\u001b[0m: \tlearningRate: 0.01\n",
            "\u001b[34m\u001b[1mwandb\u001b[0m: \tlossFn: square_loss\n",
            "\u001b[34m\u001b[1mwandb\u001b[0m: \toptimiser: mgd\n",
            "\u001b[34m\u001b[1mwandb\u001b[0m: \tweight_decay: 0\n",
            "\u001b[34m\u001b[1mwandb\u001b[0m: \u001b[33mWARNING\u001b[0m Ignored wandb.init() arg project when running a sweep.\n",
            "\u001b[34m\u001b[1mwandb\u001b[0m: \u001b[33mWARNING\u001b[0m Ignored wandb.init() arg entity when running a sweep.\n"
          ]
        },
        {
          "data": {
            "text/html": [
              "Tracking run with wandb version 0.14.0"
            ],
            "text/plain": [
              "<IPython.core.display.HTML object>"
            ]
          },
          "metadata": {},
          "output_type": "display_data"
        },
        {
          "data": {
            "text/html": [
              "Run data is saved locally in <code>/content/wandb/run-20230317_121255-5717bm7z</code>"
            ],
            "text/plain": [
              "<IPython.core.display.HTML object>"
            ]
          },
          "metadata": {},
          "output_type": "display_data"
        },
        {
          "data": {
            "text/html": [
              "Syncing run <strong><a href='https://wandb.ai/sleya7110/Assignment1DLQ9/runs/5717bm7z' target=\"_blank\">laced-sweep-1</a></strong> to <a href='https://wandb.ai/sleya7110/Assignment1DLQ9' target=\"_blank\">Weights & Biases</a> (<a href='https://wandb.me/run' target=\"_blank\">docs</a>)<br/>Sweep page: <a href='https://wandb.ai/sleya7110/Assignment1DLQ9/sweeps/h6gghlmm' target=\"_blank\">https://wandb.ai/sleya7110/Assignment1DLQ9/sweeps/h6gghlmm</a>"
            ],
            "text/plain": [
              "<IPython.core.display.HTML object>"
            ]
          },
          "metadata": {},
          "output_type": "display_data"
        },
        {
          "data": {
            "text/html": [
              " View project at <a href='https://wandb.ai/sleya7110/Assignment1DLQ9' target=\"_blank\">https://wandb.ai/sleya7110/Assignment1DLQ9</a>"
            ],
            "text/plain": [
              "<IPython.core.display.HTML object>"
            ]
          },
          "metadata": {},
          "output_type": "display_data"
        },
        {
          "data": {
            "text/html": [
              " View sweep at <a href='https://wandb.ai/sleya7110/Assignment1DLQ9/sweeps/h6gghlmm' target=\"_blank\">https://wandb.ai/sleya7110/Assignment1DLQ9/sweeps/h6gghlmm</a>"
            ],
            "text/plain": [
              "<IPython.core.display.HTML object>"
            ]
          },
          "metadata": {},
          "output_type": "display_data"
        },
        {
          "data": {
            "text/html": [
              " View run at <a href='https://wandb.ai/sleya7110/Assignment1DLQ9/runs/5717bm7z' target=\"_blank\">https://wandb.ai/sleya7110/Assignment1DLQ9/runs/5717bm7z</a>"
            ],
            "text/plain": [
              "<IPython.core.display.HTML object>"
            ]
          },
          "metadata": {},
          "output_type": "display_data"
        },
        {
          "name": "stdout",
          "output_type": "stream",
          "text": [
            "W length= 4\n",
            "B length= 4\n",
            "W shape= (10, 128)\n",
            "B shape= (10, 1)\n",
            "Epoch 0: training_accuracy = 8.15 %, training_loss= 0.45238  ,Validation accuracy = 8.38 ,Validation loss = 0.45224\n",
            "Epoch 1: training_accuracy = 10.34 %, training_loss= 0.45137  ,Validation accuracy = 10.45 ,Validation loss = 0.45129\n",
            "Epoch 2: training_accuracy = 12.56 %, training_loss= 0.45053  ,Validation accuracy = 13.05 ,Validation loss = 0.45046\n",
            "Epoch 3: training_accuracy = 14.65 %, training_loss= 0.44967  ,Validation accuracy = 15.02 ,Validation loss = 0.44962\n",
            "Epoch 4: training_accuracy = 16.42 %, training_loss= 0.44881  ,Validation accuracy = 17.20 ,Validation loss = 0.44877\n"
          ]
        },
        {
          "data": {
            "text/html": [
              "Waiting for W&B process to finish... <strong style=\"color:green\">(success).</strong>"
            ],
            "text/plain": [
              "<IPython.core.display.HTML object>"
            ]
          },
          "metadata": {},
          "output_type": "display_data"
        },
        {
          "data": {
            "application/vnd.jupyter.widget-view+json": {
              "model_id": "74a4139e46f04c9fbe64a39494bacea1",
              "version_major": 2,
              "version_minor": 0
            },
            "text/plain": [
              "VBox(children=(Label(value='0.001 MB of 0.009 MB uploaded (0.000 MB deduped)\\r'), FloatProgress(value=0.070366…"
            ]
          },
          "metadata": {},
          "output_type": "display_data"
        },
        {
          "data": {
            "text/html": [
              "<style>\n",
              "    table.wandb td:nth-child(1) { padding: 0 10px; text-align: left ; width: auto;} td:nth-child(2) {text-align: left ; width: 100%}\n",
              "    .wandb-row { display: flex; flex-direction: row; flex-wrap: wrap; justify-content: flex-start; width: 100% }\n",
              "    .wandb-col { display: flex; flex-direction: column; flex-basis: 100%; flex: 1; padding: 10px; }\n",
              "    </style>\n",
              "<div class=\"wandb-row\"><div class=\"wandb-col\"><h3>Run history:</h3><br/><table class=\"wandb\"><tr><td>accuracy</td><td>▁▃▅▇█</td></tr><tr><td>steps</td><td>▁▁▁▁▁</td></tr><tr><td>train_loss</td><td>█▆▄▃▁</td></tr><tr><td>val_accuracy</td><td>▁▃▅▆█</td></tr><tr><td>val_loss</td><td>█▆▄▃▁</td></tr></table><br/></div><div class=\"wandb-col\"><h3>Run summary:</h3><br/><table class=\"wandb\"><tr><td>accuracy</td><td>16.424</td></tr><tr><td>steps</td><td>5</td></tr><tr><td>train_loss</td><td>0.44881</td></tr><tr><td>val_accuracy</td><td>17.2</td></tr><tr><td>val_loss</td><td>0.44877</td></tr></table><br/></div></div>"
            ],
            "text/plain": [
              "<IPython.core.display.HTML object>"
            ]
          },
          "metadata": {},
          "output_type": "display_data"
        },
        {
          "data": {
            "text/html": [
              " View run <strong style=\"color:#cdcd00\">laced-sweep-1</strong> at: <a href='https://wandb.ai/sleya7110/Assignment1DLQ9/runs/5717bm7z' target=\"_blank\">https://wandb.ai/sleya7110/Assignment1DLQ9/runs/5717bm7z</a><br/>Synced 5 W&B file(s), 0 media file(s), 0 artifact file(s) and 0 other file(s)"
            ],
            "text/plain": [
              "<IPython.core.display.HTML object>"
            ]
          },
          "metadata": {},
          "output_type": "display_data"
        },
        {
          "data": {
            "text/html": [
              "Find logs at: <code>./wandb/run-20230317_121255-5717bm7z/logs</code>"
            ],
            "text/plain": [
              "<IPython.core.display.HTML object>"
            ]
          },
          "metadata": {},
          "output_type": "display_data"
        },
        {
          "name": "stderr",
          "output_type": "stream",
          "text": [
            "\u001b[34m\u001b[1mwandb\u001b[0m: Agent Starting Run: inpxlq1q with config:\n",
            "\u001b[34m\u001b[1mwandb\u001b[0m: \tactivation: relu\n",
            "\u001b[34m\u001b[1mwandb\u001b[0m: \tbatchSize: 128\n",
            "\u001b[34m\u001b[1mwandb\u001b[0m: \tepochs: 50\n",
            "\u001b[34m\u001b[1mwandb\u001b[0m: \thidLayer: [32, 64, 128]\n",
            "\u001b[34m\u001b[1mwandb\u001b[0m: \tinitForm: random\n",
            "\u001b[34m\u001b[1mwandb\u001b[0m: \tlearningRate: 0.001\n",
            "\u001b[34m\u001b[1mwandb\u001b[0m: \tlossFn: square_loss\n",
            "\u001b[34m\u001b[1mwandb\u001b[0m: \toptimiser: ngd\n",
            "\u001b[34m\u001b[1mwandb\u001b[0m: \tweight_decay: 0.0005\n",
            "\u001b[34m\u001b[1mwandb\u001b[0m: \u001b[33mWARNING\u001b[0m Ignored wandb.init() arg project when running a sweep.\n",
            "\u001b[34m\u001b[1mwandb\u001b[0m: \u001b[33mWARNING\u001b[0m Ignored wandb.init() arg entity when running a sweep.\n"
          ]
        },
        {
          "data": {
            "text/html": [
              "Tracking run with wandb version 0.14.0"
            ],
            "text/plain": [
              "<IPython.core.display.HTML object>"
            ]
          },
          "metadata": {},
          "output_type": "display_data"
        },
        {
          "data": {
            "text/html": [
              "Run data is saved locally in <code>/content/wandb/run-20230317_121348-inpxlq1q</code>"
            ],
            "text/plain": [
              "<IPython.core.display.HTML object>"
            ]
          },
          "metadata": {},
          "output_type": "display_data"
        },
        {
          "data": {
            "text/html": [
              "Syncing run <strong><a href='https://wandb.ai/sleya7110/Assignment1DLQ9/runs/inpxlq1q' target=\"_blank\">brisk-sweep-2</a></strong> to <a href='https://wandb.ai/sleya7110/Assignment1DLQ9' target=\"_blank\">Weights & Biases</a> (<a href='https://wandb.me/run' target=\"_blank\">docs</a>)<br/>Sweep page: <a href='https://wandb.ai/sleya7110/Assignment1DLQ9/sweeps/h6gghlmm' target=\"_blank\">https://wandb.ai/sleya7110/Assignment1DLQ9/sweeps/h6gghlmm</a>"
            ],
            "text/plain": [
              "<IPython.core.display.HTML object>"
            ]
          },
          "metadata": {},
          "output_type": "display_data"
        },
        {
          "data": {
            "text/html": [
              " View project at <a href='https://wandb.ai/sleya7110/Assignment1DLQ9' target=\"_blank\">https://wandb.ai/sleya7110/Assignment1DLQ9</a>"
            ],
            "text/plain": [
              "<IPython.core.display.HTML object>"
            ]
          },
          "metadata": {},
          "output_type": "display_data"
        },
        {
          "data": {
            "text/html": [
              " View sweep at <a href='https://wandb.ai/sleya7110/Assignment1DLQ9/sweeps/h6gghlmm' target=\"_blank\">https://wandb.ai/sleya7110/Assignment1DLQ9/sweeps/h6gghlmm</a>"
            ],
            "text/plain": [
              "<IPython.core.display.HTML object>"
            ]
          },
          "metadata": {},
          "output_type": "display_data"
        },
        {
          "data": {
            "text/html": [
              " View run at <a href='https://wandb.ai/sleya7110/Assignment1DLQ9/runs/inpxlq1q' target=\"_blank\">https://wandb.ai/sleya7110/Assignment1DLQ9/runs/inpxlq1q</a>"
            ],
            "text/plain": [
              "<IPython.core.display.HTML object>"
            ]
          },
          "metadata": {},
          "output_type": "display_data"
        },
        {
          "name": "stdout",
          "output_type": "stream",
          "text": [
            "W length= 4\n",
            "B length= 4\n",
            "W shape= (10, 128)\n",
            "B shape= (10, 1)\n",
            "Epoch 0: training_accuracy = 9.65 %, training_loss= 0.45265  ,Validation accuracy = 9.77 ,Validation loss = 0.45252\n",
            "Epoch 1: training_accuracy = 9.22 %, training_loss= 0.45031  ,Validation accuracy = 9.12 ,Validation loss = 0.45027\n",
            "Epoch 2: training_accuracy = 7.90 %, training_loss= 0.45002  ,Validation accuracy = 7.30 ,Validation loss = 0.45003\n",
            "Epoch 3: training_accuracy = 7.16 %, training_loss= 0.45001  ,Validation accuracy = 6.20 ,Validation loss = 0.45002\n",
            "Epoch 4: training_accuracy = 7.15 %, training_loss= 0.45000  ,Validation accuracy = 6.20 ,Validation loss = 0.45001\n",
            "Epoch 5: training_accuracy = 7.14 %, training_loss= 0.44999  ,Validation accuracy = 6.18 ,Validation loss = 0.45001\n",
            "Epoch 6: training_accuracy = 7.14 %, training_loss= 0.44999  ,Validation accuracy = 6.18 ,Validation loss = 0.45000\n",
            "Epoch 7: training_accuracy = 7.15 %, training_loss= 0.44998  ,Validation accuracy = 6.20 ,Validation loss = 0.44999\n",
            "Epoch 8: training_accuracy = 7.16 %, training_loss= 0.44997  ,Validation accuracy = 6.18 ,Validation loss = 0.44998\n",
            "Epoch 9: training_accuracy = 7.16 %, training_loss= 0.44996  ,Validation accuracy = 6.20 ,Validation loss = 0.44997\n",
            "Epoch 10: training_accuracy = 7.16 %, training_loss= 0.44995  ,Validation accuracy = 6.20 ,Validation loss = 0.44997\n",
            "Epoch 11: training_accuracy = 7.15 %, training_loss= 0.44995  ,Validation accuracy = 6.20 ,Validation loss = 0.44996\n",
            "Epoch 12: training_accuracy = 7.15 %, training_loss= 0.44994  ,Validation accuracy = 6.18 ,Validation loss = 0.44995\n",
            "Epoch 13: training_accuracy = 7.14 %, training_loss= 0.44993  ,Validation accuracy = 6.15 ,Validation loss = 0.44994\n",
            "Epoch 14: training_accuracy = 7.15 %, training_loss= 0.44992  ,Validation accuracy = 6.17 ,Validation loss = 0.44994\n",
            "Epoch 15: training_accuracy = 7.16 %, training_loss= 0.44992  ,Validation accuracy = 6.20 ,Validation loss = 0.44993\n",
            "Epoch 16: training_accuracy = 7.15 %, training_loss= 0.44991  ,Validation accuracy = 6.25 ,Validation loss = 0.44992\n",
            "Epoch 17: training_accuracy = 7.15 %, training_loss= 0.44990  ,Validation accuracy = 6.25 ,Validation loss = 0.44991\n",
            "Epoch 18: training_accuracy = 7.15 %, training_loss= 0.44989  ,Validation accuracy = 6.22 ,Validation loss = 0.44990\n",
            "Epoch 19: training_accuracy = 7.14 %, training_loss= 0.44989  ,Validation accuracy = 6.20 ,Validation loss = 0.44990\n",
            "Epoch 20: training_accuracy = 7.32 %, training_loss= 0.44988  ,Validation accuracy = 6.33 ,Validation loss = 0.44989\n",
            "Epoch 21: training_accuracy = 8.07 %, training_loss= 0.44987  ,Validation accuracy = 7.08 ,Validation loss = 0.44988\n",
            "Epoch 22: training_accuracy = 9.46 %, training_loss= 0.44986  ,Validation accuracy = 8.38 ,Validation loss = 0.44987\n",
            "Epoch 23: training_accuracy = 10.94 %, training_loss= 0.44986  ,Validation accuracy = 9.75 ,Validation loss = 0.44987\n",
            "Epoch 24: training_accuracy = 12.03 %, training_loss= 0.44985  ,Validation accuracy = 10.72 ,Validation loss = 0.44986\n",
            "Epoch 25: training_accuracy = 12.83 %, training_loss= 0.44984  ,Validation accuracy = 11.32 ,Validation loss = 0.44985\n",
            "Epoch 26: training_accuracy = 13.43 %, training_loss= 0.44983  ,Validation accuracy = 11.95 ,Validation loss = 0.44984\n",
            "Epoch 27: training_accuracy = 13.86 %, training_loss= 0.44983  ,Validation accuracy = 12.32 ,Validation loss = 0.44984\n",
            "Epoch 28: training_accuracy = 14.13 %, training_loss= 0.44982  ,Validation accuracy = 12.50 ,Validation loss = 0.44983\n",
            "Epoch 29: training_accuracy = 14.33 %, training_loss= 0.44981  ,Validation accuracy = 12.67 ,Validation loss = 0.44982\n",
            "Epoch 30: training_accuracy = 14.39 %, training_loss= 0.44981  ,Validation accuracy = 12.72 ,Validation loss = 0.44981\n",
            "Epoch 31: training_accuracy = 14.45 %, training_loss= 0.44980  ,Validation accuracy = 12.77 ,Validation loss = 0.44981\n",
            "Epoch 32: training_accuracy = 14.49 %, training_loss= 0.44979  ,Validation accuracy = 12.80 ,Validation loss = 0.44980\n",
            "Epoch 33: training_accuracy = 14.51 %, training_loss= 0.44978  ,Validation accuracy = 12.83 ,Validation loss = 0.44979\n",
            "Epoch 34: training_accuracy = 14.54 %, training_loss= 0.44978  ,Validation accuracy = 12.90 ,Validation loss = 0.44979\n",
            "Epoch 35: training_accuracy = 14.54 %, training_loss= 0.44977  ,Validation accuracy = 12.87 ,Validation loss = 0.44978\n",
            "Epoch 36: training_accuracy = 14.54 %, training_loss= 0.44976  ,Validation accuracy = 12.85 ,Validation loss = 0.44977\n",
            "Epoch 37: training_accuracy = 14.56 %, training_loss= 0.44975  ,Validation accuracy = 12.90 ,Validation loss = 0.44976\n",
            "Epoch 38: training_accuracy = 14.56 %, training_loss= 0.44975  ,Validation accuracy = 12.97 ,Validation loss = 0.44976\n",
            "Epoch 39: training_accuracy = 14.57 %, training_loss= 0.44974  ,Validation accuracy = 13.00 ,Validation loss = 0.44975\n",
            "Epoch 40: training_accuracy = 14.59 %, training_loss= 0.44973  ,Validation accuracy = 12.98 ,Validation loss = 0.44974\n",
            "Epoch 41: training_accuracy = 14.59 %, training_loss= 0.44973  ,Validation accuracy = 12.98 ,Validation loss = 0.44973\n",
            "Epoch 42: training_accuracy = 14.60 %, training_loss= 0.44972  ,Validation accuracy = 12.92 ,Validation loss = 0.44973\n",
            "Epoch 43: training_accuracy = 14.60 %, training_loss= 0.44971  ,Validation accuracy = 12.87 ,Validation loss = 0.44972\n",
            "Epoch 44: training_accuracy = 14.59 %, training_loss= 0.44971  ,Validation accuracy = 12.88 ,Validation loss = 0.44971\n",
            "Epoch 45: training_accuracy = 14.58 %, training_loss= 0.44970  ,Validation accuracy = 12.93 ,Validation loss = 0.44971\n",
            "Epoch 46: training_accuracy = 14.58 %, training_loss= 0.44969  ,Validation accuracy = 12.92 ,Validation loss = 0.44970\n",
            "Epoch 47: training_accuracy = 14.58 %, training_loss= 0.44968  ,Validation accuracy = 12.90 ,Validation loss = 0.44969\n",
            "Epoch 48: training_accuracy = 14.59 %, training_loss= 0.44968  ,Validation accuracy = 12.92 ,Validation loss = 0.44968\n",
            "Epoch 49: training_accuracy = 14.56 %, training_loss= 0.44967  ,Validation accuracy = 12.88 ,Validation loss = 0.44968\n"
          ]
        },
        {
          "data": {
            "text/html": [
              "Waiting for W&B process to finish... <strong style=\"color:green\">(success).</strong>"
            ],
            "text/plain": [
              "<IPython.core.display.HTML object>"
            ]
          },
          "metadata": {},
          "output_type": "display_data"
        },
        {
          "data": {
            "application/vnd.jupyter.widget-view+json": {
              "model_id": "162cb23d89f444ff9ae2321065f5f40f",
              "version_major": 2,
              "version_minor": 0
            },
            "text/plain": [
              "VBox(children=(Label(value='0.001 MB of 0.014 MB uploaded (0.000 MB deduped)\\r'), FloatProgress(value=0.046187…"
            ]
          },
          "metadata": {},
          "output_type": "display_data"
        },
        {
          "data": {
            "text/html": [
              "<style>\n",
              "    table.wandb td:nth-child(1) { padding: 0 10px; text-align: left ; width: auto;} td:nth-child(2) {text-align: left ; width: 100%}\n",
              "    .wandb-row { display: flex; flex-direction: row; flex-wrap: wrap; justify-content: flex-start; width: 100% }\n",
              "    .wandb-col { display: flex; flex-direction: column; flex-basis: 100%; flex: 1; padding: 10px; }\n",
              "    </style>\n",
              "<div class=\"wandb-row\"><div class=\"wandb-col\"><h3>Run history:</h3><br/><table class=\"wandb\"><tr><td>accuracy</td><td>▃▃▂▁▁▁▁▁▁▁▁▁▁▁▁▁▁▂▃▅▆▇▇█████████████████</td></tr><tr><td>steps</td><td>▁▁▁▁▁▁▁▁▁▁▁▁▁▁▁▁▁▁▁▁▁▁▁▁▁▁▁▁▁▁▁▁▁▁▁▁▁▁▁▁</td></tr><tr><td>train_loss</td><td>█▂▂▂▂▂▂▂▂▂▂▂▂▂▂▂▁▁▁▁▁▁▁▁▁▁▁▁▁▁▁▁▁▁▁▁▁▁▁▁</td></tr><tr><td>val_accuracy</td><td>▅▄▂▁▁▁▁▁▁▁▁▁▁▁▁▁▁▂▃▅▆▇▇█████████████████</td></tr><tr><td>val_loss</td><td>█▂▂▂▂▂▂▂▂▂▂▂▂▂▂▂▂▂▁▁▁▁▁▁▁▁▁▁▁▁▁▁▁▁▁▁▁▁▁▁</td></tr></table><br/></div><div class=\"wandb-col\"><h3>Run summary:</h3><br/><table class=\"wandb\"><tr><td>accuracy</td><td>14.557</td></tr><tr><td>steps</td><td>50</td></tr><tr><td>train_loss</td><td>0.44967</td></tr><tr><td>val_accuracy</td><td>12.883</td></tr><tr><td>val_loss</td><td>0.44968</td></tr></table><br/></div></div>"
            ],
            "text/plain": [
              "<IPython.core.display.HTML object>"
            ]
          },
          "metadata": {},
          "output_type": "display_data"
        },
        {
          "data": {
            "text/html": [
              " View run <strong style=\"color:#cdcd00\">brisk-sweep-2</strong> at: <a href='https://wandb.ai/sleya7110/Assignment1DLQ9/runs/inpxlq1q' target=\"_blank\">https://wandb.ai/sleya7110/Assignment1DLQ9/runs/inpxlq1q</a><br/>Synced 5 W&B file(s), 0 media file(s), 0 artifact file(s) and 0 other file(s)"
            ],
            "text/plain": [
              "<IPython.core.display.HTML object>"
            ]
          },
          "metadata": {},
          "output_type": "display_data"
        },
        {
          "data": {
            "text/html": [
              "Find logs at: <code>./wandb/run-20230317_121348-inpxlq1q/logs</code>"
            ],
            "text/plain": [
              "<IPython.core.display.HTML object>"
            ]
          },
          "metadata": {},
          "output_type": "display_data"
        },
        {
          "name": "stderr",
          "output_type": "stream",
          "text": [
            "\u001b[34m\u001b[1mwandb\u001b[0m: Agent Starting Run: 373anlsu with config:\n",
            "\u001b[34m\u001b[1mwandb\u001b[0m: \tactivation: tanh\n",
            "\u001b[34m\u001b[1mwandb\u001b[0m: \tbatchSize: 128\n",
            "\u001b[34m\u001b[1mwandb\u001b[0m: \tepochs: 10\n",
            "\u001b[34m\u001b[1mwandb\u001b[0m: \thidLayer: [64, 64, 64]\n",
            "\u001b[34m\u001b[1mwandb\u001b[0m: \tinitForm: random\n",
            "\u001b[34m\u001b[1mwandb\u001b[0m: \tlearningRate: 0.001\n",
            "\u001b[34m\u001b[1mwandb\u001b[0m: \tlossFn: square_loss\n",
            "\u001b[34m\u001b[1mwandb\u001b[0m: \toptimiser: rmsprop\n",
            "\u001b[34m\u001b[1mwandb\u001b[0m: \tweight_decay: 0\n",
            "\u001b[34m\u001b[1mwandb\u001b[0m: \u001b[33mWARNING\u001b[0m Ignored wandb.init() arg project when running a sweep.\n",
            "\u001b[34m\u001b[1mwandb\u001b[0m: \u001b[33mWARNING\u001b[0m Ignored wandb.init() arg entity when running a sweep.\n"
          ]
        },
        {
          "data": {
            "text/html": [
              "Tracking run with wandb version 0.14.0"
            ],
            "text/plain": [
              "<IPython.core.display.HTML object>"
            ]
          },
          "metadata": {},
          "output_type": "display_data"
        },
        {
          "data": {
            "text/html": [
              "Run data is saved locally in <code>/content/wandb/run-20230317_121822-373anlsu</code>"
            ],
            "text/plain": [
              "<IPython.core.display.HTML object>"
            ]
          },
          "metadata": {},
          "output_type": "display_data"
        },
        {
          "data": {
            "text/html": [
              "Syncing run <strong><a href='https://wandb.ai/sleya7110/Assignment1DLQ9/runs/373anlsu' target=\"_blank\">ancient-sweep-3</a></strong> to <a href='https://wandb.ai/sleya7110/Assignment1DLQ9' target=\"_blank\">Weights & Biases</a> (<a href='https://wandb.me/run' target=\"_blank\">docs</a>)<br/>Sweep page: <a href='https://wandb.ai/sleya7110/Assignment1DLQ9/sweeps/h6gghlmm' target=\"_blank\">https://wandb.ai/sleya7110/Assignment1DLQ9/sweeps/h6gghlmm</a>"
            ],
            "text/plain": [
              "<IPython.core.display.HTML object>"
            ]
          },
          "metadata": {},
          "output_type": "display_data"
        },
        {
          "data": {
            "text/html": [
              " View project at <a href='https://wandb.ai/sleya7110/Assignment1DLQ9' target=\"_blank\">https://wandb.ai/sleya7110/Assignment1DLQ9</a>"
            ],
            "text/plain": [
              "<IPython.core.display.HTML object>"
            ]
          },
          "metadata": {},
          "output_type": "display_data"
        },
        {
          "data": {
            "text/html": [
              " View sweep at <a href='https://wandb.ai/sleya7110/Assignment1DLQ9/sweeps/h6gghlmm' target=\"_blank\">https://wandb.ai/sleya7110/Assignment1DLQ9/sweeps/h6gghlmm</a>"
            ],
            "text/plain": [
              "<IPython.core.display.HTML object>"
            ]
          },
          "metadata": {},
          "output_type": "display_data"
        },
        {
          "data": {
            "text/html": [
              " View run at <a href='https://wandb.ai/sleya7110/Assignment1DLQ9/runs/373anlsu' target=\"_blank\">https://wandb.ai/sleya7110/Assignment1DLQ9/runs/373anlsu</a>"
            ],
            "text/plain": [
              "<IPython.core.display.HTML object>"
            ]
          },
          "metadata": {},
          "output_type": "display_data"
        },
        {
          "name": "stdout",
          "output_type": "stream",
          "text": [
            "W length= 4\n",
            "B length= 4\n",
            "W shape= (10, 64)\n",
            "B shape= (10, 1)\n",
            "Epoch 0: training_accuracy = 17.50 %, training_loss= 0.44699  ,Validation accuracy = 17.78 ,Validation loss = 0.44691\n",
            "Epoch 1: training_accuracy = 17.25 %, training_loss= 0.44447  ,Validation accuracy = 17.33 ,Validation loss = 0.44431\n",
            "Epoch 2: training_accuracy = 18.48 %, training_loss= 0.44210  ,Validation accuracy = 18.92 ,Validation loss = 0.44188\n",
            "Epoch 3: training_accuracy = 18.30 %, training_loss= 0.43972  ,Validation accuracy = 19.02 ,Validation loss = 0.43943\n",
            "Epoch 4: training_accuracy = 18.26 %, training_loss= 0.43732  ,Validation accuracy = 18.93 ,Validation loss = 0.43697\n",
            "Epoch 5: training_accuracy = 18.32 %, training_loss= 0.43500  ,Validation accuracy = 19.05 ,Validation loss = 0.43458\n",
            "Epoch 6: training_accuracy = 18.94 %, training_loss= 0.43283  ,Validation accuracy = 19.63 ,Validation loss = 0.43236\n",
            "Epoch 7: training_accuracy = 19.69 %, training_loss= 0.43089  ,Validation accuracy = 20.62 ,Validation loss = 0.43036\n",
            "Epoch 8: training_accuracy = 20.53 %, training_loss= 0.42919  ,Validation accuracy = 21.28 ,Validation loss = 0.42862\n",
            "Epoch 9: training_accuracy = 21.16 %, training_loss= 0.42773  ,Validation accuracy = 21.88 ,Validation loss = 0.42711\n"
          ]
        },
        {
          "data": {
            "text/html": [
              "Waiting for W&B process to finish... <strong style=\"color:green\">(success).</strong>"
            ],
            "text/plain": [
              "<IPython.core.display.HTML object>"
            ]
          },
          "metadata": {},
          "output_type": "display_data"
        },
        {
          "data": {
            "application/vnd.jupyter.widget-view+json": {
              "model_id": "ca31365dfa1d4888b9f22c2522b30d63",
              "version_major": 2,
              "version_minor": 0
            },
            "text/plain": [
              "VBox(children=(Label(value='0.001 MB of 0.001 MB uploaded (0.000 MB deduped)\\r'), FloatProgress(value=1.0, max…"
            ]
          },
          "metadata": {},
          "output_type": "display_data"
        },
        {
          "data": {
            "text/html": [
              "<style>\n",
              "    table.wandb td:nth-child(1) { padding: 0 10px; text-align: left ; width: auto;} td:nth-child(2) {text-align: left ; width: 100%}\n",
              "    .wandb-row { display: flex; flex-direction: row; flex-wrap: wrap; justify-content: flex-start; width: 100% }\n",
              "    .wandb-col { display: flex; flex-direction: column; flex-basis: 100%; flex: 1; padding: 10px; }\n",
              "    </style>\n",
              "<div class=\"wandb-row\"><div class=\"wandb-col\"><h3>Run history:</h3><br/><table class=\"wandb\"><tr><td>accuracy</td><td>▁▁▃▃▃▃▄▅▇█</td></tr><tr><td>steps</td><td>▁▁▁▁▁▁▁▁▁▁</td></tr><tr><td>train_loss</td><td>█▇▆▅▄▄▃▂▂▁</td></tr><tr><td>val_accuracy</td><td>▂▁▃▄▃▄▅▆▇█</td></tr><tr><td>val_loss</td><td>█▇▆▅▄▄▃▂▂▁</td></tr></table><br/></div><div class=\"wandb-col\"><h3>Run summary:</h3><br/><table class=\"wandb\"><tr><td>accuracy</td><td>21.165</td></tr><tr><td>steps</td><td>10</td></tr><tr><td>train_loss</td><td>0.42773</td></tr><tr><td>val_accuracy</td><td>21.883</td></tr><tr><td>val_loss</td><td>0.42711</td></tr></table><br/></div></div>"
            ],
            "text/plain": [
              "<IPython.core.display.HTML object>"
            ]
          },
          "metadata": {},
          "output_type": "display_data"
        },
        {
          "data": {
            "text/html": [
              " View run <strong style=\"color:#cdcd00\">ancient-sweep-3</strong> at: <a href='https://wandb.ai/sleya7110/Assignment1DLQ9/runs/373anlsu' target=\"_blank\">https://wandb.ai/sleya7110/Assignment1DLQ9/runs/373anlsu</a><br/>Synced 5 W&B file(s), 0 media file(s), 0 artifact file(s) and 0 other file(s)"
            ],
            "text/plain": [
              "<IPython.core.display.HTML object>"
            ]
          },
          "metadata": {},
          "output_type": "display_data"
        },
        {
          "data": {
            "text/html": [
              "Find logs at: <code>./wandb/run-20230317_121822-373anlsu/logs</code>"
            ],
            "text/plain": [
              "<IPython.core.display.HTML object>"
            ]
          },
          "metadata": {},
          "output_type": "display_data"
        },
        {
          "name": "stderr",
          "output_type": "stream",
          "text": [
            "\u001b[34m\u001b[1mwandb\u001b[0m: Agent Starting Run: jzcayhtm with config:\n",
            "\u001b[34m\u001b[1mwandb\u001b[0m: \tactivation: sigmoid\n",
            "\u001b[34m\u001b[1mwandb\u001b[0m: \tbatchSize: 128\n",
            "\u001b[34m\u001b[1mwandb\u001b[0m: \tepochs: 5\n",
            "\u001b[34m\u001b[1mwandb\u001b[0m: \thidLayer: [64, 64, 64]\n",
            "\u001b[34m\u001b[1mwandb\u001b[0m: \tinitForm: xavier\n",
            "\u001b[34m\u001b[1mwandb\u001b[0m: \tlearningRate: 0.001\n",
            "\u001b[34m\u001b[1mwandb\u001b[0m: \tlossFn: square_loss\n",
            "\u001b[34m\u001b[1mwandb\u001b[0m: \toptimiser: rmsprop\n",
            "\u001b[34m\u001b[1mwandb\u001b[0m: \tweight_decay: 0\n",
            "\u001b[34m\u001b[1mwandb\u001b[0m: \u001b[33mWARNING\u001b[0m Ignored wandb.init() arg project when running a sweep.\n",
            "\u001b[34m\u001b[1mwandb\u001b[0m: \u001b[33mWARNING\u001b[0m Ignored wandb.init() arg entity when running a sweep.\n"
          ]
        },
        {
          "data": {
            "text/html": [
              "Tracking run with wandb version 0.14.0"
            ],
            "text/plain": [
              "<IPython.core.display.HTML object>"
            ]
          },
          "metadata": {},
          "output_type": "display_data"
        },
        {
          "data": {
            "text/html": [
              "Run data is saved locally in <code>/content/wandb/run-20230317_121929-jzcayhtm</code>"
            ],
            "text/plain": [
              "<IPython.core.display.HTML object>"
            ]
          },
          "metadata": {},
          "output_type": "display_data"
        },
        {
          "data": {
            "text/html": [
              "Syncing run <strong><a href='https://wandb.ai/sleya7110/Assignment1DLQ9/runs/jzcayhtm' target=\"_blank\">northern-sweep-4</a></strong> to <a href='https://wandb.ai/sleya7110/Assignment1DLQ9' target=\"_blank\">Weights & Biases</a> (<a href='https://wandb.me/run' target=\"_blank\">docs</a>)<br/>Sweep page: <a href='https://wandb.ai/sleya7110/Assignment1DLQ9/sweeps/h6gghlmm' target=\"_blank\">https://wandb.ai/sleya7110/Assignment1DLQ9/sweeps/h6gghlmm</a>"
            ],
            "text/plain": [
              "<IPython.core.display.HTML object>"
            ]
          },
          "metadata": {},
          "output_type": "display_data"
        },
        {
          "data": {
            "text/html": [
              " View project at <a href='https://wandb.ai/sleya7110/Assignment1DLQ9' target=\"_blank\">https://wandb.ai/sleya7110/Assignment1DLQ9</a>"
            ],
            "text/plain": [
              "<IPython.core.display.HTML object>"
            ]
          },
          "metadata": {},
          "output_type": "display_data"
        },
        {
          "data": {
            "text/html": [
              " View sweep at <a href='https://wandb.ai/sleya7110/Assignment1DLQ9/sweeps/h6gghlmm' target=\"_blank\">https://wandb.ai/sleya7110/Assignment1DLQ9/sweeps/h6gghlmm</a>"
            ],
            "text/plain": [
              "<IPython.core.display.HTML object>"
            ]
          },
          "metadata": {},
          "output_type": "display_data"
        },
        {
          "data": {
            "text/html": [
              " View run at <a href='https://wandb.ai/sleya7110/Assignment1DLQ9/runs/jzcayhtm' target=\"_blank\">https://wandb.ai/sleya7110/Assignment1DLQ9/runs/jzcayhtm</a>"
            ],
            "text/plain": [
              "<IPython.core.display.HTML object>"
            ]
          },
          "metadata": {},
          "output_type": "display_data"
        },
        {
          "name": "stdout",
          "output_type": "stream",
          "text": [
            "W length= 4\n",
            "B length= 4\n",
            "W shape= (10, 64)\n",
            "B shape= (10, 1)\n",
            "Epoch 0: training_accuracy = 23.50 %, training_loss= 0.44509  ,Validation accuracy = 23.85 ,Validation loss = 0.44496\n",
            "Epoch 1: training_accuracy = 22.78 %, training_loss= 0.44108  ,Validation accuracy = 23.00 ,Validation loss = 0.44096\n",
            "Epoch 2: training_accuracy = 22.04 %, training_loss= 0.43777  ,Validation accuracy = 22.32 ,Validation loss = 0.43766\n",
            "Epoch 3: training_accuracy = 22.84 %, training_loss= 0.43487  ,Validation accuracy = 22.98 ,Validation loss = 0.43477\n",
            "Epoch 4: training_accuracy = 24.53 %, training_loss= 0.43225  ,Validation accuracy = 24.53 ,Validation loss = 0.43217\n"
          ]
        },
        {
          "data": {
            "text/html": [
              "Waiting for W&B process to finish... <strong style=\"color:green\">(success).</strong>"
            ],
            "text/plain": [
              "<IPython.core.display.HTML object>"
            ]
          },
          "metadata": {},
          "output_type": "display_data"
        },
        {
          "data": {
            "application/vnd.jupyter.widget-view+json": {
              "model_id": "b4cbf5101b5c42a193802395ce311c34",
              "version_major": 2,
              "version_minor": 0
            },
            "text/plain": [
              "VBox(children=(Label(value='0.001 MB of 0.001 MB uploaded (0.000 MB deduped)\\r'), FloatProgress(value=1.0, max…"
            ]
          },
          "metadata": {},
          "output_type": "display_data"
        },
        {
          "data": {
            "text/html": [
              "<style>\n",
              "    table.wandb td:nth-child(1) { padding: 0 10px; text-align: left ; width: auto;} td:nth-child(2) {text-align: left ; width: 100%}\n",
              "    .wandb-row { display: flex; flex-direction: row; flex-wrap: wrap; justify-content: flex-start; width: 100% }\n",
              "    .wandb-col { display: flex; flex-direction: column; flex-basis: 100%; flex: 1; padding: 10px; }\n",
              "    </style>\n",
              "<div class=\"wandb-row\"><div class=\"wandb-col\"><h3>Run history:</h3><br/><table class=\"wandb\"><tr><td>accuracy</td><td>▅▃▁▃█</td></tr><tr><td>steps</td><td>▁▁▁▁▁</td></tr><tr><td>train_loss</td><td>█▆▄▂▁</td></tr><tr><td>val_accuracy</td><td>▆▃▁▃█</td></tr><tr><td>val_loss</td><td>█▆▄▂▁</td></tr></table><br/></div><div class=\"wandb-col\"><h3>Run summary:</h3><br/><table class=\"wandb\"><tr><td>accuracy</td><td>24.526</td></tr><tr><td>steps</td><td>5</td></tr><tr><td>train_loss</td><td>0.43225</td></tr><tr><td>val_accuracy</td><td>24.533</td></tr><tr><td>val_loss</td><td>0.43217</td></tr></table><br/></div></div>"
            ],
            "text/plain": [
              "<IPython.core.display.HTML object>"
            ]
          },
          "metadata": {},
          "output_type": "display_data"
        },
        {
          "data": {
            "text/html": [
              " View run <strong style=\"color:#cdcd00\">northern-sweep-4</strong> at: <a href='https://wandb.ai/sleya7110/Assignment1DLQ9/runs/jzcayhtm' target=\"_blank\">https://wandb.ai/sleya7110/Assignment1DLQ9/runs/jzcayhtm</a><br/>Synced 5 W&B file(s), 0 media file(s), 0 artifact file(s) and 0 other file(s)"
            ],
            "text/plain": [
              "<IPython.core.display.HTML object>"
            ]
          },
          "metadata": {},
          "output_type": "display_data"
        },
        {
          "data": {
            "text/html": [
              "Find logs at: <code>./wandb/run-20230317_121929-jzcayhtm/logs</code>"
            ],
            "text/plain": [
              "<IPython.core.display.HTML object>"
            ]
          },
          "metadata": {},
          "output_type": "display_data"
        },
        {
          "name": "stderr",
          "output_type": "stream",
          "text": [
            "\u001b[34m\u001b[1mwandb\u001b[0m: Agent Starting Run: bib52ltd with config:\n",
            "\u001b[34m\u001b[1mwandb\u001b[0m: \tactivation: tanh\n",
            "\u001b[34m\u001b[1mwandb\u001b[0m: \tbatchSize: 32\n",
            "\u001b[34m\u001b[1mwandb\u001b[0m: \tepochs: 50\n",
            "\u001b[34m\u001b[1mwandb\u001b[0m: \thidLayer: [128, 128, 128]\n",
            "\u001b[34m\u001b[1mwandb\u001b[0m: \tinitForm: xavier\n",
            "\u001b[34m\u001b[1mwandb\u001b[0m: \tlearningRate: 0.01\n",
            "\u001b[34m\u001b[1mwandb\u001b[0m: \tlossFn: square_loss\n",
            "\u001b[34m\u001b[1mwandb\u001b[0m: \toptimiser: gd\n",
            "\u001b[34m\u001b[1mwandb\u001b[0m: \tweight_decay: 0\n",
            "\u001b[34m\u001b[1mwandb\u001b[0m: \u001b[33mWARNING\u001b[0m Ignored wandb.init() arg project when running a sweep.\n",
            "\u001b[34m\u001b[1mwandb\u001b[0m: \u001b[33mWARNING\u001b[0m Ignored wandb.init() arg entity when running a sweep.\n"
          ]
        },
        {
          "data": {
            "text/html": [
              "Tracking run with wandb version 0.14.0"
            ],
            "text/plain": [
              "<IPython.core.display.HTML object>"
            ]
          },
          "metadata": {},
          "output_type": "display_data"
        },
        {
          "data": {
            "text/html": [
              "Run data is saved locally in <code>/content/wandb/run-20230317_122006-bib52ltd</code>"
            ],
            "text/plain": [
              "<IPython.core.display.HTML object>"
            ]
          },
          "metadata": {},
          "output_type": "display_data"
        },
        {
          "data": {
            "text/html": [
              "Syncing run <strong><a href='https://wandb.ai/sleya7110/Assignment1DLQ9/runs/bib52ltd' target=\"_blank\">good-sweep-5</a></strong> to <a href='https://wandb.ai/sleya7110/Assignment1DLQ9' target=\"_blank\">Weights & Biases</a> (<a href='https://wandb.me/run' target=\"_blank\">docs</a>)<br/>Sweep page: <a href='https://wandb.ai/sleya7110/Assignment1DLQ9/sweeps/h6gghlmm' target=\"_blank\">https://wandb.ai/sleya7110/Assignment1DLQ9/sweeps/h6gghlmm</a>"
            ],
            "text/plain": [
              "<IPython.core.display.HTML object>"
            ]
          },
          "metadata": {},
          "output_type": "display_data"
        },
        {
          "data": {
            "text/html": [
              " View project at <a href='https://wandb.ai/sleya7110/Assignment1DLQ9' target=\"_blank\">https://wandb.ai/sleya7110/Assignment1DLQ9</a>"
            ],
            "text/plain": [
              "<IPython.core.display.HTML object>"
            ]
          },
          "metadata": {},
          "output_type": "display_data"
        },
        {
          "data": {
            "text/html": [
              " View sweep at <a href='https://wandb.ai/sleya7110/Assignment1DLQ9/sweeps/h6gghlmm' target=\"_blank\">https://wandb.ai/sleya7110/Assignment1DLQ9/sweeps/h6gghlmm</a>"
            ],
            "text/plain": [
              "<IPython.core.display.HTML object>"
            ]
          },
          "metadata": {},
          "output_type": "display_data"
        },
        {
          "data": {
            "text/html": [
              " View run at <a href='https://wandb.ai/sleya7110/Assignment1DLQ9/runs/bib52ltd' target=\"_blank\">https://wandb.ai/sleya7110/Assignment1DLQ9/runs/bib52ltd</a>"
            ],
            "text/plain": [
              "<IPython.core.display.HTML object>"
            ]
          },
          "metadata": {},
          "output_type": "display_data"
        },
        {
          "name": "stdout",
          "output_type": "stream",
          "text": [
            "W length= 4\n",
            "B length= 4\n",
            "W shape= (10, 128)\n",
            "B shape= (10, 1)\n",
            "Epoch 0: training_accuracy = 22.29 %, training_loss= 0.45338  ,Validation accuracy = 21.75 ,Validation loss = 0.45604\n",
            "Epoch 1: training_accuracy = 30.40 %, training_loss= 0.41117  ,Validation accuracy = 29.75 ,Validation loss = 0.41467\n",
            "Epoch 2: training_accuracy = 36.68 %, training_loss= 0.37902  ,Validation accuracy = 35.63 ,Validation loss = 0.38325\n",
            "Epoch 3: training_accuracy = 44.09 %, training_loss= 0.34939  ,Validation accuracy = 43.23 ,Validation loss = 0.35423\n",
            "Epoch 4: training_accuracy = 49.64 %, training_loss= 0.32358  ,Validation accuracy = 48.63 ,Validation loss = 0.32878\n",
            "Epoch 5: training_accuracy = 53.57 %, training_loss= 0.30307  ,Validation accuracy = 51.97 ,Validation loss = 0.30846\n",
            "Epoch 6: training_accuracy = 56.59 %, training_loss= 0.28705  ,Validation accuracy = 54.87 ,Validation loss = 0.29249\n",
            "Epoch 7: training_accuracy = 58.82 %, training_loss= 0.27439  ,Validation accuracy = 57.23 ,Validation loss = 0.27977\n",
            "Epoch 8: training_accuracy = 60.62 %, training_loss= 0.26420  ,Validation accuracy = 58.82 ,Validation loss = 0.26947\n",
            "Epoch 9: training_accuracy = 62.12 %, training_loss= 0.25585  ,Validation accuracy = 60.53 ,Validation loss = 0.26097\n",
            "Epoch 10: training_accuracy = 63.28 %, training_loss= 0.24889  ,Validation accuracy = 62.13 ,Validation loss = 0.25384\n",
            "Epoch 11: training_accuracy = 64.39 %, training_loss= 0.24299  ,Validation accuracy = 63.27 ,Validation loss = 0.24779\n",
            "Epoch 12: training_accuracy = 65.23 %, training_loss= 0.23794  ,Validation accuracy = 64.35 ,Validation loss = 0.24258\n",
            "Epoch 13: training_accuracy = 65.99 %, training_loss= 0.23355  ,Validation accuracy = 65.55 ,Validation loss = 0.23806\n",
            "Epoch 14: training_accuracy = 66.68 %, training_loss= 0.22970  ,Validation accuracy = 66.27 ,Validation loss = 0.23409\n",
            "Epoch 15: training_accuracy = 67.18 %, training_loss= 0.22630  ,Validation accuracy = 66.88 ,Validation loss = 0.23059\n",
            "Epoch 16: training_accuracy = 67.67 %, training_loss= 0.22326  ,Validation accuracy = 67.43 ,Validation loss = 0.22747\n",
            "Epoch 17: training_accuracy = 68.15 %, training_loss= 0.22052  ,Validation accuracy = 67.92 ,Validation loss = 0.22467\n",
            "Epoch 18: training_accuracy = 68.49 %, training_loss= 0.21805  ,Validation accuracy = 68.25 ,Validation loss = 0.22215\n",
            "Epoch 19: training_accuracy = 68.81 %, training_loss= 0.21580  ,Validation accuracy = 68.62 ,Validation loss = 0.21986\n",
            "Epoch 20: training_accuracy = 69.16 %, training_loss= 0.21373  ,Validation accuracy = 68.93 ,Validation loss = 0.21777\n",
            "Epoch 21: training_accuracy = 69.44 %, training_loss= 0.21183  ,Validation accuracy = 69.17 ,Validation loss = 0.21585\n",
            "Epoch 22: training_accuracy = 69.76 %, training_loss= 0.21008  ,Validation accuracy = 69.42 ,Validation loss = 0.21409\n",
            "Epoch 23: training_accuracy = 70.02 %, training_loss= 0.20844  ,Validation accuracy = 69.63 ,Validation loss = 0.21245\n",
            "Epoch 24: training_accuracy = 70.27 %, training_loss= 0.20691  ,Validation accuracy = 69.95 ,Validation loss = 0.21092\n",
            "Epoch 25: training_accuracy = 70.49 %, training_loss= 0.20548  ,Validation accuracy = 70.12 ,Validation loss = 0.20950\n",
            "Epoch 26: training_accuracy = 70.72 %, training_loss= 0.20414  ,Validation accuracy = 70.30 ,Validation loss = 0.20816\n",
            "Epoch 27: training_accuracy = 70.92 %, training_loss= 0.20287  ,Validation accuracy = 70.47 ,Validation loss = 0.20690\n",
            "Epoch 28: training_accuracy = 71.10 %, training_loss= 0.20167  ,Validation accuracy = 70.62 ,Validation loss = 0.20571\n",
            "Epoch 29: training_accuracy = 71.30 %, training_loss= 0.20054  ,Validation accuracy = 70.73 ,Validation loss = 0.20459\n",
            "Epoch 30: training_accuracy = 71.52 %, training_loss= 0.19946  ,Validation accuracy = 70.88 ,Validation loss = 0.20352\n",
            "Epoch 31: training_accuracy = 71.66 %, training_loss= 0.19843  ,Validation accuracy = 70.98 ,Validation loss = 0.20251\n",
            "Epoch 32: training_accuracy = 71.82 %, training_loss= 0.19745  ,Validation accuracy = 71.15 ,Validation loss = 0.20154\n",
            "Epoch 33: training_accuracy = 71.97 %, training_loss= 0.19652  ,Validation accuracy = 71.30 ,Validation loss = 0.20061\n",
            "Epoch 34: training_accuracy = 72.08 %, training_loss= 0.19562  ,Validation accuracy = 71.40 ,Validation loss = 0.19973\n",
            "Epoch 35: training_accuracy = 72.23 %, training_loss= 0.19477  ,Validation accuracy = 71.52 ,Validation loss = 0.19889\n",
            "Epoch 36: training_accuracy = 72.38 %, training_loss= 0.19394  ,Validation accuracy = 71.72 ,Validation loss = 0.19807\n",
            "Epoch 37: training_accuracy = 72.52 %, training_loss= 0.19316  ,Validation accuracy = 71.82 ,Validation loss = 0.19730\n",
            "Epoch 38: training_accuracy = 72.64 %, training_loss= 0.19240  ,Validation accuracy = 71.90 ,Validation loss = 0.19655\n",
            "Epoch 39: training_accuracy = 72.77 %, training_loss= 0.19167  ,Validation accuracy = 72.02 ,Validation loss = 0.19582\n",
            "Epoch 40: training_accuracy = 72.90 %, training_loss= 0.19096  ,Validation accuracy = 72.05 ,Validation loss = 0.19513\n",
            "Epoch 41: training_accuracy = 73.00 %, training_loss= 0.19028  ,Validation accuracy = 72.33 ,Validation loss = 0.19446\n",
            "Epoch 42: training_accuracy = 73.07 %, training_loss= 0.18963  ,Validation accuracy = 72.33 ,Validation loss = 0.19381\n",
            "Epoch 43: training_accuracy = 73.18 %, training_loss= 0.18900  ,Validation accuracy = 72.43 ,Validation loss = 0.19319\n",
            "Epoch 44: training_accuracy = 73.26 %, training_loss= 0.18838  ,Validation accuracy = 72.55 ,Validation loss = 0.19258\n",
            "Epoch 45: training_accuracy = 73.36 %, training_loss= 0.18779  ,Validation accuracy = 72.57 ,Validation loss = 0.19200\n",
            "Epoch 46: training_accuracy = 73.46 %, training_loss= 0.18722  ,Validation accuracy = 72.62 ,Validation loss = 0.19143\n",
            "Epoch 47: training_accuracy = 73.56 %, training_loss= 0.18666  ,Validation accuracy = 72.77 ,Validation loss = 0.19088\n",
            "Epoch 48: training_accuracy = 73.61 %, training_loss= 0.18613  ,Validation accuracy = 72.87 ,Validation loss = 0.19035\n",
            "Epoch 49: training_accuracy = 73.67 %, training_loss= 0.18560  ,Validation accuracy = 72.90 ,Validation loss = 0.18984\n"
          ]
        },
        {
          "data": {
            "text/html": [
              "Waiting for W&B process to finish... <strong style=\"color:green\">(success).</strong>"
            ],
            "text/plain": [
              "<IPython.core.display.HTML object>"
            ]
          },
          "metadata": {},
          "output_type": "display_data"
        },
        {
          "data": {
            "text/html": [
              "<style>\n",
              "    table.wandb td:nth-child(1) { padding: 0 10px; text-align: left ; width: auto;} td:nth-child(2) {text-align: left ; width: 100%}\n",
              "    .wandb-row { display: flex; flex-direction: row; flex-wrap: wrap; justify-content: flex-start; width: 100% }\n",
              "    .wandb-col { display: flex; flex-direction: column; flex-basis: 100%; flex: 1; padding: 10px; }\n",
              "    </style>\n",
              "<div class=\"wandb-row\"><div class=\"wandb-col\"><h3>Run history:</h3><br/><table class=\"wandb\"><tr><td>accuracy</td><td>▁▂▃▄▅▆▆▆▇▇▇▇▇▇▇▇▇▇▇█████████████████████</td></tr><tr><td>steps</td><td>▁▁▁▁▁▁▁▁▁▁▁▁▁▁▁▁▁▁▁▁▁▁▁▁▁▁▁▁▁▁▁▁▁▁▁▁▁▁▁▁</td></tr><tr><td>train_loss</td><td>█▇▆▅▄▄▃▃▃▃▂▂▂▂▂▂▂▂▂▂▂▁▁▁▁▁▁▁▁▁▁▁▁▁▁▁▁▁▁▁</td></tr><tr><td>val_accuracy</td><td>▁▂▃▄▅▆▆▆▇▇▇▇▇▇▇▇▇▇██████████████████████</td></tr><tr><td>val_loss</td><td>█▇▆▅▄▄▃▃▃▃▂▂▂▂▂▂▂▂▂▂▂▁▁▁▁▁▁▁▁▁▁▁▁▁▁▁▁▁▁▁</td></tr></table><br/></div><div class=\"wandb-col\"><h3>Run summary:</h3><br/><table class=\"wandb\"><tr><td>accuracy</td><td>73.669</td></tr><tr><td>steps</td><td>50</td></tr><tr><td>train_loss</td><td>0.1856</td></tr><tr><td>val_accuracy</td><td>72.9</td></tr><tr><td>val_loss</td><td>0.18984</td></tr></table><br/></div></div>"
            ],
            "text/plain": [
              "<IPython.core.display.HTML object>"
            ]
          },
          "metadata": {},
          "output_type": "display_data"
        },
        {
          "data": {
            "text/html": [
              " View run <strong style=\"color:#cdcd00\">good-sweep-5</strong> at: <a href='https://wandb.ai/sleya7110/Assignment1DLQ9/runs/bib52ltd' target=\"_blank\">https://wandb.ai/sleya7110/Assignment1DLQ9/runs/bib52ltd</a><br/>Synced 5 W&B file(s), 0 media file(s), 0 artifact file(s) and 0 other file(s)"
            ],
            "text/plain": [
              "<IPython.core.display.HTML object>"
            ]
          },
          "metadata": {},
          "output_type": "display_data"
        },
        {
          "data": {
            "text/html": [
              "Find logs at: <code>./wandb/run-20230317_122006-bib52ltd/logs</code>"
            ],
            "text/plain": [
              "<IPython.core.display.HTML object>"
            ]
          },
          "metadata": {},
          "output_type": "display_data"
        },
        {
          "name": "stderr",
          "output_type": "stream",
          "text": [
            "\u001b[34m\u001b[1mwandb\u001b[0m: Agent Starting Run: w99swsit with config:\n",
            "\u001b[34m\u001b[1mwandb\u001b[0m: \tactivation: tanh\n",
            "\u001b[34m\u001b[1mwandb\u001b[0m: \tbatchSize: 32\n",
            "\u001b[34m\u001b[1mwandb\u001b[0m: \tepochs: 50\n",
            "\u001b[34m\u001b[1mwandb\u001b[0m: \thidLayer: [128, 128, 128]\n",
            "\u001b[34m\u001b[1mwandb\u001b[0m: \tinitForm: random\n",
            "\u001b[34m\u001b[1mwandb\u001b[0m: \tlearningRate: 0.01\n",
            "\u001b[34m\u001b[1mwandb\u001b[0m: \tlossFn: square_loss\n",
            "\u001b[34m\u001b[1mwandb\u001b[0m: \toptimiser: nadam\n",
            "\u001b[34m\u001b[1mwandb\u001b[0m: \tweight_decay: 0.0005\n",
            "\u001b[34m\u001b[1mwandb\u001b[0m: \u001b[33mWARNING\u001b[0m Ignored wandb.init() arg project when running a sweep.\n",
            "\u001b[34m\u001b[1mwandb\u001b[0m: \u001b[33mWARNING\u001b[0m Ignored wandb.init() arg entity when running a sweep.\n"
          ]
        },
        {
          "data": {
            "text/html": [
              "Tracking run with wandb version 0.14.0"
            ],
            "text/plain": [
              "<IPython.core.display.HTML object>"
            ]
          },
          "metadata": {},
          "output_type": "display_data"
        },
        {
          "data": {
            "text/html": [
              "Run data is saved locally in <code>/content/wandb/run-20230317_122909-w99swsit</code>"
            ],
            "text/plain": [
              "<IPython.core.display.HTML object>"
            ]
          },
          "metadata": {},
          "output_type": "display_data"
        },
        {
          "data": {
            "text/html": [
              "Syncing run <strong><a href='https://wandb.ai/sleya7110/Assignment1DLQ9/runs/w99swsit' target=\"_blank\">pleasant-sweep-6</a></strong> to <a href='https://wandb.ai/sleya7110/Assignment1DLQ9' target=\"_blank\">Weights & Biases</a> (<a href='https://wandb.me/run' target=\"_blank\">docs</a>)<br/>Sweep page: <a href='https://wandb.ai/sleya7110/Assignment1DLQ9/sweeps/h6gghlmm' target=\"_blank\">https://wandb.ai/sleya7110/Assignment1DLQ9/sweeps/h6gghlmm</a>"
            ],
            "text/plain": [
              "<IPython.core.display.HTML object>"
            ]
          },
          "metadata": {},
          "output_type": "display_data"
        },
        {
          "data": {
            "text/html": [
              " View project at <a href='https://wandb.ai/sleya7110/Assignment1DLQ9' target=\"_blank\">https://wandb.ai/sleya7110/Assignment1DLQ9</a>"
            ],
            "text/plain": [
              "<IPython.core.display.HTML object>"
            ]
          },
          "metadata": {},
          "output_type": "display_data"
        },
        {
          "data": {
            "text/html": [
              " View sweep at <a href='https://wandb.ai/sleya7110/Assignment1DLQ9/sweeps/h6gghlmm' target=\"_blank\">https://wandb.ai/sleya7110/Assignment1DLQ9/sweeps/h6gghlmm</a>"
            ],
            "text/plain": [
              "<IPython.core.display.HTML object>"
            ]
          },
          "metadata": {},
          "output_type": "display_data"
        },
        {
          "data": {
            "text/html": [
              " View run at <a href='https://wandb.ai/sleya7110/Assignment1DLQ9/runs/w99swsit' target=\"_blank\">https://wandb.ai/sleya7110/Assignment1DLQ9/runs/w99swsit</a>"
            ],
            "text/plain": [
              "<IPython.core.display.HTML object>"
            ]
          },
          "metadata": {},
          "output_type": "display_data"
        },
        {
          "name": "stdout",
          "output_type": "stream",
          "text": [
            "W length= 4\n",
            "B length= 4\n",
            "W shape= (10, 128)\n",
            "B shape= (10, 1)\n",
            "Epoch 0: training_accuracy = 10.02 %, training_loss= 0.89981  ,Validation accuracy = 9.83 ,Validation loss = 0.90167\n",
            "Epoch 1: training_accuracy = 10.02 %, training_loss= 0.89981  ,Validation accuracy = 9.83 ,Validation loss = 0.90167\n",
            "Epoch 2: training_accuracy = 10.02 %, training_loss= 0.89981  ,Validation accuracy = 9.83 ,Validation loss = 0.90167\n",
            "Epoch 3: training_accuracy = 10.02 %, training_loss= 0.89981  ,Validation accuracy = 9.83 ,Validation loss = 0.90167\n",
            "Epoch 4: training_accuracy = 10.02 %, training_loss= 0.89981  ,Validation accuracy = 9.83 ,Validation loss = 0.90167\n",
            "Epoch 5: training_accuracy = 10.02 %, training_loss= 0.89981  ,Validation accuracy = 9.83 ,Validation loss = 0.90167\n",
            "Epoch 6: training_accuracy = 10.02 %, training_loss= 0.89981  ,Validation accuracy = 9.83 ,Validation loss = 0.90167\n",
            "Epoch 7: training_accuracy = 10.02 %, training_loss= 0.89981  ,Validation accuracy = 9.83 ,Validation loss = 0.90167\n",
            "Epoch 8: training_accuracy = 10.02 %, training_loss= 0.89981  ,Validation accuracy = 9.83 ,Validation loss = 0.90167\n",
            "Epoch 9: training_accuracy = 10.02 %, training_loss= 0.89981  ,Validation accuracy = 9.83 ,Validation loss = 0.90167\n",
            "Epoch 10: training_accuracy = 10.02 %, training_loss= 0.89981  ,Validation accuracy = 9.83 ,Validation loss = 0.90167\n",
            "Epoch 11: training_accuracy = 10.02 %, training_loss= 0.89981  ,Validation accuracy = 9.83 ,Validation loss = 0.90167\n",
            "Epoch 12: training_accuracy = 10.02 %, training_loss= 0.89981  ,Validation accuracy = 9.83 ,Validation loss = 0.90167\n",
            "Epoch 13: training_accuracy = 10.02 %, training_loss= 0.89981  ,Validation accuracy = 9.83 ,Validation loss = 0.90167\n",
            "Epoch 14: training_accuracy = 10.02 %, training_loss= 0.89981  ,Validation accuracy = 9.83 ,Validation loss = 0.90167\n",
            "Epoch 15: training_accuracy = 10.02 %, training_loss= 0.89981  ,Validation accuracy = 9.83 ,Validation loss = 0.90167\n",
            "Epoch 16: training_accuracy = 10.02 %, training_loss= 0.89981  ,Validation accuracy = 9.83 ,Validation loss = 0.90167\n",
            "Epoch 17: training_accuracy = 10.02 %, training_loss= 0.89981  ,Validation accuracy = 9.83 ,Validation loss = 0.90167\n",
            "Epoch 18: training_accuracy = 10.02 %, training_loss= 0.89981  ,Validation accuracy = 9.83 ,Validation loss = 0.90167\n",
            "Epoch 19: training_accuracy = 10.02 %, training_loss= 0.89981  ,Validation accuracy = 9.83 ,Validation loss = 0.90167\n",
            "Epoch 20: training_accuracy = 10.02 %, training_loss= 0.89981  ,Validation accuracy = 9.83 ,Validation loss = 0.90167\n",
            "Epoch 21: training_accuracy = 10.02 %, training_loss= 0.89981  ,Validation accuracy = 9.83 ,Validation loss = 0.90167\n",
            "Epoch 22: training_accuracy = 10.02 %, training_loss= 0.89981  ,Validation accuracy = 9.83 ,Validation loss = 0.90167\n",
            "Epoch 23: training_accuracy = 10.02 %, training_loss= 0.89981  ,Validation accuracy = 9.83 ,Validation loss = 0.90167\n",
            "Epoch 24: training_accuracy = 10.02 %, training_loss= 0.89981  ,Validation accuracy = 9.83 ,Validation loss = 0.90167\n",
            "Epoch 25: training_accuracy = 10.02 %, training_loss= 0.89981  ,Validation accuracy = 9.83 ,Validation loss = 0.90167\n",
            "Epoch 26: training_accuracy = 10.02 %, training_loss= 0.89981  ,Validation accuracy = 9.83 ,Validation loss = 0.90167\n",
            "Epoch 27: training_accuracy = 10.02 %, training_loss= 0.89981  ,Validation accuracy = 9.83 ,Validation loss = 0.90167\n",
            "Epoch 28: training_accuracy = 10.02 %, training_loss= 0.89981  ,Validation accuracy = 9.83 ,Validation loss = 0.90167\n",
            "Epoch 29: training_accuracy = 10.02 %, training_loss= 0.89981  ,Validation accuracy = 9.83 ,Validation loss = 0.90167\n",
            "Epoch 30: training_accuracy = 10.02 %, training_loss= 0.89981  ,Validation accuracy = 9.83 ,Validation loss = 0.90167\n",
            "Epoch 31: training_accuracy = 10.02 %, training_loss= 0.89981  ,Validation accuracy = 9.83 ,Validation loss = 0.90167\n",
            "Epoch 32: training_accuracy = 10.02 %, training_loss= 0.89981  ,Validation accuracy = 9.83 ,Validation loss = 0.90167\n",
            "Epoch 33: training_accuracy = 10.02 %, training_loss= 0.89981  ,Validation accuracy = 9.83 ,Validation loss = 0.90167\n",
            "Epoch 34: training_accuracy = 10.02 %, training_loss= 0.89981  ,Validation accuracy = 9.83 ,Validation loss = 0.90167\n",
            "Epoch 35: training_accuracy = 10.02 %, training_loss= 0.89981  ,Validation accuracy = 9.83 ,Validation loss = 0.90167\n",
            "Epoch 36: training_accuracy = 10.02 %, training_loss= 0.89981  ,Validation accuracy = 9.83 ,Validation loss = 0.90167\n",
            "Epoch 37: training_accuracy = 10.02 %, training_loss= 0.89981  ,Validation accuracy = 9.83 ,Validation loss = 0.90167\n",
            "Epoch 38: training_accuracy = 10.02 %, training_loss= 0.89981  ,Validation accuracy = 9.83 ,Validation loss = 0.90167\n",
            "Epoch 39: training_accuracy = 10.02 %, training_loss= 0.89981  ,Validation accuracy = 9.83 ,Validation loss = 0.90167\n",
            "Epoch 40: training_accuracy = 10.02 %, training_loss= 0.89981  ,Validation accuracy = 9.83 ,Validation loss = 0.90167\n",
            "Epoch 41: training_accuracy = 10.02 %, training_loss= 0.89981  ,Validation accuracy = 9.83 ,Validation loss = 0.90167\n",
            "Epoch 42: training_accuracy = 10.02 %, training_loss= 0.89981  ,Validation accuracy = 9.83 ,Validation loss = 0.90167\n",
            "Epoch 43: training_accuracy = 10.02 %, training_loss= 0.89981  ,Validation accuracy = 9.83 ,Validation loss = 0.90167\n",
            "Epoch 44: training_accuracy = 10.02 %, training_loss= 0.89981  ,Validation accuracy = 9.83 ,Validation loss = 0.90167\n",
            "Epoch 45: training_accuracy = 10.02 %, training_loss= 0.89981  ,Validation accuracy = 9.83 ,Validation loss = 0.90167\n",
            "Epoch 46: training_accuracy = 10.02 %, training_loss= 0.89981  ,Validation accuracy = 9.83 ,Validation loss = 0.90167\n",
            "Epoch 47: training_accuracy = 10.02 %, training_loss= 0.89981  ,Validation accuracy = 9.83 ,Validation loss = 0.90167\n",
            "Epoch 48: training_accuracy = 10.02 %, training_loss= 0.89981  ,Validation accuracy = 9.83 ,Validation loss = 0.90167\n",
            "Epoch 49: training_accuracy = 10.02 %, training_loss= 0.89981  ,Validation accuracy = 9.83 ,Validation loss = 0.90167\n"
          ]
        },
        {
          "data": {
            "text/html": [
              "Waiting for W&B process to finish... <strong style=\"color:green\">(success).</strong>"
            ],
            "text/plain": [
              "<IPython.core.display.HTML object>"
            ]
          },
          "metadata": {},
          "output_type": "display_data"
        },
        {
          "data": {
            "text/html": [
              "<style>\n",
              "    table.wandb td:nth-child(1) { padding: 0 10px; text-align: left ; width: auto;} td:nth-child(2) {text-align: left ; width: 100%}\n",
              "    .wandb-row { display: flex; flex-direction: row; flex-wrap: wrap; justify-content: flex-start; width: 100% }\n",
              "    .wandb-col { display: flex; flex-direction: column; flex-basis: 100%; flex: 1; padding: 10px; }\n",
              "    </style>\n",
              "<div class=\"wandb-row\"><div class=\"wandb-col\"><h3>Run history:</h3><br/><table class=\"wandb\"><tr><td>accuracy</td><td>▁▁▁▁▁▁▁▁▁▁▁▁▁▁▁▁▁▁▁▁▁▁▁▁▁▁▁▁▁▁▁▁▁▁▁▁▁▁▁▁</td></tr><tr><td>steps</td><td>▁▁▁▁▁▁▁▁▁▁▁▁▁▁▁▁▁▁▁▁▁▁▁▁▁▁▁▁▁▁▁▁▁▁▁▁▁▁▁▁</td></tr><tr><td>train_loss</td><td>▁▁▁▁▁▁▁▁▁▁▁▁▁▁▁▁▁▁▁▁▁▁▁▁▁▁▁▁▁▁▁▁▁▁▁▁▁▁▁▁</td></tr><tr><td>val_accuracy</td><td>▁▁▁▁▁▁▁▁▁▁▁▁▁▁▁▁▁▁▁▁▁▁▁▁▁▁▁▁▁▁▁▁▁▁▁▁▁▁▁▁</td></tr><tr><td>val_loss</td><td>▁▁▁▁▁▁▁▁▁▁▁▁▁▁▁▁▁▁▁▁▁▁▁▁▁▁▁▁▁▁▁▁▁▁▁▁▁▁▁▁</td></tr></table><br/></div><div class=\"wandb-col\"><h3>Run summary:</h3><br/><table class=\"wandb\"><tr><td>accuracy</td><td>10.019</td></tr><tr><td>steps</td><td>50</td></tr><tr><td>train_loss</td><td>0.89981</td></tr><tr><td>val_accuracy</td><td>9.833</td></tr><tr><td>val_loss</td><td>0.90167</td></tr></table><br/></div></div>"
            ],
            "text/plain": [
              "<IPython.core.display.HTML object>"
            ]
          },
          "metadata": {},
          "output_type": "display_data"
        },
        {
          "data": {
            "text/html": [
              " View run <strong style=\"color:#cdcd00\">pleasant-sweep-6</strong> at: <a href='https://wandb.ai/sleya7110/Assignment1DLQ9/runs/w99swsit' target=\"_blank\">https://wandb.ai/sleya7110/Assignment1DLQ9/runs/w99swsit</a><br/>Synced 5 W&B file(s), 0 media file(s), 0 artifact file(s) and 0 other file(s)"
            ],
            "text/plain": [
              "<IPython.core.display.HTML object>"
            ]
          },
          "metadata": {},
          "output_type": "display_data"
        },
        {
          "data": {
            "text/html": [
              "Find logs at: <code>./wandb/run-20230317_122909-w99swsit/logs</code>"
            ],
            "text/plain": [
              "<IPython.core.display.HTML object>"
            ]
          },
          "metadata": {},
          "output_type": "display_data"
        },
        {
          "name": "stderr",
          "output_type": "stream",
          "text": [
            "\u001b[34m\u001b[1mwandb\u001b[0m: Agent Starting Run: qnxjtdms with config:\n",
            "\u001b[34m\u001b[1mwandb\u001b[0m: \tactivation: sigmoid\n",
            "\u001b[34m\u001b[1mwandb\u001b[0m: \tbatchSize: 128\n",
            "\u001b[34m\u001b[1mwandb\u001b[0m: \tepochs: 5\n",
            "\u001b[34m\u001b[1mwandb\u001b[0m: \thidLayer: [128, 128, 128]\n",
            "\u001b[34m\u001b[1mwandb\u001b[0m: \tinitForm: xavier\n",
            "\u001b[34m\u001b[1mwandb\u001b[0m: \tlearningRate: 0.001\n",
            "\u001b[34m\u001b[1mwandb\u001b[0m: \tlossFn: square_loss\n",
            "\u001b[34m\u001b[1mwandb\u001b[0m: \toptimiser: gd\n",
            "\u001b[34m\u001b[1mwandb\u001b[0m: \tweight_decay: 0\n",
            "\u001b[34m\u001b[1mwandb\u001b[0m: \u001b[33mWARNING\u001b[0m Ignored wandb.init() arg project when running a sweep.\n",
            "\u001b[34m\u001b[1mwandb\u001b[0m: \u001b[33mWARNING\u001b[0m Ignored wandb.init() arg entity when running a sweep.\n"
          ]
        },
        {
          "data": {
            "text/html": [
              "Tracking run with wandb version 0.14.0"
            ],
            "text/plain": [
              "<IPython.core.display.HTML object>"
            ]
          },
          "metadata": {},
          "output_type": "display_data"
        },
        {
          "data": {
            "text/html": [
              "Run data is saved locally in <code>/content/wandb/run-20230317_125037-qnxjtdms</code>"
            ],
            "text/plain": [
              "<IPython.core.display.HTML object>"
            ]
          },
          "metadata": {},
          "output_type": "display_data"
        },
        {
          "data": {
            "text/html": [
              "Syncing run <strong><a href='https://wandb.ai/sleya7110/Assignment1DLQ9/runs/qnxjtdms' target=\"_blank\">cosmic-sweep-7</a></strong> to <a href='https://wandb.ai/sleya7110/Assignment1DLQ9' target=\"_blank\">Weights & Biases</a> (<a href='https://wandb.me/run' target=\"_blank\">docs</a>)<br/>Sweep page: <a href='https://wandb.ai/sleya7110/Assignment1DLQ9/sweeps/h6gghlmm' target=\"_blank\">https://wandb.ai/sleya7110/Assignment1DLQ9/sweeps/h6gghlmm</a>"
            ],
            "text/plain": [
              "<IPython.core.display.HTML object>"
            ]
          },
          "metadata": {},
          "output_type": "display_data"
        },
        {
          "data": {
            "text/html": [
              " View project at <a href='https://wandb.ai/sleya7110/Assignment1DLQ9' target=\"_blank\">https://wandb.ai/sleya7110/Assignment1DLQ9</a>"
            ],
            "text/plain": [
              "<IPython.core.display.HTML object>"
            ]
          },
          "metadata": {},
          "output_type": "display_data"
        },
        {
          "data": {
            "text/html": [
              " View sweep at <a href='https://wandb.ai/sleya7110/Assignment1DLQ9/sweeps/h6gghlmm' target=\"_blank\">https://wandb.ai/sleya7110/Assignment1DLQ9/sweeps/h6gghlmm</a>"
            ],
            "text/plain": [
              "<IPython.core.display.HTML object>"
            ]
          },
          "metadata": {},
          "output_type": "display_data"
        },
        {
          "data": {
            "text/html": [
              " View run at <a href='https://wandb.ai/sleya7110/Assignment1DLQ9/runs/qnxjtdms' target=\"_blank\">https://wandb.ai/sleya7110/Assignment1DLQ9/runs/qnxjtdms</a>"
            ],
            "text/plain": [
              "<IPython.core.display.HTML object>"
            ]
          },
          "metadata": {},
          "output_type": "display_data"
        },
        {
          "name": "stdout",
          "output_type": "stream",
          "text": [
            "W length= 4\n",
            "B length= 4\n",
            "W shape= (10, 128)\n",
            "B shape= (10, 1)\n",
            "Epoch 0: training_accuracy = 15.51 %, training_loss= 0.48191  ,Validation accuracy = 14.53 ,Validation loss = 0.48431\n",
            "Epoch 1: training_accuracy = 15.04 %, training_loss= 0.47708  ,Validation accuracy = 14.47 ,Validation loss = 0.47917\n",
            "Epoch 2: training_accuracy = 14.33 %, training_loss= 0.47460  ,Validation accuracy = 14.17 ,Validation loss = 0.47651\n",
            "Epoch 3: training_accuracy = 13.40 %, training_loss= 0.47290  ,Validation accuracy = 13.35 ,Validation loss = 0.47470\n",
            "Epoch 4: training_accuracy = 12.12 %, training_loss= 0.47147  ,Validation accuracy = 11.72 ,Validation loss = 0.47319\n"
          ]
        },
        {
          "data": {
            "text/html": [
              "Waiting for W&B process to finish... <strong style=\"color:green\">(success).</strong>"
            ],
            "text/plain": [
              "<IPython.core.display.HTML object>"
            ]
          },
          "metadata": {},
          "output_type": "display_data"
        },
        {
          "data": {
            "application/vnd.jupyter.widget-view+json": {
              "model_id": "bb5eff9a4db542c1842dd9990b3873fc",
              "version_major": 2,
              "version_minor": 0
            },
            "text/plain": [
              "VBox(children=(Label(value='0.001 MB of 0.009 MB uploaded (0.000 MB deduped)\\r'), FloatProgress(value=0.072005…"
            ]
          },
          "metadata": {},
          "output_type": "display_data"
        },
        {
          "data": {
            "text/html": [
              "<style>\n",
              "    table.wandb td:nth-child(1) { padding: 0 10px; text-align: left ; width: auto;} td:nth-child(2) {text-align: left ; width: 100%}\n",
              "    .wandb-row { display: flex; flex-direction: row; flex-wrap: wrap; justify-content: flex-start; width: 100% }\n",
              "    .wandb-col { display: flex; flex-direction: column; flex-basis: 100%; flex: 1; padding: 10px; }\n",
              "    </style>\n",
              "<div class=\"wandb-row\"><div class=\"wandb-col\"><h3>Run history:</h3><br/><table class=\"wandb\"><tr><td>accuracy</td><td>█▇▆▄▁</td></tr><tr><td>steps</td><td>▁▁▁▁▁</td></tr><tr><td>train_loss</td><td>█▅▃▂▁</td></tr><tr><td>val_accuracy</td><td>██▇▅▁</td></tr><tr><td>val_loss</td><td>█▅▃▂▁</td></tr></table><br/></div><div class=\"wandb-col\"><h3>Run summary:</h3><br/><table class=\"wandb\"><tr><td>accuracy</td><td>12.124</td></tr><tr><td>steps</td><td>5</td></tr><tr><td>train_loss</td><td>0.47147</td></tr><tr><td>val_accuracy</td><td>11.717</td></tr><tr><td>val_loss</td><td>0.47319</td></tr></table><br/></div></div>"
            ],
            "text/plain": [
              "<IPython.core.display.HTML object>"
            ]
          },
          "metadata": {},
          "output_type": "display_data"
        },
        {
          "data": {
            "text/html": [
              " View run <strong style=\"color:#cdcd00\">cosmic-sweep-7</strong> at: <a href='https://wandb.ai/sleya7110/Assignment1DLQ9/runs/qnxjtdms' target=\"_blank\">https://wandb.ai/sleya7110/Assignment1DLQ9/runs/qnxjtdms</a><br/>Synced 5 W&B file(s), 0 media file(s), 0 artifact file(s) and 0 other file(s)"
            ],
            "text/plain": [
              "<IPython.core.display.HTML object>"
            ]
          },
          "metadata": {},
          "output_type": "display_data"
        },
        {
          "data": {
            "text/html": [
              "Find logs at: <code>./wandb/run-20230317_125037-qnxjtdms/logs</code>"
            ],
            "text/plain": [
              "<IPython.core.display.HTML object>"
            ]
          },
          "metadata": {},
          "output_type": "display_data"
        },
        {
          "name": "stderr",
          "output_type": "stream",
          "text": [
            "\u001b[34m\u001b[1mwandb\u001b[0m: Agent Starting Run: 12yr67w0 with config:\n",
            "\u001b[34m\u001b[1mwandb\u001b[0m: \tactivation: sigmoid\n",
            "\u001b[34m\u001b[1mwandb\u001b[0m: \tbatchSize: 32\n",
            "\u001b[34m\u001b[1mwandb\u001b[0m: \tepochs: 5\n",
            "\u001b[34m\u001b[1mwandb\u001b[0m: \thidLayer: [64, 64, 64]\n",
            "\u001b[34m\u001b[1mwandb\u001b[0m: \tinitForm: random\n",
            "\u001b[34m\u001b[1mwandb\u001b[0m: \tlearningRate: 0.001\n",
            "\u001b[34m\u001b[1mwandb\u001b[0m: \tlossFn: square_loss\n",
            "\u001b[34m\u001b[1mwandb\u001b[0m: \toptimiser: mgd\n",
            "\u001b[34m\u001b[1mwandb\u001b[0m: \tweight_decay: 0\n",
            "\u001b[34m\u001b[1mwandb\u001b[0m: \u001b[33mWARNING\u001b[0m Ignored wandb.init() arg project when running a sweep.\n",
            "\u001b[34m\u001b[1mwandb\u001b[0m: \u001b[33mWARNING\u001b[0m Ignored wandb.init() arg entity when running a sweep.\n"
          ]
        },
        {
          "data": {
            "text/html": [
              "Tracking run with wandb version 0.14.0"
            ],
            "text/plain": [
              "<IPython.core.display.HTML object>"
            ]
          },
          "metadata": {},
          "output_type": "display_data"
        },
        {
          "data": {
            "text/html": [
              "Run data is saved locally in <code>/content/wandb/run-20230317_125128-12yr67w0</code>"
            ],
            "text/plain": [
              "<IPython.core.display.HTML object>"
            ]
          },
          "metadata": {},
          "output_type": "display_data"
        },
        {
          "data": {
            "text/html": [
              "Syncing run <strong><a href='https://wandb.ai/sleya7110/Assignment1DLQ9/runs/12yr67w0' target=\"_blank\">tough-sweep-8</a></strong> to <a href='https://wandb.ai/sleya7110/Assignment1DLQ9' target=\"_blank\">Weights & Biases</a> (<a href='https://wandb.me/run' target=\"_blank\">docs</a>)<br/>Sweep page: <a href='https://wandb.ai/sleya7110/Assignment1DLQ9/sweeps/h6gghlmm' target=\"_blank\">https://wandb.ai/sleya7110/Assignment1DLQ9/sweeps/h6gghlmm</a>"
            ],
            "text/plain": [
              "<IPython.core.display.HTML object>"
            ]
          },
          "metadata": {},
          "output_type": "display_data"
        },
        {
          "data": {
            "text/html": [
              " View project at <a href='https://wandb.ai/sleya7110/Assignment1DLQ9' target=\"_blank\">https://wandb.ai/sleya7110/Assignment1DLQ9</a>"
            ],
            "text/plain": [
              "<IPython.core.display.HTML object>"
            ]
          },
          "metadata": {},
          "output_type": "display_data"
        },
        {
          "data": {
            "text/html": [
              " View sweep at <a href='https://wandb.ai/sleya7110/Assignment1DLQ9/sweeps/h6gghlmm' target=\"_blank\">https://wandb.ai/sleya7110/Assignment1DLQ9/sweeps/h6gghlmm</a>"
            ],
            "text/plain": [
              "<IPython.core.display.HTML object>"
            ]
          },
          "metadata": {},
          "output_type": "display_data"
        },
        {
          "data": {
            "text/html": [
              " View run at <a href='https://wandb.ai/sleya7110/Assignment1DLQ9/runs/12yr67w0' target=\"_blank\">https://wandb.ai/sleya7110/Assignment1DLQ9/runs/12yr67w0</a>"
            ],
            "text/plain": [
              "<IPython.core.display.HTML object>"
            ]
          },
          "metadata": {},
          "output_type": "display_data"
        },
        {
          "name": "stdout",
          "output_type": "stream",
          "text": [
            "W length= 4\n",
            "B length= 4\n",
            "W shape= (10, 64)\n",
            "B shape= (10, 1)\n",
            "Epoch 0: training_accuracy = 9.96 %, training_loss= 0.45223  ,Validation accuracy = 10.35 ,Validation loss = 0.45205\n",
            "Epoch 1: training_accuracy = 9.96 %, training_loss= 0.45007  ,Validation accuracy = 10.35 ,Validation loss = 0.45004\n",
            "Epoch 2: training_accuracy = 9.96 %, training_loss= 0.45001  ,Validation accuracy = 10.35 ,Validation loss = 0.45000\n",
            "Epoch 3: training_accuracy = 9.96 %, training_loss= 0.45001  ,Validation accuracy = 10.35 ,Validation loss = 0.45000\n",
            "Epoch 4: training_accuracy = 9.96 %, training_loss= 0.45001  ,Validation accuracy = 10.35 ,Validation loss = 0.45000\n"
          ]
        },
        {
          "data": {
            "text/html": [
              "Waiting for W&B process to finish... <strong style=\"color:green\">(success).</strong>"
            ],
            "text/plain": [
              "<IPython.core.display.HTML object>"
            ]
          },
          "metadata": {},
          "output_type": "display_data"
        },
        {
          "data": {
            "application/vnd.jupyter.widget-view+json": {
              "model_id": "5916c4adae2848bea3cf683b9d45e98b",
              "version_major": 2,
              "version_minor": 0
            },
            "text/plain": [
              "VBox(children=(Label(value='0.001 MB of 0.001 MB uploaded (0.000 MB deduped)\\r'), FloatProgress(value=1.0, max…"
            ]
          },
          "metadata": {},
          "output_type": "display_data"
        },
        {
          "data": {
            "text/html": [
              "<style>\n",
              "    table.wandb td:nth-child(1) { padding: 0 10px; text-align: left ; width: auto;} td:nth-child(2) {text-align: left ; width: 100%}\n",
              "    .wandb-row { display: flex; flex-direction: row; flex-wrap: wrap; justify-content: flex-start; width: 100% }\n",
              "    .wandb-col { display: flex; flex-direction: column; flex-basis: 100%; flex: 1; padding: 10px; }\n",
              "    </style>\n",
              "<div class=\"wandb-row\"><div class=\"wandb-col\"><h3>Run history:</h3><br/><table class=\"wandb\"><tr><td>accuracy</td><td>▁▁▁▁▁</td></tr><tr><td>steps</td><td>▁▁▁▁▁</td></tr><tr><td>train_loss</td><td>█▁▁▁▁</td></tr><tr><td>val_accuracy</td><td>▁▁▁▁▁</td></tr><tr><td>val_loss</td><td>█▁▁▁▁</td></tr></table><br/></div><div class=\"wandb-col\"><h3>Run summary:</h3><br/><table class=\"wandb\"><tr><td>accuracy</td><td>9.961</td></tr><tr><td>steps</td><td>5</td></tr><tr><td>train_loss</td><td>0.45001</td></tr><tr><td>val_accuracy</td><td>10.35</td></tr><tr><td>val_loss</td><td>0.45</td></tr></table><br/></div></div>"
            ],
            "text/plain": [
              "<IPython.core.display.HTML object>"
            ]
          },
          "metadata": {},
          "output_type": "display_data"
        },
        {
          "data": {
            "text/html": [
              " View run <strong style=\"color:#cdcd00\">tough-sweep-8</strong> at: <a href='https://wandb.ai/sleya7110/Assignment1DLQ9/runs/12yr67w0' target=\"_blank\">https://wandb.ai/sleya7110/Assignment1DLQ9/runs/12yr67w0</a><br/>Synced 5 W&B file(s), 0 media file(s), 0 artifact file(s) and 0 other file(s)"
            ],
            "text/plain": [
              "<IPython.core.display.HTML object>"
            ]
          },
          "metadata": {},
          "output_type": "display_data"
        },
        {
          "data": {
            "text/html": [
              "Find logs at: <code>./wandb/run-20230317_125128-12yr67w0/logs</code>"
            ],
            "text/plain": [
              "<IPython.core.display.HTML object>"
            ]
          },
          "metadata": {},
          "output_type": "display_data"
        },
        {
          "name": "stderr",
          "output_type": "stream",
          "text": [
            "\u001b[34m\u001b[1mwandb\u001b[0m: Agent Starting Run: 2n2mot6d with config:\n",
            "\u001b[34m\u001b[1mwandb\u001b[0m: \tactivation: relu\n",
            "\u001b[34m\u001b[1mwandb\u001b[0m: \tbatchSize: 32\n",
            "\u001b[34m\u001b[1mwandb\u001b[0m: \tepochs: 50\n",
            "\u001b[34m\u001b[1mwandb\u001b[0m: \thidLayer: [32, 64, 128]\n",
            "\u001b[34m\u001b[1mwandb\u001b[0m: \tinitForm: random\n",
            "\u001b[34m\u001b[1mwandb\u001b[0m: \tlearningRate: 0.01\n",
            "\u001b[34m\u001b[1mwandb\u001b[0m: \tlossFn: square_loss\n",
            "\u001b[34m\u001b[1mwandb\u001b[0m: \toptimiser: mgd\n",
            "\u001b[34m\u001b[1mwandb\u001b[0m: \tweight_decay: 0\n",
            "\u001b[34m\u001b[1mwandb\u001b[0m: \u001b[33mWARNING\u001b[0m Ignored wandb.init() arg project when running a sweep.\n",
            "\u001b[34m\u001b[1mwandb\u001b[0m: \u001b[33mWARNING\u001b[0m Ignored wandb.init() arg entity when running a sweep.\n"
          ]
        },
        {
          "data": {
            "text/html": [
              "Tracking run with wandb version 0.14.0"
            ],
            "text/plain": [
              "<IPython.core.display.HTML object>"
            ]
          },
          "metadata": {},
          "output_type": "display_data"
        },
        {
          "data": {
            "text/html": [
              "Run data is saved locally in <code>/content/wandb/run-20230317_125220-2n2mot6d</code>"
            ],
            "text/plain": [
              "<IPython.core.display.HTML object>"
            ]
          },
          "metadata": {},
          "output_type": "display_data"
        },
        {
          "data": {
            "text/html": [
              "Syncing run <strong><a href='https://wandb.ai/sleya7110/Assignment1DLQ9/runs/2n2mot6d' target=\"_blank\">snowy-sweep-9</a></strong> to <a href='https://wandb.ai/sleya7110/Assignment1DLQ9' target=\"_blank\">Weights & Biases</a> (<a href='https://wandb.me/run' target=\"_blank\">docs</a>)<br/>Sweep page: <a href='https://wandb.ai/sleya7110/Assignment1DLQ9/sweeps/h6gghlmm' target=\"_blank\">https://wandb.ai/sleya7110/Assignment1DLQ9/sweeps/h6gghlmm</a>"
            ],
            "text/plain": [
              "<IPython.core.display.HTML object>"
            ]
          },
          "metadata": {},
          "output_type": "display_data"
        },
        {
          "data": {
            "text/html": [
              " View project at <a href='https://wandb.ai/sleya7110/Assignment1DLQ9' target=\"_blank\">https://wandb.ai/sleya7110/Assignment1DLQ9</a>"
            ],
            "text/plain": [
              "<IPython.core.display.HTML object>"
            ]
          },
          "metadata": {},
          "output_type": "display_data"
        },
        {
          "data": {
            "text/html": [
              " View sweep at <a href='https://wandb.ai/sleya7110/Assignment1DLQ9/sweeps/h6gghlmm' target=\"_blank\">https://wandb.ai/sleya7110/Assignment1DLQ9/sweeps/h6gghlmm</a>"
            ],
            "text/plain": [
              "<IPython.core.display.HTML object>"
            ]
          },
          "metadata": {},
          "output_type": "display_data"
        },
        {
          "data": {
            "text/html": [
              " View run at <a href='https://wandb.ai/sleya7110/Assignment1DLQ9/runs/2n2mot6d' target=\"_blank\">https://wandb.ai/sleya7110/Assignment1DLQ9/runs/2n2mot6d</a>"
            ],
            "text/plain": [
              "<IPython.core.display.HTML object>"
            ]
          },
          "metadata": {},
          "output_type": "display_data"
        },
        {
          "name": "stdout",
          "output_type": "stream",
          "text": [
            "W length= 4\n",
            "B length= 4\n",
            "W shape= (10, 128)\n",
            "B shape= (10, 1)\n",
            "Epoch 0: training_accuracy = 9.19 %, training_loss= 0.44966  ,Validation accuracy = 9.32 ,Validation loss = 0.44953\n",
            "Epoch 1: training_accuracy = 12.86 %, training_loss= 0.44946  ,Validation accuracy = 13.68 ,Validation loss = 0.44933\n",
            "Epoch 2: training_accuracy = 15.96 %, training_loss= 0.44926  ,Validation accuracy = 16.42 ,Validation loss = 0.44912\n",
            "Epoch 3: training_accuracy = 16.56 %, training_loss= 0.44905  ,Validation accuracy = 17.20 ,Validation loss = 0.44891\n",
            "Epoch 4: training_accuracy = 16.63 %, training_loss= 0.44884  ,Validation accuracy = 17.12 ,Validation loss = 0.44870\n",
            "Epoch 5: training_accuracy = 16.53 %, training_loss= 0.44863  ,Validation accuracy = 16.98 ,Validation loss = 0.44848\n",
            "Epoch 6: training_accuracy = 16.43 %, training_loss= 0.44842  ,Validation accuracy = 16.62 ,Validation loss = 0.44826\n",
            "Epoch 7: training_accuracy = 16.30 %, training_loss= 0.44820  ,Validation accuracy = 16.60 ,Validation loss = 0.44804\n",
            "Epoch 8: training_accuracy = 16.23 %, training_loss= 0.44797  ,Validation accuracy = 16.42 ,Validation loss = 0.44780\n",
            "Epoch 9: training_accuracy = 16.21 %, training_loss= 0.44774  ,Validation accuracy = 16.48 ,Validation loss = 0.44756\n",
            "Epoch 10: training_accuracy = 16.26 %, training_loss= 0.44749  ,Validation accuracy = 16.52 ,Validation loss = 0.44732\n",
            "Epoch 11: training_accuracy = 16.41 %, training_loss= 0.44724  ,Validation accuracy = 16.67 ,Validation loss = 0.44706\n",
            "Epoch 12: training_accuracy = 16.58 %, training_loss= 0.44698  ,Validation accuracy = 17.03 ,Validation loss = 0.44679\n",
            "Epoch 13: training_accuracy = 16.66 %, training_loss= 0.44671  ,Validation accuracy = 17.03 ,Validation loss = 0.44652\n",
            "Epoch 14: training_accuracy = 16.74 %, training_loss= 0.44643  ,Validation accuracy = 17.17 ,Validation loss = 0.44623\n",
            "Epoch 15: training_accuracy = 16.80 %, training_loss= 0.44613  ,Validation accuracy = 17.20 ,Validation loss = 0.44593\n",
            "Epoch 16: training_accuracy = 16.84 %, training_loss= 0.44583  ,Validation accuracy = 17.43 ,Validation loss = 0.44561\n",
            "Epoch 17: training_accuracy = 16.87 %, training_loss= 0.44551  ,Validation accuracy = 17.52 ,Validation loss = 0.44528\n",
            "Epoch 18: training_accuracy = 16.87 %, training_loss= 0.44517  ,Validation accuracy = 17.50 ,Validation loss = 0.44494\n",
            "Epoch 19: training_accuracy = 16.86 %, training_loss= 0.44482  ,Validation accuracy = 17.57 ,Validation loss = 0.44458\n",
            "Epoch 20: training_accuracy = 16.83 %, training_loss= 0.44446  ,Validation accuracy = 17.62 ,Validation loss = 0.44421\n",
            "Epoch 21: training_accuracy = 16.79 %, training_loss= 0.44408  ,Validation accuracy = 17.62 ,Validation loss = 0.44382\n",
            "Epoch 22: training_accuracy = 16.82 %, training_loss= 0.44369  ,Validation accuracy = 17.50 ,Validation loss = 0.44342\n",
            "Epoch 23: training_accuracy = 16.82 %, training_loss= 0.44328  ,Validation accuracy = 17.47 ,Validation loss = 0.44300\n",
            "Epoch 24: training_accuracy = 16.82 %, training_loss= 0.44286  ,Validation accuracy = 17.35 ,Validation loss = 0.44257\n",
            "Epoch 25: training_accuracy = 16.85 %, training_loss= 0.44242  ,Validation accuracy = 17.35 ,Validation loss = 0.44213\n",
            "Epoch 26: training_accuracy = 16.89 %, training_loss= 0.44198  ,Validation accuracy = 17.33 ,Validation loss = 0.44168\n",
            "Epoch 27: training_accuracy = 16.92 %, training_loss= 0.44152  ,Validation accuracy = 17.32 ,Validation loss = 0.44121\n",
            "Epoch 28: training_accuracy = 17.76 %, training_loss= 0.44105  ,Validation accuracy = 17.98 ,Validation loss = 0.44074\n",
            "Epoch 29: training_accuracy = 17.79 %, training_loss= 0.44058  ,Validation accuracy = 18.10 ,Validation loss = 0.44026\n",
            "Epoch 30: training_accuracy = 17.82 %, training_loss= 0.44011  ,Validation accuracy = 18.22 ,Validation loss = 0.43979\n",
            "Epoch 31: training_accuracy = 17.89 %, training_loss= 0.43963  ,Validation accuracy = 18.25 ,Validation loss = 0.43931\n",
            "Epoch 32: training_accuracy = 17.92 %, training_loss= 0.43916  ,Validation accuracy = 18.42 ,Validation loss = 0.43884\n",
            "Epoch 33: training_accuracy = 17.98 %, training_loss= 0.43870  ,Validation accuracy = 18.50 ,Validation loss = 0.43838\n",
            "Epoch 34: training_accuracy = 18.05 %, training_loss= 0.43825  ,Validation accuracy = 18.53 ,Validation loss = 0.43793\n",
            "Epoch 35: training_accuracy = 18.07 %, training_loss= 0.43781  ,Validation accuracy = 18.63 ,Validation loss = 0.43749\n",
            "Epoch 36: training_accuracy = 18.19 %, training_loss= 0.43739  ,Validation accuracy = 18.92 ,Validation loss = 0.43708\n",
            "Epoch 37: training_accuracy = 18.53 %, training_loss= 0.43700  ,Validation accuracy = 19.02 ,Validation loss = 0.43669\n",
            "Epoch 38: training_accuracy = 18.98 %, training_loss= 0.43663  ,Validation accuracy = 19.17 ,Validation loss = 0.43632\n",
            "Epoch 39: training_accuracy = 19.53 %, training_loss= 0.43627  ,Validation accuracy = 19.85 ,Validation loss = 0.43596\n",
            "Epoch 40: training_accuracy = 20.07 %, training_loss= 0.43594  ,Validation accuracy = 20.20 ,Validation loss = 0.43562\n",
            "Epoch 41: training_accuracy = 20.61 %, training_loss= 0.43560  ,Validation accuracy = 20.87 ,Validation loss = 0.43528\n",
            "Epoch 42: training_accuracy = 20.97 %, training_loss= 0.43527  ,Validation accuracy = 20.92 ,Validation loss = 0.43493\n",
            "Epoch 43: training_accuracy = 21.03 %, training_loss= 0.43490  ,Validation accuracy = 21.12 ,Validation loss = 0.43454\n",
            "Epoch 44: training_accuracy = 20.99 %, training_loss= 0.43451  ,Validation accuracy = 20.85 ,Validation loss = 0.43411\n",
            "Epoch 45: training_accuracy = 20.54 %, training_loss= 0.43411  ,Validation accuracy = 20.63 ,Validation loss = 0.43366\n",
            "Epoch 46: training_accuracy = 20.49 %, training_loss= 0.43372  ,Validation accuracy = 20.53 ,Validation loss = 0.43321\n",
            "Epoch 47: training_accuracy = 21.98 %, training_loss= 0.43341  ,Validation accuracy = 22.42 ,Validation loss = 0.43283\n",
            "Epoch 48: training_accuracy = 22.65 %, training_loss= 0.43320  ,Validation accuracy = 23.73 ,Validation loss = 0.43255\n",
            "Epoch 49: training_accuracy = 23.07 %, training_loss= 0.43311  ,Validation accuracy = 23.92 ,Validation loss = 0.43238\n"
          ]
        },
        {
          "data": {
            "text/html": [
              "Waiting for W&B process to finish... <strong style=\"color:green\">(success).</strong>"
            ],
            "text/plain": [
              "<IPython.core.display.HTML object>"
            ]
          },
          "metadata": {},
          "output_type": "display_data"
        },
        {
          "data": {
            "text/html": [
              "<style>\n",
              "    table.wandb td:nth-child(1) { padding: 0 10px; text-align: left ; width: auto;} td:nth-child(2) {text-align: left ; width: 100%}\n",
              "    .wandb-row { display: flex; flex-direction: row; flex-wrap: wrap; justify-content: flex-start; width: 100% }\n",
              "    .wandb-col { display: flex; flex-direction: column; flex-basis: 100%; flex: 1; padding: 10px; }\n",
              "    </style>\n",
              "<div class=\"wandb-row\"><div class=\"wandb-col\"><h3>Run history:</h3><br/><table class=\"wandb\"><tr><td>accuracy</td><td>▁▃▄▅▅▅▅▅▅▅▅▅▅▅▅▅▅▅▅▅▅▅▅▅▅▅▅▅▅▆▆▆▆▇▇▇▇▇▇█</td></tr><tr><td>steps</td><td>▁▁▁▁▁▁▁▁▁▁▁▁▁▁▁▁▁▁▁▁▁▁▁▁▁▁▁▁▁▁▁▁▁▁▁▁▁▁▁▁</td></tr><tr><td>train_loss</td><td>█████▇▇▇▇▇▇▇▇▆▆▆▆▆▅▅▅▅▅▄▄▄▄▃▃▃▃▂▂▂▂▂▁▁▁▁</td></tr><tr><td>val_accuracy</td><td>▁▃▄▅▅▅▄▄▄▅▅▅▅▅▅▅▅▅▅▅▅▅▅▅▅▅▅▅▅▆▆▆▆▇▇▇▆▆▇█</td></tr><tr><td>val_loss</td><td>█████▇▇▇▇▇▇▇▇▆▆▆▆▆▆▅▅▅▅▄▄▄▄▃▃▃▃▃▂▂▂▂▂▁▁▁</td></tr></table><br/></div><div class=\"wandb-col\"><h3>Run summary:</h3><br/><table class=\"wandb\"><tr><td>accuracy</td><td>23.067</td></tr><tr><td>steps</td><td>50</td></tr><tr><td>train_loss</td><td>0.43311</td></tr><tr><td>val_accuracy</td><td>23.917</td></tr><tr><td>val_loss</td><td>0.43238</td></tr></table><br/></div></div>"
            ],
            "text/plain": [
              "<IPython.core.display.HTML object>"
            ]
          },
          "metadata": {},
          "output_type": "display_data"
        },
        {
          "data": {
            "text/html": [
              " View run <strong style=\"color:#cdcd00\">snowy-sweep-9</strong> at: <a href='https://wandb.ai/sleya7110/Assignment1DLQ9/runs/2n2mot6d' target=\"_blank\">https://wandb.ai/sleya7110/Assignment1DLQ9/runs/2n2mot6d</a><br/>Synced 5 W&B file(s), 0 media file(s), 0 artifact file(s) and 0 other file(s)"
            ],
            "text/plain": [
              "<IPython.core.display.HTML object>"
            ]
          },
          "metadata": {},
          "output_type": "display_data"
        },
        {
          "data": {
            "text/html": [
              "Find logs at: <code>./wandb/run-20230317_125220-2n2mot6d/logs</code>"
            ],
            "text/plain": [
              "<IPython.core.display.HTML object>"
            ]
          },
          "metadata": {},
          "output_type": "display_data"
        },
        {
          "name": "stderr",
          "output_type": "stream",
          "text": [
            "\u001b[34m\u001b[1mwandb\u001b[0m: Agent Starting Run: ytae0pqi with config:\n",
            "\u001b[34m\u001b[1mwandb\u001b[0m: \tactivation: sigmoid\n",
            "\u001b[34m\u001b[1mwandb\u001b[0m: \tbatchSize: 128\n",
            "\u001b[34m\u001b[1mwandb\u001b[0m: \tepochs: 10\n",
            "\u001b[34m\u001b[1mwandb\u001b[0m: \thidLayer: [32, 64, 128]\n",
            "\u001b[34m\u001b[1mwandb\u001b[0m: \tinitForm: random\n",
            "\u001b[34m\u001b[1mwandb\u001b[0m: \tlearningRate: 0.01\n",
            "\u001b[34m\u001b[1mwandb\u001b[0m: \tlossFn: square_loss\n",
            "\u001b[34m\u001b[1mwandb\u001b[0m: \toptimiser: mgd\n",
            "\u001b[34m\u001b[1mwandb\u001b[0m: \tweight_decay: 0.0005\n",
            "\u001b[34m\u001b[1mwandb\u001b[0m: \u001b[33mWARNING\u001b[0m Ignored wandb.init() arg project when running a sweep.\n",
            "\u001b[34m\u001b[1mwandb\u001b[0m: \u001b[33mWARNING\u001b[0m Ignored wandb.init() arg entity when running a sweep.\n"
          ]
        },
        {
          "data": {
            "text/html": [
              "Tracking run with wandb version 0.14.0"
            ],
            "text/plain": [
              "<IPython.core.display.HTML object>"
            ]
          },
          "metadata": {},
          "output_type": "display_data"
        },
        {
          "data": {
            "text/html": [
              "Run data is saved locally in <code>/content/wandb/run-20230317_125646-ytae0pqi</code>"
            ],
            "text/plain": [
              "<IPython.core.display.HTML object>"
            ]
          },
          "metadata": {},
          "output_type": "display_data"
        },
        {
          "data": {
            "text/html": [
              "Syncing run <strong><a href='https://wandb.ai/sleya7110/Assignment1DLQ9/runs/ytae0pqi' target=\"_blank\">crisp-sweep-10</a></strong> to <a href='https://wandb.ai/sleya7110/Assignment1DLQ9' target=\"_blank\">Weights & Biases</a> (<a href='https://wandb.me/run' target=\"_blank\">docs</a>)<br/>Sweep page: <a href='https://wandb.ai/sleya7110/Assignment1DLQ9/sweeps/h6gghlmm' target=\"_blank\">https://wandb.ai/sleya7110/Assignment1DLQ9/sweeps/h6gghlmm</a>"
            ],
            "text/plain": [
              "<IPython.core.display.HTML object>"
            ]
          },
          "metadata": {},
          "output_type": "display_data"
        },
        {
          "data": {
            "text/html": [
              " View project at <a href='https://wandb.ai/sleya7110/Assignment1DLQ9' target=\"_blank\">https://wandb.ai/sleya7110/Assignment1DLQ9</a>"
            ],
            "text/plain": [
              "<IPython.core.display.HTML object>"
            ]
          },
          "metadata": {},
          "output_type": "display_data"
        },
        {
          "data": {
            "text/html": [
              " View sweep at <a href='https://wandb.ai/sleya7110/Assignment1DLQ9/sweeps/h6gghlmm' target=\"_blank\">https://wandb.ai/sleya7110/Assignment1DLQ9/sweeps/h6gghlmm</a>"
            ],
            "text/plain": [
              "<IPython.core.display.HTML object>"
            ]
          },
          "metadata": {},
          "output_type": "display_data"
        },
        {
          "data": {
            "text/html": [
              " View run at <a href='https://wandb.ai/sleya7110/Assignment1DLQ9/runs/ytae0pqi' target=\"_blank\">https://wandb.ai/sleya7110/Assignment1DLQ9/runs/ytae0pqi</a>"
            ],
            "text/plain": [
              "<IPython.core.display.HTML object>"
            ]
          },
          "metadata": {},
          "output_type": "display_data"
        },
        {
          "name": "stdout",
          "output_type": "stream",
          "text": [
            "W length= 4\n",
            "B length= 4\n",
            "W shape= (10, 128)\n",
            "B shape= (10, 1)\n",
            "Epoch 0: training_accuracy = 9.96 %, training_loss= 0.45002  ,Validation accuracy = 10.35 ,Validation loss = 0.44999\n",
            "Epoch 1: training_accuracy = 9.96 %, training_loss= 0.45002  ,Validation accuracy = 10.35 ,Validation loss = 0.44999\n",
            "Epoch 2: training_accuracy = 9.96 %, training_loss= 0.45002  ,Validation accuracy = 10.35 ,Validation loss = 0.44999\n",
            "Epoch 3: training_accuracy = 9.96 %, training_loss= 0.45002  ,Validation accuracy = 10.35 ,Validation loss = 0.44999\n",
            "Epoch 4: training_accuracy = 9.96 %, training_loss= 0.45002  ,Validation accuracy = 10.35 ,Validation loss = 0.44999\n",
            "Epoch 5: training_accuracy = 9.96 %, training_loss= 0.45002  ,Validation accuracy = 10.35 ,Validation loss = 0.44999\n",
            "Epoch 6: training_accuracy = 9.96 %, training_loss= 0.45002  ,Validation accuracy = 10.35 ,Validation loss = 0.44999\n",
            "Epoch 7: training_accuracy = 9.96 %, training_loss= 0.45002  ,Validation accuracy = 10.35 ,Validation loss = 0.44999\n",
            "Epoch 8: training_accuracy = 9.96 %, training_loss= 0.45002  ,Validation accuracy = 10.35 ,Validation loss = 0.44999\n",
            "Epoch 9: training_accuracy = 9.96 %, training_loss= 0.45002  ,Validation accuracy = 10.35 ,Validation loss = 0.44999\n"
          ]
        },
        {
          "data": {
            "text/html": [
              "Waiting for W&B process to finish... <strong style=\"color:green\">(success).</strong>"
            ],
            "text/plain": [
              "<IPython.core.display.HTML object>"
            ]
          },
          "metadata": {},
          "output_type": "display_data"
        },
        {
          "data": {
            "application/vnd.jupyter.widget-view+json": {
              "model_id": "8baaaf6fd6434ad79c74d6f4dab2d056",
              "version_major": 2,
              "version_minor": 0
            },
            "text/plain": [
              "VBox(children=(Label(value='0.001 MB of 0.001 MB uploaded (0.000 MB deduped)\\r'), FloatProgress(value=1.0, max…"
            ]
          },
          "metadata": {},
          "output_type": "display_data"
        },
        {
          "data": {
            "text/html": [
              "<style>\n",
              "    table.wandb td:nth-child(1) { padding: 0 10px; text-align: left ; width: auto;} td:nth-child(2) {text-align: left ; width: 100%}\n",
              "    .wandb-row { display: flex; flex-direction: row; flex-wrap: wrap; justify-content: flex-start; width: 100% }\n",
              "    .wandb-col { display: flex; flex-direction: column; flex-basis: 100%; flex: 1; padding: 10px; }\n",
              "    </style>\n",
              "<div class=\"wandb-row\"><div class=\"wandb-col\"><h3>Run history:</h3><br/><table class=\"wandb\"><tr><td>accuracy</td><td>▁▁▁▁▁▁▁▁▁▁</td></tr><tr><td>steps</td><td>▁▁▁▁▁▁▁▁▁▁</td></tr><tr><td>train_loss</td><td>█▅▅▅▅▅▁▁▁▁</td></tr><tr><td>val_accuracy</td><td>▁▁▁▁▁▁▁▁▁▁</td></tr><tr><td>val_loss</td><td>▁▁▁▁▅▅▅▅▅█</td></tr></table><br/></div><div class=\"wandb-col\"><h3>Run summary:</h3><br/><table class=\"wandb\"><tr><td>accuracy</td><td>9.961</td></tr><tr><td>steps</td><td>10</td></tr><tr><td>train_loss</td><td>0.45002</td></tr><tr><td>val_accuracy</td><td>10.35</td></tr><tr><td>val_loss</td><td>0.44999</td></tr></table><br/></div></div>"
            ],
            "text/plain": [
              "<IPython.core.display.HTML object>"
            ]
          },
          "metadata": {},
          "output_type": "display_data"
        },
        {
          "data": {
            "text/html": [
              " View run <strong style=\"color:#cdcd00\">crisp-sweep-10</strong> at: <a href='https://wandb.ai/sleya7110/Assignment1DLQ9/runs/ytae0pqi' target=\"_blank\">https://wandb.ai/sleya7110/Assignment1DLQ9/runs/ytae0pqi</a><br/>Synced 5 W&B file(s), 0 media file(s), 0 artifact file(s) and 0 other file(s)"
            ],
            "text/plain": [
              "<IPython.core.display.HTML object>"
            ]
          },
          "metadata": {},
          "output_type": "display_data"
        },
        {
          "data": {
            "text/html": [
              "Find logs at: <code>./wandb/run-20230317_125646-ytae0pqi/logs</code>"
            ],
            "text/plain": [
              "<IPython.core.display.HTML object>"
            ]
          },
          "metadata": {},
          "output_type": "display_data"
        },
        {
          "name": "stderr",
          "output_type": "stream",
          "text": [
            "\u001b[34m\u001b[1mwandb\u001b[0m: Agent Starting Run: t1y59uvh with config:\n",
            "\u001b[34m\u001b[1mwandb\u001b[0m: \tactivation: relu\n",
            "\u001b[34m\u001b[1mwandb\u001b[0m: \tbatchSize: 32\n",
            "\u001b[34m\u001b[1mwandb\u001b[0m: \tepochs: 50\n",
            "\u001b[34m\u001b[1mwandb\u001b[0m: \thidLayer: [32, 64, 128]\n",
            "\u001b[34m\u001b[1mwandb\u001b[0m: \tinitForm: xavier\n",
            "\u001b[34m\u001b[1mwandb\u001b[0m: \tlearningRate: 0.01\n",
            "\u001b[34m\u001b[1mwandb\u001b[0m: \tlossFn: square_loss\n",
            "\u001b[34m\u001b[1mwandb\u001b[0m: \toptimiser: rmsprop\n",
            "\u001b[34m\u001b[1mwandb\u001b[0m: \tweight_decay: 0.0005\n",
            "\u001b[34m\u001b[1mwandb\u001b[0m: \u001b[33mWARNING\u001b[0m Ignored wandb.init() arg project when running a sweep.\n",
            "\u001b[34m\u001b[1mwandb\u001b[0m: \u001b[33mWARNING\u001b[0m Ignored wandb.init() arg entity when running a sweep.\n"
          ]
        },
        {
          "data": {
            "text/html": [
              "Tracking run with wandb version 0.14.0"
            ],
            "text/plain": [
              "<IPython.core.display.HTML object>"
            ]
          },
          "metadata": {},
          "output_type": "display_data"
        },
        {
          "data": {
            "text/html": [
              "Run data is saved locally in <code>/content/wandb/run-20230317_125750-t1y59uvh</code>"
            ],
            "text/plain": [
              "<IPython.core.display.HTML object>"
            ]
          },
          "metadata": {},
          "output_type": "display_data"
        },
        {
          "data": {
            "text/html": [
              "Syncing run <strong><a href='https://wandb.ai/sleya7110/Assignment1DLQ9/runs/t1y59uvh' target=\"_blank\">generous-sweep-11</a></strong> to <a href='https://wandb.ai/sleya7110/Assignment1DLQ9' target=\"_blank\">Weights & Biases</a> (<a href='https://wandb.me/run' target=\"_blank\">docs</a>)<br/>Sweep page: <a href='https://wandb.ai/sleya7110/Assignment1DLQ9/sweeps/h6gghlmm' target=\"_blank\">https://wandb.ai/sleya7110/Assignment1DLQ9/sweeps/h6gghlmm</a>"
            ],
            "text/plain": [
              "<IPython.core.display.HTML object>"
            ]
          },
          "metadata": {},
          "output_type": "display_data"
        },
        {
          "data": {
            "text/html": [
              " View project at <a href='https://wandb.ai/sleya7110/Assignment1DLQ9' target=\"_blank\">https://wandb.ai/sleya7110/Assignment1DLQ9</a>"
            ],
            "text/plain": [
              "<IPython.core.display.HTML object>"
            ]
          },
          "metadata": {},
          "output_type": "display_data"
        },
        {
          "data": {
            "text/html": [
              " View sweep at <a href='https://wandb.ai/sleya7110/Assignment1DLQ9/sweeps/h6gghlmm' target=\"_blank\">https://wandb.ai/sleya7110/Assignment1DLQ9/sweeps/h6gghlmm</a>"
            ],
            "text/plain": [
              "<IPython.core.display.HTML object>"
            ]
          },
          "metadata": {},
          "output_type": "display_data"
        },
        {
          "data": {
            "text/html": [
              " View run at <a href='https://wandb.ai/sleya7110/Assignment1DLQ9/runs/t1y59uvh' target=\"_blank\">https://wandb.ai/sleya7110/Assignment1DLQ9/runs/t1y59uvh</a>"
            ],
            "text/plain": [
              "<IPython.core.display.HTML object>"
            ]
          },
          "metadata": {},
          "output_type": "display_data"
        },
        {
          "name": "stdout",
          "output_type": "stream",
          "text": [
            "W length= 4\n",
            "B length= 4\n",
            "W shape= (10, 128)\n",
            "B shape= (10, 1)\n"
          ]
        },
        {
          "name": "stderr",
          "output_type": "stream",
          "text": [
            "<ipython-input-14-27052d5c3141>:26: RuntimeWarning: invalid value encountered in true_divide\n",
            "  soft[:, i] = numr/np.sum(numr)\n"
          ]
        },
        {
          "name": "stdout",
          "output_type": "stream",
          "text": [
            "Epoch 0: training_accuracy = 10.01 %, training_loss= nan  ,Validation accuracy = 9.95 ,Validation loss = nan\n",
            "Epoch 1: training_accuracy = 10.01 %, training_loss= nan  ,Validation accuracy = 9.95 ,Validation loss = nan\n",
            "Epoch 2: training_accuracy = 10.01 %, training_loss= nan  ,Validation accuracy = 9.95 ,Validation loss = nan\n",
            "Epoch 3: training_accuracy = 10.01 %, training_loss= nan  ,Validation accuracy = 9.95 ,Validation loss = nan\n",
            "Epoch 4: training_accuracy = 10.01 %, training_loss= nan  ,Validation accuracy = 9.95 ,Validation loss = nan\n",
            "Epoch 5: training_accuracy = 10.01 %, training_loss= nan  ,Validation accuracy = 9.95 ,Validation loss = nan\n",
            "Epoch 6: training_accuracy = 10.01 %, training_loss= nan  ,Validation accuracy = 9.95 ,Validation loss = nan\n",
            "Epoch 7: training_accuracy = 10.01 %, training_loss= nan  ,Validation accuracy = 9.95 ,Validation loss = nan\n",
            "Epoch 8: training_accuracy = 10.01 %, training_loss= nan  ,Validation accuracy = 9.95 ,Validation loss = nan\n",
            "Epoch 9: training_accuracy = 10.01 %, training_loss= nan  ,Validation accuracy = 9.95 ,Validation loss = nan\n",
            "Epoch 10: training_accuracy = 10.01 %, training_loss= nan  ,Validation accuracy = 9.95 ,Validation loss = nan\n",
            "Epoch 11: training_accuracy = 10.01 %, training_loss= nan  ,Validation accuracy = 9.95 ,Validation loss = nan\n",
            "Epoch 12: training_accuracy = 10.01 %, training_loss= nan  ,Validation accuracy = 9.95 ,Validation loss = nan\n",
            "Epoch 13: training_accuracy = 10.01 %, training_loss= nan  ,Validation accuracy = 9.95 ,Validation loss = nan\n",
            "Epoch 14: training_accuracy = 10.01 %, training_loss= nan  ,Validation accuracy = 9.95 ,Validation loss = nan\n",
            "Epoch 15: training_accuracy = 10.01 %, training_loss= nan  ,Validation accuracy = 9.95 ,Validation loss = nan\n",
            "Epoch 16: training_accuracy = 10.01 %, training_loss= nan  ,Validation accuracy = 9.95 ,Validation loss = nan\n",
            "Epoch 17: training_accuracy = 10.01 %, training_loss= nan  ,Validation accuracy = 9.95 ,Validation loss = nan\n",
            "Epoch 18: training_accuracy = 10.01 %, training_loss= nan  ,Validation accuracy = 9.95 ,Validation loss = nan\n",
            "Epoch 19: training_accuracy = 10.01 %, training_loss= nan  ,Validation accuracy = 9.95 ,Validation loss = nan\n",
            "Epoch 20: training_accuracy = 10.01 %, training_loss= nan  ,Validation accuracy = 9.95 ,Validation loss = nan\n",
            "Epoch 21: training_accuracy = 10.01 %, training_loss= nan  ,Validation accuracy = 9.95 ,Validation loss = nan\n",
            "Epoch 22: training_accuracy = 10.01 %, training_loss= nan  ,Validation accuracy = 9.95 ,Validation loss = nan\n",
            "Epoch 23: training_accuracy = 10.01 %, training_loss= nan  ,Validation accuracy = 9.95 ,Validation loss = nan\n",
            "Epoch 24: training_accuracy = 10.01 %, training_loss= nan  ,Validation accuracy = 9.95 ,Validation loss = nan\n",
            "Epoch 25: training_accuracy = 10.01 %, training_loss= nan  ,Validation accuracy = 9.95 ,Validation loss = nan\n",
            "Epoch 26: training_accuracy = 10.01 %, training_loss= nan  ,Validation accuracy = 9.95 ,Validation loss = nan\n",
            "Epoch 27: training_accuracy = 10.01 %, training_loss= nan  ,Validation accuracy = 9.95 ,Validation loss = nan\n",
            "Epoch 28: training_accuracy = 10.01 %, training_loss= nan  ,Validation accuracy = 9.95 ,Validation loss = nan\n",
            "Epoch 29: training_accuracy = 10.01 %, training_loss= nan  ,Validation accuracy = 9.95 ,Validation loss = nan\n",
            "Epoch 30: training_accuracy = 10.01 %, training_loss= nan  ,Validation accuracy = 9.95 ,Validation loss = nan\n",
            "Epoch 31: training_accuracy = 10.01 %, training_loss= nan  ,Validation accuracy = 9.95 ,Validation loss = nan\n",
            "Epoch 32: training_accuracy = 10.01 %, training_loss= nan  ,Validation accuracy = 9.95 ,Validation loss = nan\n",
            "Epoch 33: training_accuracy = 10.01 %, training_loss= nan  ,Validation accuracy = 9.95 ,Validation loss = nan\n",
            "Epoch 34: training_accuracy = 10.01 %, training_loss= nan  ,Validation accuracy = 9.95 ,Validation loss = nan\n",
            "Epoch 35: training_accuracy = 10.01 %, training_loss= nan  ,Validation accuracy = 9.95 ,Validation loss = nan\n",
            "Epoch 36: training_accuracy = 10.01 %, training_loss= nan  ,Validation accuracy = 9.95 ,Validation loss = nan\n",
            "Epoch 37: training_accuracy = 10.01 %, training_loss= nan  ,Validation accuracy = 9.95 ,Validation loss = nan\n",
            "Epoch 38: training_accuracy = 10.01 %, training_loss= nan  ,Validation accuracy = 9.95 ,Validation loss = nan\n",
            "Epoch 39: training_accuracy = 10.01 %, training_loss= nan  ,Validation accuracy = 9.95 ,Validation loss = nan\n",
            "Epoch 40: training_accuracy = 10.01 %, training_loss= nan  ,Validation accuracy = 9.95 ,Validation loss = nan\n",
            "Epoch 41: training_accuracy = 10.01 %, training_loss= nan  ,Validation accuracy = 9.95 ,Validation loss = nan\n",
            "Epoch 42: training_accuracy = 10.01 %, training_loss= nan  ,Validation accuracy = 9.95 ,Validation loss = nan\n",
            "Epoch 43: training_accuracy = 10.01 %, training_loss= nan  ,Validation accuracy = 9.95 ,Validation loss = nan\n",
            "Epoch 44: training_accuracy = 10.01 %, training_loss= nan  ,Validation accuracy = 9.95 ,Validation loss = nan\n",
            "Epoch 45: training_accuracy = 10.01 %, training_loss= nan  ,Validation accuracy = 9.95 ,Validation loss = nan\n",
            "Epoch 46: training_accuracy = 10.01 %, training_loss= nan  ,Validation accuracy = 9.95 ,Validation loss = nan\n",
            "Epoch 47: training_accuracy = 10.01 %, training_loss= nan  ,Validation accuracy = 9.95 ,Validation loss = nan\n",
            "Epoch 48: training_accuracy = 10.01 %, training_loss= nan  ,Validation accuracy = 9.95 ,Validation loss = nan\n",
            "Epoch 49: training_accuracy = 10.01 %, training_loss= nan  ,Validation accuracy = 9.95 ,Validation loss = nan\n"
          ]
        },
        {
          "data": {
            "text/html": [
              "Waiting for W&B process to finish... <strong style=\"color:green\">(success).</strong>"
            ],
            "text/plain": [
              "<IPython.core.display.HTML object>"
            ]
          },
          "metadata": {},
          "output_type": "display_data"
        },
        {
          "data": {
            "text/html": [
              "<style>\n",
              "    table.wandb td:nth-child(1) { padding: 0 10px; text-align: left ; width: auto;} td:nth-child(2) {text-align: left ; width: 100%}\n",
              "    .wandb-row { display: flex; flex-direction: row; flex-wrap: wrap; justify-content: flex-start; width: 100% }\n",
              "    .wandb-col { display: flex; flex-direction: column; flex-basis: 100%; flex: 1; padding: 10px; }\n",
              "    </style>\n",
              "<div class=\"wandb-row\"><div class=\"wandb-col\"><h3>Run history:</h3><br/><table class=\"wandb\"><tr><td>accuracy</td><td>▁▁▁▁▁▁▁▁▁▁▁▁▁▁▁▁▁▁▁▁▁▁▁▁▁▁▁▁▁▁▁▁▁▁▁▁▁▁▁▁</td></tr><tr><td>steps</td><td>▁▁▁▁▁▁▁▁▁▁▁▁▁▁▁▁▁▁▁▁▁▁▁▁▁▁▁▁▁▁▁▁▁▁▁▁▁▁▁▁</td></tr><tr><td>val_accuracy</td><td>▁▁▁▁▁▁▁▁▁▁▁▁▁▁▁▁▁▁▁▁▁▁▁▁▁▁▁▁▁▁▁▁▁▁▁▁▁▁▁▁</td></tr></table><br/></div><div class=\"wandb-col\"><h3>Run summary:</h3><br/><table class=\"wandb\"><tr><td>accuracy</td><td>10.006</td></tr><tr><td>steps</td><td>50</td></tr><tr><td>train_loss</td><td>nan</td></tr><tr><td>val_accuracy</td><td>9.95</td></tr><tr><td>val_loss</td><td>nan</td></tr></table><br/></div></div>"
            ],
            "text/plain": [
              "<IPython.core.display.HTML object>"
            ]
          },
          "metadata": {},
          "output_type": "display_data"
        },
        {
          "data": {
            "text/html": [
              " View run <strong style=\"color:#cdcd00\">generous-sweep-11</strong> at: <a href='https://wandb.ai/sleya7110/Assignment1DLQ9/runs/t1y59uvh' target=\"_blank\">https://wandb.ai/sleya7110/Assignment1DLQ9/runs/t1y59uvh</a><br/>Synced 5 W&B file(s), 0 media file(s), 0 artifact file(s) and 0 other file(s)"
            ],
            "text/plain": [
              "<IPython.core.display.HTML object>"
            ]
          },
          "metadata": {},
          "output_type": "display_data"
        },
        {
          "data": {
            "text/html": [
              "Find logs at: <code>./wandb/run-20230317_125750-t1y59uvh/logs</code>"
            ],
            "text/plain": [
              "<IPython.core.display.HTML object>"
            ]
          },
          "metadata": {},
          "output_type": "display_data"
        },
        {
          "name": "stderr",
          "output_type": "stream",
          "text": [
            "\u001b[34m\u001b[1mwandb\u001b[0m: Agent Starting Run: uxxqhjxm with config:\n",
            "\u001b[34m\u001b[1mwandb\u001b[0m: \tactivation: sigmoid\n",
            "\u001b[34m\u001b[1mwandb\u001b[0m: \tbatchSize: 64\n",
            "\u001b[34m\u001b[1mwandb\u001b[0m: \tepochs: 5\n",
            "\u001b[34m\u001b[1mwandb\u001b[0m: \thidLayer: [32, 64, 128]\n",
            "\u001b[34m\u001b[1mwandb\u001b[0m: \tinitForm: xavier\n",
            "\u001b[34m\u001b[1mwandb\u001b[0m: \tlearningRate: 0.01\n",
            "\u001b[34m\u001b[1mwandb\u001b[0m: \tlossFn: square_loss\n",
            "\u001b[34m\u001b[1mwandb\u001b[0m: \toptimiser: gd\n",
            "\u001b[34m\u001b[1mwandb\u001b[0m: \tweight_decay: 0.0005\n",
            "\u001b[34m\u001b[1mwandb\u001b[0m: \u001b[33mWARNING\u001b[0m Ignored wandb.init() arg project when running a sweep.\n",
            "\u001b[34m\u001b[1mwandb\u001b[0m: \u001b[33mWARNING\u001b[0m Ignored wandb.init() arg entity when running a sweep.\n"
          ]
        },
        {
          "data": {
            "text/html": [
              "Tracking run with wandb version 0.14.0"
            ],
            "text/plain": [
              "<IPython.core.display.HTML object>"
            ]
          },
          "metadata": {},
          "output_type": "display_data"
        },
        {
          "data": {
            "text/html": [
              "Run data is saved locally in <code>/content/wandb/run-20230317_130254-uxxqhjxm</code>"
            ],
            "text/plain": [
              "<IPython.core.display.HTML object>"
            ]
          },
          "metadata": {},
          "output_type": "display_data"
        },
        {
          "data": {
            "text/html": [
              "Syncing run <strong><a href='https://wandb.ai/sleya7110/Assignment1DLQ9/runs/uxxqhjxm' target=\"_blank\">drawn-sweep-12</a></strong> to <a href='https://wandb.ai/sleya7110/Assignment1DLQ9' target=\"_blank\">Weights & Biases</a> (<a href='https://wandb.me/run' target=\"_blank\">docs</a>)<br/>Sweep page: <a href='https://wandb.ai/sleya7110/Assignment1DLQ9/sweeps/h6gghlmm' target=\"_blank\">https://wandb.ai/sleya7110/Assignment1DLQ9/sweeps/h6gghlmm</a>"
            ],
            "text/plain": [
              "<IPython.core.display.HTML object>"
            ]
          },
          "metadata": {},
          "output_type": "display_data"
        },
        {
          "data": {
            "text/html": [
              " View project at <a href='https://wandb.ai/sleya7110/Assignment1DLQ9' target=\"_blank\">https://wandb.ai/sleya7110/Assignment1DLQ9</a>"
            ],
            "text/plain": [
              "<IPython.core.display.HTML object>"
            ]
          },
          "metadata": {},
          "output_type": "display_data"
        },
        {
          "data": {
            "text/html": [
              " View sweep at <a href='https://wandb.ai/sleya7110/Assignment1DLQ9/sweeps/h6gghlmm' target=\"_blank\">https://wandb.ai/sleya7110/Assignment1DLQ9/sweeps/h6gghlmm</a>"
            ],
            "text/plain": [
              "<IPython.core.display.HTML object>"
            ]
          },
          "metadata": {},
          "output_type": "display_data"
        },
        {
          "data": {
            "text/html": [
              " View run at <a href='https://wandb.ai/sleya7110/Assignment1DLQ9/runs/uxxqhjxm' target=\"_blank\">https://wandb.ai/sleya7110/Assignment1DLQ9/runs/uxxqhjxm</a>"
            ],
            "text/plain": [
              "<IPython.core.display.HTML object>"
            ]
          },
          "metadata": {},
          "output_type": "display_data"
        },
        {
          "name": "stdout",
          "output_type": "stream",
          "text": [
            "W length= 4\n",
            "B length= 4\n",
            "W shape= (10, 128)\n",
            "B shape= (10, 1)\n",
            "Epoch 0: training_accuracy = 21.57 %, training_loss= 0.45362  ,Validation accuracy = 22.37 ,Validation loss = 0.45353\n",
            "Epoch 1: training_accuracy = 21.88 %, training_loss= 0.44908  ,Validation accuracy = 22.00 ,Validation loss = 0.44902\n",
            "Epoch 2: training_accuracy = 21.82 %, training_loss= 0.44872  ,Validation accuracy = 22.25 ,Validation loss = 0.44871\n",
            "Epoch 3: training_accuracy = 21.93 %, training_loss= 0.44871  ,Validation accuracy = 22.33 ,Validation loss = 0.44870\n",
            "Epoch 4: training_accuracy = 21.99 %, training_loss= 0.44869  ,Validation accuracy = 22.42 ,Validation loss = 0.44869\n"
          ]
        },
        {
          "data": {
            "text/html": [
              "Waiting for W&B process to finish... <strong style=\"color:green\">(success).</strong>"
            ],
            "text/plain": [
              "<IPython.core.display.HTML object>"
            ]
          },
          "metadata": {},
          "output_type": "display_data"
        },
        {
          "data": {
            "text/html": [
              "<style>\n",
              "    table.wandb td:nth-child(1) { padding: 0 10px; text-align: left ; width: auto;} td:nth-child(2) {text-align: left ; width: 100%}\n",
              "    .wandb-row { display: flex; flex-direction: row; flex-wrap: wrap; justify-content: flex-start; width: 100% }\n",
              "    .wandb-col { display: flex; flex-direction: column; flex-basis: 100%; flex: 1; padding: 10px; }\n",
              "    </style>\n",
              "<div class=\"wandb-row\"><div class=\"wandb-col\"><h3>Run history:</h3><br/><table class=\"wandb\"><tr><td>accuracy</td><td>▁▆▅▇█</td></tr><tr><td>steps</td><td>▁▁▁▁▁</td></tr><tr><td>train_loss</td><td>█▂▁▁▁</td></tr><tr><td>val_accuracy</td><td>▇▁▅▇█</td></tr><tr><td>val_loss</td><td>█▁▁▁▁</td></tr></table><br/></div><div class=\"wandb-col\"><h3>Run summary:</h3><br/><table class=\"wandb\"><tr><td>accuracy</td><td>21.987</td></tr><tr><td>steps</td><td>5</td></tr><tr><td>train_loss</td><td>0.44869</td></tr><tr><td>val_accuracy</td><td>22.417</td></tr><tr><td>val_loss</td><td>0.44869</td></tr></table><br/></div></div>"
            ],
            "text/plain": [
              "<IPython.core.display.HTML object>"
            ]
          },
          "metadata": {},
          "output_type": "display_data"
        },
        {
          "data": {
            "text/html": [
              " View run <strong style=\"color:#cdcd00\">drawn-sweep-12</strong> at: <a href='https://wandb.ai/sleya7110/Assignment1DLQ9/runs/uxxqhjxm' target=\"_blank\">https://wandb.ai/sleya7110/Assignment1DLQ9/runs/uxxqhjxm</a><br/>Synced 5 W&B file(s), 0 media file(s), 0 artifact file(s) and 0 other file(s)"
            ],
            "text/plain": [
              "<IPython.core.display.HTML object>"
            ]
          },
          "metadata": {},
          "output_type": "display_data"
        },
        {
          "data": {
            "text/html": [
              "Find logs at: <code>./wandb/run-20230317_130254-uxxqhjxm/logs</code>"
            ],
            "text/plain": [
              "<IPython.core.display.HTML object>"
            ]
          },
          "metadata": {},
          "output_type": "display_data"
        },
        {
          "name": "stderr",
          "output_type": "stream",
          "text": [
            "\u001b[34m\u001b[1mwandb\u001b[0m: Agent Starting Run: j0nte176 with config:\n",
            "\u001b[34m\u001b[1mwandb\u001b[0m: \tactivation: relu\n",
            "\u001b[34m\u001b[1mwandb\u001b[0m: \tbatchSize: 32\n",
            "\u001b[34m\u001b[1mwandb\u001b[0m: \tepochs: 50\n",
            "\u001b[34m\u001b[1mwandb\u001b[0m: \thidLayer: [64, 64, 64]\n",
            "\u001b[34m\u001b[1mwandb\u001b[0m: \tinitForm: xavier\n",
            "\u001b[34m\u001b[1mwandb\u001b[0m: \tlearningRate: 0.01\n",
            "\u001b[34m\u001b[1mwandb\u001b[0m: \tlossFn: square_loss\n",
            "\u001b[34m\u001b[1mwandb\u001b[0m: \toptimiser: nadam\n",
            "\u001b[34m\u001b[1mwandb\u001b[0m: \tweight_decay: 0\n",
            "\u001b[34m\u001b[1mwandb\u001b[0m: \u001b[33mWARNING\u001b[0m Ignored wandb.init() arg project when running a sweep.\n",
            "\u001b[34m\u001b[1mwandb\u001b[0m: \u001b[33mWARNING\u001b[0m Ignored wandb.init() arg entity when running a sweep.\n"
          ]
        },
        {
          "data": {
            "text/html": [
              "Tracking run with wandb version 0.14.0"
            ],
            "text/plain": [
              "<IPython.core.display.HTML object>"
            ]
          },
          "metadata": {},
          "output_type": "display_data"
        },
        {
          "data": {
            "text/html": [
              "Run data is saved locally in <code>/content/wandb/run-20230317_130334-j0nte176</code>"
            ],
            "text/plain": [
              "<IPython.core.display.HTML object>"
            ]
          },
          "metadata": {},
          "output_type": "display_data"
        },
        {
          "data": {
            "text/html": [
              "Syncing run <strong><a href='https://wandb.ai/sleya7110/Assignment1DLQ9/runs/j0nte176' target=\"_blank\">brisk-sweep-13</a></strong> to <a href='https://wandb.ai/sleya7110/Assignment1DLQ9' target=\"_blank\">Weights & Biases</a> (<a href='https://wandb.me/run' target=\"_blank\">docs</a>)<br/>Sweep page: <a href='https://wandb.ai/sleya7110/Assignment1DLQ9/sweeps/h6gghlmm' target=\"_blank\">https://wandb.ai/sleya7110/Assignment1DLQ9/sweeps/h6gghlmm</a>"
            ],
            "text/plain": [
              "<IPython.core.display.HTML object>"
            ]
          },
          "metadata": {},
          "output_type": "display_data"
        },
        {
          "data": {
            "text/html": [
              " View project at <a href='https://wandb.ai/sleya7110/Assignment1DLQ9' target=\"_blank\">https://wandb.ai/sleya7110/Assignment1DLQ9</a>"
            ],
            "text/plain": [
              "<IPython.core.display.HTML object>"
            ]
          },
          "metadata": {},
          "output_type": "display_data"
        },
        {
          "data": {
            "text/html": [
              " View sweep at <a href='https://wandb.ai/sleya7110/Assignment1DLQ9/sweeps/h6gghlmm' target=\"_blank\">https://wandb.ai/sleya7110/Assignment1DLQ9/sweeps/h6gghlmm</a>"
            ],
            "text/plain": [
              "<IPython.core.display.HTML object>"
            ]
          },
          "metadata": {},
          "output_type": "display_data"
        },
        {
          "data": {
            "text/html": [
              " View run at <a href='https://wandb.ai/sleya7110/Assignment1DLQ9/runs/j0nte176' target=\"_blank\">https://wandb.ai/sleya7110/Assignment1DLQ9/runs/j0nte176</a>"
            ],
            "text/plain": [
              "<IPython.core.display.HTML object>"
            ]
          },
          "metadata": {},
          "output_type": "display_data"
        },
        {
          "name": "stdout",
          "output_type": "stream",
          "text": [
            "W length= 4\n",
            "B length= 4\n",
            "W shape= (10, 64)\n",
            "B shape= (10, 1)\n",
            "Epoch 0: training_accuracy = 10.09 %, training_loss= 0.89907  ,Validation accuracy = 9.17 ,Validation loss = 0.90833\n",
            "Epoch 1: training_accuracy = 10.09 %, training_loss= 0.89907  ,Validation accuracy = 9.17 ,Validation loss = 0.90833\n",
            "Epoch 2: training_accuracy = 10.09 %, training_loss= 0.89907  ,Validation accuracy = 9.17 ,Validation loss = 0.90833\n",
            "Epoch 3: training_accuracy = 10.09 %, training_loss= 0.89907  ,Validation accuracy = 9.17 ,Validation loss = 0.90833\n",
            "Epoch 4: training_accuracy = 10.09 %, training_loss= 0.89907  ,Validation accuracy = 9.17 ,Validation loss = 0.90833\n",
            "Epoch 5: training_accuracy = 10.09 %, training_loss= 0.89907  ,Validation accuracy = 9.17 ,Validation loss = 0.90833\n",
            "Epoch 6: training_accuracy = 10.09 %, training_loss= 0.89907  ,Validation accuracy = 9.17 ,Validation loss = 0.90833\n",
            "Epoch 7: training_accuracy = 10.09 %, training_loss= 0.89907  ,Validation accuracy = 9.17 ,Validation loss = 0.90833\n",
            "Epoch 8: training_accuracy = 10.09 %, training_loss= 0.89907  ,Validation accuracy = 9.17 ,Validation loss = 0.90833\n",
            "Epoch 9: training_accuracy = 10.09 %, training_loss= 0.89907  ,Validation accuracy = 9.17 ,Validation loss = 0.90833\n",
            "Epoch 10: training_accuracy = 10.09 %, training_loss= 0.89907  ,Validation accuracy = 9.17 ,Validation loss = 0.90833\n",
            "Epoch 11: training_accuracy = 10.09 %, training_loss= 0.89907  ,Validation accuracy = 9.17 ,Validation loss = 0.90833\n",
            "Epoch 12: training_accuracy = 10.09 %, training_loss= 0.89907  ,Validation accuracy = 9.17 ,Validation loss = 0.90833\n",
            "Epoch 13: training_accuracy = 10.09 %, training_loss= 0.89907  ,Validation accuracy = 9.17 ,Validation loss = 0.90833\n",
            "Epoch 14: training_accuracy = 10.09 %, training_loss= 0.89907  ,Validation accuracy = 9.17 ,Validation loss = 0.90833\n",
            "Epoch 15: training_accuracy = 10.09 %, training_loss= 0.89907  ,Validation accuracy = 9.17 ,Validation loss = 0.90833\n",
            "Epoch 16: training_accuracy = 10.09 %, training_loss= 0.89907  ,Validation accuracy = 9.17 ,Validation loss = 0.90833\n",
            "Epoch 17: training_accuracy = 10.09 %, training_loss= 0.89907  ,Validation accuracy = 9.17 ,Validation loss = 0.90833\n",
            "Epoch 18: training_accuracy = 10.09 %, training_loss= 0.89907  ,Validation accuracy = 9.17 ,Validation loss = 0.90833\n",
            "Epoch 19: training_accuracy = 10.09 %, training_loss= 0.89907  ,Validation accuracy = 9.17 ,Validation loss = 0.90833\n",
            "Epoch 20: training_accuracy = 10.09 %, training_loss= 0.89907  ,Validation accuracy = 9.17 ,Validation loss = 0.90833\n",
            "Epoch 21: training_accuracy = 10.09 %, training_loss= 0.89907  ,Validation accuracy = 9.17 ,Validation loss = 0.90833\n",
            "Epoch 22: training_accuracy = 10.09 %, training_loss= 0.89907  ,Validation accuracy = 9.17 ,Validation loss = 0.90833\n",
            "Epoch 23: training_accuracy = 10.09 %, training_loss= 0.89907  ,Validation accuracy = 9.17 ,Validation loss = 0.90833\n",
            "Epoch 24: training_accuracy = 10.09 %, training_loss= 0.89907  ,Validation accuracy = 9.17 ,Validation loss = 0.90833\n",
            "Epoch 25: training_accuracy = 10.09 %, training_loss= 0.89907  ,Validation accuracy = 9.17 ,Validation loss = 0.90833\n",
            "Epoch 26: training_accuracy = 10.09 %, training_loss= 0.89907  ,Validation accuracy = 9.17 ,Validation loss = 0.90833\n",
            "Epoch 27: training_accuracy = 10.09 %, training_loss= 0.89907  ,Validation accuracy = 9.17 ,Validation loss = 0.90833\n",
            "Epoch 28: training_accuracy = 10.09 %, training_loss= 0.89907  ,Validation accuracy = 9.17 ,Validation loss = 0.90833\n",
            "Epoch 29: training_accuracy = 10.09 %, training_loss= 0.89907  ,Validation accuracy = 9.17 ,Validation loss = 0.90833\n",
            "Epoch 30: training_accuracy = 10.09 %, training_loss= 0.89907  ,Validation accuracy = 9.17 ,Validation loss = 0.90833\n",
            "Epoch 31: training_accuracy = 10.09 %, training_loss= 0.89907  ,Validation accuracy = 9.17 ,Validation loss = 0.90833\n",
            "Epoch 32: training_accuracy = 10.09 %, training_loss= 0.89907  ,Validation accuracy = 9.17 ,Validation loss = 0.90833\n",
            "Epoch 33: training_accuracy = 10.09 %, training_loss= 0.89907  ,Validation accuracy = 9.17 ,Validation loss = 0.90833\n",
            "Epoch 34: training_accuracy = 10.09 %, training_loss= 0.89907  ,Validation accuracy = 9.17 ,Validation loss = 0.90833\n",
            "Epoch 35: training_accuracy = 10.09 %, training_loss= 0.89907  ,Validation accuracy = 9.17 ,Validation loss = 0.90833\n",
            "Epoch 36: training_accuracy = 10.09 %, training_loss= 0.89907  ,Validation accuracy = 9.17 ,Validation loss = 0.90833\n",
            "Epoch 37: training_accuracy = 10.09 %, training_loss= 0.89907  ,Validation accuracy = 9.17 ,Validation loss = 0.90833\n",
            "Epoch 38: training_accuracy = 10.09 %, training_loss= 0.89907  ,Validation accuracy = 9.17 ,Validation loss = 0.90833\n",
            "Epoch 39: training_accuracy = 10.09 %, training_loss= 0.89907  ,Validation accuracy = 9.17 ,Validation loss = 0.90833\n",
            "Epoch 40: training_accuracy = 10.09 %, training_loss= 0.89907  ,Validation accuracy = 9.17 ,Validation loss = 0.90833\n",
            "Epoch 41: training_accuracy = 10.09 %, training_loss= 0.89907  ,Validation accuracy = 9.17 ,Validation loss = 0.90833\n",
            "Epoch 42: training_accuracy = 10.09 %, training_loss= 0.89907  ,Validation accuracy = 9.17 ,Validation loss = 0.90833\n",
            "Epoch 43: training_accuracy = 10.09 %, training_loss= 0.89907  ,Validation accuracy = 9.17 ,Validation loss = 0.90833\n",
            "Epoch 44: training_accuracy = 10.09 %, training_loss= 0.89907  ,Validation accuracy = 9.17 ,Validation loss = 0.90833\n",
            "Epoch 45: training_accuracy = 10.09 %, training_loss= 0.89907  ,Validation accuracy = 9.17 ,Validation loss = 0.90833\n",
            "Epoch 46: training_accuracy = 10.09 %, training_loss= 0.89907  ,Validation accuracy = 9.17 ,Validation loss = 0.90833\n",
            "Epoch 47: training_accuracy = 10.09 %, training_loss= 0.89907  ,Validation accuracy = 9.17 ,Validation loss = 0.90833\n",
            "Epoch 48: training_accuracy = 10.09 %, training_loss= 0.89907  ,Validation accuracy = 9.17 ,Validation loss = 0.90833\n",
            "Epoch 49: training_accuracy = 10.09 %, training_loss= 0.89907  ,Validation accuracy = 9.17 ,Validation loss = 0.90833\n"
          ]
        },
        {
          "data": {
            "text/html": [
              "Waiting for W&B process to finish... <strong style=\"color:green\">(success).</strong>"
            ],
            "text/plain": [
              "<IPython.core.display.HTML object>"
            ]
          },
          "metadata": {},
          "output_type": "display_data"
        },
        {
          "data": {
            "application/vnd.jupyter.widget-view+json": {
              "model_id": "99ea75d8709e4a51aca11682775e0ed4",
              "version_major": 2,
              "version_minor": 0
            },
            "text/plain": [
              "VBox(children=(Label(value='0.001 MB of 0.001 MB uploaded (0.000 MB deduped)\\r'), FloatProgress(value=1.0, max…"
            ]
          },
          "metadata": {},
          "output_type": "display_data"
        },
        {
          "data": {
            "text/html": [
              "<style>\n",
              "    table.wandb td:nth-child(1) { padding: 0 10px; text-align: left ; width: auto;} td:nth-child(2) {text-align: left ; width: 100%}\n",
              "    .wandb-row { display: flex; flex-direction: row; flex-wrap: wrap; justify-content: flex-start; width: 100% }\n",
              "    .wandb-col { display: flex; flex-direction: column; flex-basis: 100%; flex: 1; padding: 10px; }\n",
              "    </style>\n",
              "<div class=\"wandb-row\"><div class=\"wandb-col\"><h3>Run history:</h3><br/><table class=\"wandb\"><tr><td>accuracy</td><td>▁▁▁▁▁▁▁▁▁▁▁▁▁▁▁▁▁▁▁▁▁▁▁▁▁▁▁▁▁▁▁▁▁▁▁▁▁▁▁▁</td></tr><tr><td>steps</td><td>▁▁▁▁▁▁▁▁▁▁▁▁▁▁▁▁▁▁▁▁▁▁▁▁▁▁▁▁▁▁▁▁▁▁▁▁▁▁▁▁</td></tr><tr><td>train_loss</td><td>▁▁▁▁▁▁▁▁▁▁▁▁▁▁▁▁▁▁▁▁▁▁▁▁▁▁▁▁▁▁▁▁▁▁▁▁▁▁▁▁</td></tr><tr><td>val_accuracy</td><td>▁▁▁▁▁▁▁▁▁▁▁▁▁▁▁▁▁▁▁▁▁▁▁▁▁▁▁▁▁▁▁▁▁▁▁▁▁▁▁▁</td></tr><tr><td>val_loss</td><td>▁▁▁▁▁▁▁▁▁▁▁▁▁▁▁▁▁▁▁▁▁▁▁▁▁▁▁▁▁▁▁▁▁▁▁▁▁▁▁▁</td></tr></table><br/></div><div class=\"wandb-col\"><h3>Run summary:</h3><br/><table class=\"wandb\"><tr><td>accuracy</td><td>10.093</td></tr><tr><td>steps</td><td>50</td></tr><tr><td>train_loss</td><td>0.89907</td></tr><tr><td>val_accuracy</td><td>9.167</td></tr><tr><td>val_loss</td><td>0.90833</td></tr></table><br/></div></div>"
            ],
            "text/plain": [
              "<IPython.core.display.HTML object>"
            ]
          },
          "metadata": {},
          "output_type": "display_data"
        },
        {
          "data": {
            "text/html": [
              " View run <strong style=\"color:#cdcd00\">brisk-sweep-13</strong> at: <a href='https://wandb.ai/sleya7110/Assignment1DLQ9/runs/j0nte176' target=\"_blank\">https://wandb.ai/sleya7110/Assignment1DLQ9/runs/j0nte176</a><br/>Synced 5 W&B file(s), 0 media file(s), 0 artifact file(s) and 0 other file(s)"
            ],
            "text/plain": [
              "<IPython.core.display.HTML object>"
            ]
          },
          "metadata": {},
          "output_type": "display_data"
        },
        {
          "data": {
            "text/html": [
              "Find logs at: <code>./wandb/run-20230317_130334-j0nte176/logs</code>"
            ],
            "text/plain": [
              "<IPython.core.display.HTML object>"
            ]
          },
          "metadata": {},
          "output_type": "display_data"
        },
        {
          "name": "stderr",
          "output_type": "stream",
          "text": [
            "\u001b[34m\u001b[1mwandb\u001b[0m: Agent Starting Run: k0ljyhee with config:\n",
            "\u001b[34m\u001b[1mwandb\u001b[0m: \tactivation: tanh\n",
            "\u001b[34m\u001b[1mwandb\u001b[0m: \tbatchSize: 64\n",
            "\u001b[34m\u001b[1mwandb\u001b[0m: \tepochs: 10\n",
            "\u001b[34m\u001b[1mwandb\u001b[0m: \thidLayer: [128, 128, 128]\n",
            "\u001b[34m\u001b[1mwandb\u001b[0m: \tinitForm: xavier\n",
            "\u001b[34m\u001b[1mwandb\u001b[0m: \tlearningRate: 0.01\n",
            "\u001b[34m\u001b[1mwandb\u001b[0m: \tlossFn: square_loss\n",
            "\u001b[34m\u001b[1mwandb\u001b[0m: \toptimiser: mgd\n",
            "\u001b[34m\u001b[1mwandb\u001b[0m: \tweight_decay: 0\n",
            "\u001b[34m\u001b[1mwandb\u001b[0m: \u001b[33mWARNING\u001b[0m Ignored wandb.init() arg project when running a sweep.\n",
            "\u001b[34m\u001b[1mwandb\u001b[0m: \u001b[33mWARNING\u001b[0m Ignored wandb.init() arg entity when running a sweep.\n"
          ]
        },
        {
          "data": {
            "text/html": [
              "Tracking run with wandb version 0.14.0"
            ],
            "text/plain": [
              "<IPython.core.display.HTML object>"
            ]
          },
          "metadata": {},
          "output_type": "display_data"
        },
        {
          "data": {
            "text/html": [
              "Run data is saved locally in <code>/content/wandb/run-20230317_131358-k0ljyhee</code>"
            ],
            "text/plain": [
              "<IPython.core.display.HTML object>"
            ]
          },
          "metadata": {},
          "output_type": "display_data"
        },
        {
          "data": {
            "text/html": [
              "Syncing run <strong><a href='https://wandb.ai/sleya7110/Assignment1DLQ9/runs/k0ljyhee' target=\"_blank\">silver-sweep-14</a></strong> to <a href='https://wandb.ai/sleya7110/Assignment1DLQ9' target=\"_blank\">Weights & Biases</a> (<a href='https://wandb.me/run' target=\"_blank\">docs</a>)<br/>Sweep page: <a href='https://wandb.ai/sleya7110/Assignment1DLQ9/sweeps/h6gghlmm' target=\"_blank\">https://wandb.ai/sleya7110/Assignment1DLQ9/sweeps/h6gghlmm</a>"
            ],
            "text/plain": [
              "<IPython.core.display.HTML object>"
            ]
          },
          "metadata": {},
          "output_type": "display_data"
        },
        {
          "data": {
            "text/html": [
              " View project at <a href='https://wandb.ai/sleya7110/Assignment1DLQ9' target=\"_blank\">https://wandb.ai/sleya7110/Assignment1DLQ9</a>"
            ],
            "text/plain": [
              "<IPython.core.display.HTML object>"
            ]
          },
          "metadata": {},
          "output_type": "display_data"
        },
        {
          "data": {
            "text/html": [
              " View sweep at <a href='https://wandb.ai/sleya7110/Assignment1DLQ9/sweeps/h6gghlmm' target=\"_blank\">https://wandb.ai/sleya7110/Assignment1DLQ9/sweeps/h6gghlmm</a>"
            ],
            "text/plain": [
              "<IPython.core.display.HTML object>"
            ]
          },
          "metadata": {},
          "output_type": "display_data"
        },
        {
          "data": {
            "text/html": [
              " View run at <a href='https://wandb.ai/sleya7110/Assignment1DLQ9/runs/k0ljyhee' target=\"_blank\">https://wandb.ai/sleya7110/Assignment1DLQ9/runs/k0ljyhee</a>"
            ],
            "text/plain": [
              "<IPython.core.display.HTML object>"
            ]
          },
          "metadata": {},
          "output_type": "display_data"
        },
        {
          "name": "stdout",
          "output_type": "stream",
          "text": [
            "W length= 4\n",
            "B length= 4\n",
            "W shape= (10, 128)\n",
            "B shape= (10, 1)\n",
            "Epoch 0: training_accuracy = 57.02 %, training_loss= 0.29004  ,Validation accuracy = 56.47 ,Validation loss = 0.29136\n",
            "Epoch 1: training_accuracy = 64.93 %, training_loss= 0.24187  ,Validation accuracy = 64.65 ,Validation loss = 0.24307\n",
            "Epoch 2: training_accuracy = 67.98 %, training_loss= 0.22189  ,Validation accuracy = 68.02 ,Validation loss = 0.22281\n",
            "Epoch 3: training_accuracy = 69.85 %, training_loss= 0.21004  ,Validation accuracy = 69.97 ,Validation loss = 0.21068\n",
            "Epoch 4: training_accuracy = 70.99 %, training_loss= 0.20199  ,Validation accuracy = 71.27 ,Validation loss = 0.20246\n",
            "Epoch 5: training_accuracy = 71.90 %, training_loss= 0.19608  ,Validation accuracy = 71.82 ,Validation loss = 0.19645\n",
            "Epoch 6: training_accuracy = 72.57 %, training_loss= 0.19153  ,Validation accuracy = 72.50 ,Validation loss = 0.19181\n",
            "Epoch 7: training_accuracy = 73.07 %, training_loss= 0.18789  ,Validation accuracy = 73.12 ,Validation loss = 0.18808\n",
            "Epoch 8: training_accuracy = 73.59 %, training_loss= 0.18490  ,Validation accuracy = 73.45 ,Validation loss = 0.18501\n",
            "Epoch 9: training_accuracy = 73.93 %, training_loss= 0.18237  ,Validation accuracy = 73.90 ,Validation loss = 0.18242\n"
          ]
        },
        {
          "data": {
            "text/html": [
              "Waiting for W&B process to finish... <strong style=\"color:green\">(success).</strong>"
            ],
            "text/plain": [
              "<IPython.core.display.HTML object>"
            ]
          },
          "metadata": {},
          "output_type": "display_data"
        },
        {
          "data": {
            "text/html": [
              "<style>\n",
              "    table.wandb td:nth-child(1) { padding: 0 10px; text-align: left ; width: auto;} td:nth-child(2) {text-align: left ; width: 100%}\n",
              "    .wandb-row { display: flex; flex-direction: row; flex-wrap: wrap; justify-content: flex-start; width: 100% }\n",
              "    .wandb-col { display: flex; flex-direction: column; flex-basis: 100%; flex: 1; padding: 10px; }\n",
              "    </style>\n",
              "<div class=\"wandb-row\"><div class=\"wandb-col\"><h3>Run history:</h3><br/><table class=\"wandb\"><tr><td>accuracy</td><td>▁▄▆▆▇▇▇███</td></tr><tr><td>steps</td><td>▁▁▁▁▁▁▁▁▁▁</td></tr><tr><td>train_loss</td><td>█▅▄▃▂▂▂▁▁▁</td></tr><tr><td>val_accuracy</td><td>▁▄▆▆▇▇▇███</td></tr><tr><td>val_loss</td><td>█▅▄▃▂▂▂▁▁▁</td></tr></table><br/></div><div class=\"wandb-col\"><h3>Run summary:</h3><br/><table class=\"wandb\"><tr><td>accuracy</td><td>73.931</td></tr><tr><td>steps</td><td>10</td></tr><tr><td>train_loss</td><td>0.18237</td></tr><tr><td>val_accuracy</td><td>73.9</td></tr><tr><td>val_loss</td><td>0.18242</td></tr></table><br/></div></div>"
            ],
            "text/plain": [
              "<IPython.core.display.HTML object>"
            ]
          },
          "metadata": {},
          "output_type": "display_data"
        },
        {
          "data": {
            "text/html": [
              " View run <strong style=\"color:#cdcd00\">silver-sweep-14</strong> at: <a href='https://wandb.ai/sleya7110/Assignment1DLQ9/runs/k0ljyhee' target=\"_blank\">https://wandb.ai/sleya7110/Assignment1DLQ9/runs/k0ljyhee</a><br/>Synced 5 W&B file(s), 0 media file(s), 0 artifact file(s) and 0 other file(s)"
            ],
            "text/plain": [
              "<IPython.core.display.HTML object>"
            ]
          },
          "metadata": {},
          "output_type": "display_data"
        },
        {
          "data": {
            "text/html": [
              "Find logs at: <code>./wandb/run-20230317_131358-k0ljyhee/logs</code>"
            ],
            "text/plain": [
              "<IPython.core.display.HTML object>"
            ]
          },
          "metadata": {},
          "output_type": "display_data"
        },
        {
          "name": "stderr",
          "output_type": "stream",
          "text": [
            "\u001b[34m\u001b[1mwandb\u001b[0m: Agent Starting Run: f1coqhua with config:\n",
            "\u001b[34m\u001b[1mwandb\u001b[0m: \tactivation: relu\n",
            "\u001b[34m\u001b[1mwandb\u001b[0m: \tbatchSize: 64\n",
            "\u001b[34m\u001b[1mwandb\u001b[0m: \tepochs: 5\n",
            "\u001b[34m\u001b[1mwandb\u001b[0m: \thidLayer: [128, 128, 128]\n",
            "\u001b[34m\u001b[1mwandb\u001b[0m: \tinitForm: random\n",
            "\u001b[34m\u001b[1mwandb\u001b[0m: \tlearningRate: 0.01\n",
            "\u001b[34m\u001b[1mwandb\u001b[0m: \tlossFn: square_loss\n",
            "\u001b[34m\u001b[1mwandb\u001b[0m: \toptimiser: ngd\n",
            "\u001b[34m\u001b[1mwandb\u001b[0m: \tweight_decay: 0\n",
            "\u001b[34m\u001b[1mwandb\u001b[0m: \u001b[33mWARNING\u001b[0m Ignored wandb.init() arg project when running a sweep.\n",
            "\u001b[34m\u001b[1mwandb\u001b[0m: \u001b[33mWARNING\u001b[0m Ignored wandb.init() arg entity when running a sweep.\n"
          ]
        },
        {
          "data": {
            "text/html": [
              "Tracking run with wandb version 0.14.0"
            ],
            "text/plain": [
              "<IPython.core.display.HTML object>"
            ]
          },
          "metadata": {},
          "output_type": "display_data"
        },
        {
          "data": {
            "text/html": [
              "Run data is saved locally in <code>/content/wandb/run-20230317_131600-f1coqhua</code>"
            ],
            "text/plain": [
              "<IPython.core.display.HTML object>"
            ]
          },
          "metadata": {},
          "output_type": "display_data"
        },
        {
          "data": {
            "text/html": [
              "Syncing run <strong><a href='https://wandb.ai/sleya7110/Assignment1DLQ9/runs/f1coqhua' target=\"_blank\">lively-sweep-15</a></strong> to <a href='https://wandb.ai/sleya7110/Assignment1DLQ9' target=\"_blank\">Weights & Biases</a> (<a href='https://wandb.me/run' target=\"_blank\">docs</a>)<br/>Sweep page: <a href='https://wandb.ai/sleya7110/Assignment1DLQ9/sweeps/h6gghlmm' target=\"_blank\">https://wandb.ai/sleya7110/Assignment1DLQ9/sweeps/h6gghlmm</a>"
            ],
            "text/plain": [
              "<IPython.core.display.HTML object>"
            ]
          },
          "metadata": {},
          "output_type": "display_data"
        },
        {
          "data": {
            "text/html": [
              " View project at <a href='https://wandb.ai/sleya7110/Assignment1DLQ9' target=\"_blank\">https://wandb.ai/sleya7110/Assignment1DLQ9</a>"
            ],
            "text/plain": [
              "<IPython.core.display.HTML object>"
            ]
          },
          "metadata": {},
          "output_type": "display_data"
        },
        {
          "data": {
            "text/html": [
              " View sweep at <a href='https://wandb.ai/sleya7110/Assignment1DLQ9/sweeps/h6gghlmm' target=\"_blank\">https://wandb.ai/sleya7110/Assignment1DLQ9/sweeps/h6gghlmm</a>"
            ],
            "text/plain": [
              "<IPython.core.display.HTML object>"
            ]
          },
          "metadata": {},
          "output_type": "display_data"
        },
        {
          "data": {
            "text/html": [
              " View run at <a href='https://wandb.ai/sleya7110/Assignment1DLQ9/runs/f1coqhua' target=\"_blank\">https://wandb.ai/sleya7110/Assignment1DLQ9/runs/f1coqhua</a>"
            ],
            "text/plain": [
              "<IPython.core.display.HTML object>"
            ]
          },
          "metadata": {},
          "output_type": "display_data"
        },
        {
          "name": "stdout",
          "output_type": "stream",
          "text": [
            "W length= 4\n",
            "B length= 4\n",
            "W shape= (10, 128)\n",
            "B shape= (10, 1)\n",
            "Epoch 0: training_accuracy = 16.74 %, training_loss= 0.43778  ,Validation accuracy = 17.63 ,Validation loss = 0.43716\n",
            "Epoch 1: training_accuracy = 17.41 %, training_loss= 0.43213  ,Validation accuracy = 17.83 ,Validation loss = 0.43138\n",
            "Epoch 2: training_accuracy = 18.45 %, training_loss= 0.42877  ,Validation accuracy = 18.67 ,Validation loss = 0.42794\n",
            "Epoch 3: training_accuracy = 19.48 %, training_loss= 0.42649  ,Validation accuracy = 20.20 ,Validation loss = 0.42561\n",
            "Epoch 4: training_accuracy = 20.48 %, training_loss= 0.42482  ,Validation accuracy = 21.18 ,Validation loss = 0.42388\n"
          ]
        },
        {
          "data": {
            "text/html": [
              "Waiting for W&B process to finish... <strong style=\"color:green\">(success).</strong>"
            ],
            "text/plain": [
              "<IPython.core.display.HTML object>"
            ]
          },
          "metadata": {},
          "output_type": "display_data"
        },
        {
          "data": {
            "application/vnd.jupyter.widget-view+json": {
              "model_id": "74f024ed66694b95abec6de3cd44096c",
              "version_major": 2,
              "version_minor": 0
            },
            "text/plain": [
              "VBox(children=(Label(value='0.001 MB of 0.009 MB uploaded (0.000 MB deduped)\\r'), FloatProgress(value=0.070270…"
            ]
          },
          "metadata": {},
          "output_type": "display_data"
        },
        {
          "data": {
            "text/html": [
              "<style>\n",
              "    table.wandb td:nth-child(1) { padding: 0 10px; text-align: left ; width: auto;} td:nth-child(2) {text-align: left ; width: 100%}\n",
              "    .wandb-row { display: flex; flex-direction: row; flex-wrap: wrap; justify-content: flex-start; width: 100% }\n",
              "    .wandb-col { display: flex; flex-direction: column; flex-basis: 100%; flex: 1; padding: 10px; }\n",
              "    </style>\n",
              "<div class=\"wandb-row\"><div class=\"wandb-col\"><h3>Run history:</h3><br/><table class=\"wandb\"><tr><td>accuracy</td><td>▁▂▄▆█</td></tr><tr><td>steps</td><td>▁▁▁▁▁</td></tr><tr><td>train_loss</td><td>█▅▃▂▁</td></tr><tr><td>val_accuracy</td><td>▁▁▃▆█</td></tr><tr><td>val_loss</td><td>█▅▃▂▁</td></tr></table><br/></div><div class=\"wandb-col\"><h3>Run summary:</h3><br/><table class=\"wandb\"><tr><td>accuracy</td><td>20.483</td></tr><tr><td>steps</td><td>5</td></tr><tr><td>train_loss</td><td>0.42482</td></tr><tr><td>val_accuracy</td><td>21.183</td></tr><tr><td>val_loss</td><td>0.42388</td></tr></table><br/></div></div>"
            ],
            "text/plain": [
              "<IPython.core.display.HTML object>"
            ]
          },
          "metadata": {},
          "output_type": "display_data"
        },
        {
          "data": {
            "text/html": [
              " View run <strong style=\"color:#cdcd00\">lively-sweep-15</strong> at: <a href='https://wandb.ai/sleya7110/Assignment1DLQ9/runs/f1coqhua' target=\"_blank\">https://wandb.ai/sleya7110/Assignment1DLQ9/runs/f1coqhua</a><br/>Synced 5 W&B file(s), 0 media file(s), 0 artifact file(s) and 0 other file(s)"
            ],
            "text/plain": [
              "<IPython.core.display.HTML object>"
            ]
          },
          "metadata": {},
          "output_type": "display_data"
        },
        {
          "data": {
            "text/html": [
              "Find logs at: <code>./wandb/run-20230317_131600-f1coqhua/logs</code>"
            ],
            "text/plain": [
              "<IPython.core.display.HTML object>"
            ]
          },
          "metadata": {},
          "output_type": "display_data"
        },
        {
          "name": "stderr",
          "output_type": "stream",
          "text": [
            "\u001b[34m\u001b[1mwandb\u001b[0m: Agent Starting Run: tiqclz87 with config:\n",
            "\u001b[34m\u001b[1mwandb\u001b[0m: \tactivation: sigmoid\n",
            "\u001b[34m\u001b[1mwandb\u001b[0m: \tbatchSize: 64\n",
            "\u001b[34m\u001b[1mwandb\u001b[0m: \tepochs: 50\n",
            "\u001b[34m\u001b[1mwandb\u001b[0m: \thidLayer: [32, 64, 128]\n",
            "\u001b[34m\u001b[1mwandb\u001b[0m: \tinitForm: random\n",
            "\u001b[34m\u001b[1mwandb\u001b[0m: \tlearningRate: 0.01\n",
            "\u001b[34m\u001b[1mwandb\u001b[0m: \tlossFn: square_loss\n",
            "\u001b[34m\u001b[1mwandb\u001b[0m: \toptimiser: nadam\n",
            "\u001b[34m\u001b[1mwandb\u001b[0m: \tweight_decay: 0.0005\n",
            "\u001b[34m\u001b[1mwandb\u001b[0m: \u001b[33mWARNING\u001b[0m Ignored wandb.init() arg project when running a sweep.\n",
            "\u001b[34m\u001b[1mwandb\u001b[0m: \u001b[33mWARNING\u001b[0m Ignored wandb.init() arg entity when running a sweep.\n"
          ]
        },
        {
          "data": {
            "text/html": [
              "Tracking run with wandb version 0.14.0"
            ],
            "text/plain": [
              "<IPython.core.display.HTML object>"
            ]
          },
          "metadata": {},
          "output_type": "display_data"
        },
        {
          "data": {
            "text/html": [
              "Run data is saved locally in <code>/content/wandb/run-20230317_131713-tiqclz87</code>"
            ],
            "text/plain": [
              "<IPython.core.display.HTML object>"
            ]
          },
          "metadata": {},
          "output_type": "display_data"
        },
        {
          "data": {
            "text/html": [
              "Syncing run <strong><a href='https://wandb.ai/sleya7110/Assignment1DLQ9/runs/tiqclz87' target=\"_blank\">easy-sweep-16</a></strong> to <a href='https://wandb.ai/sleya7110/Assignment1DLQ9' target=\"_blank\">Weights & Biases</a> (<a href='https://wandb.me/run' target=\"_blank\">docs</a>)<br/>Sweep page: <a href='https://wandb.ai/sleya7110/Assignment1DLQ9/sweeps/h6gghlmm' target=\"_blank\">https://wandb.ai/sleya7110/Assignment1DLQ9/sweeps/h6gghlmm</a>"
            ],
            "text/plain": [
              "<IPython.core.display.HTML object>"
            ]
          },
          "metadata": {},
          "output_type": "display_data"
        },
        {
          "data": {
            "text/html": [
              " View project at <a href='https://wandb.ai/sleya7110/Assignment1DLQ9' target=\"_blank\">https://wandb.ai/sleya7110/Assignment1DLQ9</a>"
            ],
            "text/plain": [
              "<IPython.core.display.HTML object>"
            ]
          },
          "metadata": {},
          "output_type": "display_data"
        },
        {
          "data": {
            "text/html": [
              " View sweep at <a href='https://wandb.ai/sleya7110/Assignment1DLQ9/sweeps/h6gghlmm' target=\"_blank\">https://wandb.ai/sleya7110/Assignment1DLQ9/sweeps/h6gghlmm</a>"
            ],
            "text/plain": [
              "<IPython.core.display.HTML object>"
            ]
          },
          "metadata": {},
          "output_type": "display_data"
        },
        {
          "data": {
            "text/html": [
              " View run at <a href='https://wandb.ai/sleya7110/Assignment1DLQ9/runs/tiqclz87' target=\"_blank\">https://wandb.ai/sleya7110/Assignment1DLQ9/runs/tiqclz87</a>"
            ],
            "text/plain": [
              "<IPython.core.display.HTML object>"
            ]
          },
          "metadata": {},
          "output_type": "display_data"
        },
        {
          "name": "stdout",
          "output_type": "stream",
          "text": [
            "W length= 4\n",
            "B length= 4\n",
            "W shape= (10, 128)\n",
            "B shape= (10, 1)\n",
            "Epoch 0: training_accuracy = 9.81 %, training_loss= 0.45051  ,Validation accuracy = 9.85 ,Validation loss = 0.45048\n",
            "Epoch 1: training_accuracy = 9.96 %, training_loss= 0.45018  ,Validation accuracy = 10.32 ,Validation loss = 0.45014\n",
            "Epoch 2: training_accuracy = 9.82 %, training_loss= 0.44993  ,Validation accuracy = 10.17 ,Validation loss = 0.44989\n",
            "Epoch 3: training_accuracy = 10.28 %, training_loss= 0.44966  ,Validation accuracy = 10.42 ,Validation loss = 0.44962\n",
            "Epoch 4: training_accuracy = 11.39 %, training_loss= 0.44942  ,Validation accuracy = 11.48 ,Validation loss = 0.44937\n",
            "Epoch 5: training_accuracy = 12.13 %, training_loss= 0.44921  ,Validation accuracy = 12.27 ,Validation loss = 0.44915\n",
            "Epoch 6: training_accuracy = 12.71 %, training_loss= 0.44902  ,Validation accuracy = 13.02 ,Validation loss = 0.44896\n",
            "Epoch 7: training_accuracy = 12.99 %, training_loss= 0.44883  ,Validation accuracy = 13.25 ,Validation loss = 0.44877\n",
            "Epoch 8: training_accuracy = 13.14 %, training_loss= 0.44865  ,Validation accuracy = 13.33 ,Validation loss = 0.44858\n",
            "Epoch 9: training_accuracy = 13.42 %, training_loss= 0.44845  ,Validation accuracy = 13.47 ,Validation loss = 0.44838\n",
            "Epoch 10: training_accuracy = 13.95 %, training_loss= 0.44824  ,Validation accuracy = 14.05 ,Validation loss = 0.44816\n",
            "Epoch 11: training_accuracy = 14.31 %, training_loss= 0.44800  ,Validation accuracy = 14.77 ,Validation loss = 0.44792\n",
            "Epoch 12: training_accuracy = 14.41 %, training_loss= 0.44774  ,Validation accuracy = 14.68 ,Validation loss = 0.44764\n",
            "Epoch 13: training_accuracy = 14.03 %, training_loss= 0.44744  ,Validation accuracy = 14.30 ,Validation loss = 0.44733\n",
            "Epoch 14: training_accuracy = 15.42 %, training_loss= 0.44713  ,Validation accuracy = 16.52 ,Validation loss = 0.44699\n",
            "Epoch 15: training_accuracy = 15.93 %, training_loss= 0.44679  ,Validation accuracy = 16.85 ,Validation loss = 0.44663\n",
            "Epoch 16: training_accuracy = 16.57 %, training_loss= 0.44646  ,Validation accuracy = 17.68 ,Validation loss = 0.44629\n",
            "Epoch 17: training_accuracy = 14.02 %, training_loss= 0.44641  ,Validation accuracy = 14.60 ,Validation loss = 0.44624\n",
            "Epoch 18: training_accuracy = 11.62 %, training_loss= 0.44711  ,Validation accuracy = 11.73 ,Validation loss = 0.44697\n",
            "Epoch 19: training_accuracy = 11.94 %, training_loss= 0.44659  ,Validation accuracy = 12.08 ,Validation loss = 0.44641\n",
            "Epoch 20: training_accuracy = 11.96 %, training_loss= 0.44654  ,Validation accuracy = 12.20 ,Validation loss = 0.44637\n",
            "Epoch 21: training_accuracy = 12.35 %, training_loss= 0.44671  ,Validation accuracy = 12.43 ,Validation loss = 0.44655\n",
            "Epoch 22: training_accuracy = 12.02 %, training_loss= 0.44676  ,Validation accuracy = 12.32 ,Validation loss = 0.44659\n",
            "Epoch 23: training_accuracy = 9.95 %, training_loss= 0.45320  ,Validation accuracy = 10.45 ,Validation loss = 0.45276\n",
            "Epoch 24: training_accuracy = 10.61 %, training_loss= 0.44988  ,Validation accuracy = 11.10 ,Validation loss = 0.44954\n",
            "Epoch 25: training_accuracy = 12.05 %, training_loss= 0.44658  ,Validation accuracy = 12.47 ,Validation loss = 0.44635\n",
            "Epoch 26: training_accuracy = 18.06 %, training_loss= 0.44598  ,Validation accuracy = 18.77 ,Validation loss = 0.44579\n",
            "Epoch 27: training_accuracy = 17.82 %, training_loss= 0.44604  ,Validation accuracy = 18.32 ,Validation loss = 0.44585\n",
            "Epoch 28: training_accuracy = 10.11 %, training_loss= 0.44590  ,Validation accuracy = 10.05 ,Validation loss = 0.44576\n",
            "Epoch 29: training_accuracy = 11.38 %, training_loss= 0.44746  ,Validation accuracy = 11.25 ,Validation loss = 0.44732\n",
            "Epoch 30: training_accuracy = 12.28 %, training_loss= 0.44768  ,Validation accuracy = 12.15 ,Validation loss = 0.44754\n",
            "Epoch 31: training_accuracy = 12.61 %, training_loss= 0.44761  ,Validation accuracy = 12.87 ,Validation loss = 0.44746\n",
            "Epoch 32: training_accuracy = 12.30 %, training_loss= 0.44757  ,Validation accuracy = 12.28 ,Validation loss = 0.44741\n",
            "Epoch 33: training_accuracy = 12.43 %, training_loss= 0.44752  ,Validation accuracy = 12.37 ,Validation loss = 0.44734\n",
            "Epoch 34: training_accuracy = 12.53 %, training_loss= 0.44735  ,Validation accuracy = 12.60 ,Validation loss = 0.44716\n",
            "Epoch 35: training_accuracy = 12.50 %, training_loss= 0.44718  ,Validation accuracy = 12.57 ,Validation loss = 0.44698\n",
            "Epoch 36: training_accuracy = 12.57 %, training_loss= 0.44704  ,Validation accuracy = 12.68 ,Validation loss = 0.44683\n",
            "Epoch 37: training_accuracy = 12.42 %, training_loss= 0.44682  ,Validation accuracy = 12.37 ,Validation loss = 0.44661\n",
            "Epoch 38: training_accuracy = 11.62 %, training_loss= 0.44655  ,Validation accuracy = 11.50 ,Validation loss = 0.44632\n",
            "Epoch 39: training_accuracy = 12.14 %, training_loss= 0.44635  ,Validation accuracy = 12.32 ,Validation loss = 0.44609\n",
            "Epoch 40: training_accuracy = 12.42 %, training_loss= 0.44623  ,Validation accuracy = 12.68 ,Validation loss = 0.44594\n",
            "Epoch 41: training_accuracy = 12.01 %, training_loss= 0.44617  ,Validation accuracy = 12.47 ,Validation loss = 0.44585\n",
            "Epoch 42: training_accuracy = 11.66 %, training_loss= 0.44617  ,Validation accuracy = 12.05 ,Validation loss = 0.44582\n",
            "Epoch 43: training_accuracy = 11.40 %, training_loss= 0.44621  ,Validation accuracy = 11.85 ,Validation loss = 0.44584\n",
            "Epoch 44: training_accuracy = 11.28 %, training_loss= 0.44628  ,Validation accuracy = 11.60 ,Validation loss = 0.44588\n",
            "Epoch 45: training_accuracy = 11.18 %, training_loss= 0.44636  ,Validation accuracy = 11.58 ,Validation loss = 0.44594\n",
            "Epoch 46: training_accuracy = 11.11 %, training_loss= 0.44644  ,Validation accuracy = 11.62 ,Validation loss = 0.44601\n",
            "Epoch 47: training_accuracy = 11.09 %, training_loss= 0.44653  ,Validation accuracy = 11.58 ,Validation loss = 0.44608\n",
            "Epoch 48: training_accuracy = 11.08 %, training_loss= 0.44661  ,Validation accuracy = 11.55 ,Validation loss = 0.44615\n",
            "Epoch 49: training_accuracy = 11.08 %, training_loss= 0.44668  ,Validation accuracy = 11.55 ,Validation loss = 0.44621\n"
          ]
        },
        {
          "data": {
            "text/html": [
              "Waiting for W&B process to finish... <strong style=\"color:green\">(success).</strong>"
            ],
            "text/plain": [
              "<IPython.core.display.HTML object>"
            ]
          },
          "metadata": {},
          "output_type": "display_data"
        },
        {
          "data": {
            "application/vnd.jupyter.widget-view+json": {
              "model_id": "9678f1d4e8584f0293ba6f6a3c20df7a",
              "version_major": 2,
              "version_minor": 0
            },
            "text/plain": [
              "VBox(children=(Label(value='0.001 MB of 0.001 MB uploaded (0.000 MB deduped)\\r'), FloatProgress(value=1.0, max…"
            ]
          },
          "metadata": {},
          "output_type": "display_data"
        },
        {
          "data": {
            "text/html": [
              "<style>\n",
              "    table.wandb td:nth-child(1) { padding: 0 10px; text-align: left ; width: auto;} td:nth-child(2) {text-align: left ; width: 100%}\n",
              "    .wandb-row { display: flex; flex-direction: row; flex-wrap: wrap; justify-content: flex-start; width: 100% }\n",
              "    .wandb-col { display: flex; flex-direction: column; flex-basis: 100%; flex: 1; padding: 10px; }\n",
              "    </style>\n",
              "<div class=\"wandb-row\"><div class=\"wandb-col\"><h3>Run history:</h3><br/><table class=\"wandb\"><tr><td>accuracy</td><td>▁▁▁▁▃▃▄▄▅▅▅▅▆▇▅▃▃▃▃▁▃██▁▃▃▃▃▃▃▃▃▃▃▃▂▂▂▂▂</td></tr><tr><td>steps</td><td>▁▁▁▁▁▁▁▁▁▁▁▁▁▁▁▁▁▁▁▁▁▁▁▁▁▁▁▁▁▁▁▁▁▁▁▁▁▁▁▁</td></tr><tr><td>train_loss</td><td>▅▅▅▅▄▄▄▄▃▃▃▂▂▂▁▂▂▂▂█▂▁▁▁▃▃▃▃▂▂▂▂▁▁▁▁▁▂▂▂</td></tr><tr><td>val_accuracy</td><td>▁▁▁▁▃▃▄▄▄▅▅▄▆▇▅▂▃▃▃▁▃██▁▃▃▃▃▃▃▃▂▃▃▃▃▂▂▂▂</td></tr><tr><td>val_loss</td><td>▆▅▅▅▄▄▄▄▃▃▃▃▂▂▁▂▂▂▂█▂▁▁▁▃▃▃▃▂▂▂▂▁▁▁▁▁▁▁▁</td></tr></table><br/></div><div class=\"wandb-col\"><h3>Run summary:</h3><br/><table class=\"wandb\"><tr><td>accuracy</td><td>11.078</td></tr><tr><td>steps</td><td>50</td></tr><tr><td>train_loss</td><td>0.44668</td></tr><tr><td>val_accuracy</td><td>11.55</td></tr><tr><td>val_loss</td><td>0.44621</td></tr></table><br/></div></div>"
            ],
            "text/plain": [
              "<IPython.core.display.HTML object>"
            ]
          },
          "metadata": {},
          "output_type": "display_data"
        },
        {
          "data": {
            "text/html": [
              " View run <strong style=\"color:#cdcd00\">easy-sweep-16</strong> at: <a href='https://wandb.ai/sleya7110/Assignment1DLQ9/runs/tiqclz87' target=\"_blank\">https://wandb.ai/sleya7110/Assignment1DLQ9/runs/tiqclz87</a><br/>Synced 5 W&B file(s), 0 media file(s), 0 artifact file(s) and 0 other file(s)"
            ],
            "text/plain": [
              "<IPython.core.display.HTML object>"
            ]
          },
          "metadata": {},
          "output_type": "display_data"
        },
        {
          "data": {
            "text/html": [
              "Find logs at: <code>./wandb/run-20230317_131713-tiqclz87/logs</code>"
            ],
            "text/plain": [
              "<IPython.core.display.HTML object>"
            ]
          },
          "metadata": {},
          "output_type": "display_data"
        },
        {
          "name": "stderr",
          "output_type": "stream",
          "text": [
            "\u001b[34m\u001b[1mwandb\u001b[0m: Agent Starting Run: uhqyodpi with config:\n",
            "\u001b[34m\u001b[1mwandb\u001b[0m: \tactivation: tanh\n",
            "\u001b[34m\u001b[1mwandb\u001b[0m: \tbatchSize: 64\n",
            "\u001b[34m\u001b[1mwandb\u001b[0m: \tepochs: 50\n",
            "\u001b[34m\u001b[1mwandb\u001b[0m: \thidLayer: [128, 128, 128]\n",
            "\u001b[34m\u001b[1mwandb\u001b[0m: \tinitForm: random\n",
            "\u001b[34m\u001b[1mwandb\u001b[0m: \tlearningRate: 0.001\n",
            "\u001b[34m\u001b[1mwandb\u001b[0m: \tlossFn: square_loss\n",
            "\u001b[34m\u001b[1mwandb\u001b[0m: \toptimiser: gd\n",
            "\u001b[34m\u001b[1mwandb\u001b[0m: \tweight_decay: 0.0005\n",
            "\u001b[34m\u001b[1mwandb\u001b[0m: \u001b[33mWARNING\u001b[0m Ignored wandb.init() arg project when running a sweep.\n",
            "\u001b[34m\u001b[1mwandb\u001b[0m: \u001b[33mWARNING\u001b[0m Ignored wandb.init() arg entity when running a sweep.\n"
          ]
        },
        {
          "data": {
            "text/html": [
              "Tracking run with wandb version 0.14.0"
            ],
            "text/plain": [
              "<IPython.core.display.HTML object>"
            ]
          },
          "metadata": {},
          "output_type": "display_data"
        },
        {
          "data": {
            "text/html": [
              "Run data is saved locally in <code>/content/wandb/run-20230317_132418-uhqyodpi</code>"
            ],
            "text/plain": [
              "<IPython.core.display.HTML object>"
            ]
          },
          "metadata": {},
          "output_type": "display_data"
        },
        {
          "data": {
            "text/html": [
              "Syncing run <strong><a href='https://wandb.ai/sleya7110/Assignment1DLQ9/runs/uhqyodpi' target=\"_blank\">confused-sweep-17</a></strong> to <a href='https://wandb.ai/sleya7110/Assignment1DLQ9' target=\"_blank\">Weights & Biases</a> (<a href='https://wandb.me/run' target=\"_blank\">docs</a>)<br/>Sweep page: <a href='https://wandb.ai/sleya7110/Assignment1DLQ9/sweeps/h6gghlmm' target=\"_blank\">https://wandb.ai/sleya7110/Assignment1DLQ9/sweeps/h6gghlmm</a>"
            ],
            "text/plain": [
              "<IPython.core.display.HTML object>"
            ]
          },
          "metadata": {},
          "output_type": "display_data"
        },
        {
          "data": {
            "text/html": [
              " View project at <a href='https://wandb.ai/sleya7110/Assignment1DLQ9' target=\"_blank\">https://wandb.ai/sleya7110/Assignment1DLQ9</a>"
            ],
            "text/plain": [
              "<IPython.core.display.HTML object>"
            ]
          },
          "metadata": {},
          "output_type": "display_data"
        },
        {
          "data": {
            "text/html": [
              " View sweep at <a href='https://wandb.ai/sleya7110/Assignment1DLQ9/sweeps/h6gghlmm' target=\"_blank\">https://wandb.ai/sleya7110/Assignment1DLQ9/sweeps/h6gghlmm</a>"
            ],
            "text/plain": [
              "<IPython.core.display.HTML object>"
            ]
          },
          "metadata": {},
          "output_type": "display_data"
        },
        {
          "data": {
            "text/html": [
              " View run at <a href='https://wandb.ai/sleya7110/Assignment1DLQ9/runs/uhqyodpi' target=\"_blank\">https://wandb.ai/sleya7110/Assignment1DLQ9/runs/uhqyodpi</a>"
            ],
            "text/plain": [
              "<IPython.core.display.HTML object>"
            ]
          },
          "metadata": {},
          "output_type": "display_data"
        },
        {
          "name": "stdout",
          "output_type": "stream",
          "text": [
            "W length= 4\n",
            "B length= 4\n",
            "W shape= (10, 128)\n",
            "B shape= (10, 1)\n",
            "Epoch 0: training_accuracy = 10.09 %, training_loss= 0.46673  ,Validation accuracy = 9.17 ,Validation loss = 0.46770\n",
            "Epoch 1: training_accuracy = 10.09 %, training_loss= 0.46106  ,Validation accuracy = 9.17 ,Validation loss = 0.46166\n",
            "Epoch 2: training_accuracy = 10.09 %, training_loss= 0.45842  ,Validation accuracy = 9.17 ,Validation loss = 0.45886\n",
            "Epoch 3: training_accuracy = 10.09 %, training_loss= 0.45676  ,Validation accuracy = 9.17 ,Validation loss = 0.45710\n",
            "Epoch 4: training_accuracy = 10.09 %, training_loss= 0.45549  ,Validation accuracy = 9.17 ,Validation loss = 0.45576\n",
            "Epoch 5: training_accuracy = 12.52 %, training_loss= 0.45436  ,Validation accuracy = 11.58 ,Validation loss = 0.45458\n",
            "Epoch 6: training_accuracy = 14.90 %, training_loss= 0.45328  ,Validation accuracy = 14.43 ,Validation loss = 0.45347\n",
            "Epoch 7: training_accuracy = 15.60 %, training_loss= 0.45229  ,Validation accuracy = 15.23 ,Validation loss = 0.45245\n",
            "Epoch 8: training_accuracy = 15.93 %, training_loss= 0.45143  ,Validation accuracy = 15.47 ,Validation loss = 0.45156\n",
            "Epoch 9: training_accuracy = 16.05 %, training_loss= 0.45074  ,Validation accuracy = 15.58 ,Validation loss = 0.45085\n",
            "Epoch 10: training_accuracy = 16.12 %, training_loss= 0.45025  ,Validation accuracy = 15.62 ,Validation loss = 0.45034\n",
            "Epoch 11: training_accuracy = 16.16 %, training_loss= 0.44993  ,Validation accuracy = 15.67 ,Validation loss = 0.45000\n",
            "Epoch 12: training_accuracy = 16.18 %, training_loss= 0.44972  ,Validation accuracy = 15.67 ,Validation loss = 0.44978\n",
            "Epoch 13: training_accuracy = 16.19 %, training_loss= 0.44960  ,Validation accuracy = 15.68 ,Validation loss = 0.44964\n",
            "Epoch 14: training_accuracy = 16.20 %, training_loss= 0.44952  ,Validation accuracy = 15.72 ,Validation loss = 0.44955\n",
            "Epoch 15: training_accuracy = 16.23 %, training_loss= 0.44946  ,Validation accuracy = 15.77 ,Validation loss = 0.44949\n",
            "Epoch 16: training_accuracy = 16.26 %, training_loss= 0.44941  ,Validation accuracy = 15.78 ,Validation loss = 0.44944\n",
            "Epoch 17: training_accuracy = 16.27 %, training_loss= 0.44937  ,Validation accuracy = 15.83 ,Validation loss = 0.44939\n",
            "Epoch 18: training_accuracy = 16.32 %, training_loss= 0.44933  ,Validation accuracy = 15.85 ,Validation loss = 0.44935\n",
            "Epoch 19: training_accuracy = 16.34 %, training_loss= 0.44929  ,Validation accuracy = 15.87 ,Validation loss = 0.44931\n",
            "Epoch 20: training_accuracy = 16.37 %, training_loss= 0.44925  ,Validation accuracy = 15.90 ,Validation loss = 0.44927\n",
            "Epoch 21: training_accuracy = 16.39 %, training_loss= 0.44921  ,Validation accuracy = 15.92 ,Validation loss = 0.44923\n",
            "Epoch 22: training_accuracy = 16.42 %, training_loss= 0.44918  ,Validation accuracy = 15.92 ,Validation loss = 0.44919\n",
            "Epoch 23: training_accuracy = 16.45 %, training_loss= 0.44914  ,Validation accuracy = 15.92 ,Validation loss = 0.44915\n",
            "Epoch 24: training_accuracy = 16.47 %, training_loss= 0.44910  ,Validation accuracy = 15.93 ,Validation loss = 0.44911\n",
            "Epoch 25: training_accuracy = 16.49 %, training_loss= 0.44906  ,Validation accuracy = 15.97 ,Validation loss = 0.44908\n",
            "Epoch 26: training_accuracy = 16.50 %, training_loss= 0.44903  ,Validation accuracy = 16.02 ,Validation loss = 0.44904\n",
            "Epoch 27: training_accuracy = 16.02 %, training_loss= 0.44899  ,Validation accuracy = 15.52 ,Validation loss = 0.44900\n",
            "Epoch 28: training_accuracy = 16.12 %, training_loss= 0.44895  ,Validation accuracy = 15.32 ,Validation loss = 0.44896\n",
            "Epoch 29: training_accuracy = 16.98 %, training_loss= 0.44892  ,Validation accuracy = 16.27 ,Validation loss = 0.44893\n",
            "Epoch 30: training_accuracy = 17.47 %, training_loss= 0.44888  ,Validation accuracy = 16.95 ,Validation loss = 0.44889\n",
            "Epoch 31: training_accuracy = 17.51 %, training_loss= 0.44884  ,Validation accuracy = 16.98 ,Validation loss = 0.44885\n",
            "Epoch 32: training_accuracy = 17.52 %, training_loss= 0.44881  ,Validation accuracy = 17.02 ,Validation loss = 0.44882\n",
            "Epoch 33: training_accuracy = 17.54 %, training_loss= 0.44877  ,Validation accuracy = 17.05 ,Validation loss = 0.44878\n",
            "Epoch 34: training_accuracy = 17.57 %, training_loss= 0.44874  ,Validation accuracy = 17.07 ,Validation loss = 0.44874\n",
            "Epoch 35: training_accuracy = 17.59 %, training_loss= 0.44870  ,Validation accuracy = 17.10 ,Validation loss = 0.44871\n",
            "Epoch 36: training_accuracy = 17.60 %, training_loss= 0.44866  ,Validation accuracy = 17.12 ,Validation loss = 0.44867\n",
            "Epoch 37: training_accuracy = 17.62 %, training_loss= 0.44863  ,Validation accuracy = 17.13 ,Validation loss = 0.44863\n",
            "Epoch 38: training_accuracy = 17.64 %, training_loss= 0.44859  ,Validation accuracy = 17.13 ,Validation loss = 0.44860\n",
            "Epoch 39: training_accuracy = 17.65 %, training_loss= 0.44856  ,Validation accuracy = 17.17 ,Validation loss = 0.44856\n",
            "Epoch 40: training_accuracy = 17.67 %, training_loss= 0.44852  ,Validation accuracy = 17.18 ,Validation loss = 0.44852\n",
            "Epoch 41: training_accuracy = 17.68 %, training_loss= 0.44849  ,Validation accuracy = 17.20 ,Validation loss = 0.44849\n",
            "Epoch 42: training_accuracy = 16.18 %, training_loss= 0.44845  ,Validation accuracy = 16.20 ,Validation loss = 0.44845\n",
            "Epoch 43: training_accuracy = 15.12 %, training_loss= 0.44842  ,Validation accuracy = 15.15 ,Validation loss = 0.44842\n",
            "Epoch 44: training_accuracy = 14.57 %, training_loss= 0.44838  ,Validation accuracy = 14.75 ,Validation loss = 0.44838\n",
            "Epoch 45: training_accuracy = 14.71 %, training_loss= 0.44835  ,Validation accuracy = 14.88 ,Validation loss = 0.44835\n",
            "Epoch 46: training_accuracy = 15.18 %, training_loss= 0.44831  ,Validation accuracy = 15.38 ,Validation loss = 0.44831\n",
            "Epoch 47: training_accuracy = 15.86 %, training_loss= 0.44828  ,Validation accuracy = 16.10 ,Validation loss = 0.44828\n",
            "Epoch 48: training_accuracy = 16.52 %, training_loss= 0.44824  ,Validation accuracy = 16.93 ,Validation loss = 0.44824\n",
            "Epoch 49: training_accuracy = 17.19 %, training_loss= 0.44821  ,Validation accuracy = 17.77 ,Validation loss = 0.44821\n"
          ]
        },
        {
          "data": {
            "text/html": [
              "Waiting for W&B process to finish... <strong style=\"color:green\">(success).</strong>"
            ],
            "text/plain": [
              "<IPython.core.display.HTML object>"
            ]
          },
          "metadata": {},
          "output_type": "display_data"
        },
        {
          "data": {
            "application/vnd.jupyter.widget-view+json": {
              "model_id": "eac7a2617fb34a8db5226e19d34eebaa",
              "version_major": 2,
              "version_minor": 0
            },
            "text/plain": [
              "VBox(children=(Label(value='0.001 MB of 0.001 MB uploaded (0.000 MB deduped)\\r'), FloatProgress(value=1.0, max…"
            ]
          },
          "metadata": {},
          "output_type": "display_data"
        },
        {
          "data": {
            "text/html": [
              "<style>\n",
              "    table.wandb td:nth-child(1) { padding: 0 10px; text-align: left ; width: auto;} td:nth-child(2) {text-align: left ; width: 100%}\n",
              "    .wandb-row { display: flex; flex-direction: row; flex-wrap: wrap; justify-content: flex-start; width: 100% }\n",
              "    .wandb-col { display: flex; flex-direction: column; flex-basis: 100%; flex: 1; padding: 10px; }\n",
              "    </style>\n",
              "<div class=\"wandb-row\"><div class=\"wandb-col\"><h3>Run history:</h3><br/><table class=\"wandb\"><tr><td>accuracy</td><td>▁▁▁▁▃▅▆▆▇▇▇▇▇▇▇▇▇▇▇▇▇▇▆▇██████████▇▆▅▆▆█</td></tr><tr><td>steps</td><td>▁▁▁▁▁▁▁▁▁▁▁▁▁▁▁▁▁▁▁▁▁▁▁▁▁▁▁▁▁▁▁▁▁▁▁▁▁▁▁▁</td></tr><tr><td>train_loss</td><td>█▆▅▄▃▃▃▂▂▂▂▂▁▁▁▁▁▁▁▁▁▁▁▁▁▁▁▁▁▁▁▁▁▁▁▁▁▁▁▁</td></tr><tr><td>val_accuracy</td><td>▁▁▁▁▃▅▆▆▆▆▆▆▆▆▆▆▆▆▆▆▇▇▆▆▇▇▇▇▇▇▇▇██▇▆▆▆▇█</td></tr><tr><td>val_loss</td><td>█▆▅▄▃▃▃▂▂▂▂▂▁▁▁▁▁▁▁▁▁▁▁▁▁▁▁▁▁▁▁▁▁▁▁▁▁▁▁▁</td></tr></table><br/></div><div class=\"wandb-col\"><h3>Run summary:</h3><br/><table class=\"wandb\"><tr><td>accuracy</td><td>17.194</td></tr><tr><td>steps</td><td>50</td></tr><tr><td>train_loss</td><td>0.44821</td></tr><tr><td>val_accuracy</td><td>17.767</td></tr><tr><td>val_loss</td><td>0.44821</td></tr></table><br/></div></div>"
            ],
            "text/plain": [
              "<IPython.core.display.HTML object>"
            ]
          },
          "metadata": {},
          "output_type": "display_data"
        },
        {
          "data": {
            "text/html": [
              " View run <strong style=\"color:#cdcd00\">confused-sweep-17</strong> at: <a href='https://wandb.ai/sleya7110/Assignment1DLQ9/runs/uhqyodpi' target=\"_blank\">https://wandb.ai/sleya7110/Assignment1DLQ9/runs/uhqyodpi</a><br/>Synced 5 W&B file(s), 0 media file(s), 0 artifact file(s) and 0 other file(s)"
            ],
            "text/plain": [
              "<IPython.core.display.HTML object>"
            ]
          },
          "metadata": {},
          "output_type": "display_data"
        },
        {
          "data": {
            "text/html": [
              "Find logs at: <code>./wandb/run-20230317_132418-uhqyodpi/logs</code>"
            ],
            "text/plain": [
              "<IPython.core.display.HTML object>"
            ]
          },
          "metadata": {},
          "output_type": "display_data"
        },
        {
          "name": "stderr",
          "output_type": "stream",
          "text": [
            "\u001b[34m\u001b[1mwandb\u001b[0m: Agent Starting Run: 671svvle with config:\n",
            "\u001b[34m\u001b[1mwandb\u001b[0m: \tactivation: sigmoid\n",
            "\u001b[34m\u001b[1mwandb\u001b[0m: \tbatchSize: 128\n",
            "\u001b[34m\u001b[1mwandb\u001b[0m: \tepochs: 10\n",
            "\u001b[34m\u001b[1mwandb\u001b[0m: \thidLayer: [32, 64, 128]\n",
            "\u001b[34m\u001b[1mwandb\u001b[0m: \tinitForm: xavier\n",
            "\u001b[34m\u001b[1mwandb\u001b[0m: \tlearningRate: 0.01\n",
            "\u001b[34m\u001b[1mwandb\u001b[0m: \tlossFn: square_loss\n",
            "\u001b[34m\u001b[1mwandb\u001b[0m: \toptimiser: mgd\n",
            "\u001b[34m\u001b[1mwandb\u001b[0m: \tweight_decay: 0\n",
            "\u001b[34m\u001b[1mwandb\u001b[0m: \u001b[33mWARNING\u001b[0m Ignored wandb.init() arg project when running a sweep.\n",
            "\u001b[34m\u001b[1mwandb\u001b[0m: \u001b[33mWARNING\u001b[0m Ignored wandb.init() arg entity when running a sweep.\n"
          ]
        },
        {
          "data": {
            "text/html": [
              "Tracking run with wandb version 0.14.0"
            ],
            "text/plain": [
              "<IPython.core.display.HTML object>"
            ]
          },
          "metadata": {},
          "output_type": "display_data"
        },
        {
          "data": {
            "text/html": [
              "Run data is saved locally in <code>/content/wandb/run-20230317_133238-671svvle</code>"
            ],
            "text/plain": [
              "<IPython.core.display.HTML object>"
            ]
          },
          "metadata": {},
          "output_type": "display_data"
        },
        {
          "data": {
            "text/html": [
              "Syncing run <strong><a href='https://wandb.ai/sleya7110/Assignment1DLQ9/runs/671svvle' target=\"_blank\">soft-sweep-18</a></strong> to <a href='https://wandb.ai/sleya7110/Assignment1DLQ9' target=\"_blank\">Weights & Biases</a> (<a href='https://wandb.me/run' target=\"_blank\">docs</a>)<br/>Sweep page: <a href='https://wandb.ai/sleya7110/Assignment1DLQ9/sweeps/h6gghlmm' target=\"_blank\">https://wandb.ai/sleya7110/Assignment1DLQ9/sweeps/h6gghlmm</a>"
            ],
            "text/plain": [
              "<IPython.core.display.HTML object>"
            ]
          },
          "metadata": {},
          "output_type": "display_data"
        },
        {
          "data": {
            "text/html": [
              " View project at <a href='https://wandb.ai/sleya7110/Assignment1DLQ9' target=\"_blank\">https://wandb.ai/sleya7110/Assignment1DLQ9</a>"
            ],
            "text/plain": [
              "<IPython.core.display.HTML object>"
            ]
          },
          "metadata": {},
          "output_type": "display_data"
        },
        {
          "data": {
            "text/html": [
              " View sweep at <a href='https://wandb.ai/sleya7110/Assignment1DLQ9/sweeps/h6gghlmm' target=\"_blank\">https://wandb.ai/sleya7110/Assignment1DLQ9/sweeps/h6gghlmm</a>"
            ],
            "text/plain": [
              "<IPython.core.display.HTML object>"
            ]
          },
          "metadata": {},
          "output_type": "display_data"
        },
        {
          "data": {
            "text/html": [
              " View run at <a href='https://wandb.ai/sleya7110/Assignment1DLQ9/runs/671svvle' target=\"_blank\">https://wandb.ai/sleya7110/Assignment1DLQ9/runs/671svvle</a>"
            ],
            "text/plain": [
              "<IPython.core.display.HTML object>"
            ]
          },
          "metadata": {},
          "output_type": "display_data"
        },
        {
          "name": "stdout",
          "output_type": "stream",
          "text": [
            "W length= 4\n",
            "B length= 4\n",
            "W shape= (10, 128)\n",
            "B shape= (10, 1)\n",
            "Epoch 0: training_accuracy = 8.80 %, training_loss= 0.45273  ,Validation accuracy = 9.37 ,Validation loss = 0.45278\n",
            "Epoch 1: training_accuracy = 9.49 %, training_loss= 0.45252  ,Validation accuracy = 9.92 ,Validation loss = 0.45256\n",
            "Epoch 2: training_accuracy = 10.18 %, training_loss= 0.45230  ,Validation accuracy = 10.53 ,Validation loss = 0.45235\n",
            "Epoch 3: training_accuracy = 10.87 %, training_loss= 0.45208  ,Validation accuracy = 11.05 ,Validation loss = 0.45214\n",
            "Epoch 4: training_accuracy = 11.57 %, training_loss= 0.45186  ,Validation accuracy = 11.65 ,Validation loss = 0.45193\n",
            "Epoch 5: training_accuracy = 12.31 %, training_loss= 0.45164  ,Validation accuracy = 12.42 ,Validation loss = 0.45171\n",
            "Epoch 6: training_accuracy = 13.10 %, training_loss= 0.45143  ,Validation accuracy = 13.13 ,Validation loss = 0.45150\n",
            "Epoch 7: training_accuracy = 13.84 %, training_loss= 0.45121  ,Validation accuracy = 13.60 ,Validation loss = 0.45129\n",
            "Epoch 8: training_accuracy = 14.55 %, training_loss= 0.45099  ,Validation accuracy = 13.93 ,Validation loss = 0.45107\n",
            "Epoch 9: training_accuracy = 15.10 %, training_loss= 0.45077  ,Validation accuracy = 14.55 ,Validation loss = 0.45086\n"
          ]
        },
        {
          "data": {
            "text/html": [
              "Waiting for W&B process to finish... <strong style=\"color:green\">(success).</strong>"
            ],
            "text/plain": [
              "<IPython.core.display.HTML object>"
            ]
          },
          "metadata": {},
          "output_type": "display_data"
        },
        {
          "data": {
            "application/vnd.jupyter.widget-view+json": {
              "model_id": "d143727f7b4e407f95d6e085c6e31995",
              "version_major": 2,
              "version_minor": 0
            },
            "text/plain": [
              "VBox(children=(Label(value='0.001 MB of 0.001 MB uploaded (0.000 MB deduped)\\r'), FloatProgress(value=1.0, max…"
            ]
          },
          "metadata": {},
          "output_type": "display_data"
        },
        {
          "data": {
            "text/html": [
              "<style>\n",
              "    table.wandb td:nth-child(1) { padding: 0 10px; text-align: left ; width: auto;} td:nth-child(2) {text-align: left ; width: 100%}\n",
              "    .wandb-row { display: flex; flex-direction: row; flex-wrap: wrap; justify-content: flex-start; width: 100% }\n",
              "    .wandb-col { display: flex; flex-direction: column; flex-basis: 100%; flex: 1; padding: 10px; }\n",
              "    </style>\n",
              "<div class=\"wandb-row\"><div class=\"wandb-col\"><h3>Run history:</h3><br/><table class=\"wandb\"><tr><td>accuracy</td><td>▁▂▃▃▄▅▆▇▇█</td></tr><tr><td>steps</td><td>▁▁▁▁▁▁▁▁▁▁</td></tr><tr><td>train_loss</td><td>█▇▆▆▅▄▃▃▂▁</td></tr><tr><td>val_accuracy</td><td>▁▂▃▃▄▅▆▇▇█</td></tr><tr><td>val_loss</td><td>█▇▆▆▅▄▃▃▂▁</td></tr></table><br/></div><div class=\"wandb-col\"><h3>Run summary:</h3><br/><table class=\"wandb\"><tr><td>accuracy</td><td>15.102</td></tr><tr><td>steps</td><td>10</td></tr><tr><td>train_loss</td><td>0.45077</td></tr><tr><td>val_accuracy</td><td>14.55</td></tr><tr><td>val_loss</td><td>0.45086</td></tr></table><br/></div></div>"
            ],
            "text/plain": [
              "<IPython.core.display.HTML object>"
            ]
          },
          "metadata": {},
          "output_type": "display_data"
        },
        {
          "data": {
            "text/html": [
              " View run <strong style=\"color:#cdcd00\">soft-sweep-18</strong> at: <a href='https://wandb.ai/sleya7110/Assignment1DLQ9/runs/671svvle' target=\"_blank\">https://wandb.ai/sleya7110/Assignment1DLQ9/runs/671svvle</a><br/>Synced 5 W&B file(s), 0 media file(s), 0 artifact file(s) and 0 other file(s)"
            ],
            "text/plain": [
              "<IPython.core.display.HTML object>"
            ]
          },
          "metadata": {},
          "output_type": "display_data"
        },
        {
          "data": {
            "text/html": [
              "Find logs at: <code>./wandb/run-20230317_133238-671svvle/logs</code>"
            ],
            "text/plain": [
              "<IPython.core.display.HTML object>"
            ]
          },
          "metadata": {},
          "output_type": "display_data"
        },
        {
          "name": "stderr",
          "output_type": "stream",
          "text": [
            "\u001b[34m\u001b[1mwandb\u001b[0m: Agent Starting Run: 7ir7k8gy with config:\n",
            "\u001b[34m\u001b[1mwandb\u001b[0m: \tactivation: relu\n",
            "\u001b[34m\u001b[1mwandb\u001b[0m: \tbatchSize: 64\n",
            "\u001b[34m\u001b[1mwandb\u001b[0m: \tepochs: 10\n",
            "\u001b[34m\u001b[1mwandb\u001b[0m: \thidLayer: [32, 64, 128]\n",
            "\u001b[34m\u001b[1mwandb\u001b[0m: \tinitForm: random\n",
            "\u001b[34m\u001b[1mwandb\u001b[0m: \tlearningRate: 0.01\n",
            "\u001b[34m\u001b[1mwandb\u001b[0m: \tlossFn: square_loss\n",
            "\u001b[34m\u001b[1mwandb\u001b[0m: \toptimiser: adam\n",
            "\u001b[34m\u001b[1mwandb\u001b[0m: \tweight_decay: 0.0005\n",
            "\u001b[34m\u001b[1mwandb\u001b[0m: \u001b[33mWARNING\u001b[0m Ignored wandb.init() arg project when running a sweep.\n",
            "\u001b[34m\u001b[1mwandb\u001b[0m: \u001b[33mWARNING\u001b[0m Ignored wandb.init() arg entity when running a sweep.\n"
          ]
        },
        {
          "data": {
            "text/html": [
              "Tracking run with wandb version 0.14.0"
            ],
            "text/plain": [
              "<IPython.core.display.HTML object>"
            ]
          },
          "metadata": {},
          "output_type": "display_data"
        },
        {
          "data": {
            "text/html": [
              "Run data is saved locally in <code>/content/wandb/run-20230317_133339-7ir7k8gy</code>"
            ],
            "text/plain": [
              "<IPython.core.display.HTML object>"
            ]
          },
          "metadata": {},
          "output_type": "display_data"
        },
        {
          "data": {
            "text/html": [
              "Syncing run <strong><a href='https://wandb.ai/sleya7110/Assignment1DLQ9/runs/7ir7k8gy' target=\"_blank\">cool-sweep-19</a></strong> to <a href='https://wandb.ai/sleya7110/Assignment1DLQ9' target=\"_blank\">Weights & Biases</a> (<a href='https://wandb.me/run' target=\"_blank\">docs</a>)<br/>Sweep page: <a href='https://wandb.ai/sleya7110/Assignment1DLQ9/sweeps/h6gghlmm' target=\"_blank\">https://wandb.ai/sleya7110/Assignment1DLQ9/sweeps/h6gghlmm</a>"
            ],
            "text/plain": [
              "<IPython.core.display.HTML object>"
            ]
          },
          "metadata": {},
          "output_type": "display_data"
        },
        {
          "data": {
            "text/html": [
              " View project at <a href='https://wandb.ai/sleya7110/Assignment1DLQ9' target=\"_blank\">https://wandb.ai/sleya7110/Assignment1DLQ9</a>"
            ],
            "text/plain": [
              "<IPython.core.display.HTML object>"
            ]
          },
          "metadata": {},
          "output_type": "display_data"
        },
        {
          "data": {
            "text/html": [
              " View sweep at <a href='https://wandb.ai/sleya7110/Assignment1DLQ9/sweeps/h6gghlmm' target=\"_blank\">https://wandb.ai/sleya7110/Assignment1DLQ9/sweeps/h6gghlmm</a>"
            ],
            "text/plain": [
              "<IPython.core.display.HTML object>"
            ]
          },
          "metadata": {},
          "output_type": "display_data"
        },
        {
          "data": {
            "text/html": [
              " View run at <a href='https://wandb.ai/sleya7110/Assignment1DLQ9/runs/7ir7k8gy' target=\"_blank\">https://wandb.ai/sleya7110/Assignment1DLQ9/runs/7ir7k8gy</a>"
            ],
            "text/plain": [
              "<IPython.core.display.HTML object>"
            ]
          },
          "metadata": {},
          "output_type": "display_data"
        },
        {
          "name": "stdout",
          "output_type": "stream",
          "text": [
            "W length= 4\n",
            "B length= 4\n",
            "W shape= (10, 128)\n",
            "B shape= (10, 1)\n"
          ]
        },
        {
          "name": "stderr",
          "output_type": "stream",
          "text": [
            "<ipython-input-14-27052d5c3141>:26: RuntimeWarning: invalid value encountered in true_divide\n",
            "  soft[:, i] = numr/np.sum(numr)\n"
          ]
        },
        {
          "name": "stdout",
          "output_type": "stream",
          "text": [
            "Epoch 0: training_accuracy = 10.01 %, training_loss= nan  ,Validation accuracy = 9.95 ,Validation loss = nan\n",
            "Epoch 1: training_accuracy = 10.01 %, training_loss= nan  ,Validation accuracy = 9.95 ,Validation loss = nan\n",
            "Epoch 2: training_accuracy = 10.01 %, training_loss= nan  ,Validation accuracy = 9.95 ,Validation loss = nan\n",
            "Epoch 3: training_accuracy = 10.01 %, training_loss= nan  ,Validation accuracy = 9.95 ,Validation loss = nan\n",
            "Epoch 4: training_accuracy = 10.01 %, training_loss= nan  ,Validation accuracy = 9.95 ,Validation loss = nan\n",
            "Epoch 5: training_accuracy = 10.01 %, training_loss= nan  ,Validation accuracy = 9.95 ,Validation loss = nan\n",
            "Epoch 6: training_accuracy = 10.01 %, training_loss= nan  ,Validation accuracy = 9.95 ,Validation loss = nan\n",
            "Epoch 7: training_accuracy = 10.01 %, training_loss= nan  ,Validation accuracy = 9.95 ,Validation loss = nan\n",
            "Epoch 8: training_accuracy = 10.01 %, training_loss= nan  ,Validation accuracy = 9.95 ,Validation loss = nan\n",
            "Epoch 9: training_accuracy = 10.01 %, training_loss= nan  ,Validation accuracy = 9.95 ,Validation loss = nan\n"
          ]
        },
        {
          "data": {
            "text/html": [
              "Waiting for W&B process to finish... <strong style=\"color:green\">(success).</strong>"
            ],
            "text/plain": [
              "<IPython.core.display.HTML object>"
            ]
          },
          "metadata": {},
          "output_type": "display_data"
        },
        {
          "data": {
            "application/vnd.jupyter.widget-view+json": {
              "model_id": "f14c8d06a189473eb25fc54426ddcb0c",
              "version_major": 2,
              "version_minor": 0
            },
            "text/plain": [
              "VBox(children=(Label(value='0.001 MB of 0.001 MB uploaded (0.000 MB deduped)\\r'), FloatProgress(value=1.0, max…"
            ]
          },
          "metadata": {},
          "output_type": "display_data"
        },
        {
          "data": {
            "text/html": [
              "<style>\n",
              "    table.wandb td:nth-child(1) { padding: 0 10px; text-align: left ; width: auto;} td:nth-child(2) {text-align: left ; width: 100%}\n",
              "    .wandb-row { display: flex; flex-direction: row; flex-wrap: wrap; justify-content: flex-start; width: 100% }\n",
              "    .wandb-col { display: flex; flex-direction: column; flex-basis: 100%; flex: 1; padding: 10px; }\n",
              "    </style>\n",
              "<div class=\"wandb-row\"><div class=\"wandb-col\"><h3>Run history:</h3><br/><table class=\"wandb\"><tr><td>accuracy</td><td>▁▁▁▁▁▁▁▁▁▁</td></tr><tr><td>steps</td><td>▁▁▁▁▁▁▁▁▁▁</td></tr><tr><td>val_accuracy</td><td>▁▁▁▁▁▁▁▁▁▁</td></tr></table><br/></div><div class=\"wandb-col\"><h3>Run summary:</h3><br/><table class=\"wandb\"><tr><td>accuracy</td><td>10.006</td></tr><tr><td>steps</td><td>10</td></tr><tr><td>train_loss</td><td>nan</td></tr><tr><td>val_accuracy</td><td>9.95</td></tr><tr><td>val_loss</td><td>nan</td></tr></table><br/></div></div>"
            ],
            "text/plain": [
              "<IPython.core.display.HTML object>"
            ]
          },
          "metadata": {},
          "output_type": "display_data"
        },
        {
          "data": {
            "text/html": [
              " View run <strong style=\"color:#cdcd00\">cool-sweep-19</strong> at: <a href='https://wandb.ai/sleya7110/Assignment1DLQ9/runs/7ir7k8gy' target=\"_blank\">https://wandb.ai/sleya7110/Assignment1DLQ9/runs/7ir7k8gy</a><br/>Synced 5 W&B file(s), 0 media file(s), 0 artifact file(s) and 0 other file(s)"
            ],
            "text/plain": [
              "<IPython.core.display.HTML object>"
            ]
          },
          "metadata": {},
          "output_type": "display_data"
        },
        {
          "data": {
            "text/html": [
              "Find logs at: <code>./wandb/run-20230317_133339-7ir7k8gy/logs</code>"
            ],
            "text/plain": [
              "<IPython.core.display.HTML object>"
            ]
          },
          "metadata": {},
          "output_type": "display_data"
        },
        {
          "name": "stderr",
          "output_type": "stream",
          "text": [
            "\u001b[34m\u001b[1mwandb\u001b[0m: Agent Starting Run: z0k23y4u with config:\n",
            "\u001b[34m\u001b[1mwandb\u001b[0m: \tactivation: tanh\n",
            "\u001b[34m\u001b[1mwandb\u001b[0m: \tbatchSize: 64\n",
            "\u001b[34m\u001b[1mwandb\u001b[0m: \tepochs: 10\n",
            "\u001b[34m\u001b[1mwandb\u001b[0m: \thidLayer: [64, 64, 64]\n",
            "\u001b[34m\u001b[1mwandb\u001b[0m: \tinitForm: random\n",
            "\u001b[34m\u001b[1mwandb\u001b[0m: \tlearningRate: 0.01\n",
            "\u001b[34m\u001b[1mwandb\u001b[0m: \tlossFn: square_loss\n",
            "\u001b[34m\u001b[1mwandb\u001b[0m: \toptimiser: mgd\n",
            "\u001b[34m\u001b[1mwandb\u001b[0m: \tweight_decay: 0.0005\n",
            "\u001b[34m\u001b[1mwandb\u001b[0m: \u001b[33mWARNING\u001b[0m Ignored wandb.init() arg project when running a sweep.\n",
            "\u001b[34m\u001b[1mwandb\u001b[0m: \u001b[33mWARNING\u001b[0m Ignored wandb.init() arg entity when running a sweep.\n"
          ]
        },
        {
          "data": {
            "text/html": [
              "Tracking run with wandb version 0.14.0"
            ],
            "text/plain": [
              "<IPython.core.display.HTML object>"
            ]
          },
          "metadata": {},
          "output_type": "display_data"
        },
        {
          "data": {
            "text/html": [
              "Run data is saved locally in <code>/content/wandb/run-20230317_133437-z0k23y4u</code>"
            ],
            "text/plain": [
              "<IPython.core.display.HTML object>"
            ]
          },
          "metadata": {},
          "output_type": "display_data"
        },
        {
          "data": {
            "text/html": [
              "Syncing run <strong><a href='https://wandb.ai/sleya7110/Assignment1DLQ9/runs/z0k23y4u' target=\"_blank\">lucky-sweep-20</a></strong> to <a href='https://wandb.ai/sleya7110/Assignment1DLQ9' target=\"_blank\">Weights & Biases</a> (<a href='https://wandb.me/run' target=\"_blank\">docs</a>)<br/>Sweep page: <a href='https://wandb.ai/sleya7110/Assignment1DLQ9/sweeps/h6gghlmm' target=\"_blank\">https://wandb.ai/sleya7110/Assignment1DLQ9/sweeps/h6gghlmm</a>"
            ],
            "text/plain": [
              "<IPython.core.display.HTML object>"
            ]
          },
          "metadata": {},
          "output_type": "display_data"
        },
        {
          "data": {
            "text/html": [
              " View project at <a href='https://wandb.ai/sleya7110/Assignment1DLQ9' target=\"_blank\">https://wandb.ai/sleya7110/Assignment1DLQ9</a>"
            ],
            "text/plain": [
              "<IPython.core.display.HTML object>"
            ]
          },
          "metadata": {},
          "output_type": "display_data"
        },
        {
          "data": {
            "text/html": [
              " View sweep at <a href='https://wandb.ai/sleya7110/Assignment1DLQ9/sweeps/h6gghlmm' target=\"_blank\">https://wandb.ai/sleya7110/Assignment1DLQ9/sweeps/h6gghlmm</a>"
            ],
            "text/plain": [
              "<IPython.core.display.HTML object>"
            ]
          },
          "metadata": {},
          "output_type": "display_data"
        },
        {
          "data": {
            "text/html": [
              " View run at <a href='https://wandb.ai/sleya7110/Assignment1DLQ9/runs/z0k23y4u' target=\"_blank\">https://wandb.ai/sleya7110/Assignment1DLQ9/runs/z0k23y4u</a>"
            ],
            "text/plain": [
              "<IPython.core.display.HTML object>"
            ]
          },
          "metadata": {},
          "output_type": "display_data"
        },
        {
          "name": "stdout",
          "output_type": "stream",
          "text": [
            "W length= 4\n",
            "B length= 4\n",
            "W shape= (10, 64)\n",
            "B shape= (10, 1)\n",
            "Epoch 0: training_accuracy = 9.96 %, training_loss= 0.44989  ,Validation accuracy = 10.35 ,Validation loss = 0.44983\n",
            "Epoch 1: training_accuracy = 9.96 %, training_loss= 0.44971  ,Validation accuracy = 10.35 ,Validation loss = 0.44965\n",
            "Epoch 2: training_accuracy = 9.96 %, training_loss= 0.44955  ,Validation accuracy = 10.35 ,Validation loss = 0.44948\n",
            "Epoch 3: training_accuracy = 10.27 %, training_loss= 0.44939  ,Validation accuracy = 10.70 ,Validation loss = 0.44932\n",
            "Epoch 4: training_accuracy = 11.69 %, training_loss= 0.44923  ,Validation accuracy = 11.95 ,Validation loss = 0.44916\n",
            "Epoch 5: training_accuracy = 13.01 %, training_loss= 0.44908  ,Validation accuracy = 13.27 ,Validation loss = 0.44901\n",
            "Epoch 6: training_accuracy = 13.87 %, training_loss= 0.44894  ,Validation accuracy = 14.32 ,Validation loss = 0.44886\n",
            "Epoch 7: training_accuracy = 14.48 %, training_loss= 0.44880  ,Validation accuracy = 14.97 ,Validation loss = 0.44871\n",
            "Epoch 8: training_accuracy = 14.95 %, training_loss= 0.44866  ,Validation accuracy = 15.48 ,Validation loss = 0.44858\n",
            "Epoch 9: training_accuracy = 15.29 %, training_loss= 0.44853  ,Validation accuracy = 15.87 ,Validation loss = 0.44844\n"
          ]
        },
        {
          "data": {
            "text/html": [
              "Waiting for W&B process to finish... <strong style=\"color:green\">(success).</strong>"
            ],
            "text/plain": [
              "<IPython.core.display.HTML object>"
            ]
          },
          "metadata": {},
          "output_type": "display_data"
        },
        {
          "data": {
            "application/vnd.jupyter.widget-view+json": {
              "model_id": "7e91e2ce08b3486d9cd56d28c0d2fc0f",
              "version_major": 2,
              "version_minor": 0
            },
            "text/plain": [
              "VBox(children=(Label(value='0.001 MB of 0.010 MB uploaded (0.000 MB deduped)\\r'), FloatProgress(value=0.066331…"
            ]
          },
          "metadata": {},
          "output_type": "display_data"
        },
        {
          "data": {
            "text/html": [
              "<style>\n",
              "    table.wandb td:nth-child(1) { padding: 0 10px; text-align: left ; width: auto;} td:nth-child(2) {text-align: left ; width: 100%}\n",
              "    .wandb-row { display: flex; flex-direction: row; flex-wrap: wrap; justify-content: flex-start; width: 100% }\n",
              "    .wandb-col { display: flex; flex-direction: column; flex-basis: 100%; flex: 1; padding: 10px; }\n",
              "    </style>\n",
              "<div class=\"wandb-row\"><div class=\"wandb-col\"><h3>Run history:</h3><br/><table class=\"wandb\"><tr><td>accuracy</td><td>▁▁▁▁▃▅▆▇██</td></tr><tr><td>steps</td><td>▁▁▁▁▁▁▁▁▁▁</td></tr><tr><td>train_loss</td><td>█▇▆▅▅▄▃▂▂▁</td></tr><tr><td>val_accuracy</td><td>▁▁▁▁▃▅▆▇██</td></tr><tr><td>val_loss</td><td>█▇▆▅▅▄▃▂▂▁</td></tr></table><br/></div><div class=\"wandb-col\"><h3>Run summary:</h3><br/><table class=\"wandb\"><tr><td>accuracy</td><td>15.291</td></tr><tr><td>steps</td><td>10</td></tr><tr><td>train_loss</td><td>0.44853</td></tr><tr><td>val_accuracy</td><td>15.867</td></tr><tr><td>val_loss</td><td>0.44844</td></tr></table><br/></div></div>"
            ],
            "text/plain": [
              "<IPython.core.display.HTML object>"
            ]
          },
          "metadata": {},
          "output_type": "display_data"
        },
        {
          "data": {
            "text/html": [
              " View run <strong style=\"color:#cdcd00\">lucky-sweep-20</strong> at: <a href='https://wandb.ai/sleya7110/Assignment1DLQ9/runs/z0k23y4u' target=\"_blank\">https://wandb.ai/sleya7110/Assignment1DLQ9/runs/z0k23y4u</a><br/>Synced 5 W&B file(s), 0 media file(s), 0 artifact file(s) and 0 other file(s)"
            ],
            "text/plain": [
              "<IPython.core.display.HTML object>"
            ]
          },
          "metadata": {},
          "output_type": "display_data"
        },
        {
          "data": {
            "text/html": [
              "Find logs at: <code>./wandb/run-20230317_133437-z0k23y4u/logs</code>"
            ],
            "text/plain": [
              "<IPython.core.display.HTML object>"
            ]
          },
          "metadata": {},
          "output_type": "display_data"
        },
        {
          "name": "stderr",
          "output_type": "stream",
          "text": [
            "\u001b[34m\u001b[1mwandb\u001b[0m: Agent Starting Run: tuxqkdg6 with config:\n",
            "\u001b[34m\u001b[1mwandb\u001b[0m: \tactivation: relu\n",
            "\u001b[34m\u001b[1mwandb\u001b[0m: \tbatchSize: 128\n",
            "\u001b[34m\u001b[1mwandb\u001b[0m: \tepochs: 10\n",
            "\u001b[34m\u001b[1mwandb\u001b[0m: \thidLayer: [128, 128, 128]\n",
            "\u001b[34m\u001b[1mwandb\u001b[0m: \tinitForm: random\n",
            "\u001b[34m\u001b[1mwandb\u001b[0m: \tlearningRate: 0.001\n",
            "\u001b[34m\u001b[1mwandb\u001b[0m: \tlossFn: square_loss\n",
            "\u001b[34m\u001b[1mwandb\u001b[0m: \toptimiser: mgd\n",
            "\u001b[34m\u001b[1mwandb\u001b[0m: \tweight_decay: 0\n",
            "\u001b[34m\u001b[1mwandb\u001b[0m: \u001b[33mWARNING\u001b[0m Ignored wandb.init() arg project when running a sweep.\n",
            "\u001b[34m\u001b[1mwandb\u001b[0m: \u001b[33mWARNING\u001b[0m Ignored wandb.init() arg entity when running a sweep.\n"
          ]
        },
        {
          "data": {
            "text/html": [
              "Tracking run with wandb version 0.14.0"
            ],
            "text/plain": [
              "<IPython.core.display.HTML object>"
            ]
          },
          "metadata": {},
          "output_type": "display_data"
        },
        {
          "data": {
            "text/html": [
              "Run data is saved locally in <code>/content/wandb/run-20230317_133548-tuxqkdg6</code>"
            ],
            "text/plain": [
              "<IPython.core.display.HTML object>"
            ]
          },
          "metadata": {},
          "output_type": "display_data"
        },
        {
          "data": {
            "text/html": [
              "Syncing run <strong><a href='https://wandb.ai/sleya7110/Assignment1DLQ9/runs/tuxqkdg6' target=\"_blank\">dutiful-sweep-21</a></strong> to <a href='https://wandb.ai/sleya7110/Assignment1DLQ9' target=\"_blank\">Weights & Biases</a> (<a href='https://wandb.me/run' target=\"_blank\">docs</a>)<br/>Sweep page: <a href='https://wandb.ai/sleya7110/Assignment1DLQ9/sweeps/h6gghlmm' target=\"_blank\">https://wandb.ai/sleya7110/Assignment1DLQ9/sweeps/h6gghlmm</a>"
            ],
            "text/plain": [
              "<IPython.core.display.HTML object>"
            ]
          },
          "metadata": {},
          "output_type": "display_data"
        },
        {
          "data": {
            "text/html": [
              " View project at <a href='https://wandb.ai/sleya7110/Assignment1DLQ9' target=\"_blank\">https://wandb.ai/sleya7110/Assignment1DLQ9</a>"
            ],
            "text/plain": [
              "<IPython.core.display.HTML object>"
            ]
          },
          "metadata": {},
          "output_type": "display_data"
        },
        {
          "data": {
            "text/html": [
              " View sweep at <a href='https://wandb.ai/sleya7110/Assignment1DLQ9/sweeps/h6gghlmm' target=\"_blank\">https://wandb.ai/sleya7110/Assignment1DLQ9/sweeps/h6gghlmm</a>"
            ],
            "text/plain": [
              "<IPython.core.display.HTML object>"
            ]
          },
          "metadata": {},
          "output_type": "display_data"
        },
        {
          "data": {
            "text/html": [
              " View run at <a href='https://wandb.ai/sleya7110/Assignment1DLQ9/runs/tuxqkdg6' target=\"_blank\">https://wandb.ai/sleya7110/Assignment1DLQ9/runs/tuxqkdg6</a>"
            ],
            "text/plain": [
              "<IPython.core.display.HTML object>"
            ]
          },
          "metadata": {},
          "output_type": "display_data"
        },
        {
          "name": "stdout",
          "output_type": "stream",
          "text": [
            "W length= 4\n",
            "B length= 4\n",
            "W shape= (10, 128)\n",
            "B shape= (10, 1)\n",
            "Epoch 0: training_accuracy = 11.65 %, training_loss= 0.45197  ,Validation accuracy = 11.00 ,Validation loss = 0.45211\n",
            "Epoch 1: training_accuracy = 11.65 %, training_loss= 0.45118  ,Validation accuracy = 11.48 ,Validation loss = 0.45129\n",
            "Epoch 2: training_accuracy = 11.42 %, training_loss= 0.45049  ,Validation accuracy = 11.03 ,Validation loss = 0.45058\n",
            "Epoch 3: training_accuracy = 10.97 %, training_loss= 0.44981  ,Validation accuracy = 10.78 ,Validation loss = 0.44988\n",
            "Epoch 4: training_accuracy = 10.64 %, training_loss= 0.44914  ,Validation accuracy = 10.40 ,Validation loss = 0.44919\n",
            "Epoch 5: training_accuracy = 10.90 %, training_loss= 0.44848  ,Validation accuracy = 10.30 ,Validation loss = 0.44851\n",
            "Epoch 6: training_accuracy = 15.55 %, training_loss= 0.44784  ,Validation accuracy = 14.70 ,Validation loss = 0.44785\n",
            "Epoch 7: training_accuracy = 16.00 %, training_loss= 0.44720  ,Validation accuracy = 15.40 ,Validation loss = 0.44720\n",
            "Epoch 8: training_accuracy = 16.11 %, training_loss= 0.44659  ,Validation accuracy = 15.37 ,Validation loss = 0.44657\n",
            "Epoch 9: training_accuracy = 16.33 %, training_loss= 0.44598  ,Validation accuracy = 15.53 ,Validation loss = 0.44594\n"
          ]
        },
        {
          "data": {
            "text/html": [
              "Waiting for W&B process to finish... <strong style=\"color:green\">(success).</strong>"
            ],
            "text/plain": [
              "<IPython.core.display.HTML object>"
            ]
          },
          "metadata": {},
          "output_type": "display_data"
        },
        {
          "data": {
            "application/vnd.jupyter.widget-view+json": {
              "model_id": "c9f266e3f6d24ff5a7fd1d0d7d924b40",
              "version_major": 2,
              "version_minor": 0
            },
            "text/plain": [
              "VBox(children=(Label(value='0.001 MB of 0.001 MB uploaded (0.000 MB deduped)\\r'), FloatProgress(value=1.0, max…"
            ]
          },
          "metadata": {},
          "output_type": "display_data"
        },
        {
          "data": {
            "text/html": [
              "<style>\n",
              "    table.wandb td:nth-child(1) { padding: 0 10px; text-align: left ; width: auto;} td:nth-child(2) {text-align: left ; width: 100%}\n",
              "    .wandb-row { display: flex; flex-direction: row; flex-wrap: wrap; justify-content: flex-start; width: 100% }\n",
              "    .wandb-col { display: flex; flex-direction: column; flex-basis: 100%; flex: 1; padding: 10px; }\n",
              "    </style>\n",
              "<div class=\"wandb-row\"><div class=\"wandb-col\"><h3>Run history:</h3><br/><table class=\"wandb\"><tr><td>accuracy</td><td>▂▂▂▁▁▁▇███</td></tr><tr><td>steps</td><td>▁▁▁▁▁▁▁▁▁▁</td></tr><tr><td>train_loss</td><td>█▇▆▅▅▄▃▂▂▁</td></tr><tr><td>val_accuracy</td><td>▂▃▂▂▁▁▇███</td></tr><tr><td>val_loss</td><td>█▇▆▅▅▄▃▂▂▁</td></tr></table><br/></div><div class=\"wandb-col\"><h3>Run summary:</h3><br/><table class=\"wandb\"><tr><td>accuracy</td><td>16.331</td></tr><tr><td>steps</td><td>10</td></tr><tr><td>train_loss</td><td>0.44598</td></tr><tr><td>val_accuracy</td><td>15.533</td></tr><tr><td>val_loss</td><td>0.44594</td></tr></table><br/></div></div>"
            ],
            "text/plain": [
              "<IPython.core.display.HTML object>"
            ]
          },
          "metadata": {},
          "output_type": "display_data"
        },
        {
          "data": {
            "text/html": [
              " View run <strong style=\"color:#cdcd00\">dutiful-sweep-21</strong> at: <a href='https://wandb.ai/sleya7110/Assignment1DLQ9/runs/tuxqkdg6' target=\"_blank\">https://wandb.ai/sleya7110/Assignment1DLQ9/runs/tuxqkdg6</a><br/>Synced 5 W&B file(s), 0 media file(s), 0 artifact file(s) and 0 other file(s)"
            ],
            "text/plain": [
              "<IPython.core.display.HTML object>"
            ]
          },
          "metadata": {},
          "output_type": "display_data"
        },
        {
          "data": {
            "text/html": [
              "Find logs at: <code>./wandb/run-20230317_133548-tuxqkdg6/logs</code>"
            ],
            "text/plain": [
              "<IPython.core.display.HTML object>"
            ]
          },
          "metadata": {},
          "output_type": "display_data"
        },
        {
          "name": "stderr",
          "output_type": "stream",
          "text": [
            "\u001b[34m\u001b[1mwandb\u001b[0m: Agent Starting Run: oixu4irf with config:\n",
            "\u001b[34m\u001b[1mwandb\u001b[0m: \tactivation: sigmoid\n",
            "\u001b[34m\u001b[1mwandb\u001b[0m: \tbatchSize: 32\n",
            "\u001b[34m\u001b[1mwandb\u001b[0m: \tepochs: 20\n",
            "\u001b[34m\u001b[1mwandb\u001b[0m: \thidLayer: [32, 64, 128]\n",
            "\u001b[34m\u001b[1mwandb\u001b[0m: \tinitForm: xavier\n",
            "\u001b[34m\u001b[1mwandb\u001b[0m: \tlearningRate: 0.001\n",
            "\u001b[34m\u001b[1mwandb\u001b[0m: \tlossFn: square_loss\n",
            "\u001b[34m\u001b[1mwandb\u001b[0m: \toptimiser: nadam\n",
            "\u001b[34m\u001b[1mwandb\u001b[0m: \tweight_decay: 0\n",
            "\u001b[34m\u001b[1mwandb\u001b[0m: \u001b[33mWARNING\u001b[0m Ignored wandb.init() arg project when running a sweep.\n",
            "\u001b[34m\u001b[1mwandb\u001b[0m: \u001b[33mWARNING\u001b[0m Ignored wandb.init() arg entity when running a sweep.\n"
          ]
        },
        {
          "data": {
            "text/html": [
              "Tracking run with wandb version 0.14.0"
            ],
            "text/plain": [
              "<IPython.core.display.HTML object>"
            ]
          },
          "metadata": {},
          "output_type": "display_data"
        },
        {
          "data": {
            "text/html": [
              "Run data is saved locally in <code>/content/wandb/run-20230317_133700-oixu4irf</code>"
            ],
            "text/plain": [
              "<IPython.core.display.HTML object>"
            ]
          },
          "metadata": {},
          "output_type": "display_data"
        },
        {
          "data": {
            "text/html": [
              "Syncing run <strong><a href='https://wandb.ai/sleya7110/Assignment1DLQ9/runs/oixu4irf' target=\"_blank\">fresh-sweep-22</a></strong> to <a href='https://wandb.ai/sleya7110/Assignment1DLQ9' target=\"_blank\">Weights & Biases</a> (<a href='https://wandb.me/run' target=\"_blank\">docs</a>)<br/>Sweep page: <a href='https://wandb.ai/sleya7110/Assignment1DLQ9/sweeps/h6gghlmm' target=\"_blank\">https://wandb.ai/sleya7110/Assignment1DLQ9/sweeps/h6gghlmm</a>"
            ],
            "text/plain": [
              "<IPython.core.display.HTML object>"
            ]
          },
          "metadata": {},
          "output_type": "display_data"
        },
        {
          "data": {
            "text/html": [
              " View project at <a href='https://wandb.ai/sleya7110/Assignment1DLQ9' target=\"_blank\">https://wandb.ai/sleya7110/Assignment1DLQ9</a>"
            ],
            "text/plain": [
              "<IPython.core.display.HTML object>"
            ]
          },
          "metadata": {},
          "output_type": "display_data"
        },
        {
          "data": {
            "text/html": [
              " View sweep at <a href='https://wandb.ai/sleya7110/Assignment1DLQ9/sweeps/h6gghlmm' target=\"_blank\">https://wandb.ai/sleya7110/Assignment1DLQ9/sweeps/h6gghlmm</a>"
            ],
            "text/plain": [
              "<IPython.core.display.HTML object>"
            ]
          },
          "metadata": {},
          "output_type": "display_data"
        },
        {
          "data": {
            "text/html": [
              " View run at <a href='https://wandb.ai/sleya7110/Assignment1DLQ9/runs/oixu4irf' target=\"_blank\">https://wandb.ai/sleya7110/Assignment1DLQ9/runs/oixu4irf</a>"
            ],
            "text/plain": [
              "<IPython.core.display.HTML object>"
            ]
          },
          "metadata": {},
          "output_type": "display_data"
        },
        {
          "name": "stdout",
          "output_type": "stream",
          "text": [
            "W length= 4\n",
            "B length= 4\n",
            "W shape= (10, 128)\n",
            "B shape= (10, 1)\n",
            "Epoch 0: training_accuracy = 9.96 %, training_loss= 0.46348  ,Validation accuracy = 10.32 ,Validation loss = 0.46322\n",
            "Epoch 1: training_accuracy = 9.96 %, training_loss= 0.45921  ,Validation accuracy = 10.32 ,Validation loss = 0.45924\n"
          ]
        },
        {
          "name": "stderr",
          "output_type": "stream",
          "text": [
            "<ipython-input-14-27052d5c3141>:26: RuntimeWarning: invalid value encountered in true_divide\n",
            "  soft[:, i] = numr/np.sum(numr)\n"
          ]
        },
        {
          "name": "stdout",
          "output_type": "stream",
          "text": [
            "Epoch 2: training_accuracy = 10.01 %, training_loss= nan  ,Validation accuracy = 9.95 ,Validation loss = nan\n",
            "Epoch 3: training_accuracy = 10.01 %, training_loss= nan  ,Validation accuracy = 9.95 ,Validation loss = nan\n",
            "Epoch 4: training_accuracy = 10.01 %, training_loss= nan  ,Validation accuracy = 9.95 ,Validation loss = nan\n",
            "Epoch 5: training_accuracy = 10.01 %, training_loss= nan  ,Validation accuracy = 9.95 ,Validation loss = nan\n",
            "Epoch 6: training_accuracy = 10.01 %, training_loss= nan  ,Validation accuracy = 9.95 ,Validation loss = nan\n",
            "Epoch 7: training_accuracy = 10.01 %, training_loss= nan  ,Validation accuracy = 9.95 ,Validation loss = nan\n",
            "Epoch 8: training_accuracy = 10.01 %, training_loss= nan  ,Validation accuracy = 9.95 ,Validation loss = nan\n",
            "Epoch 9: training_accuracy = 10.01 %, training_loss= nan  ,Validation accuracy = 9.95 ,Validation loss = nan\n",
            "Epoch 10: training_accuracy = 10.01 %, training_loss= nan  ,Validation accuracy = 9.95 ,Validation loss = nan\n",
            "Epoch 11: training_accuracy = 10.01 %, training_loss= nan  ,Validation accuracy = 9.95 ,Validation loss = nan\n",
            "Epoch 12: training_accuracy = 10.01 %, training_loss= nan  ,Validation accuracy = 9.95 ,Validation loss = nan\n",
            "Epoch 13: training_accuracy = 10.01 %, training_loss= nan  ,Validation accuracy = 9.95 ,Validation loss = nan\n",
            "Epoch 14: training_accuracy = 10.01 %, training_loss= nan  ,Validation accuracy = 9.95 ,Validation loss = nan\n",
            "Epoch 15: training_accuracy = 10.01 %, training_loss= nan  ,Validation accuracy = 9.95 ,Validation loss = nan\n",
            "Epoch 16: training_accuracy = 10.01 %, training_loss= nan  ,Validation accuracy = 9.95 ,Validation loss = nan\n",
            "Epoch 17: training_accuracy = 10.01 %, training_loss= nan  ,Validation accuracy = 9.95 ,Validation loss = nan\n",
            "Epoch 18: training_accuracy = 10.01 %, training_loss= nan  ,Validation accuracy = 9.95 ,Validation loss = nan\n",
            "Epoch 19: training_accuracy = 10.01 %, training_loss= nan  ,Validation accuracy = 9.95 ,Validation loss = nan\n"
          ]
        },
        {
          "data": {
            "text/html": [
              "Waiting for W&B process to finish... <strong style=\"color:green\">(success).</strong>"
            ],
            "text/plain": [
              "<IPython.core.display.HTML object>"
            ]
          },
          "metadata": {},
          "output_type": "display_data"
        },
        {
          "data": {
            "application/vnd.jupyter.widget-view+json": {
              "model_id": "c9703d00ceb44932807caea1e95122a0",
              "version_major": 2,
              "version_minor": 0
            },
            "text/plain": [
              "VBox(children=(Label(value='0.001 MB of 0.001 MB uploaded (0.000 MB deduped)\\r'), FloatProgress(value=1.0, max…"
            ]
          },
          "metadata": {},
          "output_type": "display_data"
        },
        {
          "data": {
            "text/html": [
              "<style>\n",
              "    table.wandb td:nth-child(1) { padding: 0 10px; text-align: left ; width: auto;} td:nth-child(2) {text-align: left ; width: 100%}\n",
              "    .wandb-row { display: flex; flex-direction: row; flex-wrap: wrap; justify-content: flex-start; width: 100% }\n",
              "    .wandb-col { display: flex; flex-direction: column; flex-basis: 100%; flex: 1; padding: 10px; }\n",
              "    </style>\n",
              "<div class=\"wandb-row\"><div class=\"wandb-col\"><h3>Run history:</h3><br/><table class=\"wandb\"><tr><td>accuracy</td><td>▁▁██████████████████</td></tr><tr><td>steps</td><td>▁▁▁▁▁▁▁▁▁▁▁▁▁▁▁▁▁▁▁▁</td></tr><tr><td>train_loss</td><td>█▁                  </td></tr><tr><td>val_accuracy</td><td>██▁▁▁▁▁▁▁▁▁▁▁▁▁▁▁▁▁▁</td></tr><tr><td>val_loss</td><td>█▁                  </td></tr></table><br/></div><div class=\"wandb-col\"><h3>Run summary:</h3><br/><table class=\"wandb\"><tr><td>accuracy</td><td>10.006</td></tr><tr><td>steps</td><td>20</td></tr><tr><td>train_loss</td><td>nan</td></tr><tr><td>val_accuracy</td><td>9.95</td></tr><tr><td>val_loss</td><td>nan</td></tr></table><br/></div></div>"
            ],
            "text/plain": [
              "<IPython.core.display.HTML object>"
            ]
          },
          "metadata": {},
          "output_type": "display_data"
        },
        {
          "data": {
            "text/html": [
              " View run <strong style=\"color:#cdcd00\">fresh-sweep-22</strong> at: <a href='https://wandb.ai/sleya7110/Assignment1DLQ9/runs/oixu4irf' target=\"_blank\">https://wandb.ai/sleya7110/Assignment1DLQ9/runs/oixu4irf</a><br/>Synced 5 W&B file(s), 0 media file(s), 0 artifact file(s) and 0 other file(s)"
            ],
            "text/plain": [
              "<IPython.core.display.HTML object>"
            ]
          },
          "metadata": {},
          "output_type": "display_data"
        },
        {
          "data": {
            "text/html": [
              "Find logs at: <code>./wandb/run-20230317_133700-oixu4irf/logs</code>"
            ],
            "text/plain": [
              "<IPython.core.display.HTML object>"
            ]
          },
          "metadata": {},
          "output_type": "display_data"
        },
        {
          "name": "stderr",
          "output_type": "stream",
          "text": [
            "\u001b[34m\u001b[1mwandb\u001b[0m: Agent Starting Run: iz1s70lg with config:\n",
            "\u001b[34m\u001b[1mwandb\u001b[0m: \tactivation: tanh\n",
            "\u001b[34m\u001b[1mwandb\u001b[0m: \tbatchSize: 64\n",
            "\u001b[34m\u001b[1mwandb\u001b[0m: \tepochs: 10\n",
            "\u001b[34m\u001b[1mwandb\u001b[0m: \thidLayer: [32, 64, 128]\n",
            "\u001b[34m\u001b[1mwandb\u001b[0m: \tinitForm: random\n",
            "\u001b[34m\u001b[1mwandb\u001b[0m: \tlearningRate: 0.01\n",
            "\u001b[34m\u001b[1mwandb\u001b[0m: \tlossFn: square_loss\n",
            "\u001b[34m\u001b[1mwandb\u001b[0m: \toptimiser: gd\n",
            "\u001b[34m\u001b[1mwandb\u001b[0m: \tweight_decay: 0.0005\n",
            "\u001b[34m\u001b[1mwandb\u001b[0m: \u001b[33mWARNING\u001b[0m Ignored wandb.init() arg project when running a sweep.\n",
            "\u001b[34m\u001b[1mwandb\u001b[0m: \u001b[33mWARNING\u001b[0m Ignored wandb.init() arg entity when running a sweep.\n"
          ]
        },
        {
          "data": {
            "text/html": [
              "Tracking run with wandb version 0.14.0"
            ],
            "text/plain": [
              "<IPython.core.display.HTML object>"
            ]
          },
          "metadata": {},
          "output_type": "display_data"
        },
        {
          "data": {
            "text/html": [
              "Run data is saved locally in <code>/content/wandb/run-20230317_134024-iz1s70lg</code>"
            ],
            "text/plain": [
              "<IPython.core.display.HTML object>"
            ]
          },
          "metadata": {},
          "output_type": "display_data"
        },
        {
          "data": {
            "text/html": [
              "Syncing run <strong><a href='https://wandb.ai/sleya7110/Assignment1DLQ9/runs/iz1s70lg' target=\"_blank\">young-sweep-23</a></strong> to <a href='https://wandb.ai/sleya7110/Assignment1DLQ9' target=\"_blank\">Weights & Biases</a> (<a href='https://wandb.me/run' target=\"_blank\">docs</a>)<br/>Sweep page: <a href='https://wandb.ai/sleya7110/Assignment1DLQ9/sweeps/h6gghlmm' target=\"_blank\">https://wandb.ai/sleya7110/Assignment1DLQ9/sweeps/h6gghlmm</a>"
            ],
            "text/plain": [
              "<IPython.core.display.HTML object>"
            ]
          },
          "metadata": {},
          "output_type": "display_data"
        },
        {
          "data": {
            "text/html": [
              " View project at <a href='https://wandb.ai/sleya7110/Assignment1DLQ9' target=\"_blank\">https://wandb.ai/sleya7110/Assignment1DLQ9</a>"
            ],
            "text/plain": [
              "<IPython.core.display.HTML object>"
            ]
          },
          "metadata": {},
          "output_type": "display_data"
        },
        {
          "data": {
            "text/html": [
              " View sweep at <a href='https://wandb.ai/sleya7110/Assignment1DLQ9/sweeps/h6gghlmm' target=\"_blank\">https://wandb.ai/sleya7110/Assignment1DLQ9/sweeps/h6gghlmm</a>"
            ],
            "text/plain": [
              "<IPython.core.display.HTML object>"
            ]
          },
          "metadata": {},
          "output_type": "display_data"
        },
        {
          "data": {
            "text/html": [
              " View run at <a href='https://wandb.ai/sleya7110/Assignment1DLQ9/runs/iz1s70lg' target=\"_blank\">https://wandb.ai/sleya7110/Assignment1DLQ9/runs/iz1s70lg</a>"
            ],
            "text/plain": [
              "<IPython.core.display.HTML object>"
            ]
          },
          "metadata": {},
          "output_type": "display_data"
        },
        {
          "name": "stdout",
          "output_type": "stream",
          "text": [
            "W length= 4\n",
            "B length= 4\n",
            "W shape= (10, 128)\n",
            "B shape= (10, 1)\n",
            "Epoch 0: training_accuracy = 9.96 %, training_loss= 0.45223  ,Validation accuracy = 10.35 ,Validation loss = 0.45216\n",
            "Epoch 1: training_accuracy = 9.96 %, training_loss= 0.45003  ,Validation accuracy = 10.35 ,Validation loss = 0.45002\n",
            "Epoch 2: training_accuracy = 9.96 %, training_loss= 0.44999  ,Validation accuracy = 10.35 ,Validation loss = 0.44998\n",
            "Epoch 3: training_accuracy = 9.96 %, training_loss= 0.44998  ,Validation accuracy = 10.35 ,Validation loss = 0.44997\n",
            "Epoch 4: training_accuracy = 9.96 %, training_loss= 0.44997  ,Validation accuracy = 10.35 ,Validation loss = 0.44997\n",
            "Epoch 5: training_accuracy = 9.96 %, training_loss= 0.44996  ,Validation accuracy = 10.35 ,Validation loss = 0.44996\n",
            "Epoch 6: training_accuracy = 9.97 %, training_loss= 0.44996  ,Validation accuracy = 10.35 ,Validation loss = 0.44995\n",
            "Epoch 7: training_accuracy = 9.98 %, training_loss= 0.44995  ,Validation accuracy = 10.37 ,Validation loss = 0.44994\n",
            "Epoch 8: training_accuracy = 10.01 %, training_loss= 0.44994  ,Validation accuracy = 10.37 ,Validation loss = 0.44994\n",
            "Epoch 9: training_accuracy = 10.03 %, training_loss= 0.44994  ,Validation accuracy = 10.40 ,Validation loss = 0.44993\n"
          ]
        },
        {
          "data": {
            "text/html": [
              "Waiting for W&B process to finish... <strong style=\"color:green\">(success).</strong>"
            ],
            "text/plain": [
              "<IPython.core.display.HTML object>"
            ]
          },
          "metadata": {},
          "output_type": "display_data"
        },
        {
          "data": {
            "application/vnd.jupyter.widget-view+json": {
              "model_id": "7218eeb6bf8448a4bb612cd7b9f45212",
              "version_major": 2,
              "version_minor": 0
            },
            "text/plain": [
              "VBox(children=(Label(value='0.001 MB of 0.010 MB uploaded (0.000 MB deduped)\\r'), FloatProgress(value=0.067867…"
            ]
          },
          "metadata": {},
          "output_type": "display_data"
        },
        {
          "data": {
            "text/html": [
              "<style>\n",
              "    table.wandb td:nth-child(1) { padding: 0 10px; text-align: left ; width: auto;} td:nth-child(2) {text-align: left ; width: 100%}\n",
              "    .wandb-row { display: flex; flex-direction: row; flex-wrap: wrap; justify-content: flex-start; width: 100% }\n",
              "    .wandb-col { display: flex; flex-direction: column; flex-basis: 100%; flex: 1; padding: 10px; }\n",
              "    </style>\n",
              "<div class=\"wandb-row\"><div class=\"wandb-col\"><h3>Run history:</h3><br/><table class=\"wandb\"><tr><td>accuracy</td><td>▁▁▁▁▁▁▂▄▆█</td></tr><tr><td>steps</td><td>▁▁▁▁▁▁▁▁▁▁</td></tr><tr><td>train_loss</td><td>█▁▁▁▁▁▁▁▁▁</td></tr><tr><td>val_accuracy</td><td>▁▁▁▁▁▁▁▃▃█</td></tr><tr><td>val_loss</td><td>█▁▁▁▁▁▁▁▁▁</td></tr></table><br/></div><div class=\"wandb-col\"><h3>Run summary:</h3><br/><table class=\"wandb\"><tr><td>accuracy</td><td>10.026</td></tr><tr><td>steps</td><td>10</td></tr><tr><td>train_loss</td><td>0.44994</td></tr><tr><td>val_accuracy</td><td>10.4</td></tr><tr><td>val_loss</td><td>0.44993</td></tr></table><br/></div></div>"
            ],
            "text/plain": [
              "<IPython.core.display.HTML object>"
            ]
          },
          "metadata": {},
          "output_type": "display_data"
        },
        {
          "data": {
            "text/html": [
              " View run <strong style=\"color:#cdcd00\">young-sweep-23</strong> at: <a href='https://wandb.ai/sleya7110/Assignment1DLQ9/runs/iz1s70lg' target=\"_blank\">https://wandb.ai/sleya7110/Assignment1DLQ9/runs/iz1s70lg</a><br/>Synced 5 W&B file(s), 0 media file(s), 0 artifact file(s) and 0 other file(s)"
            ],
            "text/plain": [
              "<IPython.core.display.HTML object>"
            ]
          },
          "metadata": {},
          "output_type": "display_data"
        },
        {
          "data": {
            "text/html": [
              "Find logs at: <code>./wandb/run-20230317_134024-iz1s70lg/logs</code>"
            ],
            "text/plain": [
              "<IPython.core.display.HTML object>"
            ]
          },
          "metadata": {},
          "output_type": "display_data"
        },
        {
          "name": "stderr",
          "output_type": "stream",
          "text": [
            "\u001b[34m\u001b[1mwandb\u001b[0m: Agent Starting Run: dis74do2 with config:\n",
            "\u001b[34m\u001b[1mwandb\u001b[0m: \tactivation: tanh\n",
            "\u001b[34m\u001b[1mwandb\u001b[0m: \tbatchSize: 64\n",
            "\u001b[34m\u001b[1mwandb\u001b[0m: \tepochs: 50\n",
            "\u001b[34m\u001b[1mwandb\u001b[0m: \thidLayer: [32, 64, 128]\n",
            "\u001b[34m\u001b[1mwandb\u001b[0m: \tinitForm: xavier\n",
            "\u001b[34m\u001b[1mwandb\u001b[0m: \tlearningRate: 0.01\n",
            "\u001b[34m\u001b[1mwandb\u001b[0m: \tlossFn: square_loss\n",
            "\u001b[34m\u001b[1mwandb\u001b[0m: \toptimiser: mgd\n",
            "\u001b[34m\u001b[1mwandb\u001b[0m: \tweight_decay: 0\n",
            "\u001b[34m\u001b[1mwandb\u001b[0m: \u001b[33mWARNING\u001b[0m Ignored wandb.init() arg project when running a sweep.\n",
            "\u001b[34m\u001b[1mwandb\u001b[0m: \u001b[33mWARNING\u001b[0m Ignored wandb.init() arg entity when running a sweep.\n"
          ]
        },
        {
          "data": {
            "text/html": [
              "Tracking run with wandb version 0.14.0"
            ],
            "text/plain": [
              "<IPython.core.display.HTML object>"
            ]
          },
          "metadata": {},
          "output_type": "display_data"
        },
        {
          "data": {
            "text/html": [
              "Run data is saved locally in <code>/content/wandb/run-20230317_134131-dis74do2</code>"
            ],
            "text/plain": [
              "<IPython.core.display.HTML object>"
            ]
          },
          "metadata": {},
          "output_type": "display_data"
        },
        {
          "data": {
            "text/html": [
              "Syncing run <strong><a href='https://wandb.ai/sleya7110/Assignment1DLQ9/runs/dis74do2' target=\"_blank\">jolly-sweep-24</a></strong> to <a href='https://wandb.ai/sleya7110/Assignment1DLQ9' target=\"_blank\">Weights & Biases</a> (<a href='https://wandb.me/run' target=\"_blank\">docs</a>)<br/>Sweep page: <a href='https://wandb.ai/sleya7110/Assignment1DLQ9/sweeps/h6gghlmm' target=\"_blank\">https://wandb.ai/sleya7110/Assignment1DLQ9/sweeps/h6gghlmm</a>"
            ],
            "text/plain": [
              "<IPython.core.display.HTML object>"
            ]
          },
          "metadata": {},
          "output_type": "display_data"
        },
        {
          "data": {
            "text/html": [
              " View project at <a href='https://wandb.ai/sleya7110/Assignment1DLQ9' target=\"_blank\">https://wandb.ai/sleya7110/Assignment1DLQ9</a>"
            ],
            "text/plain": [
              "<IPython.core.display.HTML object>"
            ]
          },
          "metadata": {},
          "output_type": "display_data"
        },
        {
          "data": {
            "text/html": [
              " View sweep at <a href='https://wandb.ai/sleya7110/Assignment1DLQ9/sweeps/h6gghlmm' target=\"_blank\">https://wandb.ai/sleya7110/Assignment1DLQ9/sweeps/h6gghlmm</a>"
            ],
            "text/plain": [
              "<IPython.core.display.HTML object>"
            ]
          },
          "metadata": {},
          "output_type": "display_data"
        },
        {
          "data": {
            "text/html": [
              " View run at <a href='https://wandb.ai/sleya7110/Assignment1DLQ9/runs/dis74do2' target=\"_blank\">https://wandb.ai/sleya7110/Assignment1DLQ9/runs/dis74do2</a>"
            ],
            "text/plain": [
              "<IPython.core.display.HTML object>"
            ]
          },
          "metadata": {},
          "output_type": "display_data"
        },
        {
          "name": "stdout",
          "output_type": "stream",
          "text": [
            "W length= 4\n",
            "B length= 4\n",
            "W shape= (10, 128)\n",
            "B shape= (10, 1)\n",
            "Epoch 0: training_accuracy = 35.86 %, training_loss= 0.39166  ,Validation accuracy = 35.45 ,Validation loss = 0.39269\n",
            "Epoch 1: training_accuracy = 48.87 %, training_loss= 0.33351  ,Validation accuracy = 47.25 ,Validation loss = 0.33798\n",
            "Epoch 2: training_accuracy = 56.26 %, training_loss= 0.29846  ,Validation accuracy = 55.27 ,Validation loss = 0.30427\n",
            "Epoch 3: training_accuracy = 59.72 %, training_loss= 0.27824  ,Validation accuracy = 58.53 ,Validation loss = 0.28433\n",
            "Epoch 4: training_accuracy = 61.46 %, training_loss= 0.26607  ,Validation accuracy = 60.30 ,Validation loss = 0.27226\n",
            "Epoch 5: training_accuracy = 62.40 %, training_loss= 0.25795  ,Validation accuracy = 61.43 ,Validation loss = 0.26425\n",
            "Epoch 6: training_accuracy = 63.19 %, training_loss= 0.25209  ,Validation accuracy = 62.03 ,Validation loss = 0.25852\n",
            "Epoch 7: training_accuracy = 63.81 %, training_loss= 0.24763  ,Validation accuracy = 62.85 ,Validation loss = 0.25420\n",
            "Epoch 8: training_accuracy = 64.25 %, training_loss= 0.24412  ,Validation accuracy = 63.05 ,Validation loss = 0.25081\n",
            "Epoch 9: training_accuracy = 64.73 %, training_loss= 0.24127  ,Validation accuracy = 63.33 ,Validation loss = 0.24808\n",
            "Epoch 10: training_accuracy = 65.02 %, training_loss= 0.23890  ,Validation accuracy = 63.63 ,Validation loss = 0.24582\n",
            "Epoch 11: training_accuracy = 65.24 %, training_loss= 0.23690  ,Validation accuracy = 63.65 ,Validation loss = 0.24390\n",
            "Epoch 12: training_accuracy = 65.46 %, training_loss= 0.23518  ,Validation accuracy = 63.83 ,Validation loss = 0.24226\n",
            "Epoch 13: training_accuracy = 65.68 %, training_loss= 0.23368  ,Validation accuracy = 64.18 ,Validation loss = 0.24082\n",
            "Epoch 14: training_accuracy = 65.88 %, training_loss= 0.23235  ,Validation accuracy = 64.47 ,Validation loss = 0.23954\n",
            "Epoch 15: training_accuracy = 66.01 %, training_loss= 0.23116  ,Validation accuracy = 64.65 ,Validation loss = 0.23840\n",
            "Epoch 16: training_accuracy = 66.15 %, training_loss= 0.23009  ,Validation accuracy = 64.80 ,Validation loss = 0.23737\n",
            "Epoch 17: training_accuracy = 66.28 %, training_loss= 0.22911  ,Validation accuracy = 64.88 ,Validation loss = 0.23643\n",
            "Epoch 18: training_accuracy = 66.42 %, training_loss= 0.22821  ,Validation accuracy = 64.93 ,Validation loss = 0.23556\n",
            "Epoch 19: training_accuracy = 66.56 %, training_loss= 0.22739  ,Validation accuracy = 65.02 ,Validation loss = 0.23477\n",
            "Epoch 20: training_accuracy = 66.68 %, training_loss= 0.22663  ,Validation accuracy = 65.12 ,Validation loss = 0.23402\n",
            "Epoch 21: training_accuracy = 66.79 %, training_loss= 0.22592  ,Validation accuracy = 65.20 ,Validation loss = 0.23333\n",
            "Epoch 22: training_accuracy = 66.93 %, training_loss= 0.22525  ,Validation accuracy = 65.18 ,Validation loss = 0.23268\n",
            "Epoch 23: training_accuracy = 66.99 %, training_loss= 0.22463  ,Validation accuracy = 65.27 ,Validation loss = 0.23207\n",
            "Epoch 24: training_accuracy = 67.04 %, training_loss= 0.22404  ,Validation accuracy = 65.35 ,Validation loss = 0.23150\n",
            "Epoch 25: training_accuracy = 67.12 %, training_loss= 0.22349  ,Validation accuracy = 65.50 ,Validation loss = 0.23096\n",
            "Epoch 26: training_accuracy = 67.21 %, training_loss= 0.22296  ,Validation accuracy = 65.58 ,Validation loss = 0.23044\n",
            "Epoch 27: training_accuracy = 67.28 %, training_loss= 0.22246  ,Validation accuracy = 65.65 ,Validation loss = 0.22995\n",
            "Epoch 28: training_accuracy = 67.36 %, training_loss= 0.22199  ,Validation accuracy = 65.75 ,Validation loss = 0.22948\n",
            "Epoch 29: training_accuracy = 67.47 %, training_loss= 0.22154  ,Validation accuracy = 65.83 ,Validation loss = 0.22903\n",
            "Epoch 30: training_accuracy = 67.53 %, training_loss= 0.22111  ,Validation accuracy = 65.87 ,Validation loss = 0.22860\n",
            "Epoch 31: training_accuracy = 67.58 %, training_loss= 0.22070  ,Validation accuracy = 66.03 ,Validation loss = 0.22819\n",
            "Epoch 32: training_accuracy = 67.64 %, training_loss= 0.22030  ,Validation accuracy = 66.12 ,Validation loss = 0.22779\n",
            "Epoch 33: training_accuracy = 67.68 %, training_loss= 0.21993  ,Validation accuracy = 66.22 ,Validation loss = 0.22741\n",
            "Epoch 34: training_accuracy = 67.76 %, training_loss= 0.21956  ,Validation accuracy = 66.27 ,Validation loss = 0.22704\n",
            "Epoch 35: training_accuracy = 67.82 %, training_loss= 0.21921  ,Validation accuracy = 66.30 ,Validation loss = 0.22669\n",
            "Epoch 36: training_accuracy = 67.87 %, training_loss= 0.21888  ,Validation accuracy = 66.30 ,Validation loss = 0.22635\n",
            "Epoch 37: training_accuracy = 67.93 %, training_loss= 0.21855  ,Validation accuracy = 66.32 ,Validation loss = 0.22602\n",
            "Epoch 38: training_accuracy = 68.00 %, training_loss= 0.21824  ,Validation accuracy = 66.40 ,Validation loss = 0.22570\n",
            "Epoch 39: training_accuracy = 68.03 %, training_loss= 0.21794  ,Validation accuracy = 66.38 ,Validation loss = 0.22539\n",
            "Epoch 40: training_accuracy = 68.08 %, training_loss= 0.21765  ,Validation accuracy = 66.40 ,Validation loss = 0.22509\n",
            "Epoch 41: training_accuracy = 68.15 %, training_loss= 0.21737  ,Validation accuracy = 66.42 ,Validation loss = 0.22479\n",
            "Epoch 42: training_accuracy = 68.22 %, training_loss= 0.21709  ,Validation accuracy = 66.47 ,Validation loss = 0.22451\n",
            "Epoch 43: training_accuracy = 68.24 %, training_loss= 0.21683  ,Validation accuracy = 66.57 ,Validation loss = 0.22424\n",
            "Epoch 44: training_accuracy = 68.28 %, training_loss= 0.21657  ,Validation accuracy = 66.65 ,Validation loss = 0.22397\n",
            "Epoch 45: training_accuracy = 68.31 %, training_loss= 0.21633  ,Validation accuracy = 66.67 ,Validation loss = 0.22371\n",
            "Epoch 46: training_accuracy = 68.33 %, training_loss= 0.21608  ,Validation accuracy = 66.72 ,Validation loss = 0.22346\n",
            "Epoch 47: training_accuracy = 68.39 %, training_loss= 0.21585  ,Validation accuracy = 66.82 ,Validation loss = 0.22321\n",
            "Epoch 48: training_accuracy = 68.40 %, training_loss= 0.21562  ,Validation accuracy = 66.90 ,Validation loss = 0.22297\n",
            "Epoch 49: training_accuracy = 68.45 %, training_loss= 0.21540  ,Validation accuracy = 67.02 ,Validation loss = 0.22274\n"
          ]
        },
        {
          "data": {
            "text/html": [
              "Waiting for W&B process to finish... <strong style=\"color:green\">(success).</strong>"
            ],
            "text/plain": [
              "<IPython.core.display.HTML object>"
            ]
          },
          "metadata": {},
          "output_type": "display_data"
        },
        {
          "data": {
            "application/vnd.jupyter.widget-view+json": {
              "model_id": "ee13a453a85542f68d1be7f240f66a1d",
              "version_major": 2,
              "version_minor": 0
            },
            "text/plain": [
              "VBox(children=(Label(value='0.001 MB of 0.014 MB uploaded (0.000 MB deduped)\\r'), FloatProgress(value=0.045358…"
            ]
          },
          "metadata": {},
          "output_type": "display_data"
        },
        {
          "data": {
            "text/html": [
              "<style>\n",
              "    table.wandb td:nth-child(1) { padding: 0 10px; text-align: left ; width: auto;} td:nth-child(2) {text-align: left ; width: 100%}\n",
              "    .wandb-row { display: flex; flex-direction: row; flex-wrap: wrap; justify-content: flex-start; width: 100% }\n",
              "    .wandb-col { display: flex; flex-direction: column; flex-basis: 100%; flex: 1; padding: 10px; }\n",
              "    </style>\n",
              "<div class=\"wandb-row\"><div class=\"wandb-col\"><h3>Run history:</h3><br/><table class=\"wandb\"><tr><td>accuracy</td><td>▁▄▅▆▇▇▇▇▇▇▇▇▇███████████████████████████</td></tr><tr><td>steps</td><td>▁▁▁▁▁▁▁▁▁▁▁▁▁▁▁▁▁▁▁▁▁▁▁▁▁▁▁▁▁▁▁▁▁▁▁▁▁▁▁▁</td></tr><tr><td>train_loss</td><td>█▆▄▃▃▂▂▂▂▂▂▂▂▂▂▂▁▁▁▁▁▁▁▁▁▁▁▁▁▁▁▁▁▁▁▁▁▁▁▁</td></tr><tr><td>val_accuracy</td><td>▁▄▅▆▇▇▇▇▇▇▇▇▇███████████████████████████</td></tr><tr><td>val_loss</td><td>█▆▄▄▃▂▂▂▂▂▂▂▂▂▂▂▁▁▁▁▁▁▁▁▁▁▁▁▁▁▁▁▁▁▁▁▁▁▁▁</td></tr></table><br/></div><div class=\"wandb-col\"><h3>Run summary:</h3><br/><table class=\"wandb\"><tr><td>accuracy</td><td>68.45</td></tr><tr><td>steps</td><td>50</td></tr><tr><td>train_loss</td><td>0.2154</td></tr><tr><td>val_accuracy</td><td>67.017</td></tr><tr><td>val_loss</td><td>0.22274</td></tr></table><br/></div></div>"
            ],
            "text/plain": [
              "<IPython.core.display.HTML object>"
            ]
          },
          "metadata": {},
          "output_type": "display_data"
        },
        {
          "data": {
            "text/html": [
              " View run <strong style=\"color:#cdcd00\">jolly-sweep-24</strong> at: <a href='https://wandb.ai/sleya7110/Assignment1DLQ9/runs/dis74do2' target=\"_blank\">https://wandb.ai/sleya7110/Assignment1DLQ9/runs/dis74do2</a><br/>Synced 5 W&B file(s), 0 media file(s), 0 artifact file(s) and 0 other file(s)"
            ],
            "text/plain": [
              "<IPython.core.display.HTML object>"
            ]
          },
          "metadata": {},
          "output_type": "display_data"
        },
        {
          "data": {
            "text/html": [
              "Find logs at: <code>./wandb/run-20230317_134131-dis74do2/logs</code>"
            ],
            "text/plain": [
              "<IPython.core.display.HTML object>"
            ]
          },
          "metadata": {},
          "output_type": "display_data"
        },
        {
          "name": "stderr",
          "output_type": "stream",
          "text": [
            "\u001b[34m\u001b[1mwandb\u001b[0m: Agent Starting Run: yfa34pm3 with config:\n",
            "\u001b[34m\u001b[1mwandb\u001b[0m: \tactivation: tanh\n",
            "\u001b[34m\u001b[1mwandb\u001b[0m: \tbatchSize: 128\n",
            "\u001b[34m\u001b[1mwandb\u001b[0m: \tepochs: 20\n",
            "\u001b[34m\u001b[1mwandb\u001b[0m: \thidLayer: [128, 128, 128]\n",
            "\u001b[34m\u001b[1mwandb\u001b[0m: \tinitForm: random\n",
            "\u001b[34m\u001b[1mwandb\u001b[0m: \tlearningRate: 0.001\n",
            "\u001b[34m\u001b[1mwandb\u001b[0m: \tlossFn: square_loss\n",
            "\u001b[34m\u001b[1mwandb\u001b[0m: \toptimiser: mgd\n",
            "\u001b[34m\u001b[1mwandb\u001b[0m: \tweight_decay: 0.0005\n",
            "\u001b[34m\u001b[1mwandb\u001b[0m: \u001b[33mWARNING\u001b[0m Ignored wandb.init() arg project when running a sweep.\n",
            "\u001b[34m\u001b[1mwandb\u001b[0m: \u001b[33mWARNING\u001b[0m Ignored wandb.init() arg entity when running a sweep.\n"
          ]
        },
        {
          "data": {
            "text/html": [
              "Tracking run with wandb version 0.14.0"
            ],
            "text/plain": [
              "<IPython.core.display.HTML object>"
            ]
          },
          "metadata": {},
          "output_type": "display_data"
        },
        {
          "data": {
            "text/html": [
              "Run data is saved locally in <code>/content/wandb/run-20230317_134624-yfa34pm3</code>"
            ],
            "text/plain": [
              "<IPython.core.display.HTML object>"
            ]
          },
          "metadata": {},
          "output_type": "display_data"
        },
        {
          "data": {
            "text/html": [
              "Syncing run <strong><a href='https://wandb.ai/sleya7110/Assignment1DLQ9/runs/yfa34pm3' target=\"_blank\">different-sweep-25</a></strong> to <a href='https://wandb.ai/sleya7110/Assignment1DLQ9' target=\"_blank\">Weights & Biases</a> (<a href='https://wandb.me/run' target=\"_blank\">docs</a>)<br/>Sweep page: <a href='https://wandb.ai/sleya7110/Assignment1DLQ9/sweeps/h6gghlmm' target=\"_blank\">https://wandb.ai/sleya7110/Assignment1DLQ9/sweeps/h6gghlmm</a>"
            ],
            "text/plain": [
              "<IPython.core.display.HTML object>"
            ]
          },
          "metadata": {},
          "output_type": "display_data"
        },
        {
          "data": {
            "text/html": [
              " View project at <a href='https://wandb.ai/sleya7110/Assignment1DLQ9' target=\"_blank\">https://wandb.ai/sleya7110/Assignment1DLQ9</a>"
            ],
            "text/plain": [
              "<IPython.core.display.HTML object>"
            ]
          },
          "metadata": {},
          "output_type": "display_data"
        },
        {
          "data": {
            "text/html": [
              " View sweep at <a href='https://wandb.ai/sleya7110/Assignment1DLQ9/sweeps/h6gghlmm' target=\"_blank\">https://wandb.ai/sleya7110/Assignment1DLQ9/sweeps/h6gghlmm</a>"
            ],
            "text/plain": [
              "<IPython.core.display.HTML object>"
            ]
          },
          "metadata": {},
          "output_type": "display_data"
        },
        {
          "data": {
            "text/html": [
              " View run at <a href='https://wandb.ai/sleya7110/Assignment1DLQ9/runs/yfa34pm3' target=\"_blank\">https://wandb.ai/sleya7110/Assignment1DLQ9/runs/yfa34pm3</a>"
            ],
            "text/plain": [
              "<IPython.core.display.HTML object>"
            ]
          },
          "metadata": {},
          "output_type": "display_data"
        },
        {
          "name": "stdout",
          "output_type": "stream",
          "text": [
            "W length= 4\n",
            "B length= 4\n",
            "W shape= (10, 128)\n",
            "B shape= (10, 1)\n",
            "Epoch 0: training_accuracy = 16.70 %, training_loss= 0.45524  ,Validation accuracy = 15.72 ,Validation loss = 0.45561\n",
            "Epoch 1: training_accuracy = 17.85 %, training_loss= 0.45079  ,Validation accuracy = 17.27 ,Validation loss = 0.45099\n",
            "Epoch 2: training_accuracy = 16.30 %, training_loss= 0.44935  ,Validation accuracy = 17.08 ,Validation loss = 0.44941\n",
            "Epoch 3: training_accuracy = 16.23 %, training_loss= 0.44902  ,Validation accuracy = 17.03 ,Validation loss = 0.44903\n",
            "Epoch 4: training_accuracy = 16.75 %, training_loss= 0.44877  ,Validation accuracy = 17.60 ,Validation loss = 0.44876\n",
            "Epoch 5: training_accuracy = 16.65 %, training_loss= 0.44852  ,Validation accuracy = 17.37 ,Validation loss = 0.44851\n",
            "Epoch 6: training_accuracy = 17.46 %, training_loss= 0.44828  ,Validation accuracy = 18.53 ,Validation loss = 0.44826\n",
            "Epoch 7: training_accuracy = 17.83 %, training_loss= 0.44803  ,Validation accuracy = 18.73 ,Validation loss = 0.44801\n",
            "Epoch 8: training_accuracy = 17.27 %, training_loss= 0.44778  ,Validation accuracy = 18.02 ,Validation loss = 0.44775\n",
            "Epoch 9: training_accuracy = 17.28 %, training_loss= 0.44754  ,Validation accuracy = 18.03 ,Validation loss = 0.44750\n",
            "Epoch 10: training_accuracy = 17.29 %, training_loss= 0.44730  ,Validation accuracy = 18.03 ,Validation loss = 0.44725\n",
            "Epoch 11: training_accuracy = 17.31 %, training_loss= 0.44705  ,Validation accuracy = 18.07 ,Validation loss = 0.44700\n",
            "Epoch 12: training_accuracy = 17.32 %, training_loss= 0.44681  ,Validation accuracy = 18.10 ,Validation loss = 0.44675\n",
            "Epoch 13: training_accuracy = 17.35 %, training_loss= 0.44657  ,Validation accuracy = 18.12 ,Validation loss = 0.44651\n",
            "Epoch 14: training_accuracy = 17.37 %, training_loss= 0.44633  ,Validation accuracy = 18.13 ,Validation loss = 0.44626\n",
            "Epoch 15: training_accuracy = 17.38 %, training_loss= 0.44609  ,Validation accuracy = 18.20 ,Validation loss = 0.44601\n",
            "Epoch 16: training_accuracy = 17.39 %, training_loss= 0.44585  ,Validation accuracy = 18.20 ,Validation loss = 0.44577\n",
            "Epoch 17: training_accuracy = 17.41 %, training_loss= 0.44561  ,Validation accuracy = 18.22 ,Validation loss = 0.44552\n",
            "Epoch 18: training_accuracy = 17.42 %, training_loss= 0.44537  ,Validation accuracy = 18.23 ,Validation loss = 0.44528\n",
            "Epoch 19: training_accuracy = 17.43 %, training_loss= 0.44514  ,Validation accuracy = 18.25 ,Validation loss = 0.44504\n"
          ]
        },
        {
          "data": {
            "text/html": [
              "Waiting for W&B process to finish... <strong style=\"color:green\">(success).</strong>"
            ],
            "text/plain": [
              "<IPython.core.display.HTML object>"
            ]
          },
          "metadata": {},
          "output_type": "display_data"
        },
        {
          "data": {
            "text/html": [
              "<style>\n",
              "    table.wandb td:nth-child(1) { padding: 0 10px; text-align: left ; width: auto;} td:nth-child(2) {text-align: left ; width: 100%}\n",
              "    .wandb-row { display: flex; flex-direction: row; flex-wrap: wrap; justify-content: flex-start; width: 100% }\n",
              "    .wandb-col { display: flex; flex-direction: column; flex-basis: 100%; flex: 1; padding: 10px; }\n",
              "    </style>\n",
              "<div class=\"wandb-row\"><div class=\"wandb-col\"><h3>Run history:</h3><br/><table class=\"wandb\"><tr><td>accuracy</td><td>▃█▁▁▃▃▆█▅▆▆▆▆▆▆▆▆▆▆▆</td></tr><tr><td>steps</td><td>▁▁▁▁▁▁▁▁▁▁▁▁▁▁▁▁▁▁▁▁</td></tr><tr><td>train_loss</td><td>█▅▄▄▄▃▃▃▃▃▂▂▂▂▂▂▁▁▁▁</td></tr><tr><td>val_accuracy</td><td>▁▅▄▄▅▅██▆▆▆▆▇▇▇▇▇▇▇▇</td></tr><tr><td>val_loss</td><td>█▅▄▄▃▃▃▃▃▃▂▂▂▂▂▂▁▁▁▁</td></tr></table><br/></div><div class=\"wandb-col\"><h3>Run summary:</h3><br/><table class=\"wandb\"><tr><td>accuracy</td><td>17.431</td></tr><tr><td>steps</td><td>20</td></tr><tr><td>train_loss</td><td>0.44514</td></tr><tr><td>val_accuracy</td><td>18.25</td></tr><tr><td>val_loss</td><td>0.44504</td></tr></table><br/></div></div>"
            ],
            "text/plain": [
              "<IPython.core.display.HTML object>"
            ]
          },
          "metadata": {},
          "output_type": "display_data"
        },
        {
          "data": {
            "text/html": [
              " View run <strong style=\"color:#cdcd00\">different-sweep-25</strong> at: <a href='https://wandb.ai/sleya7110/Assignment1DLQ9/runs/yfa34pm3' target=\"_blank\">https://wandb.ai/sleya7110/Assignment1DLQ9/runs/yfa34pm3</a><br/>Synced 5 W&B file(s), 0 media file(s), 0 artifact file(s) and 0 other file(s)"
            ],
            "text/plain": [
              "<IPython.core.display.HTML object>"
            ]
          },
          "metadata": {},
          "output_type": "display_data"
        },
        {
          "data": {
            "text/html": [
              "Find logs at: <code>./wandb/run-20230317_134624-yfa34pm3/logs</code>"
            ],
            "text/plain": [
              "<IPython.core.display.HTML object>"
            ]
          },
          "metadata": {},
          "output_type": "display_data"
        },
        {
          "name": "stderr",
          "output_type": "stream",
          "text": [
            "\u001b[34m\u001b[1mwandb\u001b[0m: Agent Starting Run: 8hif2rbr with config:\n",
            "\u001b[34m\u001b[1mwandb\u001b[0m: \tactivation: relu\n",
            "\u001b[34m\u001b[1mwandb\u001b[0m: \tbatchSize: 64\n",
            "\u001b[34m\u001b[1mwandb\u001b[0m: \tepochs: 50\n",
            "\u001b[34m\u001b[1mwandb\u001b[0m: \thidLayer: [32, 64, 128]\n",
            "\u001b[34m\u001b[1mwandb\u001b[0m: \tinitForm: random\n",
            "\u001b[34m\u001b[1mwandb\u001b[0m: \tlearningRate: 0.001\n",
            "\u001b[34m\u001b[1mwandb\u001b[0m: \tlossFn: square_loss\n",
            "\u001b[34m\u001b[1mwandb\u001b[0m: \toptimiser: gd\n",
            "\u001b[34m\u001b[1mwandb\u001b[0m: \tweight_decay: 0.0005\n",
            "\u001b[34m\u001b[1mwandb\u001b[0m: \u001b[33mWARNING\u001b[0m Ignored wandb.init() arg project when running a sweep.\n",
            "\u001b[34m\u001b[1mwandb\u001b[0m: \u001b[33mWARNING\u001b[0m Ignored wandb.init() arg entity when running a sweep.\n"
          ]
        },
        {
          "data": {
            "text/html": [
              "Tracking run with wandb version 0.14.0"
            ],
            "text/plain": [
              "<IPython.core.display.HTML object>"
            ]
          },
          "metadata": {},
          "output_type": "display_data"
        },
        {
          "data": {
            "text/html": [
              "Run data is saved locally in <code>/content/wandb/run-20230317_134923-8hif2rbr</code>"
            ],
            "text/plain": [
              "<IPython.core.display.HTML object>"
            ]
          },
          "metadata": {},
          "output_type": "display_data"
        },
        {
          "data": {
            "text/html": [
              "Syncing run <strong><a href='https://wandb.ai/sleya7110/Assignment1DLQ9/runs/8hif2rbr' target=\"_blank\">astral-sweep-26</a></strong> to <a href='https://wandb.ai/sleya7110/Assignment1DLQ9' target=\"_blank\">Weights & Biases</a> (<a href='https://wandb.me/run' target=\"_blank\">docs</a>)<br/>Sweep page: <a href='https://wandb.ai/sleya7110/Assignment1DLQ9/sweeps/h6gghlmm' target=\"_blank\">https://wandb.ai/sleya7110/Assignment1DLQ9/sweeps/h6gghlmm</a>"
            ],
            "text/plain": [
              "<IPython.core.display.HTML object>"
            ]
          },
          "metadata": {},
          "output_type": "display_data"
        },
        {
          "data": {
            "text/html": [
              " View project at <a href='https://wandb.ai/sleya7110/Assignment1DLQ9' target=\"_blank\">https://wandb.ai/sleya7110/Assignment1DLQ9</a>"
            ],
            "text/plain": [
              "<IPython.core.display.HTML object>"
            ]
          },
          "metadata": {},
          "output_type": "display_data"
        },
        {
          "data": {
            "text/html": [
              " View sweep at <a href='https://wandb.ai/sleya7110/Assignment1DLQ9/sweeps/h6gghlmm' target=\"_blank\">https://wandb.ai/sleya7110/Assignment1DLQ9/sweeps/h6gghlmm</a>"
            ],
            "text/plain": [
              "<IPython.core.display.HTML object>"
            ]
          },
          "metadata": {},
          "output_type": "display_data"
        },
        {
          "data": {
            "text/html": [
              " View run at <a href='https://wandb.ai/sleya7110/Assignment1DLQ9/runs/8hif2rbr' target=\"_blank\">https://wandb.ai/sleya7110/Assignment1DLQ9/runs/8hif2rbr</a>"
            ],
            "text/plain": [
              "<IPython.core.display.HTML object>"
            ]
          },
          "metadata": {},
          "output_type": "display_data"
        },
        {
          "name": "stdout",
          "output_type": "stream",
          "text": [
            "W length= 4\n",
            "B length= 4\n",
            "W shape= (10, 128)\n",
            "B shape= (10, 1)\n",
            "Epoch 0: training_accuracy = 9.96 %, training_loss= 0.45783  ,Validation accuracy = 10.35 ,Validation loss = 0.45829\n",
            "Epoch 1: training_accuracy = 10.20 %, training_loss= 0.45323  ,Validation accuracy = 10.70 ,Validation loss = 0.45353\n",
            "Epoch 2: training_accuracy = 12.73 %, training_loss= 0.45106  ,Validation accuracy = 12.97 ,Validation loss = 0.45123\n",
            "Epoch 3: training_accuracy = 12.90 %, training_loss= 0.45015  ,Validation accuracy = 13.55 ,Validation loss = 0.45025\n",
            "Epoch 4: training_accuracy = 16.28 %, training_loss= 0.44982  ,Validation accuracy = 16.50 ,Validation loss = 0.44986\n",
            "Epoch 5: training_accuracy = 17.77 %, training_loss= 0.44971  ,Validation accuracy = 17.77 ,Validation loss = 0.44972\n",
            "Epoch 6: training_accuracy = 19.85 %, training_loss= 0.44967  ,Validation accuracy = 19.62 ,Validation loss = 0.44967\n",
            "Epoch 7: training_accuracy = 21.06 %, training_loss= 0.44966  ,Validation accuracy = 20.67 ,Validation loss = 0.44966\n",
            "Epoch 8: training_accuracy = 19.62 %, training_loss= 0.44966  ,Validation accuracy = 19.55 ,Validation loss = 0.44965\n",
            "Epoch 9: training_accuracy = 20.71 %, training_loss= 0.44965  ,Validation accuracy = 20.67 ,Validation loss = 0.44964\n",
            "Epoch 10: training_accuracy = 21.44 %, training_loss= 0.44965  ,Validation accuracy = 21.35 ,Validation loss = 0.44964\n",
            "Epoch 11: training_accuracy = 20.75 %, training_loss= 0.44965  ,Validation accuracy = 20.72 ,Validation loss = 0.44964\n",
            "Epoch 12: training_accuracy = 20.39 %, training_loss= 0.44965  ,Validation accuracy = 20.57 ,Validation loss = 0.44964\n",
            "Epoch 13: training_accuracy = 20.31 %, training_loss= 0.44965  ,Validation accuracy = 20.45 ,Validation loss = 0.44964\n",
            "Epoch 14: training_accuracy = 20.32 %, training_loss= 0.44965  ,Validation accuracy = 20.47 ,Validation loss = 0.44964\n",
            "Epoch 15: training_accuracy = 20.32 %, training_loss= 0.44965  ,Validation accuracy = 20.47 ,Validation loss = 0.44964\n",
            "Epoch 16: training_accuracy = 20.32 %, training_loss= 0.44965  ,Validation accuracy = 20.47 ,Validation loss = 0.44964\n",
            "Epoch 17: training_accuracy = 20.32 %, training_loss= 0.44965  ,Validation accuracy = 20.45 ,Validation loss = 0.44964\n",
            "Epoch 18: training_accuracy = 20.33 %, training_loss= 0.44965  ,Validation accuracy = 20.47 ,Validation loss = 0.44963\n",
            "Epoch 19: training_accuracy = 20.32 %, training_loss= 0.44965  ,Validation accuracy = 20.47 ,Validation loss = 0.44963\n",
            "Epoch 20: training_accuracy = 20.32 %, training_loss= 0.44964  ,Validation accuracy = 20.45 ,Validation loss = 0.44963\n",
            "Epoch 21: training_accuracy = 20.31 %, training_loss= 0.44964  ,Validation accuracy = 20.45 ,Validation loss = 0.44963\n",
            "Epoch 22: training_accuracy = 20.32 %, training_loss= 0.44964  ,Validation accuracy = 20.45 ,Validation loss = 0.44963\n",
            "Epoch 23: training_accuracy = 20.31 %, training_loss= 0.44964  ,Validation accuracy = 20.45 ,Validation loss = 0.44963\n",
            "Epoch 24: training_accuracy = 20.31 %, training_loss= 0.44964  ,Validation accuracy = 20.42 ,Validation loss = 0.44963\n",
            "Epoch 25: training_accuracy = 20.30 %, training_loss= 0.44964  ,Validation accuracy = 20.42 ,Validation loss = 0.44963\n",
            "Epoch 26: training_accuracy = 20.30 %, training_loss= 0.44964  ,Validation accuracy = 20.40 ,Validation loss = 0.44963\n",
            "Epoch 27: training_accuracy = 20.30 %, training_loss= 0.44964  ,Validation accuracy = 20.42 ,Validation loss = 0.44963\n",
            "Epoch 28: training_accuracy = 20.29 %, training_loss= 0.44964  ,Validation accuracy = 20.43 ,Validation loss = 0.44963\n",
            "Epoch 29: training_accuracy = 20.30 %, training_loss= 0.44964  ,Validation accuracy = 20.43 ,Validation loss = 0.44963\n",
            "Epoch 30: training_accuracy = 20.29 %, training_loss= 0.44964  ,Validation accuracy = 20.43 ,Validation loss = 0.44963\n",
            "Epoch 31: training_accuracy = 20.29 %, training_loss= 0.44964  ,Validation accuracy = 20.45 ,Validation loss = 0.44963\n",
            "Epoch 32: training_accuracy = 20.29 %, training_loss= 0.44964  ,Validation accuracy = 20.45 ,Validation loss = 0.44962\n",
            "Epoch 33: training_accuracy = 20.29 %, training_loss= 0.44964  ,Validation accuracy = 20.45 ,Validation loss = 0.44962\n",
            "Epoch 34: training_accuracy = 20.28 %, training_loss= 0.44963  ,Validation accuracy = 20.42 ,Validation loss = 0.44962\n",
            "Epoch 35: training_accuracy = 20.27 %, training_loss= 0.44963  ,Validation accuracy = 20.42 ,Validation loss = 0.44962\n",
            "Epoch 36: training_accuracy = 20.27 %, training_loss= 0.44963  ,Validation accuracy = 20.38 ,Validation loss = 0.44962\n",
            "Epoch 37: training_accuracy = 20.26 %, training_loss= 0.44963  ,Validation accuracy = 20.37 ,Validation loss = 0.44962\n",
            "Epoch 38: training_accuracy = 20.27 %, training_loss= 0.44963  ,Validation accuracy = 20.37 ,Validation loss = 0.44962\n",
            "Epoch 39: training_accuracy = 20.26 %, training_loss= 0.44963  ,Validation accuracy = 20.37 ,Validation loss = 0.44962\n",
            "Epoch 40: training_accuracy = 20.25 %, training_loss= 0.44963  ,Validation accuracy = 20.40 ,Validation loss = 0.44962\n",
            "Epoch 41: training_accuracy = 20.25 %, training_loss= 0.44963  ,Validation accuracy = 20.40 ,Validation loss = 0.44962\n",
            "Epoch 42: training_accuracy = 20.24 %, training_loss= 0.44963  ,Validation accuracy = 20.40 ,Validation loss = 0.44962\n",
            "Epoch 43: training_accuracy = 20.23 %, training_loss= 0.44963  ,Validation accuracy = 20.37 ,Validation loss = 0.44962\n",
            "Epoch 44: training_accuracy = 20.23 %, training_loss= 0.44963  ,Validation accuracy = 20.40 ,Validation loss = 0.44962\n",
            "Epoch 45: training_accuracy = 20.23 %, training_loss= 0.44963  ,Validation accuracy = 20.40 ,Validation loss = 0.44962\n",
            "Epoch 46: training_accuracy = 20.22 %, training_loss= 0.44963  ,Validation accuracy = 20.40 ,Validation loss = 0.44962\n",
            "Epoch 47: training_accuracy = 20.22 %, training_loss= 0.44963  ,Validation accuracy = 20.38 ,Validation loss = 0.44961\n",
            "Epoch 48: training_accuracy = 20.22 %, training_loss= 0.44963  ,Validation accuracy = 20.38 ,Validation loss = 0.44961\n",
            "Epoch 49: training_accuracy = 20.22 %, training_loss= 0.44962  ,Validation accuracy = 20.38 ,Validation loss = 0.44961\n"
          ]
        },
        {
          "data": {
            "text/html": [
              "Waiting for W&B process to finish... <strong style=\"color:green\">(success).</strong>"
            ],
            "text/plain": [
              "<IPython.core.display.HTML object>"
            ]
          },
          "metadata": {},
          "output_type": "display_data"
        },
        {
          "data": {
            "application/vnd.jupyter.widget-view+json": {
              "model_id": "aea86a28e68b4d61bb7f87a6fbaa4a3e",
              "version_major": 2,
              "version_minor": 0
            },
            "text/plain": [
              "VBox(children=(Label(value='0.001 MB of 0.014 MB uploaded (0.000 MB deduped)\\r'), FloatProgress(value=0.045409…"
            ]
          },
          "metadata": {},
          "output_type": "display_data"
        },
        {
          "data": {
            "text/html": [
              "<style>\n",
              "    table.wandb td:nth-child(1) { padding: 0 10px; text-align: left ; width: auto;} td:nth-child(2) {text-align: left ; width: 100%}\n",
              "    .wandb-row { display: flex; flex-direction: row; flex-wrap: wrap; justify-content: flex-start; width: 100% }\n",
              "    .wandb-col { display: flex; flex-direction: column; flex-basis: 100%; flex: 1; padding: 10px; }\n",
              "    </style>\n",
              "<div class=\"wandb-row\"><div class=\"wandb-col\"><h3>Run history:</h3><br/><table class=\"wandb\"><tr><td>accuracy</td><td>▁▁▃▃▆▇█▇██▇▇▇▇▇▇▇▇▇▇▇▇▇▇▇▇▇▇▇▇▇▇▇▇▇▇▇▇▇▇</td></tr><tr><td>steps</td><td>▁▁▁▁▁▁▁▁▁▁▁▁▁▁▁▁▁▁▁▁▁▁▁▁▁▁▁▁▁▁▁▁▁▁▁▁▁▁▁▁</td></tr><tr><td>train_loss</td><td>█▄▂▁▁▁▁▁▁▁▁▁▁▁▁▁▁▁▁▁▁▁▁▁▁▁▁▁▁▁▁▁▁▁▁▁▁▁▁▁</td></tr><tr><td>val_accuracy</td><td>▁▁▃▃▆▇█▇███▇▇▇▇▇▇▇▇▇▇▇▇▇▇▇▇▇▇▇▇▇▇▇▇▇▇▇▇▇</td></tr><tr><td>val_loss</td><td>█▄▂▂▁▁▁▁▁▁▁▁▁▁▁▁▁▁▁▁▁▁▁▁▁▁▁▁▁▁▁▁▁▁▁▁▁▁▁▁</td></tr></table><br/></div><div class=\"wandb-col\"><h3>Run summary:</h3><br/><table class=\"wandb\"><tr><td>accuracy</td><td>20.222</td></tr><tr><td>steps</td><td>50</td></tr><tr><td>train_loss</td><td>0.44962</td></tr><tr><td>val_accuracy</td><td>20.383</td></tr><tr><td>val_loss</td><td>0.44961</td></tr></table><br/></div></div>"
            ],
            "text/plain": [
              "<IPython.core.display.HTML object>"
            ]
          },
          "metadata": {},
          "output_type": "display_data"
        },
        {
          "data": {
            "text/html": [
              " View run <strong style=\"color:#cdcd00\">astral-sweep-26</strong> at: <a href='https://wandb.ai/sleya7110/Assignment1DLQ9/runs/8hif2rbr' target=\"_blank\">https://wandb.ai/sleya7110/Assignment1DLQ9/runs/8hif2rbr</a><br/>Synced 5 W&B file(s), 0 media file(s), 0 artifact file(s) and 0 other file(s)"
            ],
            "text/plain": [
              "<IPython.core.display.HTML object>"
            ]
          },
          "metadata": {},
          "output_type": "display_data"
        },
        {
          "data": {
            "text/html": [
              "Find logs at: <code>./wandb/run-20230317_134923-8hif2rbr/logs</code>"
            ],
            "text/plain": [
              "<IPython.core.display.HTML object>"
            ]
          },
          "metadata": {},
          "output_type": "display_data"
        },
        {
          "name": "stderr",
          "output_type": "stream",
          "text": [
            "\u001b[34m\u001b[1mwandb\u001b[0m: Agent Starting Run: 34r6rkdw with config:\n",
            "\u001b[34m\u001b[1mwandb\u001b[0m: \tactivation: tanh\n",
            "\u001b[34m\u001b[1mwandb\u001b[0m: \tbatchSize: 128\n",
            "\u001b[34m\u001b[1mwandb\u001b[0m: \tepochs: 5\n",
            "\u001b[34m\u001b[1mwandb\u001b[0m: \thidLayer: [32, 64, 128]\n",
            "\u001b[34m\u001b[1mwandb\u001b[0m: \tinitForm: xavier\n",
            "\u001b[34m\u001b[1mwandb\u001b[0m: \tlearningRate: 0.001\n",
            "\u001b[34m\u001b[1mwandb\u001b[0m: \tlossFn: square_loss\n",
            "\u001b[34m\u001b[1mwandb\u001b[0m: \toptimiser: mgd\n",
            "\u001b[34m\u001b[1mwandb\u001b[0m: \tweight_decay: 0.0005\n",
            "\u001b[34m\u001b[1mwandb\u001b[0m: \u001b[33mWARNING\u001b[0m Ignored wandb.init() arg project when running a sweep.\n",
            "\u001b[34m\u001b[1mwandb\u001b[0m: \u001b[33mWARNING\u001b[0m Ignored wandb.init() arg entity when running a sweep.\n"
          ]
        },
        {
          "data": {
            "text/html": [
              "Tracking run with wandb version 0.14.0"
            ],
            "text/plain": [
              "<IPython.core.display.HTML object>"
            ]
          },
          "metadata": {},
          "output_type": "display_data"
        },
        {
          "data": {
            "text/html": [
              "Run data is saved locally in <code>/content/wandb/run-20230317_135233-34r6rkdw</code>"
            ],
            "text/plain": [
              "<IPython.core.display.HTML object>"
            ]
          },
          "metadata": {},
          "output_type": "display_data"
        },
        {
          "data": {
            "text/html": [
              "Syncing run <strong><a href='https://wandb.ai/sleya7110/Assignment1DLQ9/runs/34r6rkdw' target=\"_blank\">dandy-sweep-27</a></strong> to <a href='https://wandb.ai/sleya7110/Assignment1DLQ9' target=\"_blank\">Weights & Biases</a> (<a href='https://wandb.me/run' target=\"_blank\">docs</a>)<br/>Sweep page: <a href='https://wandb.ai/sleya7110/Assignment1DLQ9/sweeps/h6gghlmm' target=\"_blank\">https://wandb.ai/sleya7110/Assignment1DLQ9/sweeps/h6gghlmm</a>"
            ],
            "text/plain": [
              "<IPython.core.display.HTML object>"
            ]
          },
          "metadata": {},
          "output_type": "display_data"
        },
        {
          "data": {
            "text/html": [
              " View project at <a href='https://wandb.ai/sleya7110/Assignment1DLQ9' target=\"_blank\">https://wandb.ai/sleya7110/Assignment1DLQ9</a>"
            ],
            "text/plain": [
              "<IPython.core.display.HTML object>"
            ]
          },
          "metadata": {},
          "output_type": "display_data"
        },
        {
          "data": {
            "text/html": [
              " View sweep at <a href='https://wandb.ai/sleya7110/Assignment1DLQ9/sweeps/h6gghlmm' target=\"_blank\">https://wandb.ai/sleya7110/Assignment1DLQ9/sweeps/h6gghlmm</a>"
            ],
            "text/plain": [
              "<IPython.core.display.HTML object>"
            ]
          },
          "metadata": {},
          "output_type": "display_data"
        },
        {
          "data": {
            "text/html": [
              " View run at <a href='https://wandb.ai/sleya7110/Assignment1DLQ9/runs/34r6rkdw' target=\"_blank\">https://wandb.ai/sleya7110/Assignment1DLQ9/runs/34r6rkdw</a>"
            ],
            "text/plain": [
              "<IPython.core.display.HTML object>"
            ]
          },
          "metadata": {},
          "output_type": "display_data"
        },
        {
          "name": "stdout",
          "output_type": "stream",
          "text": [
            "W length= 4\n",
            "B length= 4\n",
            "W shape= (10, 128)\n",
            "B shape= (10, 1)\n",
            "Epoch 0: training_accuracy = 11.00 %, training_loss= 0.49715  ,Validation accuracy = 11.52 ,Validation loss = 0.49563\n",
            "Epoch 1: training_accuracy = 12.46 %, training_loss= 0.48402  ,Validation accuracy = 12.88 ,Validation loss = 0.48335\n",
            "Epoch 2: training_accuracy = 14.09 %, training_loss= 0.47724  ,Validation accuracy = 14.42 ,Validation loss = 0.47661\n",
            "Epoch 3: training_accuracy = 15.84 %, training_loss= 0.47051  ,Validation accuracy = 16.43 ,Validation loss = 0.46982\n",
            "Epoch 4: training_accuracy = 17.76 %, training_loss= 0.46366  ,Validation accuracy = 18.35 ,Validation loss = 0.46290\n"
          ]
        },
        {
          "data": {
            "text/html": [
              "Waiting for W&B process to finish... <strong style=\"color:green\">(success).</strong>"
            ],
            "text/plain": [
              "<IPython.core.display.HTML object>"
            ]
          },
          "metadata": {},
          "output_type": "display_data"
        },
        {
          "data": {
            "application/vnd.jupyter.widget-view+json": {
              "model_id": "debab52555634fb5a371c30803e3f064",
              "version_major": 2,
              "version_minor": 0
            },
            "text/plain": [
              "VBox(children=(Label(value='0.001 MB of 0.009 MB uploaded (0.000 MB deduped)\\r'), FloatProgress(value=0.070330…"
            ]
          },
          "metadata": {},
          "output_type": "display_data"
        },
        {
          "data": {
            "text/html": [
              "<style>\n",
              "    table.wandb td:nth-child(1) { padding: 0 10px; text-align: left ; width: auto;} td:nth-child(2) {text-align: left ; width: 100%}\n",
              "    .wandb-row { display: flex; flex-direction: row; flex-wrap: wrap; justify-content: flex-start; width: 100% }\n",
              "    .wandb-col { display: flex; flex-direction: column; flex-basis: 100%; flex: 1; padding: 10px; }\n",
              "    </style>\n",
              "<div class=\"wandb-row\"><div class=\"wandb-col\"><h3>Run history:</h3><br/><table class=\"wandb\"><tr><td>accuracy</td><td>▁▃▄▆█</td></tr><tr><td>steps</td><td>▁▁▁▁▁</td></tr><tr><td>train_loss</td><td>█▅▄▂▁</td></tr><tr><td>val_accuracy</td><td>▁▂▄▆█</td></tr><tr><td>val_loss</td><td>█▅▄▂▁</td></tr></table><br/></div><div class=\"wandb-col\"><h3>Run summary:</h3><br/><table class=\"wandb\"><tr><td>accuracy</td><td>17.763</td></tr><tr><td>steps</td><td>5</td></tr><tr><td>train_loss</td><td>0.46366</td></tr><tr><td>val_accuracy</td><td>18.35</td></tr><tr><td>val_loss</td><td>0.4629</td></tr></table><br/></div></div>"
            ],
            "text/plain": [
              "<IPython.core.display.HTML object>"
            ]
          },
          "metadata": {},
          "output_type": "display_data"
        },
        {
          "data": {
            "text/html": [
              " View run <strong style=\"color:#cdcd00\">dandy-sweep-27</strong> at: <a href='https://wandb.ai/sleya7110/Assignment1DLQ9/runs/34r6rkdw' target=\"_blank\">https://wandb.ai/sleya7110/Assignment1DLQ9/runs/34r6rkdw</a><br/>Synced 5 W&B file(s), 0 media file(s), 0 artifact file(s) and 0 other file(s)"
            ],
            "text/plain": [
              "<IPython.core.display.HTML object>"
            ]
          },
          "metadata": {},
          "output_type": "display_data"
        },
        {
          "data": {
            "text/html": [
              "Find logs at: <code>./wandb/run-20230317_135233-34r6rkdw/logs</code>"
            ],
            "text/plain": [
              "<IPython.core.display.HTML object>"
            ]
          },
          "metadata": {},
          "output_type": "display_data"
        },
        {
          "name": "stderr",
          "output_type": "stream",
          "text": [
            "\u001b[34m\u001b[1mwandb\u001b[0m: Agent Starting Run: gvwosqed with config:\n",
            "\u001b[34m\u001b[1mwandb\u001b[0m: \tactivation: tanh\n",
            "\u001b[34m\u001b[1mwandb\u001b[0m: \tbatchSize: 64\n",
            "\u001b[34m\u001b[1mwandb\u001b[0m: \tepochs: 50\n",
            "\u001b[34m\u001b[1mwandb\u001b[0m: \thidLayer: [64, 64, 64]\n",
            "\u001b[34m\u001b[1mwandb\u001b[0m: \tinitForm: xavier\n",
            "\u001b[34m\u001b[1mwandb\u001b[0m: \tlearningRate: 0.001\n",
            "\u001b[34m\u001b[1mwandb\u001b[0m: \tlossFn: square_loss\n",
            "\u001b[34m\u001b[1mwandb\u001b[0m: \toptimiser: mgd\n",
            "\u001b[34m\u001b[1mwandb\u001b[0m: \tweight_decay: 0.0005\n",
            "\u001b[34m\u001b[1mwandb\u001b[0m: \u001b[33mWARNING\u001b[0m Ignored wandb.init() arg project when running a sweep.\n",
            "\u001b[34m\u001b[1mwandb\u001b[0m: \u001b[33mWARNING\u001b[0m Ignored wandb.init() arg entity when running a sweep.\n"
          ]
        },
        {
          "data": {
            "text/html": [
              "Tracking run with wandb version 0.14.0"
            ],
            "text/plain": [
              "<IPython.core.display.HTML object>"
            ]
          },
          "metadata": {},
          "output_type": "display_data"
        },
        {
          "data": {
            "text/html": [
              "Run data is saved locally in <code>/content/wandb/run-20230317_135316-gvwosqed</code>"
            ],
            "text/plain": [
              "<IPython.core.display.HTML object>"
            ]
          },
          "metadata": {},
          "output_type": "display_data"
        },
        {
          "data": {
            "text/html": [
              "Syncing run <strong><a href='https://wandb.ai/sleya7110/Assignment1DLQ9/runs/gvwosqed' target=\"_blank\">bumbling-sweep-28</a></strong> to <a href='https://wandb.ai/sleya7110/Assignment1DLQ9' target=\"_blank\">Weights & Biases</a> (<a href='https://wandb.me/run' target=\"_blank\">docs</a>)<br/>Sweep page: <a href='https://wandb.ai/sleya7110/Assignment1DLQ9/sweeps/h6gghlmm' target=\"_blank\">https://wandb.ai/sleya7110/Assignment1DLQ9/sweeps/h6gghlmm</a>"
            ],
            "text/plain": [
              "<IPython.core.display.HTML object>"
            ]
          },
          "metadata": {},
          "output_type": "display_data"
        },
        {
          "data": {
            "text/html": [
              " View project at <a href='https://wandb.ai/sleya7110/Assignment1DLQ9' target=\"_blank\">https://wandb.ai/sleya7110/Assignment1DLQ9</a>"
            ],
            "text/plain": [
              "<IPython.core.display.HTML object>"
            ]
          },
          "metadata": {},
          "output_type": "display_data"
        },
        {
          "data": {
            "text/html": [
              " View sweep at <a href='https://wandb.ai/sleya7110/Assignment1DLQ9/sweeps/h6gghlmm' target=\"_blank\">https://wandb.ai/sleya7110/Assignment1DLQ9/sweeps/h6gghlmm</a>"
            ],
            "text/plain": [
              "<IPython.core.display.HTML object>"
            ]
          },
          "metadata": {},
          "output_type": "display_data"
        },
        {
          "data": {
            "text/html": [
              " View run at <a href='https://wandb.ai/sleya7110/Assignment1DLQ9/runs/gvwosqed' target=\"_blank\">https://wandb.ai/sleya7110/Assignment1DLQ9/runs/gvwosqed</a>"
            ],
            "text/plain": [
              "<IPython.core.display.HTML object>"
            ]
          },
          "metadata": {},
          "output_type": "display_data"
        },
        {
          "name": "stdout",
          "output_type": "stream",
          "text": [
            "W length= 4\n",
            "B length= 4\n",
            "W shape= (10, 64)\n",
            "B shape= (10, 1)\n",
            "Epoch 0: training_accuracy = 10.11 %, training_loss= 0.48601  ,Validation accuracy = 10.02 ,Validation loss = 0.48685\n",
            "Epoch 1: training_accuracy = 13.46 %, training_loss= 0.46757  ,Validation accuracy = 12.82 ,Validation loss = 0.46859\n",
            "Epoch 2: training_accuracy = 17.16 %, training_loss= 0.45153  ,Validation accuracy = 16.47 ,Validation loss = 0.45314\n",
            "Epoch 3: training_accuracy = 21.40 %, training_loss= 0.43517  ,Validation accuracy = 20.48 ,Validation loss = 0.43746\n",
            "Epoch 4: training_accuracy = 25.91 %, training_loss= 0.41932  ,Validation accuracy = 24.98 ,Validation loss = 0.42209\n",
            "Epoch 5: training_accuracy = 30.27 %, training_loss= 0.40435  ,Validation accuracy = 29.30 ,Validation loss = 0.40741\n",
            "Epoch 6: training_accuracy = 33.96 %, training_loss= 0.39059  ,Validation accuracy = 32.53 ,Validation loss = 0.39382\n",
            "Epoch 7: training_accuracy = 37.09 %, training_loss= 0.37822  ,Validation accuracy = 36.00 ,Validation loss = 0.38155\n",
            "Epoch 8: training_accuracy = 39.81 %, training_loss= 0.36718  ,Validation accuracy = 38.73 ,Validation loss = 0.37058\n",
            "Epoch 9: training_accuracy = 42.08 %, training_loss= 0.35733  ,Validation accuracy = 41.43 ,Validation loss = 0.36078\n",
            "Epoch 10: training_accuracy = 44.16 %, training_loss= 0.34851  ,Validation accuracy = 43.92 ,Validation loss = 0.35197\n",
            "Epoch 11: training_accuracy = 45.99 %, training_loss= 0.34058  ,Validation accuracy = 45.63 ,Validation loss = 0.34403\n",
            "Epoch 12: training_accuracy = 47.57 %, training_loss= 0.33342  ,Validation accuracy = 47.23 ,Validation loss = 0.33686\n",
            "Epoch 13: training_accuracy = 49.05 %, training_loss= 0.32692  ,Validation accuracy = 48.77 ,Validation loss = 0.33036\n",
            "Epoch 14: training_accuracy = 50.37 %, training_loss= 0.32102  ,Validation accuracy = 49.82 ,Validation loss = 0.32445\n",
            "Epoch 15: training_accuracy = 51.55 %, training_loss= 0.31565  ,Validation accuracy = 50.92 ,Validation loss = 0.31906\n",
            "Epoch 16: training_accuracy = 52.55 %, training_loss= 0.31073  ,Validation accuracy = 51.77 ,Validation loss = 0.31415\n",
            "Epoch 17: training_accuracy = 53.40 %, training_loss= 0.30623  ,Validation accuracy = 52.75 ,Validation loss = 0.30965\n",
            "Epoch 18: training_accuracy = 54.19 %, training_loss= 0.30209  ,Validation accuracy = 53.62 ,Validation loss = 0.30552\n",
            "Epoch 19: training_accuracy = 54.85 %, training_loss= 0.29828  ,Validation accuracy = 54.40 ,Validation loss = 0.30172\n",
            "Epoch 20: training_accuracy = 55.57 %, training_loss= 0.29477  ,Validation accuracy = 55.17 ,Validation loss = 0.29822\n",
            "Epoch 21: training_accuracy = 56.18 %, training_loss= 0.29152  ,Validation accuracy = 55.72 ,Validation loss = 0.29499\n",
            "Epoch 22: training_accuracy = 56.72 %, training_loss= 0.28851  ,Validation accuracy = 56.13 ,Validation loss = 0.29199\n",
            "Epoch 23: training_accuracy = 57.23 %, training_loss= 0.28571  ,Validation accuracy = 56.63 ,Validation loss = 0.28920\n",
            "Epoch 24: training_accuracy = 57.70 %, training_loss= 0.28311  ,Validation accuracy = 57.00 ,Validation loss = 0.28661\n",
            "Epoch 25: training_accuracy = 58.10 %, training_loss= 0.28068  ,Validation accuracy = 57.40 ,Validation loss = 0.28419\n",
            "Epoch 26: training_accuracy = 58.53 %, training_loss= 0.27840  ,Validation accuracy = 57.92 ,Validation loss = 0.28192\n",
            "Epoch 27: training_accuracy = 58.89 %, training_loss= 0.27627  ,Validation accuracy = 58.23 ,Validation loss = 0.27980\n",
            "Epoch 28: training_accuracy = 59.24 %, training_loss= 0.27427  ,Validation accuracy = 58.60 ,Validation loss = 0.27780\n",
            "Epoch 29: training_accuracy = 59.50 %, training_loss= 0.27239  ,Validation accuracy = 59.07 ,Validation loss = 0.27592\n",
            "Epoch 30: training_accuracy = 59.79 %, training_loss= 0.27062  ,Validation accuracy = 59.20 ,Validation loss = 0.27415\n",
            "Epoch 31: training_accuracy = 60.09 %, training_loss= 0.26894  ,Validation accuracy = 59.67 ,Validation loss = 0.27247\n",
            "Epoch 32: training_accuracy = 60.34 %, training_loss= 0.26735  ,Validation accuracy = 59.92 ,Validation loss = 0.27088\n",
            "Epoch 33: training_accuracy = 60.60 %, training_loss= 0.26585  ,Validation accuracy = 60.17 ,Validation loss = 0.26938\n",
            "Epoch 34: training_accuracy = 60.85 %, training_loss= 0.26442  ,Validation accuracy = 60.50 ,Validation loss = 0.26794\n",
            "Epoch 35: training_accuracy = 61.05 %, training_loss= 0.26306  ,Validation accuracy = 60.58 ,Validation loss = 0.26658\n",
            "Epoch 36: training_accuracy = 61.27 %, training_loss= 0.26177  ,Validation accuracy = 60.75 ,Validation loss = 0.26528\n",
            "Epoch 37: training_accuracy = 61.49 %, training_loss= 0.26053  ,Validation accuracy = 61.05 ,Validation loss = 0.26404\n",
            "Epoch 38: training_accuracy = 61.69 %, training_loss= 0.25935  ,Validation accuracy = 61.35 ,Validation loss = 0.26286\n",
            "Epoch 39: training_accuracy = 61.90 %, training_loss= 0.25822  ,Validation accuracy = 61.57 ,Validation loss = 0.26172\n",
            "Epoch 40: training_accuracy = 62.07 %, training_loss= 0.25714  ,Validation accuracy = 61.73 ,Validation loss = 0.26063\n",
            "Epoch 41: training_accuracy = 62.21 %, training_loss= 0.25611  ,Validation accuracy = 61.98 ,Validation loss = 0.25959\n",
            "Epoch 42: training_accuracy = 62.36 %, training_loss= 0.25511  ,Validation accuracy = 62.17 ,Validation loss = 0.25858\n",
            "Epoch 43: training_accuracy = 62.51 %, training_loss= 0.25416  ,Validation accuracy = 62.33 ,Validation loss = 0.25762\n",
            "Epoch 44: training_accuracy = 62.64 %, training_loss= 0.25324  ,Validation accuracy = 62.42 ,Validation loss = 0.25669\n",
            "Epoch 45: training_accuracy = 62.78 %, training_loss= 0.25235  ,Validation accuracy = 62.58 ,Validation loss = 0.25579\n",
            "Epoch 46: training_accuracy = 62.94 %, training_loss= 0.25150  ,Validation accuracy = 62.78 ,Validation loss = 0.25493\n",
            "Epoch 47: training_accuracy = 63.09 %, training_loss= 0.25067  ,Validation accuracy = 62.85 ,Validation loss = 0.25410\n",
            "Epoch 48: training_accuracy = 63.23 %, training_loss= 0.24987  ,Validation accuracy = 62.98 ,Validation loss = 0.25329\n",
            "Epoch 49: training_accuracy = 63.34 %, training_loss= 0.24910  ,Validation accuracy = 63.15 ,Validation loss = 0.25251\n"
          ]
        },
        {
          "data": {
            "text/html": [
              "Waiting for W&B process to finish... <strong style=\"color:green\">(success).</strong>"
            ],
            "text/plain": [
              "<IPython.core.display.HTML object>"
            ]
          },
          "metadata": {},
          "output_type": "display_data"
        },
        {
          "data": {
            "application/vnd.jupyter.widget-view+json": {
              "model_id": "2b7dc3a865954321921fe44b8e1b2444",
              "version_major": 2,
              "version_minor": 0
            },
            "text/plain": [
              "VBox(children=(Label(value='0.001 MB of 0.001 MB uploaded (0.000 MB deduped)\\r'), FloatProgress(value=1.0, max…"
            ]
          },
          "metadata": {},
          "output_type": "display_data"
        },
        {
          "data": {
            "text/html": [
              "<style>\n",
              "    table.wandb td:nth-child(1) { padding: 0 10px; text-align: left ; width: auto;} td:nth-child(2) {text-align: left ; width: 100%}\n",
              "    .wandb-row { display: flex; flex-direction: row; flex-wrap: wrap; justify-content: flex-start; width: 100% }\n",
              "    .wandb-col { display: flex; flex-direction: column; flex-basis: 100%; flex: 1; padding: 10px; }\n",
              "    </style>\n",
              "<div class=\"wandb-row\"><div class=\"wandb-col\"><h3>Run history:</h3><br/><table class=\"wandb\"><tr><td>accuracy</td><td>▁▁▂▂▄▄▅▅▅▆▆▆▆▇▇▇▇▇▇▇▇▇▇▇████████████████</td></tr><tr><td>steps</td><td>▁▁▁▁▁▁▁▁▁▁▁▁▁▁▁▁▁▁▁▁▁▁▁▁▁▁▁▁▁▁▁▁▁▁▁▁▁▁▁▁</td></tr><tr><td>train_loss</td><td>█▇▇▆▆▅▅▄▄▄▃▃▃▃▃▃▂▂▂▂▂▂▂▂▂▂▂▁▁▁▁▁▁▁▁▁▁▁▁▁</td></tr><tr><td>val_accuracy</td><td>▁▁▂▂▄▄▄▅▅▆▆▆▆▇▇▇▇▇▇▇▇▇▇▇▇███████████████</td></tr><tr><td>val_loss</td><td>█▇▇▇▆▅▅▅▄▄▄▃▃▃▃▃▂▂▂▂▂▂▂▂▂▂▂▂▁▁▁▁▁▁▁▁▁▁▁▁</td></tr></table><br/></div><div class=\"wandb-col\"><h3>Run summary:</h3><br/><table class=\"wandb\"><tr><td>accuracy</td><td>63.337</td></tr><tr><td>steps</td><td>50</td></tr><tr><td>train_loss</td><td>0.2491</td></tr><tr><td>val_accuracy</td><td>63.15</td></tr><tr><td>val_loss</td><td>0.25251</td></tr></table><br/></div></div>"
            ],
            "text/plain": [
              "<IPython.core.display.HTML object>"
            ]
          },
          "metadata": {},
          "output_type": "display_data"
        },
        {
          "data": {
            "text/html": [
              " View run <strong style=\"color:#cdcd00\">bumbling-sweep-28</strong> at: <a href='https://wandb.ai/sleya7110/Assignment1DLQ9/runs/gvwosqed' target=\"_blank\">https://wandb.ai/sleya7110/Assignment1DLQ9/runs/gvwosqed</a><br/>Synced 5 W&B file(s), 0 media file(s), 0 artifact file(s) and 0 other file(s)"
            ],
            "text/plain": [
              "<IPython.core.display.HTML object>"
            ]
          },
          "metadata": {},
          "output_type": "display_data"
        },
        {
          "data": {
            "text/html": [
              "Find logs at: <code>./wandb/run-20230317_135316-gvwosqed/logs</code>"
            ],
            "text/plain": [
              "<IPython.core.display.HTML object>"
            ]
          },
          "metadata": {},
          "output_type": "display_data"
        },
        {
          "name": "stderr",
          "output_type": "stream",
          "text": [
            "\u001b[34m\u001b[1mwandb\u001b[0m: Agent Starting Run: klv612i5 with config:\n",
            "\u001b[34m\u001b[1mwandb\u001b[0m: \tactivation: tanh\n",
            "\u001b[34m\u001b[1mwandb\u001b[0m: \tbatchSize: 64\n",
            "\u001b[34m\u001b[1mwandb\u001b[0m: \tepochs: 50\n",
            "\u001b[34m\u001b[1mwandb\u001b[0m: \thidLayer: [64, 64, 64]\n",
            "\u001b[34m\u001b[1mwandb\u001b[0m: \tinitForm: xavier\n",
            "\u001b[34m\u001b[1mwandb\u001b[0m: \tlearningRate: 0.01\n",
            "\u001b[34m\u001b[1mwandb\u001b[0m: \tlossFn: square_loss\n",
            "\u001b[34m\u001b[1mwandb\u001b[0m: \toptimiser: ngd\n",
            "\u001b[34m\u001b[1mwandb\u001b[0m: \tweight_decay: 0\n",
            "\u001b[34m\u001b[1mwandb\u001b[0m: \u001b[33mWARNING\u001b[0m Ignored wandb.init() arg project when running a sweep.\n",
            "\u001b[34m\u001b[1mwandb\u001b[0m: \u001b[33mWARNING\u001b[0m Ignored wandb.init() arg entity when running a sweep.\n"
          ]
        },
        {
          "data": {
            "text/html": [
              "Tracking run with wandb version 0.14.0"
            ],
            "text/plain": [
              "<IPython.core.display.HTML object>"
            ]
          },
          "metadata": {},
          "output_type": "display_data"
        },
        {
          "data": {
            "text/html": [
              "Run data is saved locally in <code>/content/wandb/run-20230317_135815-klv612i5</code>"
            ],
            "text/plain": [
              "<IPython.core.display.HTML object>"
            ]
          },
          "metadata": {},
          "output_type": "display_data"
        },
        {
          "data": {
            "text/html": [
              "Syncing run <strong><a href='https://wandb.ai/sleya7110/Assignment1DLQ9/runs/klv612i5' target=\"_blank\">prime-sweep-29</a></strong> to <a href='https://wandb.ai/sleya7110/Assignment1DLQ9' target=\"_blank\">Weights & Biases</a> (<a href='https://wandb.me/run' target=\"_blank\">docs</a>)<br/>Sweep page: <a href='https://wandb.ai/sleya7110/Assignment1DLQ9/sweeps/h6gghlmm' target=\"_blank\">https://wandb.ai/sleya7110/Assignment1DLQ9/sweeps/h6gghlmm</a>"
            ],
            "text/plain": [
              "<IPython.core.display.HTML object>"
            ]
          },
          "metadata": {},
          "output_type": "display_data"
        },
        {
          "data": {
            "text/html": [
              " View project at <a href='https://wandb.ai/sleya7110/Assignment1DLQ9' target=\"_blank\">https://wandb.ai/sleya7110/Assignment1DLQ9</a>"
            ],
            "text/plain": [
              "<IPython.core.display.HTML object>"
            ]
          },
          "metadata": {},
          "output_type": "display_data"
        },
        {
          "data": {
            "text/html": [
              " View sweep at <a href='https://wandb.ai/sleya7110/Assignment1DLQ9/sweeps/h6gghlmm' target=\"_blank\">https://wandb.ai/sleya7110/Assignment1DLQ9/sweeps/h6gghlmm</a>"
            ],
            "text/plain": [
              "<IPython.core.display.HTML object>"
            ]
          },
          "metadata": {},
          "output_type": "display_data"
        },
        {
          "data": {
            "text/html": [
              " View run at <a href='https://wandb.ai/sleya7110/Assignment1DLQ9/runs/klv612i5' target=\"_blank\">https://wandb.ai/sleya7110/Assignment1DLQ9/runs/klv612i5</a>"
            ],
            "text/plain": [
              "<IPython.core.display.HTML object>"
            ]
          },
          "metadata": {},
          "output_type": "display_data"
        },
        {
          "name": "stdout",
          "output_type": "stream",
          "text": [
            "W length= 4\n",
            "B length= 4\n",
            "W shape= (10, 64)\n",
            "B shape= (10, 1)\n",
            "Epoch 0: training_accuracy = 38.97 %, training_loss= 0.37418  ,Validation accuracy = 39.22 ,Validation loss = 0.37494\n",
            "Epoch 1: training_accuracy = 49.87 %, training_loss= 0.31636  ,Validation accuracy = 50.67 ,Validation loss = 0.31727\n",
            "Epoch 2: training_accuracy = 56.90 %, training_loss= 0.28320  ,Validation accuracy = 57.77 ,Validation loss = 0.28441\n",
            "Epoch 3: training_accuracy = 60.65 %, training_loss= 0.26382  ,Validation accuracy = 60.83 ,Validation loss = 0.26541\n",
            "Epoch 4: training_accuracy = 62.79 %, training_loss= 0.25155  ,Validation accuracy = 62.95 ,Validation loss = 0.25345\n",
            "Epoch 5: training_accuracy = 64.27 %, training_loss= 0.24315  ,Validation accuracy = 64.30 ,Validation loss = 0.24528\n",
            "Epoch 6: training_accuracy = 65.33 %, training_loss= 0.23702  ,Validation accuracy = 65.15 ,Validation loss = 0.23931\n",
            "Epoch 7: training_accuracy = 66.08 %, training_loss= 0.23233  ,Validation accuracy = 65.75 ,Validation loss = 0.23472\n",
            "Epoch 8: training_accuracy = 66.66 %, training_loss= 0.22859  ,Validation accuracy = 66.03 ,Validation loss = 0.23104\n",
            "Epoch 9: training_accuracy = 67.17 %, training_loss= 0.22552  ,Validation accuracy = 66.77 ,Validation loss = 0.22800\n",
            "Epoch 10: training_accuracy = 67.60 %, training_loss= 0.22294  ,Validation accuracy = 67.07 ,Validation loss = 0.22542\n",
            "Epoch 11: training_accuracy = 67.94 %, training_loss= 0.22073  ,Validation accuracy = 67.48 ,Validation loss = 0.22320\n",
            "Epoch 12: training_accuracy = 68.26 %, training_loss= 0.21881  ,Validation accuracy = 67.77 ,Validation loss = 0.22126\n",
            "Epoch 13: training_accuracy = 68.50 %, training_loss= 0.21711  ,Validation accuracy = 68.08 ,Validation loss = 0.21954\n",
            "Epoch 14: training_accuracy = 68.74 %, training_loss= 0.21560  ,Validation accuracy = 68.27 ,Validation loss = 0.21800\n",
            "Epoch 15: training_accuracy = 68.90 %, training_loss= 0.21423  ,Validation accuracy = 68.52 ,Validation loss = 0.21661\n",
            "Epoch 16: training_accuracy = 69.08 %, training_loss= 0.21299  ,Validation accuracy = 68.82 ,Validation loss = 0.21535\n",
            "Epoch 17: training_accuracy = 69.23 %, training_loss= 0.21186  ,Validation accuracy = 69.13 ,Validation loss = 0.21419\n",
            "Epoch 18: training_accuracy = 69.37 %, training_loss= 0.21082  ,Validation accuracy = 69.27 ,Validation loss = 0.21313\n",
            "Epoch 19: training_accuracy = 69.53 %, training_loss= 0.20986  ,Validation accuracy = 69.38 ,Validation loss = 0.21215\n",
            "Epoch 20: training_accuracy = 69.68 %, training_loss= 0.20897  ,Validation accuracy = 69.57 ,Validation loss = 0.21123\n",
            "Epoch 21: training_accuracy = 69.79 %, training_loss= 0.20813  ,Validation accuracy = 69.68 ,Validation loss = 0.21038\n",
            "Epoch 22: training_accuracy = 69.92 %, training_loss= 0.20735  ,Validation accuracy = 69.85 ,Validation loss = 0.20959\n",
            "Epoch 23: training_accuracy = 70.03 %, training_loss= 0.20662  ,Validation accuracy = 70.02 ,Validation loss = 0.20884\n",
            "Epoch 24: training_accuracy = 70.18 %, training_loss= 0.20593  ,Validation accuracy = 70.18 ,Validation loss = 0.20814\n",
            "Epoch 25: training_accuracy = 70.28 %, training_loss= 0.20528  ,Validation accuracy = 70.30 ,Validation loss = 0.20747\n",
            "Epoch 26: training_accuracy = 70.40 %, training_loss= 0.20466  ,Validation accuracy = 70.38 ,Validation loss = 0.20684\n",
            "Epoch 27: training_accuracy = 70.49 %, training_loss= 0.20407  ,Validation accuracy = 70.42 ,Validation loss = 0.20625\n",
            "Epoch 28: training_accuracy = 70.56 %, training_loss= 0.20351  ,Validation accuracy = 70.52 ,Validation loss = 0.20568\n",
            "Epoch 29: training_accuracy = 70.62 %, training_loss= 0.20298  ,Validation accuracy = 70.52 ,Validation loss = 0.20514\n",
            "Epoch 30: training_accuracy = 70.72 %, training_loss= 0.20247  ,Validation accuracy = 70.53 ,Validation loss = 0.20463\n",
            "Epoch 31: training_accuracy = 70.81 %, training_loss= 0.20198  ,Validation accuracy = 70.57 ,Validation loss = 0.20413\n",
            "Epoch 32: training_accuracy = 70.90 %, training_loss= 0.20152  ,Validation accuracy = 70.60 ,Validation loss = 0.20366\n",
            "Epoch 33: training_accuracy = 70.96 %, training_loss= 0.20107  ,Validation accuracy = 70.73 ,Validation loss = 0.20321\n",
            "Epoch 34: training_accuracy = 71.01 %, training_loss= 0.20064  ,Validation accuracy = 70.78 ,Validation loss = 0.20278\n",
            "Epoch 35: training_accuracy = 71.08 %, training_loss= 0.20023  ,Validation accuracy = 70.83 ,Validation loss = 0.20237\n",
            "Epoch 36: training_accuracy = 71.17 %, training_loss= 0.19983  ,Validation accuracy = 71.00 ,Validation loss = 0.20197\n",
            "Epoch 37: training_accuracy = 71.21 %, training_loss= 0.19945  ,Validation accuracy = 71.05 ,Validation loss = 0.20158\n",
            "Epoch 38: training_accuracy = 71.25 %, training_loss= 0.19908  ,Validation accuracy = 71.13 ,Validation loss = 0.20121\n",
            "Epoch 39: training_accuracy = 71.30 %, training_loss= 0.19873  ,Validation accuracy = 71.28 ,Validation loss = 0.20085\n",
            "Epoch 40: training_accuracy = 71.32 %, training_loss= 0.19838  ,Validation accuracy = 71.32 ,Validation loss = 0.20051\n",
            "Epoch 41: training_accuracy = 71.38 %, training_loss= 0.19805  ,Validation accuracy = 71.38 ,Validation loss = 0.20018\n",
            "Epoch 42: training_accuracy = 71.43 %, training_loss= 0.19773  ,Validation accuracy = 71.40 ,Validation loss = 0.19985\n",
            "Epoch 43: training_accuracy = 71.47 %, training_loss= 0.19742  ,Validation accuracy = 71.47 ,Validation loss = 0.19954\n",
            "Epoch 44: training_accuracy = 71.52 %, training_loss= 0.19712  ,Validation accuracy = 71.43 ,Validation loss = 0.19924\n",
            "Epoch 45: training_accuracy = 71.56 %, training_loss= 0.19683  ,Validation accuracy = 71.43 ,Validation loss = 0.19895\n",
            "Epoch 46: training_accuracy = 71.62 %, training_loss= 0.19654  ,Validation accuracy = 71.53 ,Validation loss = 0.19867\n",
            "Epoch 47: training_accuracy = 71.65 %, training_loss= 0.19627  ,Validation accuracy = 71.60 ,Validation loss = 0.19839\n",
            "Epoch 48: training_accuracy = 71.68 %, training_loss= 0.19600  ,Validation accuracy = 71.65 ,Validation loss = 0.19812\n",
            "Epoch 49: training_accuracy = 71.73 %, training_loss= 0.19574  ,Validation accuracy = 71.67 ,Validation loss = 0.19787\n"
          ]
        },
        {
          "data": {
            "text/html": [
              "Waiting for W&B process to finish... <strong style=\"color:green\">(success).</strong>"
            ],
            "text/plain": [
              "<IPython.core.display.HTML object>"
            ]
          },
          "metadata": {},
          "output_type": "display_data"
        },
        {
          "data": {
            "application/vnd.jupyter.widget-view+json": {
              "model_id": "2d64ea7f7cbe4174b92c82bd125965bc",
              "version_major": 2,
              "version_minor": 0
            },
            "text/plain": [
              "VBox(children=(Label(value='0.001 MB of 0.001 MB uploaded (0.000 MB deduped)\\r'), FloatProgress(value=1.0, max…"
            ]
          },
          "metadata": {},
          "output_type": "display_data"
        },
        {
          "data": {
            "text/html": [
              "<style>\n",
              "    table.wandb td:nth-child(1) { padding: 0 10px; text-align: left ; width: auto;} td:nth-child(2) {text-align: left ; width: 100%}\n",
              "    .wandb-row { display: flex; flex-direction: row; flex-wrap: wrap; justify-content: flex-start; width: 100% }\n",
              "    .wandb-col { display: flex; flex-direction: column; flex-basis: 100%; flex: 1; padding: 10px; }\n",
              "    </style>\n",
              "<div class=\"wandb-row\"><div class=\"wandb-col\"><h3>Run history:</h3><br/><table class=\"wandb\"><tr><td>accuracy</td><td>▁▃▅▆▆▇▇▇▇▇▇▇▇▇▇▇████████████████████████</td></tr><tr><td>steps</td><td>▁▁▁▁▁▁▁▁▁▁▁▁▁▁▁▁▁▁▁▁▁▁▁▁▁▁▁▁▁▁▁▁▁▁▁▁▁▁▁▁</td></tr><tr><td>train_loss</td><td>█▆▄▄▃▃▂▂▂▂▂▂▂▂▂▂▂▁▁▁▁▁▁▁▁▁▁▁▁▁▁▁▁▁▁▁▁▁▁▁</td></tr><tr><td>val_accuracy</td><td>▁▃▅▆▆▇▇▇▇▇▇▇▇▇▇▇████████████████████████</td></tr><tr><td>val_loss</td><td>█▆▄▄▃▃▂▂▂▂▂▂▂▂▂▂▂▁▁▁▁▁▁▁▁▁▁▁▁▁▁▁▁▁▁▁▁▁▁▁</td></tr></table><br/></div><div class=\"wandb-col\"><h3>Run summary:</h3><br/><table class=\"wandb\"><tr><td>accuracy</td><td>71.731</td></tr><tr><td>steps</td><td>50</td></tr><tr><td>train_loss</td><td>0.19574</td></tr><tr><td>val_accuracy</td><td>71.667</td></tr><tr><td>val_loss</td><td>0.19787</td></tr></table><br/></div></div>"
            ],
            "text/plain": [
              "<IPython.core.display.HTML object>"
            ]
          },
          "metadata": {},
          "output_type": "display_data"
        },
        {
          "data": {
            "text/html": [
              " View run <strong style=\"color:#cdcd00\">prime-sweep-29</strong> at: <a href='https://wandb.ai/sleya7110/Assignment1DLQ9/runs/klv612i5' target=\"_blank\">https://wandb.ai/sleya7110/Assignment1DLQ9/runs/klv612i5</a><br/>Synced 5 W&B file(s), 0 media file(s), 0 artifact file(s) and 0 other file(s)"
            ],
            "text/plain": [
              "<IPython.core.display.HTML object>"
            ]
          },
          "metadata": {},
          "output_type": "display_data"
        },
        {
          "data": {
            "text/html": [
              "Find logs at: <code>./wandb/run-20230317_135815-klv612i5/logs</code>"
            ],
            "text/plain": [
              "<IPython.core.display.HTML object>"
            ]
          },
          "metadata": {},
          "output_type": "display_data"
        },
        {
          "name": "stderr",
          "output_type": "stream",
          "text": [
            "\u001b[34m\u001b[1mwandb\u001b[0m: Agent Starting Run: h98lcp3s with config:\n",
            "\u001b[34m\u001b[1mwandb\u001b[0m: \tactivation: relu\n",
            "\u001b[34m\u001b[1mwandb\u001b[0m: \tbatchSize: 128\n",
            "\u001b[34m\u001b[1mwandb\u001b[0m: \tepochs: 20\n",
            "\u001b[34m\u001b[1mwandb\u001b[0m: \thidLayer: [64, 64, 64]\n",
            "\u001b[34m\u001b[1mwandb\u001b[0m: \tinitForm: random\n",
            "\u001b[34m\u001b[1mwandb\u001b[0m: \tlearningRate: 0.001\n",
            "\u001b[34m\u001b[1mwandb\u001b[0m: \tlossFn: square_loss\n",
            "\u001b[34m\u001b[1mwandb\u001b[0m: \toptimiser: rmsprop\n",
            "\u001b[34m\u001b[1mwandb\u001b[0m: \tweight_decay: 0\n",
            "\u001b[34m\u001b[1mwandb\u001b[0m: \u001b[33mWARNING\u001b[0m Ignored wandb.init() arg project when running a sweep.\n",
            "\u001b[34m\u001b[1mwandb\u001b[0m: \u001b[33mWARNING\u001b[0m Ignored wandb.init() arg entity when running a sweep.\n"
          ]
        },
        {
          "data": {
            "text/html": [
              "Tracking run with wandb version 0.14.0"
            ],
            "text/plain": [
              "<IPython.core.display.HTML object>"
            ]
          },
          "metadata": {},
          "output_type": "display_data"
        },
        {
          "data": {
            "text/html": [
              "Run data is saved locally in <code>/content/wandb/run-20230317_140626-h98lcp3s</code>"
            ],
            "text/plain": [
              "<IPython.core.display.HTML object>"
            ]
          },
          "metadata": {},
          "output_type": "display_data"
        },
        {
          "data": {
            "text/html": [
              "Syncing run <strong><a href='https://wandb.ai/sleya7110/Assignment1DLQ9/runs/h98lcp3s' target=\"_blank\">drawn-sweep-30</a></strong> to <a href='https://wandb.ai/sleya7110/Assignment1DLQ9' target=\"_blank\">Weights & Biases</a> (<a href='https://wandb.me/run' target=\"_blank\">docs</a>)<br/>Sweep page: <a href='https://wandb.ai/sleya7110/Assignment1DLQ9/sweeps/h6gghlmm' target=\"_blank\">https://wandb.ai/sleya7110/Assignment1DLQ9/sweeps/h6gghlmm</a>"
            ],
            "text/plain": [
              "<IPython.core.display.HTML object>"
            ]
          },
          "metadata": {},
          "output_type": "display_data"
        },
        {
          "data": {
            "text/html": [
              " View project at <a href='https://wandb.ai/sleya7110/Assignment1DLQ9' target=\"_blank\">https://wandb.ai/sleya7110/Assignment1DLQ9</a>"
            ],
            "text/plain": [
              "<IPython.core.display.HTML object>"
            ]
          },
          "metadata": {},
          "output_type": "display_data"
        },
        {
          "data": {
            "text/html": [
              " View sweep at <a href='https://wandb.ai/sleya7110/Assignment1DLQ9/sweeps/h6gghlmm' target=\"_blank\">https://wandb.ai/sleya7110/Assignment1DLQ9/sweeps/h6gghlmm</a>"
            ],
            "text/plain": [
              "<IPython.core.display.HTML object>"
            ]
          },
          "metadata": {},
          "output_type": "display_data"
        },
        {
          "data": {
            "text/html": [
              " View run at <a href='https://wandb.ai/sleya7110/Assignment1DLQ9/runs/h98lcp3s' target=\"_blank\">https://wandb.ai/sleya7110/Assignment1DLQ9/runs/h98lcp3s</a>"
            ],
            "text/plain": [
              "<IPython.core.display.HTML object>"
            ]
          },
          "metadata": {},
          "output_type": "display_data"
        },
        {
          "name": "stdout",
          "output_type": "stream",
          "text": [
            "W length= 4\n",
            "B length= 4\n",
            "W shape= (10, 64)\n",
            "B shape= (10, 1)\n",
            "Epoch 0: training_accuracy = 16.96 %, training_loss= 0.44377  ,Validation accuracy = 15.85 ,Validation loss = 0.44371\n",
            "Epoch 1: training_accuracy = 19.46 %, training_loss= 0.43942  ,Validation accuracy = 19.67 ,Validation loss = 0.43924\n",
            "Epoch 2: training_accuracy = 18.77 %, training_loss= 0.43590  ,Validation accuracy = 19.42 ,Validation loss = 0.43562\n",
            "Epoch 3: training_accuracy = 19.28 %, training_loss= 0.43307  ,Validation accuracy = 19.93 ,Validation loss = 0.43270\n",
            "Epoch 4: training_accuracy = 20.04 %, training_loss= 0.43083  ,Validation accuracy = 20.78 ,Validation loss = 0.43040\n",
            "Epoch 5: training_accuracy = 20.84 %, training_loss= 0.42907  ,Validation accuracy = 21.17 ,Validation loss = 0.42859\n",
            "Epoch 6: training_accuracy = 21.50 %, training_loss= 0.42768  ,Validation accuracy = 21.62 ,Validation loss = 0.42716\n",
            "Epoch 7: training_accuracy = 22.32 %, training_loss= 0.42657  ,Validation accuracy = 22.57 ,Validation loss = 0.42603\n",
            "Epoch 8: training_accuracy = 22.89 %, training_loss= 0.42568  ,Validation accuracy = 22.98 ,Validation loss = 0.42513\n",
            "Epoch 9: training_accuracy = 23.43 %, training_loss= 0.42496  ,Validation accuracy = 23.67 ,Validation loss = 0.42440\n",
            "Epoch 10: training_accuracy = 23.74 %, training_loss= 0.42438  ,Validation accuracy = 24.05 ,Validation loss = 0.42381\n",
            "Epoch 11: training_accuracy = 24.10 %, training_loss= 0.42390  ,Validation accuracy = 24.35 ,Validation loss = 0.42333\n",
            "Epoch 12: training_accuracy = 24.43 %, training_loss= 0.42351  ,Validation accuracy = 24.58 ,Validation loss = 0.42294\n",
            "Epoch 13: training_accuracy = 24.69 %, training_loss= 0.42319  ,Validation accuracy = 24.80 ,Validation loss = 0.42262\n",
            "Epoch 14: training_accuracy = 24.70 %, training_loss= 0.42291  ,Validation accuracy = 24.93 ,Validation loss = 0.42234\n",
            "Epoch 15: training_accuracy = 24.71 %, training_loss= 0.42268  ,Validation accuracy = 24.88 ,Validation loss = 0.42211\n",
            "Epoch 16: training_accuracy = 24.71 %, training_loss= 0.42248  ,Validation accuracy = 25.08 ,Validation loss = 0.42192\n",
            "Epoch 17: training_accuracy = 24.69 %, training_loss= 0.42231  ,Validation accuracy = 25.12 ,Validation loss = 0.42175\n",
            "Epoch 18: training_accuracy = 24.70 %, training_loss= 0.42217  ,Validation accuracy = 25.15 ,Validation loss = 0.42160\n",
            "Epoch 19: training_accuracy = 24.68 %, training_loss= 0.42204  ,Validation accuracy = 25.13 ,Validation loss = 0.42148\n"
          ]
        },
        {
          "data": {
            "text/html": [
              "Waiting for W&B process to finish... <strong style=\"color:green\">(success).</strong>"
            ],
            "text/plain": [
              "<IPython.core.display.HTML object>"
            ]
          },
          "metadata": {},
          "output_type": "display_data"
        },
        {
          "data": {
            "application/vnd.jupyter.widget-view+json": {
              "model_id": "c6b5383ca51347778629e18a78bac737",
              "version_major": 2,
              "version_minor": 0
            },
            "text/plain": [
              "VBox(children=(Label(value='0.001 MB of 0.011 MB uploaded (0.000 MB deduped)\\r'), FloatProgress(value=0.059476…"
            ]
          },
          "metadata": {},
          "output_type": "display_data"
        },
        {
          "data": {
            "text/html": [
              "<style>\n",
              "    table.wandb td:nth-child(1) { padding: 0 10px; text-align: left ; width: auto;} td:nth-child(2) {text-align: left ; width: 100%}\n",
              "    .wandb-row { display: flex; flex-direction: row; flex-wrap: wrap; justify-content: flex-start; width: 100% }\n",
              "    .wandb-col { display: flex; flex-direction: column; flex-basis: 100%; flex: 1; padding: 10px; }\n",
              "    </style>\n",
              "<div class=\"wandb-row\"><div class=\"wandb-col\"><h3>Run history:</h3><br/><table class=\"wandb\"><tr><td>accuracy</td><td>▁▃▃▃▄▅▅▆▆▇▇▇████████</td></tr><tr><td>steps</td><td>▁▁▁▁▁▁▁▁▁▁▁▁▁▁▁▁▁▁▁▁</td></tr><tr><td>train_loss</td><td>█▇▅▅▄▃▃▂▂▂▂▂▁▁▁▁▁▁▁▁</td></tr><tr><td>val_accuracy</td><td>▁▄▄▄▅▅▅▆▆▇▇▇████████</td></tr><tr><td>val_loss</td><td>█▇▅▅▄▃▃▂▂▂▂▂▁▁▁▁▁▁▁▁</td></tr></table><br/></div><div class=\"wandb-col\"><h3>Run summary:</h3><br/><table class=\"wandb\"><tr><td>accuracy</td><td>24.681</td></tr><tr><td>steps</td><td>20</td></tr><tr><td>train_loss</td><td>0.42204</td></tr><tr><td>val_accuracy</td><td>25.133</td></tr><tr><td>val_loss</td><td>0.42148</td></tr></table><br/></div></div>"
            ],
            "text/plain": [
              "<IPython.core.display.HTML object>"
            ]
          },
          "metadata": {},
          "output_type": "display_data"
        },
        {
          "data": {
            "text/html": [
              " View run <strong style=\"color:#cdcd00\">drawn-sweep-30</strong> at: <a href='https://wandb.ai/sleya7110/Assignment1DLQ9/runs/h98lcp3s' target=\"_blank\">https://wandb.ai/sleya7110/Assignment1DLQ9/runs/h98lcp3s</a><br/>Synced 5 W&B file(s), 0 media file(s), 0 artifact file(s) and 0 other file(s)"
            ],
            "text/plain": [
              "<IPython.core.display.HTML object>"
            ]
          },
          "metadata": {},
          "output_type": "display_data"
        },
        {
          "data": {
            "text/html": [
              "Find logs at: <code>./wandb/run-20230317_140626-h98lcp3s/logs</code>"
            ],
            "text/plain": [
              "<IPython.core.display.HTML object>"
            ]
          },
          "metadata": {},
          "output_type": "display_data"
        },
        {
          "name": "stderr",
          "output_type": "stream",
          "text": [
            "\u001b[34m\u001b[1mwandb\u001b[0m: Agent Starting Run: n1jp8590 with config:\n",
            "\u001b[34m\u001b[1mwandb\u001b[0m: \tactivation: sigmoid\n",
            "\u001b[34m\u001b[1mwandb\u001b[0m: \tbatchSize: 32\n",
            "\u001b[34m\u001b[1mwandb\u001b[0m: \tepochs: 20\n",
            "\u001b[34m\u001b[1mwandb\u001b[0m: \thidLayer: [32, 64, 128]\n",
            "\u001b[34m\u001b[1mwandb\u001b[0m: \tinitForm: random\n",
            "\u001b[34m\u001b[1mwandb\u001b[0m: \tlearningRate: 0.001\n",
            "\u001b[34m\u001b[1mwandb\u001b[0m: \tlossFn: square_loss\n",
            "\u001b[34m\u001b[1mwandb\u001b[0m: \toptimiser: ngd\n",
            "\u001b[34m\u001b[1mwandb\u001b[0m: \tweight_decay: 0\n",
            "\u001b[34m\u001b[1mwandb\u001b[0m: \u001b[33mWARNING\u001b[0m Ignored wandb.init() arg project when running a sweep.\n",
            "\u001b[34m\u001b[1mwandb\u001b[0m: \u001b[33mWARNING\u001b[0m Ignored wandb.init() arg entity when running a sweep.\n"
          ]
        },
        {
          "data": {
            "text/html": [
              "Tracking run with wandb version 0.14.0"
            ],
            "text/plain": [
              "<IPython.core.display.HTML object>"
            ]
          },
          "metadata": {},
          "output_type": "display_data"
        },
        {
          "data": {
            "text/html": [
              "Run data is saved locally in <code>/content/wandb/run-20230317_140759-n1jp8590</code>"
            ],
            "text/plain": [
              "<IPython.core.display.HTML object>"
            ]
          },
          "metadata": {},
          "output_type": "display_data"
        },
        {
          "data": {
            "text/html": [
              "Syncing run <strong><a href='https://wandb.ai/sleya7110/Assignment1DLQ9/runs/n1jp8590' target=\"_blank\">solar-sweep-31</a></strong> to <a href='https://wandb.ai/sleya7110/Assignment1DLQ9' target=\"_blank\">Weights & Biases</a> (<a href='https://wandb.me/run' target=\"_blank\">docs</a>)<br/>Sweep page: <a href='https://wandb.ai/sleya7110/Assignment1DLQ9/sweeps/h6gghlmm' target=\"_blank\">https://wandb.ai/sleya7110/Assignment1DLQ9/sweeps/h6gghlmm</a>"
            ],
            "text/plain": [
              "<IPython.core.display.HTML object>"
            ]
          },
          "metadata": {},
          "output_type": "display_data"
        },
        {
          "data": {
            "text/html": [
              " View project at <a href='https://wandb.ai/sleya7110/Assignment1DLQ9' target=\"_blank\">https://wandb.ai/sleya7110/Assignment1DLQ9</a>"
            ],
            "text/plain": [
              "<IPython.core.display.HTML object>"
            ]
          },
          "metadata": {},
          "output_type": "display_data"
        },
        {
          "data": {
            "text/html": [
              " View sweep at <a href='https://wandb.ai/sleya7110/Assignment1DLQ9/sweeps/h6gghlmm' target=\"_blank\">https://wandb.ai/sleya7110/Assignment1DLQ9/sweeps/h6gghlmm</a>"
            ],
            "text/plain": [
              "<IPython.core.display.HTML object>"
            ]
          },
          "metadata": {},
          "output_type": "display_data"
        },
        {
          "data": {
            "text/html": [
              " View run at <a href='https://wandb.ai/sleya7110/Assignment1DLQ9/runs/n1jp8590' target=\"_blank\">https://wandb.ai/sleya7110/Assignment1DLQ9/runs/n1jp8590</a>"
            ],
            "text/plain": [
              "<IPython.core.display.HTML object>"
            ]
          },
          "metadata": {},
          "output_type": "display_data"
        },
        {
          "name": "stdout",
          "output_type": "stream",
          "text": [
            "W length= 4\n",
            "B length= 4\n",
            "W shape= (10, 128)\n",
            "B shape= (10, 1)\n",
            "Epoch 0: training_accuracy = 9.96 %, training_loss= 0.45048  ,Validation accuracy = 10.35 ,Validation loss = 0.45052\n",
            "Epoch 1: training_accuracy = 9.96 %, training_loss= 0.44999  ,Validation accuracy = 10.35 ,Validation loss = 0.44998\n",
            "Epoch 2: training_accuracy = 9.96 %, training_loss= 0.44999  ,Validation accuracy = 10.35 ,Validation loss = 0.44998\n",
            "Epoch 3: training_accuracy = 9.96 %, training_loss= 0.44999  ,Validation accuracy = 10.35 ,Validation loss = 0.44998\n",
            "Epoch 4: training_accuracy = 9.96 %, training_loss= 0.44999  ,Validation accuracy = 10.35 ,Validation loss = 0.44998\n",
            "Epoch 5: training_accuracy = 9.96 %, training_loss= 0.44999  ,Validation accuracy = 10.35 ,Validation loss = 0.44998\n",
            "Epoch 6: training_accuracy = 9.96 %, training_loss= 0.44999  ,Validation accuracy = 10.35 ,Validation loss = 0.44998\n",
            "Epoch 7: training_accuracy = 9.96 %, training_loss= 0.44999  ,Validation accuracy = 10.35 ,Validation loss = 0.44998\n",
            "Epoch 8: training_accuracy = 9.96 %, training_loss= 0.44999  ,Validation accuracy = 10.35 ,Validation loss = 0.44998\n",
            "Epoch 9: training_accuracy = 9.96 %, training_loss= 0.44999  ,Validation accuracy = 10.35 ,Validation loss = 0.44998\n",
            "Epoch 10: training_accuracy = 9.96 %, training_loss= 0.44999  ,Validation accuracy = 10.35 ,Validation loss = 0.44998\n",
            "Epoch 11: training_accuracy = 9.96 %, training_loss= 0.44999  ,Validation accuracy = 10.35 ,Validation loss = 0.44998\n",
            "Epoch 12: training_accuracy = 9.96 %, training_loss= 0.44999  ,Validation accuracy = 10.35 ,Validation loss = 0.44998\n",
            "Epoch 13: training_accuracy = 9.96 %, training_loss= 0.44999  ,Validation accuracy = 10.35 ,Validation loss = 0.44998\n",
            "Epoch 14: training_accuracy = 9.96 %, training_loss= 0.44999  ,Validation accuracy = 10.35 ,Validation loss = 0.44998\n",
            "Epoch 15: training_accuracy = 9.96 %, training_loss= 0.44999  ,Validation accuracy = 10.35 ,Validation loss = 0.44998\n",
            "Epoch 16: training_accuracy = 9.96 %, training_loss= 0.44999  ,Validation accuracy = 10.35 ,Validation loss = 0.44998\n",
            "Epoch 17: training_accuracy = 9.96 %, training_loss= 0.44999  ,Validation accuracy = 10.35 ,Validation loss = 0.44998\n",
            "Epoch 18: training_accuracy = 9.96 %, training_loss= 0.44999  ,Validation accuracy = 10.35 ,Validation loss = 0.44998\n",
            "Epoch 19: training_accuracy = 9.96 %, training_loss= 0.44999  ,Validation accuracy = 10.35 ,Validation loss = 0.44998\n"
          ]
        },
        {
          "data": {
            "text/html": [
              "Waiting for W&B process to finish... <strong style=\"color:green\">(success).</strong>"
            ],
            "text/plain": [
              "<IPython.core.display.HTML object>"
            ]
          },
          "metadata": {},
          "output_type": "display_data"
        },
        {
          "data": {
            "application/vnd.jupyter.widget-view+json": {
              "model_id": "cf25569b02b049b69ed7e411ff7b0e9f",
              "version_major": 2,
              "version_minor": 0
            },
            "text/plain": [
              "VBox(children=(Label(value='0.001 MB of 0.001 MB uploaded (0.000 MB deduped)\\r'), FloatProgress(value=1.0, max…"
            ]
          },
          "metadata": {},
          "output_type": "display_data"
        },
        {
          "data": {
            "text/html": [
              "<style>\n",
              "    table.wandb td:nth-child(1) { padding: 0 10px; text-align: left ; width: auto;} td:nth-child(2) {text-align: left ; width: 100%}\n",
              "    .wandb-row { display: flex; flex-direction: row; flex-wrap: wrap; justify-content: flex-start; width: 100% }\n",
              "    .wandb-col { display: flex; flex-direction: column; flex-basis: 100%; flex: 1; padding: 10px; }\n",
              "    </style>\n",
              "<div class=\"wandb-row\"><div class=\"wandb-col\"><h3>Run history:</h3><br/><table class=\"wandb\"><tr><td>accuracy</td><td>▁▁▁▁▁▁▁▁▁▁▁▁▁▁▁▁▁▁▁▁</td></tr><tr><td>steps</td><td>▁▁▁▁▁▁▁▁▁▁▁▁▁▁▁▁▁▁▁▁</td></tr><tr><td>train_loss</td><td>█▁▁▁▁▁▁▁▁▁▁▁▁▁▁▁▁▁▁▁</td></tr><tr><td>val_accuracy</td><td>▁▁▁▁▁▁▁▁▁▁▁▁▁▁▁▁▁▁▁▁</td></tr><tr><td>val_loss</td><td>█▁▁▁▁▁▁▁▁▁▁▁▁▁▁▁▁▁▁▁</td></tr></table><br/></div><div class=\"wandb-col\"><h3>Run summary:</h3><br/><table class=\"wandb\"><tr><td>accuracy</td><td>9.961</td></tr><tr><td>steps</td><td>20</td></tr><tr><td>train_loss</td><td>0.44999</td></tr><tr><td>val_accuracy</td><td>10.35</td></tr><tr><td>val_loss</td><td>0.44998</td></tr></table><br/></div></div>"
            ],
            "text/plain": [
              "<IPython.core.display.HTML object>"
            ]
          },
          "metadata": {},
          "output_type": "display_data"
        },
        {
          "data": {
            "text/html": [
              " View run <strong style=\"color:#cdcd00\">solar-sweep-31</strong> at: <a href='https://wandb.ai/sleya7110/Assignment1DLQ9/runs/n1jp8590' target=\"_blank\">https://wandb.ai/sleya7110/Assignment1DLQ9/runs/n1jp8590</a><br/>Synced 5 W&B file(s), 0 media file(s), 0 artifact file(s) and 0 other file(s)"
            ],
            "text/plain": [
              "<IPython.core.display.HTML object>"
            ]
          },
          "metadata": {},
          "output_type": "display_data"
        },
        {
          "data": {
            "text/html": [
              "Find logs at: <code>./wandb/run-20230317_140759-n1jp8590/logs</code>"
            ],
            "text/plain": [
              "<IPython.core.display.HTML object>"
            ]
          },
          "metadata": {},
          "output_type": "display_data"
        },
        {
          "name": "stderr",
          "output_type": "stream",
          "text": [
            "\u001b[34m\u001b[1mwandb\u001b[0m: Agent Starting Run: 6al7pjra with config:\n",
            "\u001b[34m\u001b[1mwandb\u001b[0m: \tactivation: tanh\n",
            "\u001b[34m\u001b[1mwandb\u001b[0m: \tbatchSize: 128\n",
            "\u001b[34m\u001b[1mwandb\u001b[0m: \tepochs: 5\n",
            "\u001b[34m\u001b[1mwandb\u001b[0m: \thidLayer: [32, 64, 128]\n",
            "\u001b[34m\u001b[1mwandb\u001b[0m: \tinitForm: xavier\n",
            "\u001b[34m\u001b[1mwandb\u001b[0m: \tlearningRate: 0.01\n",
            "\u001b[34m\u001b[1mwandb\u001b[0m: \tlossFn: square_loss\n",
            "\u001b[34m\u001b[1mwandb\u001b[0m: \toptimiser: rmsprop\n",
            "\u001b[34m\u001b[1mwandb\u001b[0m: \tweight_decay: 0\n",
            "\u001b[34m\u001b[1mwandb\u001b[0m: \u001b[33mWARNING\u001b[0m Ignored wandb.init() arg project when running a sweep.\n",
            "\u001b[34m\u001b[1mwandb\u001b[0m: \u001b[33mWARNING\u001b[0m Ignored wandb.init() arg entity when running a sweep.\n"
          ]
        },
        {
          "data": {
            "text/html": [
              "Tracking run with wandb version 0.14.0"
            ],
            "text/plain": [
              "<IPython.core.display.HTML object>"
            ]
          },
          "metadata": {},
          "output_type": "display_data"
        },
        {
          "data": {
            "text/html": [
              "Run data is saved locally in <code>/content/wandb/run-20230317_141138-6al7pjra</code>"
            ],
            "text/plain": [
              "<IPython.core.display.HTML object>"
            ]
          },
          "metadata": {},
          "output_type": "display_data"
        },
        {
          "data": {
            "text/html": [
              "Syncing run <strong><a href='https://wandb.ai/sleya7110/Assignment1DLQ9/runs/6al7pjra' target=\"_blank\">golden-sweep-32</a></strong> to <a href='https://wandb.ai/sleya7110/Assignment1DLQ9' target=\"_blank\">Weights & Biases</a> (<a href='https://wandb.me/run' target=\"_blank\">docs</a>)<br/>Sweep page: <a href='https://wandb.ai/sleya7110/Assignment1DLQ9/sweeps/h6gghlmm' target=\"_blank\">https://wandb.ai/sleya7110/Assignment1DLQ9/sweeps/h6gghlmm</a>"
            ],
            "text/plain": [
              "<IPython.core.display.HTML object>"
            ]
          },
          "metadata": {},
          "output_type": "display_data"
        },
        {
          "data": {
            "text/html": [
              " View project at <a href='https://wandb.ai/sleya7110/Assignment1DLQ9' target=\"_blank\">https://wandb.ai/sleya7110/Assignment1DLQ9</a>"
            ],
            "text/plain": [
              "<IPython.core.display.HTML object>"
            ]
          },
          "metadata": {},
          "output_type": "display_data"
        },
        {
          "data": {
            "text/html": [
              " View sweep at <a href='https://wandb.ai/sleya7110/Assignment1DLQ9/sweeps/h6gghlmm' target=\"_blank\">https://wandb.ai/sleya7110/Assignment1DLQ9/sweeps/h6gghlmm</a>"
            ],
            "text/plain": [
              "<IPython.core.display.HTML object>"
            ]
          },
          "metadata": {},
          "output_type": "display_data"
        },
        {
          "data": {
            "text/html": [
              " View run at <a href='https://wandb.ai/sleya7110/Assignment1DLQ9/runs/6al7pjra' target=\"_blank\">https://wandb.ai/sleya7110/Assignment1DLQ9/runs/6al7pjra</a>"
            ],
            "text/plain": [
              "<IPython.core.display.HTML object>"
            ]
          },
          "metadata": {},
          "output_type": "display_data"
        },
        {
          "name": "stdout",
          "output_type": "stream",
          "text": [
            "W length= 4\n",
            "B length= 4\n",
            "W shape= (10, 128)\n",
            "B shape= (10, 1)\n",
            "Epoch 0: training_accuracy = 13.13 %, training_loss= 0.47922  ,Validation accuracy = 12.30 ,Validation loss = 0.48316\n",
            "Epoch 1: training_accuracy = 21.31 %, training_loss= 0.43898  ,Validation accuracy = 20.37 ,Validation loss = 0.43989\n",
            "Epoch 2: training_accuracy = 28.04 %, training_loss= 0.42948  ,Validation accuracy = 27.85 ,Validation loss = 0.43103\n"
          ]
        },
        {
          "name": "stderr",
          "output_type": "stream",
          "text": [
            "<ipython-input-14-27052d5c3141>:26: RuntimeWarning: invalid value encountered in true_divide\n",
            "  soft[:, i] = numr/np.sum(numr)\n"
          ]
        },
        {
          "name": "stdout",
          "output_type": "stream",
          "text": [
            "Epoch 3: training_accuracy = 10.01 %, training_loss= nan  ,Validation accuracy = 9.95 ,Validation loss = nan\n",
            "Epoch 4: training_accuracy = 10.01 %, training_loss= nan  ,Validation accuracy = 9.95 ,Validation loss = nan\n"
          ]
        },
        {
          "data": {
            "text/html": [
              "Waiting for W&B process to finish... <strong style=\"color:green\">(success).</strong>"
            ],
            "text/plain": [
              "<IPython.core.display.HTML object>"
            ]
          },
          "metadata": {},
          "output_type": "display_data"
        },
        {
          "data": {
            "text/html": [
              "<style>\n",
              "    table.wandb td:nth-child(1) { padding: 0 10px; text-align: left ; width: auto;} td:nth-child(2) {text-align: left ; width: 100%}\n",
              "    .wandb-row { display: flex; flex-direction: row; flex-wrap: wrap; justify-content: flex-start; width: 100% }\n",
              "    .wandb-col { display: flex; flex-direction: column; flex-basis: 100%; flex: 1; padding: 10px; }\n",
              "    </style>\n",
              "<div class=\"wandb-row\"><div class=\"wandb-col\"><h3>Run history:</h3><br/><table class=\"wandb\"><tr><td>accuracy</td><td>▂▅█▁▁</td></tr><tr><td>steps</td><td>▁▁▁▁▁</td></tr><tr><td>train_loss</td><td>█▂▁  </td></tr><tr><td>val_accuracy</td><td>▂▅█▁▁</td></tr><tr><td>val_loss</td><td>█▂▁  </td></tr></table><br/></div><div class=\"wandb-col\"><h3>Run summary:</h3><br/><table class=\"wandb\"><tr><td>accuracy</td><td>10.006</td></tr><tr><td>steps</td><td>5</td></tr><tr><td>train_loss</td><td>nan</td></tr><tr><td>val_accuracy</td><td>9.95</td></tr><tr><td>val_loss</td><td>nan</td></tr></table><br/></div></div>"
            ],
            "text/plain": [
              "<IPython.core.display.HTML object>"
            ]
          },
          "metadata": {},
          "output_type": "display_data"
        },
        {
          "data": {
            "text/html": [
              " View run <strong style=\"color:#cdcd00\">golden-sweep-32</strong> at: <a href='https://wandb.ai/sleya7110/Assignment1DLQ9/runs/6al7pjra' target=\"_blank\">https://wandb.ai/sleya7110/Assignment1DLQ9/runs/6al7pjra</a><br/>Synced 5 W&B file(s), 0 media file(s), 0 artifact file(s) and 0 other file(s)"
            ],
            "text/plain": [
              "<IPython.core.display.HTML object>"
            ]
          },
          "metadata": {},
          "output_type": "display_data"
        },
        {
          "data": {
            "text/html": [
              "Find logs at: <code>./wandb/run-20230317_141138-6al7pjra/logs</code>"
            ],
            "text/plain": [
              "<IPython.core.display.HTML object>"
            ]
          },
          "metadata": {},
          "output_type": "display_data"
        },
        {
          "name": "stderr",
          "output_type": "stream",
          "text": [
            "\u001b[34m\u001b[1mwandb\u001b[0m: Agent Starting Run: 0y9va8tb with config:\n",
            "\u001b[34m\u001b[1mwandb\u001b[0m: \tactivation: tanh\n",
            "\u001b[34m\u001b[1mwandb\u001b[0m: \tbatchSize: 128\n",
            "\u001b[34m\u001b[1mwandb\u001b[0m: \tepochs: 50\n",
            "\u001b[34m\u001b[1mwandb\u001b[0m: \thidLayer: [32, 64, 128]\n",
            "\u001b[34m\u001b[1mwandb\u001b[0m: \tinitForm: random\n",
            "\u001b[34m\u001b[1mwandb\u001b[0m: \tlearningRate: 0.001\n",
            "\u001b[34m\u001b[1mwandb\u001b[0m: \tlossFn: square_loss\n",
            "\u001b[34m\u001b[1mwandb\u001b[0m: \toptimiser: ngd\n",
            "\u001b[34m\u001b[1mwandb\u001b[0m: \tweight_decay: 0.0005\n",
            "\u001b[34m\u001b[1mwandb\u001b[0m: \u001b[33mWARNING\u001b[0m Ignored wandb.init() arg project when running a sweep.\n",
            "\u001b[34m\u001b[1mwandb\u001b[0m: \u001b[33mWARNING\u001b[0m Ignored wandb.init() arg entity when running a sweep.\n"
          ]
        },
        {
          "data": {
            "text/html": [
              "Tracking run with wandb version 0.14.0"
            ],
            "text/plain": [
              "<IPython.core.display.HTML object>"
            ]
          },
          "metadata": {},
          "output_type": "display_data"
        },
        {
          "data": {
            "text/html": [
              "Run data is saved locally in <code>/content/wandb/run-20230317_141224-0y9va8tb</code>"
            ],
            "text/plain": [
              "<IPython.core.display.HTML object>"
            ]
          },
          "metadata": {},
          "output_type": "display_data"
        },
        {
          "data": {
            "text/html": [
              "Syncing run <strong><a href='https://wandb.ai/sleya7110/Assignment1DLQ9/runs/0y9va8tb' target=\"_blank\">usual-sweep-33</a></strong> to <a href='https://wandb.ai/sleya7110/Assignment1DLQ9' target=\"_blank\">Weights & Biases</a> (<a href='https://wandb.me/run' target=\"_blank\">docs</a>)<br/>Sweep page: <a href='https://wandb.ai/sleya7110/Assignment1DLQ9/sweeps/h6gghlmm' target=\"_blank\">https://wandb.ai/sleya7110/Assignment1DLQ9/sweeps/h6gghlmm</a>"
            ],
            "text/plain": [
              "<IPython.core.display.HTML object>"
            ]
          },
          "metadata": {},
          "output_type": "display_data"
        },
        {
          "data": {
            "text/html": [
              " View project at <a href='https://wandb.ai/sleya7110/Assignment1DLQ9' target=\"_blank\">https://wandb.ai/sleya7110/Assignment1DLQ9</a>"
            ],
            "text/plain": [
              "<IPython.core.display.HTML object>"
            ]
          },
          "metadata": {},
          "output_type": "display_data"
        },
        {
          "data": {
            "text/html": [
              " View sweep at <a href='https://wandb.ai/sleya7110/Assignment1DLQ9/sweeps/h6gghlmm' target=\"_blank\">https://wandb.ai/sleya7110/Assignment1DLQ9/sweeps/h6gghlmm</a>"
            ],
            "text/plain": [
              "<IPython.core.display.HTML object>"
            ]
          },
          "metadata": {},
          "output_type": "display_data"
        },
        {
          "data": {
            "text/html": [
              " View run at <a href='https://wandb.ai/sleya7110/Assignment1DLQ9/runs/0y9va8tb' target=\"_blank\">https://wandb.ai/sleya7110/Assignment1DLQ9/runs/0y9va8tb</a>"
            ],
            "text/plain": [
              "<IPython.core.display.HTML object>"
            ]
          },
          "metadata": {},
          "output_type": "display_data"
        },
        {
          "name": "stdout",
          "output_type": "stream",
          "text": [
            "W length= 4\n",
            "B length= 4\n",
            "W shape= (10, 128)\n",
            "B shape= (10, 1)\n",
            "Epoch 0: training_accuracy = 9.96 %, training_loss= 0.45117  ,Validation accuracy = 10.35 ,Validation loss = 0.45122\n",
            "Epoch 1: training_accuracy = 9.96 %, training_loss= 0.45006  ,Validation accuracy = 10.35 ,Validation loss = 0.45009\n",
            "Epoch 2: training_accuracy = 12.48 %, training_loss= 0.44999  ,Validation accuracy = 13.17 ,Validation loss = 0.45000\n",
            "Epoch 3: training_accuracy = 9.89 %, training_loss= 0.44998  ,Validation accuracy = 10.23 ,Validation loss = 0.44999\n",
            "Epoch 4: training_accuracy = 9.95 %, training_loss= 0.44998  ,Validation accuracy = 10.20 ,Validation loss = 0.44999\n",
            "Epoch 5: training_accuracy = 10.21 %, training_loss= 0.44998  ,Validation accuracy = 10.57 ,Validation loss = 0.44999\n",
            "Epoch 6: training_accuracy = 10.76 %, training_loss= 0.44998  ,Validation accuracy = 11.22 ,Validation loss = 0.44998\n",
            "Epoch 7: training_accuracy = 11.37 %, training_loss= 0.44997  ,Validation accuracy = 11.92 ,Validation loss = 0.44998\n",
            "Epoch 8: training_accuracy = 11.90 %, training_loss= 0.44997  ,Validation accuracy = 12.53 ,Validation loss = 0.44998\n",
            "Epoch 9: training_accuracy = 12.31 %, training_loss= 0.44997  ,Validation accuracy = 12.93 ,Validation loss = 0.44997\n",
            "Epoch 10: training_accuracy = 12.62 %, training_loss= 0.44996  ,Validation accuracy = 13.20 ,Validation loss = 0.44997\n",
            "Epoch 11: training_accuracy = 12.85 %, training_loss= 0.44996  ,Validation accuracy = 13.50 ,Validation loss = 0.44997\n",
            "Epoch 12: training_accuracy = 13.07 %, training_loss= 0.44996  ,Validation accuracy = 13.72 ,Validation loss = 0.44997\n",
            "Epoch 13: training_accuracy = 13.24 %, training_loss= 0.44996  ,Validation accuracy = 13.93 ,Validation loss = 0.44996\n",
            "Epoch 14: training_accuracy = 13.39 %, training_loss= 0.44995  ,Validation accuracy = 14.03 ,Validation loss = 0.44996\n",
            "Epoch 15: training_accuracy = 13.42 %, training_loss= 0.44995  ,Validation accuracy = 14.10 ,Validation loss = 0.44996\n",
            "Epoch 16: training_accuracy = 13.42 %, training_loss= 0.44995  ,Validation accuracy = 14.10 ,Validation loss = 0.44995\n",
            "Epoch 17: training_accuracy = 13.42 %, training_loss= 0.44994  ,Validation accuracy = 14.10 ,Validation loss = 0.44995\n",
            "Epoch 18: training_accuracy = 13.42 %, training_loss= 0.44994  ,Validation accuracy = 14.10 ,Validation loss = 0.44995\n",
            "Epoch 19: training_accuracy = 13.42 %, training_loss= 0.44994  ,Validation accuracy = 14.10 ,Validation loss = 0.44995\n",
            "Epoch 20: training_accuracy = 13.42 %, training_loss= 0.44994  ,Validation accuracy = 14.10 ,Validation loss = 0.44994\n",
            "Epoch 21: training_accuracy = 13.42 %, training_loss= 0.44993  ,Validation accuracy = 14.10 ,Validation loss = 0.44994\n",
            "Epoch 22: training_accuracy = 13.42 %, training_loss= 0.44993  ,Validation accuracy = 14.10 ,Validation loss = 0.44994\n",
            "Epoch 23: training_accuracy = 13.42 %, training_loss= 0.44993  ,Validation accuracy = 14.10 ,Validation loss = 0.44993\n",
            "Epoch 24: training_accuracy = 13.42 %, training_loss= 0.44993  ,Validation accuracy = 14.10 ,Validation loss = 0.44993\n",
            "Epoch 25: training_accuracy = 13.42 %, training_loss= 0.44992  ,Validation accuracy = 14.10 ,Validation loss = 0.44993\n",
            "Epoch 26: training_accuracy = 13.42 %, training_loss= 0.44992  ,Validation accuracy = 14.10 ,Validation loss = 0.44993\n",
            "Epoch 27: training_accuracy = 13.42 %, training_loss= 0.44992  ,Validation accuracy = 14.10 ,Validation loss = 0.44992\n",
            "Epoch 28: training_accuracy = 13.42 %, training_loss= 0.44991  ,Validation accuracy = 14.10 ,Validation loss = 0.44992\n",
            "Epoch 29: training_accuracy = 13.42 %, training_loss= 0.44991  ,Validation accuracy = 14.10 ,Validation loss = 0.44992\n",
            "Epoch 30: training_accuracy = 13.42 %, training_loss= 0.44991  ,Validation accuracy = 14.10 ,Validation loss = 0.44992\n",
            "Epoch 31: training_accuracy = 13.42 %, training_loss= 0.44991  ,Validation accuracy = 14.10 ,Validation loss = 0.44991\n",
            "Epoch 32: training_accuracy = 13.42 %, training_loss= 0.44990  ,Validation accuracy = 14.10 ,Validation loss = 0.44991\n",
            "Epoch 33: training_accuracy = 13.42 %, training_loss= 0.44990  ,Validation accuracy = 14.10 ,Validation loss = 0.44991\n",
            "Epoch 34: training_accuracy = 13.42 %, training_loss= 0.44990  ,Validation accuracy = 14.10 ,Validation loss = 0.44990\n",
            "Epoch 35: training_accuracy = 13.42 %, training_loss= 0.44990  ,Validation accuracy = 14.10 ,Validation loss = 0.44990\n",
            "Epoch 36: training_accuracy = 13.42 %, training_loss= 0.44989  ,Validation accuracy = 14.10 ,Validation loss = 0.44990\n",
            "Epoch 37: training_accuracy = 13.42 %, training_loss= 0.44989  ,Validation accuracy = 14.10 ,Validation loss = 0.44990\n",
            "Epoch 38: training_accuracy = 13.42 %, training_loss= 0.44989  ,Validation accuracy = 14.10 ,Validation loss = 0.44989\n",
            "Epoch 39: training_accuracy = 13.42 %, training_loss= 0.44989  ,Validation accuracy = 14.10 ,Validation loss = 0.44989\n",
            "Epoch 40: training_accuracy = 13.42 %, training_loss= 0.44988  ,Validation accuracy = 14.10 ,Validation loss = 0.44989\n",
            "Epoch 41: training_accuracy = 13.42 %, training_loss= 0.44988  ,Validation accuracy = 14.10 ,Validation loss = 0.44989\n",
            "Epoch 42: training_accuracy = 13.42 %, training_loss= 0.44988  ,Validation accuracy = 14.10 ,Validation loss = 0.44988\n",
            "Epoch 43: training_accuracy = 13.43 %, training_loss= 0.44987  ,Validation accuracy = 14.10 ,Validation loss = 0.44988\n",
            "Epoch 44: training_accuracy = 13.43 %, training_loss= 0.44987  ,Validation accuracy = 14.10 ,Validation loss = 0.44988\n",
            "Epoch 45: training_accuracy = 13.43 %, training_loss= 0.44987  ,Validation accuracy = 14.10 ,Validation loss = 0.44987\n",
            "Epoch 46: training_accuracy = 13.43 %, training_loss= 0.44987  ,Validation accuracy = 14.10 ,Validation loss = 0.44987\n",
            "Epoch 47: training_accuracy = 13.43 %, training_loss= 0.44986  ,Validation accuracy = 14.10 ,Validation loss = 0.44987\n",
            "Epoch 48: training_accuracy = 13.43 %, training_loss= 0.44986  ,Validation accuracy = 14.10 ,Validation loss = 0.44987\n",
            "Epoch 49: training_accuracy = 13.43 %, training_loss= 0.44986  ,Validation accuracy = 14.10 ,Validation loss = 0.44986\n"
          ]
        },
        {
          "data": {
            "text/html": [
              "Waiting for W&B process to finish... <strong style=\"color:green\">(success).</strong>"
            ],
            "text/plain": [
              "<IPython.core.display.HTML object>"
            ]
          },
          "metadata": {},
          "output_type": "display_data"
        },
        {
          "data": {
            "application/vnd.jupyter.widget-view+json": {
              "model_id": "0f6cde6f4d98487bb1b939e3f8905033",
              "version_major": 2,
              "version_minor": 0
            },
            "text/plain": [
              "VBox(children=(Label(value='0.001 MB of 0.014 MB uploaded (0.000 MB deduped)\\r'), FloatProgress(value=0.045433…"
            ]
          },
          "metadata": {},
          "output_type": "display_data"
        },
        {
          "data": {
            "text/html": [
              "<style>\n",
              "    table.wandb td:nth-child(1) { padding: 0 10px; text-align: left ; width: auto;} td:nth-child(2) {text-align: left ; width: 100%}\n",
              "    .wandb-row { display: flex; flex-direction: row; flex-wrap: wrap; justify-content: flex-start; width: 100% }\n",
              "    .wandb-col { display: flex; flex-direction: column; flex-basis: 100%; flex: 1; padding: 10px; }\n",
              "    </style>\n",
              "<div class=\"wandb-row\"><div class=\"wandb-col\"><h3>Run history:</h3><br/><table class=\"wandb\"><tr><td>accuracy</td><td>▁▁▆▁▂▃▄▅▆▇▇█████████████████████████████</td></tr><tr><td>steps</td><td>▁▁▁▁▁▁▁▁▁▁▁▁▁▁▁▁▁▁▁▁▁▁▁▁▁▁▁▁▁▁▁▁▁▁▁▁▁▁▁▁</td></tr><tr><td>train_loss</td><td>█▂▂▂▂▂▂▂▂▂▂▂▁▁▁▁▁▁▁▁▁▁▁▁▁▁▁▁▁▁▁▁▁▁▁▁▁▁▁▁</td></tr><tr><td>val_accuracy</td><td>▁▁▆▁▂▃▄▅▆▇▇█████████████████████████████</td></tr><tr><td>val_loss</td><td>█▂▂▂▂▂▂▂▂▂▂▂▁▁▁▁▁▁▁▁▁▁▁▁▁▁▁▁▁▁▁▁▁▁▁▁▁▁▁▁</td></tr></table><br/></div><div class=\"wandb-col\"><h3>Run summary:</h3><br/><table class=\"wandb\"><tr><td>accuracy</td><td>13.43</td></tr><tr><td>steps</td><td>50</td></tr><tr><td>train_loss</td><td>0.44986</td></tr><tr><td>val_accuracy</td><td>14.1</td></tr><tr><td>val_loss</td><td>0.44986</td></tr></table><br/></div></div>"
            ],
            "text/plain": [
              "<IPython.core.display.HTML object>"
            ]
          },
          "metadata": {},
          "output_type": "display_data"
        },
        {
          "data": {
            "text/html": [
              " View run <strong style=\"color:#cdcd00\">usual-sweep-33</strong> at: <a href='https://wandb.ai/sleya7110/Assignment1DLQ9/runs/0y9va8tb' target=\"_blank\">https://wandb.ai/sleya7110/Assignment1DLQ9/runs/0y9va8tb</a><br/>Synced 5 W&B file(s), 0 media file(s), 0 artifact file(s) and 0 other file(s)"
            ],
            "text/plain": [
              "<IPython.core.display.HTML object>"
            ]
          },
          "metadata": {},
          "output_type": "display_data"
        },
        {
          "data": {
            "text/html": [
              "Find logs at: <code>./wandb/run-20230317_141224-0y9va8tb/logs</code>"
            ],
            "text/plain": [
              "<IPython.core.display.HTML object>"
            ]
          },
          "metadata": {},
          "output_type": "display_data"
        },
        {
          "name": "stderr",
          "output_type": "stream",
          "text": [
            "\u001b[34m\u001b[1mwandb\u001b[0m: Agent Starting Run: 50yb1dyj with config:\n",
            "\u001b[34m\u001b[1mwandb\u001b[0m: \tactivation: tanh\n",
            "\u001b[34m\u001b[1mwandb\u001b[0m: \tbatchSize: 128\n",
            "\u001b[34m\u001b[1mwandb\u001b[0m: \tepochs: 5\n",
            "\u001b[34m\u001b[1mwandb\u001b[0m: \thidLayer: [128, 128, 128]\n",
            "\u001b[34m\u001b[1mwandb\u001b[0m: \tinitForm: xavier\n",
            "\u001b[34m\u001b[1mwandb\u001b[0m: \tlearningRate: 0.01\n",
            "\u001b[34m\u001b[1mwandb\u001b[0m: \tlossFn: square_loss\n",
            "\u001b[34m\u001b[1mwandb\u001b[0m: \toptimiser: gd\n",
            "\u001b[34m\u001b[1mwandb\u001b[0m: \tweight_decay: 0.0005\n",
            "\u001b[34m\u001b[1mwandb\u001b[0m: \u001b[33mWARNING\u001b[0m Ignored wandb.init() arg project when running a sweep.\n",
            "\u001b[34m\u001b[1mwandb\u001b[0m: \u001b[33mWARNING\u001b[0m Ignored wandb.init() arg entity when running a sweep.\n"
          ]
        },
        {
          "data": {
            "text/html": [
              "Tracking run with wandb version 0.14.0"
            ],
            "text/plain": [
              "<IPython.core.display.HTML object>"
            ]
          },
          "metadata": {},
          "output_type": "display_data"
        },
        {
          "data": {
            "text/html": [
              "Run data is saved locally in <code>/content/wandb/run-20230317_141929-50yb1dyj</code>"
            ],
            "text/plain": [
              "<IPython.core.display.HTML object>"
            ]
          },
          "metadata": {},
          "output_type": "display_data"
        },
        {
          "data": {
            "text/html": [
              "Syncing run <strong><a href='https://wandb.ai/sleya7110/Assignment1DLQ9/runs/50yb1dyj' target=\"_blank\">deep-sweep-34</a></strong> to <a href='https://wandb.ai/sleya7110/Assignment1DLQ9' target=\"_blank\">Weights & Biases</a> (<a href='https://wandb.me/run' target=\"_blank\">docs</a>)<br/>Sweep page: <a href='https://wandb.ai/sleya7110/Assignment1DLQ9/sweeps/h6gghlmm' target=\"_blank\">https://wandb.ai/sleya7110/Assignment1DLQ9/sweeps/h6gghlmm</a>"
            ],
            "text/plain": [
              "<IPython.core.display.HTML object>"
            ]
          },
          "metadata": {},
          "output_type": "display_data"
        },
        {
          "data": {
            "text/html": [
              " View project at <a href='https://wandb.ai/sleya7110/Assignment1DLQ9' target=\"_blank\">https://wandb.ai/sleya7110/Assignment1DLQ9</a>"
            ],
            "text/plain": [
              "<IPython.core.display.HTML object>"
            ]
          },
          "metadata": {},
          "output_type": "display_data"
        },
        {
          "data": {
            "text/html": [
              " View sweep at <a href='https://wandb.ai/sleya7110/Assignment1DLQ9/sweeps/h6gghlmm' target=\"_blank\">https://wandb.ai/sleya7110/Assignment1DLQ9/sweeps/h6gghlmm</a>"
            ],
            "text/plain": [
              "<IPython.core.display.HTML object>"
            ]
          },
          "metadata": {},
          "output_type": "display_data"
        },
        {
          "data": {
            "text/html": [
              " View run at <a href='https://wandb.ai/sleya7110/Assignment1DLQ9/runs/50yb1dyj' target=\"_blank\">https://wandb.ai/sleya7110/Assignment1DLQ9/runs/50yb1dyj</a>"
            ],
            "text/plain": [
              "<IPython.core.display.HTML object>"
            ]
          },
          "metadata": {},
          "output_type": "display_data"
        },
        {
          "name": "stdout",
          "output_type": "stream",
          "text": [
            "W length= 4\n",
            "B length= 4\n",
            "W shape= (10, 128)\n",
            "B shape= (10, 1)\n",
            "Epoch 0: training_accuracy = 11.69 %, training_loss= 0.52501  ,Validation accuracy = 11.42 ,Validation loss = 0.52631\n",
            "Epoch 1: training_accuracy = 14.97 %, training_loss= 0.49970  ,Validation accuracy = 14.78 ,Validation loss = 0.50048\n",
            "Epoch 2: training_accuracy = 17.88 %, training_loss= 0.48071  ,Validation accuracy = 17.75 ,Validation loss = 0.48150\n",
            "Epoch 3: training_accuracy = 20.90 %, training_loss= 0.46666  ,Validation accuracy = 20.83 ,Validation loss = 0.46740\n",
            "Epoch 4: training_accuracy = 23.90 %, training_loss= 0.45445  ,Validation accuracy = 23.77 ,Validation loss = 0.45490\n"
          ]
        },
        {
          "data": {
            "text/html": [
              "Waiting for W&B process to finish... <strong style=\"color:green\">(success).</strong>"
            ],
            "text/plain": [
              "<IPython.core.display.HTML object>"
            ]
          },
          "metadata": {},
          "output_type": "display_data"
        },
        {
          "data": {
            "text/html": [
              "<style>\n",
              "    table.wandb td:nth-child(1) { padding: 0 10px; text-align: left ; width: auto;} td:nth-child(2) {text-align: left ; width: 100%}\n",
              "    .wandb-row { display: flex; flex-direction: row; flex-wrap: wrap; justify-content: flex-start; width: 100% }\n",
              "    .wandb-col { display: flex; flex-direction: column; flex-basis: 100%; flex: 1; padding: 10px; }\n",
              "    </style>\n",
              "<div class=\"wandb-row\"><div class=\"wandb-col\"><h3>Run history:</h3><br/><table class=\"wandb\"><tr><td>accuracy</td><td>▁▃▅▆█</td></tr><tr><td>steps</td><td>▁▁▁▁▁</td></tr><tr><td>train_loss</td><td>█▅▄▂▁</td></tr><tr><td>val_accuracy</td><td>▁▃▅▆█</td></tr><tr><td>val_loss</td><td>█▅▄▂▁</td></tr></table><br/></div><div class=\"wandb-col\"><h3>Run summary:</h3><br/><table class=\"wandb\"><tr><td>accuracy</td><td>23.904</td></tr><tr><td>steps</td><td>5</td></tr><tr><td>train_loss</td><td>0.45445</td></tr><tr><td>val_accuracy</td><td>23.767</td></tr><tr><td>val_loss</td><td>0.4549</td></tr></table><br/></div></div>"
            ],
            "text/plain": [
              "<IPython.core.display.HTML object>"
            ]
          },
          "metadata": {},
          "output_type": "display_data"
        },
        {
          "data": {
            "text/html": [
              " View run <strong style=\"color:#cdcd00\">deep-sweep-34</strong> at: <a href='https://wandb.ai/sleya7110/Assignment1DLQ9/runs/50yb1dyj' target=\"_blank\">https://wandb.ai/sleya7110/Assignment1DLQ9/runs/50yb1dyj</a><br/>Synced 5 W&B file(s), 0 media file(s), 0 artifact file(s) and 0 other file(s)"
            ],
            "text/plain": [
              "<IPython.core.display.HTML object>"
            ]
          },
          "metadata": {},
          "output_type": "display_data"
        },
        {
          "data": {
            "text/html": [
              "Find logs at: <code>./wandb/run-20230317_141929-50yb1dyj/logs</code>"
            ],
            "text/plain": [
              "<IPython.core.display.HTML object>"
            ]
          },
          "metadata": {},
          "output_type": "display_data"
        },
        {
          "name": "stderr",
          "output_type": "stream",
          "text": [
            "\u001b[34m\u001b[1mwandb\u001b[0m: Agent Starting Run: c799z8s8 with config:\n",
            "\u001b[34m\u001b[1mwandb\u001b[0m: \tactivation: relu\n",
            "\u001b[34m\u001b[1mwandb\u001b[0m: \tbatchSize: 128\n",
            "\u001b[34m\u001b[1mwandb\u001b[0m: \tepochs: 10\n",
            "\u001b[34m\u001b[1mwandb\u001b[0m: \thidLayer: [32, 64, 128]\n",
            "\u001b[34m\u001b[1mwandb\u001b[0m: \tinitForm: xavier\n",
            "\u001b[34m\u001b[1mwandb\u001b[0m: \tlearningRate: 0.001\n",
            "\u001b[34m\u001b[1mwandb\u001b[0m: \tlossFn: square_loss\n",
            "\u001b[34m\u001b[1mwandb\u001b[0m: \toptimiser: ngd\n",
            "\u001b[34m\u001b[1mwandb\u001b[0m: \tweight_decay: 0\n",
            "\u001b[34m\u001b[1mwandb\u001b[0m: \u001b[33mWARNING\u001b[0m Ignored wandb.init() arg project when running a sweep.\n",
            "\u001b[34m\u001b[1mwandb\u001b[0m: \u001b[33mWARNING\u001b[0m Ignored wandb.init() arg entity when running a sweep.\n"
          ]
        },
        {
          "data": {
            "text/html": [
              "Tracking run with wandb version 0.14.0"
            ],
            "text/plain": [
              "<IPython.core.display.HTML object>"
            ]
          },
          "metadata": {},
          "output_type": "display_data"
        },
        {
          "data": {
            "text/html": [
              "Run data is saved locally in <code>/content/wandb/run-20230317_142030-c799z8s8</code>"
            ],
            "text/plain": [
              "<IPython.core.display.HTML object>"
            ]
          },
          "metadata": {},
          "output_type": "display_data"
        },
        {
          "data": {
            "text/html": [
              "Syncing run <strong><a href='https://wandb.ai/sleya7110/Assignment1DLQ9/runs/c799z8s8' target=\"_blank\">fast-sweep-35</a></strong> to <a href='https://wandb.ai/sleya7110/Assignment1DLQ9' target=\"_blank\">Weights & Biases</a> (<a href='https://wandb.me/run' target=\"_blank\">docs</a>)<br/>Sweep page: <a href='https://wandb.ai/sleya7110/Assignment1DLQ9/sweeps/h6gghlmm' target=\"_blank\">https://wandb.ai/sleya7110/Assignment1DLQ9/sweeps/h6gghlmm</a>"
            ],
            "text/plain": [
              "<IPython.core.display.HTML object>"
            ]
          },
          "metadata": {},
          "output_type": "display_data"
        },
        {
          "data": {
            "text/html": [
              " View project at <a href='https://wandb.ai/sleya7110/Assignment1DLQ9' target=\"_blank\">https://wandb.ai/sleya7110/Assignment1DLQ9</a>"
            ],
            "text/plain": [
              "<IPython.core.display.HTML object>"
            ]
          },
          "metadata": {},
          "output_type": "display_data"
        },
        {
          "data": {
            "text/html": [
              " View sweep at <a href='https://wandb.ai/sleya7110/Assignment1DLQ9/sweeps/h6gghlmm' target=\"_blank\">https://wandb.ai/sleya7110/Assignment1DLQ9/sweeps/h6gghlmm</a>"
            ],
            "text/plain": [
              "<IPython.core.display.HTML object>"
            ]
          },
          "metadata": {},
          "output_type": "display_data"
        },
        {
          "data": {
            "text/html": [
              " View run at <a href='https://wandb.ai/sleya7110/Assignment1DLQ9/runs/c799z8s8' target=\"_blank\">https://wandb.ai/sleya7110/Assignment1DLQ9/runs/c799z8s8</a>"
            ],
            "text/plain": [
              "<IPython.core.display.HTML object>"
            ]
          },
          "metadata": {},
          "output_type": "display_data"
        },
        {
          "name": "stdout",
          "output_type": "stream",
          "text": [
            "W length= 4\n",
            "B length= 4\n",
            "W shape= (10, 128)\n",
            "B shape= (10, 1)\n",
            "Epoch 0: training_accuracy = 22.73 %, training_loss= 0.52423  ,Validation accuracy = 23.20 ,Validation loss = 0.52290\n",
            "Epoch 1: training_accuracy = 29.31 %, training_loss= 0.47829  ,Validation accuracy = 30.03 ,Validation loss = 0.47485\n",
            "Epoch 2: training_accuracy = 33.59 %, training_loss= 0.44832  ,Validation accuracy = 34.20 ,Validation loss = 0.44384\n",
            "Epoch 3: training_accuracy = 36.28 %, training_loss= 0.42766  ,Validation accuracy = 37.37 ,Validation loss = 0.42261\n",
            "Epoch 4: training_accuracy = 38.57 %, training_loss= 0.41158  ,Validation accuracy = 39.60 ,Validation loss = 0.40634\n",
            "Epoch 5: training_accuracy = 40.42 %, training_loss= 0.39805  ,Validation accuracy = 41.42 ,Validation loss = 0.39281\n",
            "Epoch 6: training_accuracy = 42.20 %, training_loss= 0.38620  ,Validation accuracy = 43.15 ,Validation loss = 0.38107\n",
            "Epoch 7: training_accuracy = 43.77 %, training_loss= 0.37558  ,Validation accuracy = 44.68 ,Validation loss = 0.37066\n",
            "Epoch 8: training_accuracy = 45.20 %, training_loss= 0.36595  ,Validation accuracy = 45.95 ,Validation loss = 0.36133\n",
            "Epoch 9: training_accuracy = 46.50 %, training_loss= 0.35717  ,Validation accuracy = 47.28 ,Validation loss = 0.35292\n"
          ]
        },
        {
          "data": {
            "text/html": [
              "Waiting for W&B process to finish... <strong style=\"color:green\">(success).</strong>"
            ],
            "text/plain": [
              "<IPython.core.display.HTML object>"
            ]
          },
          "metadata": {},
          "output_type": "display_data"
        },
        {
          "data": {
            "text/html": [
              "<style>\n",
              "    table.wandb td:nth-child(1) { padding: 0 10px; text-align: left ; width: auto;} td:nth-child(2) {text-align: left ; width: 100%}\n",
              "    .wandb-row { display: flex; flex-direction: row; flex-wrap: wrap; justify-content: flex-start; width: 100% }\n",
              "    .wandb-col { display: flex; flex-direction: column; flex-basis: 100%; flex: 1; padding: 10px; }\n",
              "    </style>\n",
              "<div class=\"wandb-row\"><div class=\"wandb-col\"><h3>Run history:</h3><br/><table class=\"wandb\"><tr><td>accuracy</td><td>▁▃▄▅▆▆▇▇██</td></tr><tr><td>steps</td><td>▁▁▁▁▁▁▁▁▁▁</td></tr><tr><td>train_loss</td><td>█▆▅▄▃▃▂▂▁▁</td></tr><tr><td>val_accuracy</td><td>▁▃▄▅▆▆▇▇██</td></tr><tr><td>val_loss</td><td>█▆▅▄▃▃▂▂▁▁</td></tr></table><br/></div><div class=\"wandb-col\"><h3>Run summary:</h3><br/><table class=\"wandb\"><tr><td>accuracy</td><td>46.5</td></tr><tr><td>steps</td><td>10</td></tr><tr><td>train_loss</td><td>0.35717</td></tr><tr><td>val_accuracy</td><td>47.283</td></tr><tr><td>val_loss</td><td>0.35292</td></tr></table><br/></div></div>"
            ],
            "text/plain": [
              "<IPython.core.display.HTML object>"
            ]
          },
          "metadata": {},
          "output_type": "display_data"
        },
        {
          "data": {
            "text/html": [
              " View run <strong style=\"color:#cdcd00\">fast-sweep-35</strong> at: <a href='https://wandb.ai/sleya7110/Assignment1DLQ9/runs/c799z8s8' target=\"_blank\">https://wandb.ai/sleya7110/Assignment1DLQ9/runs/c799z8s8</a><br/>Synced 5 W&B file(s), 0 media file(s), 0 artifact file(s) and 0 other file(s)"
            ],
            "text/plain": [
              "<IPython.core.display.HTML object>"
            ]
          },
          "metadata": {},
          "output_type": "display_data"
        },
        {
          "data": {
            "text/html": [
              "Find logs at: <code>./wandb/run-20230317_142030-c799z8s8/logs</code>"
            ],
            "text/plain": [
              "<IPython.core.display.HTML object>"
            ]
          },
          "metadata": {},
          "output_type": "display_data"
        },
        {
          "name": "stderr",
          "output_type": "stream",
          "text": [
            "\u001b[34m\u001b[1mwandb\u001b[0m: Agent Starting Run: cm2p75i8 with config:\n",
            "\u001b[34m\u001b[1mwandb\u001b[0m: \tactivation: tanh\n",
            "\u001b[34m\u001b[1mwandb\u001b[0m: \tbatchSize: 128\n",
            "\u001b[34m\u001b[1mwandb\u001b[0m: \tepochs: 10\n",
            "\u001b[34m\u001b[1mwandb\u001b[0m: \thidLayer: [128, 128, 128]\n",
            "\u001b[34m\u001b[1mwandb\u001b[0m: \tinitForm: random\n",
            "\u001b[34m\u001b[1mwandb\u001b[0m: \tlearningRate: 0.001\n",
            "\u001b[34m\u001b[1mwandb\u001b[0m: \tlossFn: square_loss\n",
            "\u001b[34m\u001b[1mwandb\u001b[0m: \toptimiser: nadam\n",
            "\u001b[34m\u001b[1mwandb\u001b[0m: \tweight_decay: 0\n",
            "\u001b[34m\u001b[1mwandb\u001b[0m: \u001b[33mWARNING\u001b[0m Ignored wandb.init() arg project when running a sweep.\n",
            "\u001b[34m\u001b[1mwandb\u001b[0m: \u001b[33mWARNING\u001b[0m Ignored wandb.init() arg entity when running a sweep.\n"
          ]
        },
        {
          "data": {
            "text/html": [
              "Tracking run with wandb version 0.14.0"
            ],
            "text/plain": [
              "<IPython.core.display.HTML object>"
            ]
          },
          "metadata": {},
          "output_type": "display_data"
        },
        {
          "data": {
            "text/html": [
              "Run data is saved locally in <code>/content/wandb/run-20230317_142142-cm2p75i8</code>"
            ],
            "text/plain": [
              "<IPython.core.display.HTML object>"
            ]
          },
          "metadata": {},
          "output_type": "display_data"
        },
        {
          "data": {
            "text/html": [
              "Syncing run <strong><a href='https://wandb.ai/sleya7110/Assignment1DLQ9/runs/cm2p75i8' target=\"_blank\">upbeat-sweep-36</a></strong> to <a href='https://wandb.ai/sleya7110/Assignment1DLQ9' target=\"_blank\">Weights & Biases</a> (<a href='https://wandb.me/run' target=\"_blank\">docs</a>)<br/>Sweep page: <a href='https://wandb.ai/sleya7110/Assignment1DLQ9/sweeps/h6gghlmm' target=\"_blank\">https://wandb.ai/sleya7110/Assignment1DLQ9/sweeps/h6gghlmm</a>"
            ],
            "text/plain": [
              "<IPython.core.display.HTML object>"
            ]
          },
          "metadata": {},
          "output_type": "display_data"
        },
        {
          "data": {
            "text/html": [
              " View project at <a href='https://wandb.ai/sleya7110/Assignment1DLQ9' target=\"_blank\">https://wandb.ai/sleya7110/Assignment1DLQ9</a>"
            ],
            "text/plain": [
              "<IPython.core.display.HTML object>"
            ]
          },
          "metadata": {},
          "output_type": "display_data"
        },
        {
          "data": {
            "text/html": [
              " View sweep at <a href='https://wandb.ai/sleya7110/Assignment1DLQ9/sweeps/h6gghlmm' target=\"_blank\">https://wandb.ai/sleya7110/Assignment1DLQ9/sweeps/h6gghlmm</a>"
            ],
            "text/plain": [
              "<IPython.core.display.HTML object>"
            ]
          },
          "metadata": {},
          "output_type": "display_data"
        },
        {
          "data": {
            "text/html": [
              " View run at <a href='https://wandb.ai/sleya7110/Assignment1DLQ9/runs/cm2p75i8' target=\"_blank\">https://wandb.ai/sleya7110/Assignment1DLQ9/runs/cm2p75i8</a>"
            ],
            "text/plain": [
              "<IPython.core.display.HTML object>"
            ]
          },
          "metadata": {},
          "output_type": "display_data"
        },
        {
          "name": "stdout",
          "output_type": "stream",
          "text": [
            "W length= 4\n",
            "B length= 4\n",
            "W shape= (10, 128)\n",
            "B shape= (10, 1)\n",
            "Epoch 0: training_accuracy = 10.02 %, training_loss= 0.89976  ,Validation accuracy = 9.78 ,Validation loss = 0.90217\n",
            "Epoch 1: training_accuracy = 10.02 %, training_loss= 0.89976  ,Validation accuracy = 9.78 ,Validation loss = 0.90217\n",
            "Epoch 2: training_accuracy = 10.02 %, training_loss= 0.89976  ,Validation accuracy = 9.78 ,Validation loss = 0.90217\n",
            "Epoch 3: training_accuracy = 10.02 %, training_loss= 0.89976  ,Validation accuracy = 9.78 ,Validation loss = 0.90217\n",
            "Epoch 4: training_accuracy = 10.02 %, training_loss= 0.89976  ,Validation accuracy = 9.78 ,Validation loss = 0.90217\n",
            "Epoch 5: training_accuracy = 10.02 %, training_loss= 0.89976  ,Validation accuracy = 9.78 ,Validation loss = 0.90217\n",
            "Epoch 6: training_accuracy = 10.02 %, training_loss= 0.89976  ,Validation accuracy = 9.78 ,Validation loss = 0.90217\n",
            "Epoch 7: training_accuracy = 10.02 %, training_loss= 0.89976  ,Validation accuracy = 9.78 ,Validation loss = 0.90217\n",
            "Epoch 8: training_accuracy = 10.02 %, training_loss= 0.89976  ,Validation accuracy = 9.78 ,Validation loss = 0.90217\n",
            "Epoch 9: training_accuracy = 10.02 %, training_loss= 0.89976  ,Validation accuracy = 9.78 ,Validation loss = 0.90217\n"
          ]
        },
        {
          "data": {
            "text/html": [
              "Waiting for W&B process to finish... <strong style=\"color:green\">(success).</strong>"
            ],
            "text/plain": [
              "<IPython.core.display.HTML object>"
            ]
          },
          "metadata": {},
          "output_type": "display_data"
        },
        {
          "data": {
            "application/vnd.jupyter.widget-view+json": {
              "model_id": "1303a94bd29c4514904dcb73d3d5701c",
              "version_major": 2,
              "version_minor": 0
            },
            "text/plain": [
              "VBox(children=(Label(value='0.001 MB of 0.010 MB uploaded (0.000 MB deduped)\\r'), FloatProgress(value=0.066189…"
            ]
          },
          "metadata": {},
          "output_type": "display_data"
        },
        {
          "data": {
            "text/html": [
              "<style>\n",
              "    table.wandb td:nth-child(1) { padding: 0 10px; text-align: left ; width: auto;} td:nth-child(2) {text-align: left ; width: 100%}\n",
              "    .wandb-row { display: flex; flex-direction: row; flex-wrap: wrap; justify-content: flex-start; width: 100% }\n",
              "    .wandb-col { display: flex; flex-direction: column; flex-basis: 100%; flex: 1; padding: 10px; }\n",
              "    </style>\n",
              "<div class=\"wandb-row\"><div class=\"wandb-col\"><h3>Run history:</h3><br/><table class=\"wandb\"><tr><td>accuracy</td><td>▁▁▁▁▁▁▁▁▁▁</td></tr><tr><td>steps</td><td>▁▁▁▁▁▁▁▁▁▁</td></tr><tr><td>train_loss</td><td>▁▁▁▁▁▁▁▁▁▁</td></tr><tr><td>val_accuracy</td><td>▁▁▁▁▁▁▁▁▁▁</td></tr><tr><td>val_loss</td><td>▁▁▁▁▁▁▁▁▁▁</td></tr></table><br/></div><div class=\"wandb-col\"><h3>Run summary:</h3><br/><table class=\"wandb\"><tr><td>accuracy</td><td>10.024</td></tr><tr><td>steps</td><td>10</td></tr><tr><td>train_loss</td><td>0.89976</td></tr><tr><td>val_accuracy</td><td>9.783</td></tr><tr><td>val_loss</td><td>0.90217</td></tr></table><br/></div></div>"
            ],
            "text/plain": [
              "<IPython.core.display.HTML object>"
            ]
          },
          "metadata": {},
          "output_type": "display_data"
        },
        {
          "data": {
            "text/html": [
              " View run <strong style=\"color:#cdcd00\">upbeat-sweep-36</strong> at: <a href='https://wandb.ai/sleya7110/Assignment1DLQ9/runs/cm2p75i8' target=\"_blank\">https://wandb.ai/sleya7110/Assignment1DLQ9/runs/cm2p75i8</a><br/>Synced 5 W&B file(s), 0 media file(s), 0 artifact file(s) and 0 other file(s)"
            ],
            "text/plain": [
              "<IPython.core.display.HTML object>"
            ]
          },
          "metadata": {},
          "output_type": "display_data"
        },
        {
          "data": {
            "text/html": [
              "Find logs at: <code>./wandb/run-20230317_142142-cm2p75i8/logs</code>"
            ],
            "text/plain": [
              "<IPython.core.display.HTML object>"
            ]
          },
          "metadata": {},
          "output_type": "display_data"
        },
        {
          "name": "stderr",
          "output_type": "stream",
          "text": [
            "\u001b[34m\u001b[1mwandb\u001b[0m: Agent Starting Run: kpzw8ga3 with config:\n",
            "\u001b[34m\u001b[1mwandb\u001b[0m: \tactivation: relu\n",
            "\u001b[34m\u001b[1mwandb\u001b[0m: \tbatchSize: 128\n",
            "\u001b[34m\u001b[1mwandb\u001b[0m: \tepochs: 5\n",
            "\u001b[34m\u001b[1mwandb\u001b[0m: \thidLayer: [32, 64, 128]\n",
            "\u001b[34m\u001b[1mwandb\u001b[0m: \tinitForm: xavier\n",
            "\u001b[34m\u001b[1mwandb\u001b[0m: \tlearningRate: 0.001\n",
            "\u001b[34m\u001b[1mwandb\u001b[0m: \tlossFn: square_loss\n",
            "\u001b[34m\u001b[1mwandb\u001b[0m: \toptimiser: gd\n",
            "\u001b[34m\u001b[1mwandb\u001b[0m: \tweight_decay: 0.0005\n",
            "\u001b[34m\u001b[1mwandb\u001b[0m: \u001b[33mWARNING\u001b[0m Ignored wandb.init() arg project when running a sweep.\n",
            "\u001b[34m\u001b[1mwandb\u001b[0m: \u001b[33mWARNING\u001b[0m Ignored wandb.init() arg entity when running a sweep.\n"
          ]
        },
        {
          "data": {
            "text/html": [
              "Tracking run with wandb version 0.14.0"
            ],
            "text/plain": [
              "<IPython.core.display.HTML object>"
            ]
          },
          "metadata": {},
          "output_type": "display_data"
        },
        {
          "data": {
            "text/html": [
              "Run data is saved locally in <code>/content/wandb/run-20230317_142359-kpzw8ga3</code>"
            ],
            "text/plain": [
              "<IPython.core.display.HTML object>"
            ]
          },
          "metadata": {},
          "output_type": "display_data"
        },
        {
          "data": {
            "text/html": [
              "Syncing run <strong><a href='https://wandb.ai/sleya7110/Assignment1DLQ9/runs/kpzw8ga3' target=\"_blank\">cerulean-sweep-37</a></strong> to <a href='https://wandb.ai/sleya7110/Assignment1DLQ9' target=\"_blank\">Weights & Biases</a> (<a href='https://wandb.me/run' target=\"_blank\">docs</a>)<br/>Sweep page: <a href='https://wandb.ai/sleya7110/Assignment1DLQ9/sweeps/h6gghlmm' target=\"_blank\">https://wandb.ai/sleya7110/Assignment1DLQ9/sweeps/h6gghlmm</a>"
            ],
            "text/plain": [
              "<IPython.core.display.HTML object>"
            ]
          },
          "metadata": {},
          "output_type": "display_data"
        },
        {
          "data": {
            "text/html": [
              " View project at <a href='https://wandb.ai/sleya7110/Assignment1DLQ9' target=\"_blank\">https://wandb.ai/sleya7110/Assignment1DLQ9</a>"
            ],
            "text/plain": [
              "<IPython.core.display.HTML object>"
            ]
          },
          "metadata": {},
          "output_type": "display_data"
        },
        {
          "data": {
            "text/html": [
              " View sweep at <a href='https://wandb.ai/sleya7110/Assignment1DLQ9/sweeps/h6gghlmm' target=\"_blank\">https://wandb.ai/sleya7110/Assignment1DLQ9/sweeps/h6gghlmm</a>"
            ],
            "text/plain": [
              "<IPython.core.display.HTML object>"
            ]
          },
          "metadata": {},
          "output_type": "display_data"
        },
        {
          "data": {
            "text/html": [
              " View run at <a href='https://wandb.ai/sleya7110/Assignment1DLQ9/runs/kpzw8ga3' target=\"_blank\">https://wandb.ai/sleya7110/Assignment1DLQ9/runs/kpzw8ga3</a>"
            ],
            "text/plain": [
              "<IPython.core.display.HTML object>"
            ]
          },
          "metadata": {},
          "output_type": "display_data"
        },
        {
          "name": "stdout",
          "output_type": "stream",
          "text": [
            "W length= 4\n",
            "B length= 4\n",
            "W shape= (10, 128)\n",
            "B shape= (10, 1)\n",
            "Epoch 0: training_accuracy = 15.67 %, training_loss= 0.65164  ,Validation accuracy = 16.90 ,Validation loss = 0.64765\n",
            "Epoch 1: training_accuracy = 18.11 %, training_loss= 0.60761  ,Validation accuracy = 18.60 ,Validation loss = 0.60587\n",
            "Epoch 2: training_accuracy = 19.13 %, training_loss= 0.58627  ,Validation accuracy = 19.37 ,Validation loss = 0.58562\n",
            "Epoch 3: training_accuracy = 19.26 %, training_loss= 0.57331  ,Validation accuracy = 19.90 ,Validation loss = 0.57323\n",
            "Epoch 4: training_accuracy = 19.42 %, training_loss= 0.56360  ,Validation accuracy = 19.80 ,Validation loss = 0.56409\n"
          ]
        },
        {
          "data": {
            "text/html": [
              "Waiting for W&B process to finish... <strong style=\"color:green\">(success).</strong>"
            ],
            "text/plain": [
              "<IPython.core.display.HTML object>"
            ]
          },
          "metadata": {},
          "output_type": "display_data"
        },
        {
          "data": {
            "application/vnd.jupyter.widget-view+json": {
              "model_id": "056e625eb6a64dc0a1baf8eef76fde13",
              "version_major": 2,
              "version_minor": 0
            },
            "text/plain": [
              "VBox(children=(Label(value='0.001 MB of 0.001 MB uploaded (0.000 MB deduped)\\r'), FloatProgress(value=1.0, max…"
            ]
          },
          "metadata": {},
          "output_type": "display_data"
        },
        {
          "data": {
            "text/html": [
              "<style>\n",
              "    table.wandb td:nth-child(1) { padding: 0 10px; text-align: left ; width: auto;} td:nth-child(2) {text-align: left ; width: 100%}\n",
              "    .wandb-row { display: flex; flex-direction: row; flex-wrap: wrap; justify-content: flex-start; width: 100% }\n",
              "    .wandb-col { display: flex; flex-direction: column; flex-basis: 100%; flex: 1; padding: 10px; }\n",
              "    </style>\n",
              "<div class=\"wandb-row\"><div class=\"wandb-col\"><h3>Run history:</h3><br/><table class=\"wandb\"><tr><td>accuracy</td><td>▁▆▇██</td></tr><tr><td>steps</td><td>▁▁▁▁▁</td></tr><tr><td>train_loss</td><td>█▄▃▂▁</td></tr><tr><td>val_accuracy</td><td>▁▅▇██</td></tr><tr><td>val_loss</td><td>█▅▃▂▁</td></tr></table><br/></div><div class=\"wandb-col\"><h3>Run summary:</h3><br/><table class=\"wandb\"><tr><td>accuracy</td><td>19.417</td></tr><tr><td>steps</td><td>5</td></tr><tr><td>train_loss</td><td>0.5636</td></tr><tr><td>val_accuracy</td><td>19.8</td></tr><tr><td>val_loss</td><td>0.56409</td></tr></table><br/></div></div>"
            ],
            "text/plain": [
              "<IPython.core.display.HTML object>"
            ]
          },
          "metadata": {},
          "output_type": "display_data"
        },
        {
          "data": {
            "text/html": [
              " View run <strong style=\"color:#cdcd00\">cerulean-sweep-37</strong> at: <a href='https://wandb.ai/sleya7110/Assignment1DLQ9/runs/kpzw8ga3' target=\"_blank\">https://wandb.ai/sleya7110/Assignment1DLQ9/runs/kpzw8ga3</a><br/>Synced 5 W&B file(s), 0 media file(s), 0 artifact file(s) and 0 other file(s)"
            ],
            "text/plain": [
              "<IPython.core.display.HTML object>"
            ]
          },
          "metadata": {},
          "output_type": "display_data"
        },
        {
          "data": {
            "text/html": [
              "Find logs at: <code>./wandb/run-20230317_142359-kpzw8ga3/logs</code>"
            ],
            "text/plain": [
              "<IPython.core.display.HTML object>"
            ]
          },
          "metadata": {},
          "output_type": "display_data"
        },
        {
          "name": "stderr",
          "output_type": "stream",
          "text": [
            "\u001b[34m\u001b[1mwandb\u001b[0m: Agent Starting Run: mukusf70 with config:\n",
            "\u001b[34m\u001b[1mwandb\u001b[0m: \tactivation: sigmoid\n",
            "\u001b[34m\u001b[1mwandb\u001b[0m: \tbatchSize: 128\n",
            "\u001b[34m\u001b[1mwandb\u001b[0m: \tepochs: 10\n",
            "\u001b[34m\u001b[1mwandb\u001b[0m: \thidLayer: [64, 64, 64]\n",
            "\u001b[34m\u001b[1mwandb\u001b[0m: \tinitForm: xavier\n",
            "\u001b[34m\u001b[1mwandb\u001b[0m: \tlearningRate: 0.01\n",
            "\u001b[34m\u001b[1mwandb\u001b[0m: \tlossFn: square_loss\n",
            "\u001b[34m\u001b[1mwandb\u001b[0m: \toptimiser: nadam\n",
            "\u001b[34m\u001b[1mwandb\u001b[0m: \tweight_decay: 0.0005\n",
            "\u001b[34m\u001b[1mwandb\u001b[0m: \u001b[33mWARNING\u001b[0m Ignored wandb.init() arg project when running a sweep.\n",
            "\u001b[34m\u001b[1mwandb\u001b[0m: \u001b[33mWARNING\u001b[0m Ignored wandb.init() arg entity when running a sweep.\n"
          ]
        },
        {
          "data": {
            "text/html": [
              "Tracking run with wandb version 0.14.0"
            ],
            "text/plain": [
              "<IPython.core.display.HTML object>"
            ]
          },
          "metadata": {},
          "output_type": "display_data"
        },
        {
          "data": {
            "text/html": [
              "Run data is saved locally in <code>/content/wandb/run-20230317_142435-mukusf70</code>"
            ],
            "text/plain": [
              "<IPython.core.display.HTML object>"
            ]
          },
          "metadata": {},
          "output_type": "display_data"
        },
        {
          "data": {
            "text/html": [
              "Syncing run <strong><a href='https://wandb.ai/sleya7110/Assignment1DLQ9/runs/mukusf70' target=\"_blank\">noble-sweep-38</a></strong> to <a href='https://wandb.ai/sleya7110/Assignment1DLQ9' target=\"_blank\">Weights & Biases</a> (<a href='https://wandb.me/run' target=\"_blank\">docs</a>)<br/>Sweep page: <a href='https://wandb.ai/sleya7110/Assignment1DLQ9/sweeps/h6gghlmm' target=\"_blank\">https://wandb.ai/sleya7110/Assignment1DLQ9/sweeps/h6gghlmm</a>"
            ],
            "text/plain": [
              "<IPython.core.display.HTML object>"
            ]
          },
          "metadata": {},
          "output_type": "display_data"
        },
        {
          "data": {
            "text/html": [
              " View project at <a href='https://wandb.ai/sleya7110/Assignment1DLQ9' target=\"_blank\">https://wandb.ai/sleya7110/Assignment1DLQ9</a>"
            ],
            "text/plain": [
              "<IPython.core.display.HTML object>"
            ]
          },
          "metadata": {},
          "output_type": "display_data"
        },
        {
          "data": {
            "text/html": [
              " View sweep at <a href='https://wandb.ai/sleya7110/Assignment1DLQ9/sweeps/h6gghlmm' target=\"_blank\">https://wandb.ai/sleya7110/Assignment1DLQ9/sweeps/h6gghlmm</a>"
            ],
            "text/plain": [
              "<IPython.core.display.HTML object>"
            ]
          },
          "metadata": {},
          "output_type": "display_data"
        },
        {
          "data": {
            "text/html": [
              " View run at <a href='https://wandb.ai/sleya7110/Assignment1DLQ9/runs/mukusf70' target=\"_blank\">https://wandb.ai/sleya7110/Assignment1DLQ9/runs/mukusf70</a>"
            ],
            "text/plain": [
              "<IPython.core.display.HTML object>"
            ]
          },
          "metadata": {},
          "output_type": "display_data"
        },
        {
          "name": "stdout",
          "output_type": "stream",
          "text": [
            "W length= 4\n",
            "B length= 4\n",
            "W shape= (10, 64)\n",
            "B shape= (10, 1)\n",
            "Epoch 0: training_accuracy = 10.01 %, training_loss= 0.89994  ,Validation accuracy = 9.95 ,Validation loss = 0.90050\n",
            "Epoch 1: training_accuracy = 10.01 %, training_loss= 0.89994  ,Validation accuracy = 9.95 ,Validation loss = 0.90050\n",
            "Epoch 2: training_accuracy = 10.01 %, training_loss= 0.89994  ,Validation accuracy = 9.95 ,Validation loss = 0.90050\n",
            "Epoch 3: training_accuracy = 10.01 %, training_loss= 0.89994  ,Validation accuracy = 9.95 ,Validation loss = 0.90050\n",
            "Epoch 4: training_accuracy = 10.01 %, training_loss= 0.89994  ,Validation accuracy = 9.95 ,Validation loss = 0.90050\n",
            "Epoch 5: training_accuracy = 10.01 %, training_loss= 0.89994  ,Validation accuracy = 9.95 ,Validation loss = 0.90050\n",
            "Epoch 6: training_accuracy = 10.01 %, training_loss= 0.89994  ,Validation accuracy = 9.95 ,Validation loss = 0.90050\n",
            "Epoch 7: training_accuracy = 10.01 %, training_loss= 0.89994  ,Validation accuracy = 9.95 ,Validation loss = 0.90050\n",
            "Epoch 8: training_accuracy = 10.01 %, training_loss= 0.89994  ,Validation accuracy = 9.95 ,Validation loss = 0.90050\n",
            "Epoch 9: training_accuracy = 10.01 %, training_loss= 0.89994  ,Validation accuracy = 9.95 ,Validation loss = 0.90050\n"
          ]
        },
        {
          "data": {
            "text/html": [
              "Waiting for W&B process to finish... <strong style=\"color:green\">(success).</strong>"
            ],
            "text/plain": [
              "<IPython.core.display.HTML object>"
            ]
          },
          "metadata": {},
          "output_type": "display_data"
        },
        {
          "data": {
            "text/html": [
              "<style>\n",
              "    table.wandb td:nth-child(1) { padding: 0 10px; text-align: left ; width: auto;} td:nth-child(2) {text-align: left ; width: 100%}\n",
              "    .wandb-row { display: flex; flex-direction: row; flex-wrap: wrap; justify-content: flex-start; width: 100% }\n",
              "    .wandb-col { display: flex; flex-direction: column; flex-basis: 100%; flex: 1; padding: 10px; }\n",
              "    </style>\n",
              "<div class=\"wandb-row\"><div class=\"wandb-col\"><h3>Run history:</h3><br/><table class=\"wandb\"><tr><td>accuracy</td><td>▁▁▁▁▁▁▁▁▁▁</td></tr><tr><td>steps</td><td>▁▁▁▁▁▁▁▁▁▁</td></tr><tr><td>train_loss</td><td>▁▁▁▁▁▁▁▁▁▁</td></tr><tr><td>val_accuracy</td><td>▁▁▁▁▁▁▁▁▁▁</td></tr><tr><td>val_loss</td><td>▁▁▁▁▁▁▁▁▁▁</td></tr></table><br/></div><div class=\"wandb-col\"><h3>Run summary:</h3><br/><table class=\"wandb\"><tr><td>accuracy</td><td>10.006</td></tr><tr><td>steps</td><td>10</td></tr><tr><td>train_loss</td><td>0.89994</td></tr><tr><td>val_accuracy</td><td>9.95</td></tr><tr><td>val_loss</td><td>0.9005</td></tr></table><br/></div></div>"
            ],
            "text/plain": [
              "<IPython.core.display.HTML object>"
            ]
          },
          "metadata": {},
          "output_type": "display_data"
        },
        {
          "data": {
            "text/html": [
              " View run <strong style=\"color:#cdcd00\">noble-sweep-38</strong> at: <a href='https://wandb.ai/sleya7110/Assignment1DLQ9/runs/mukusf70' target=\"_blank\">https://wandb.ai/sleya7110/Assignment1DLQ9/runs/mukusf70</a><br/>Synced 5 W&B file(s), 0 media file(s), 0 artifact file(s) and 0 other file(s)"
            ],
            "text/plain": [
              "<IPython.core.display.HTML object>"
            ]
          },
          "metadata": {},
          "output_type": "display_data"
        },
        {
          "data": {
            "text/html": [
              "Find logs at: <code>./wandb/run-20230317_142435-mukusf70/logs</code>"
            ],
            "text/plain": [
              "<IPython.core.display.HTML object>"
            ]
          },
          "metadata": {},
          "output_type": "display_data"
        },
        {
          "name": "stderr",
          "output_type": "stream",
          "text": [
            "\u001b[34m\u001b[1mwandb\u001b[0m: Agent Starting Run: te9odd7q with config:\n",
            "\u001b[34m\u001b[1mwandb\u001b[0m: \tactivation: sigmoid\n",
            "\u001b[34m\u001b[1mwandb\u001b[0m: \tbatchSize: 128\n",
            "\u001b[34m\u001b[1mwandb\u001b[0m: \tepochs: 5\n",
            "\u001b[34m\u001b[1mwandb\u001b[0m: \thidLayer: [128, 128, 128]\n",
            "\u001b[34m\u001b[1mwandb\u001b[0m: \tinitForm: xavier\n",
            "\u001b[34m\u001b[1mwandb\u001b[0m: \tlearningRate: 0.001\n",
            "\u001b[34m\u001b[1mwandb\u001b[0m: \tlossFn: square_loss\n",
            "\u001b[34m\u001b[1mwandb\u001b[0m: \toptimiser: mgd\n",
            "\u001b[34m\u001b[1mwandb\u001b[0m: \tweight_decay: 0\n",
            "\u001b[34m\u001b[1mwandb\u001b[0m: \u001b[33mWARNING\u001b[0m Ignored wandb.init() arg project when running a sweep.\n",
            "\u001b[34m\u001b[1mwandb\u001b[0m: \u001b[33mWARNING\u001b[0m Ignored wandb.init() arg entity when running a sweep.\n"
          ]
        },
        {
          "data": {
            "text/html": [
              "Tracking run with wandb version 0.14.0"
            ],
            "text/plain": [
              "<IPython.core.display.HTML object>"
            ]
          },
          "metadata": {},
          "output_type": "display_data"
        },
        {
          "data": {
            "text/html": [
              "Run data is saved locally in <code>/content/wandb/run-20230317_142603-te9odd7q</code>"
            ],
            "text/plain": [
              "<IPython.core.display.HTML object>"
            ]
          },
          "metadata": {},
          "output_type": "display_data"
        },
        {
          "data": {
            "text/html": [
              "Syncing run <strong><a href='https://wandb.ai/sleya7110/Assignment1DLQ9/runs/te9odd7q' target=\"_blank\">generous-sweep-39</a></strong> to <a href='https://wandb.ai/sleya7110/Assignment1DLQ9' target=\"_blank\">Weights & Biases</a> (<a href='https://wandb.me/run' target=\"_blank\">docs</a>)<br/>Sweep page: <a href='https://wandb.ai/sleya7110/Assignment1DLQ9/sweeps/h6gghlmm' target=\"_blank\">https://wandb.ai/sleya7110/Assignment1DLQ9/sweeps/h6gghlmm</a>"
            ],
            "text/plain": [
              "<IPython.core.display.HTML object>"
            ]
          },
          "metadata": {},
          "output_type": "display_data"
        },
        {
          "data": {
            "text/html": [
              " View project at <a href='https://wandb.ai/sleya7110/Assignment1DLQ9' target=\"_blank\">https://wandb.ai/sleya7110/Assignment1DLQ9</a>"
            ],
            "text/plain": [
              "<IPython.core.display.HTML object>"
            ]
          },
          "metadata": {},
          "output_type": "display_data"
        },
        {
          "data": {
            "text/html": [
              " View sweep at <a href='https://wandb.ai/sleya7110/Assignment1DLQ9/sweeps/h6gghlmm' target=\"_blank\">https://wandb.ai/sleya7110/Assignment1DLQ9/sweeps/h6gghlmm</a>"
            ],
            "text/plain": [
              "<IPython.core.display.HTML object>"
            ]
          },
          "metadata": {},
          "output_type": "display_data"
        },
        {
          "data": {
            "text/html": [
              " View run at <a href='https://wandb.ai/sleya7110/Assignment1DLQ9/runs/te9odd7q' target=\"_blank\">https://wandb.ai/sleya7110/Assignment1DLQ9/runs/te9odd7q</a>"
            ],
            "text/plain": [
              "<IPython.core.display.HTML object>"
            ]
          },
          "metadata": {},
          "output_type": "display_data"
        },
        {
          "name": "stdout",
          "output_type": "stream",
          "text": [
            "W length= 4\n",
            "B length= 4\n",
            "W shape= (10, 128)\n",
            "B shape= (10, 1)\n",
            "Epoch 0: training_accuracy = 11.61 %, training_loss= 0.47568  ,Validation accuracy = 11.83 ,Validation loss = 0.47513\n",
            "Epoch 1: training_accuracy = 12.09 %, training_loss= 0.46782  ,Validation accuracy = 12.53 ,Validation loss = 0.46717\n",
            "Epoch 2: training_accuracy = 12.14 %, training_loss= 0.46349  ,Validation accuracy = 12.58 ,Validation loss = 0.46288\n",
            "Epoch 3: training_accuracy = 12.35 %, training_loss= 0.45794  ,Validation accuracy = 12.88 ,Validation loss = 0.45746\n",
            "Epoch 4: training_accuracy = 11.25 %, training_loss= 0.45544  ,Validation accuracy = 11.77 ,Validation loss = 0.45511\n"
          ]
        },
        {
          "data": {
            "text/html": [
              "Waiting for W&B process to finish... <strong style=\"color:green\">(success).</strong>"
            ],
            "text/plain": [
              "<IPython.core.display.HTML object>"
            ]
          },
          "metadata": {},
          "output_type": "display_data"
        },
        {
          "data": {
            "application/vnd.jupyter.widget-view+json": {
              "model_id": "be55426859c8433ea9e8f743deb92dde",
              "version_major": 2,
              "version_minor": 0
            },
            "text/plain": [
              "VBox(children=(Label(value='0.001 MB of 0.001 MB uploaded (0.000 MB deduped)\\r'), FloatProgress(value=1.0, max…"
            ]
          },
          "metadata": {},
          "output_type": "display_data"
        },
        {
          "data": {
            "text/html": [
              "<style>\n",
              "    table.wandb td:nth-child(1) { padding: 0 10px; text-align: left ; width: auto;} td:nth-child(2) {text-align: left ; width: 100%}\n",
              "    .wandb-row { display: flex; flex-direction: row; flex-wrap: wrap; justify-content: flex-start; width: 100% }\n",
              "    .wandb-col { display: flex; flex-direction: column; flex-basis: 100%; flex: 1; padding: 10px; }\n",
              "    </style>\n",
              "<div class=\"wandb-row\"><div class=\"wandb-col\"><h3>Run history:</h3><br/><table class=\"wandb\"><tr><td>accuracy</td><td>▃▆▇█▁</td></tr><tr><td>steps</td><td>▁▁▁▁▁</td></tr><tr><td>train_loss</td><td>█▅▄▂▁</td></tr><tr><td>val_accuracy</td><td>▁▆▆█▁</td></tr><tr><td>val_loss</td><td>█▅▄▂▁</td></tr></table><br/></div><div class=\"wandb-col\"><h3>Run summary:</h3><br/><table class=\"wandb\"><tr><td>accuracy</td><td>11.246</td></tr><tr><td>steps</td><td>5</td></tr><tr><td>train_loss</td><td>0.45544</td></tr><tr><td>val_accuracy</td><td>11.767</td></tr><tr><td>val_loss</td><td>0.45511</td></tr></table><br/></div></div>"
            ],
            "text/plain": [
              "<IPython.core.display.HTML object>"
            ]
          },
          "metadata": {},
          "output_type": "display_data"
        },
        {
          "data": {
            "text/html": [
              " View run <strong style=\"color:#cdcd00\">generous-sweep-39</strong> at: <a href='https://wandb.ai/sleya7110/Assignment1DLQ9/runs/te9odd7q' target=\"_blank\">https://wandb.ai/sleya7110/Assignment1DLQ9/runs/te9odd7q</a><br/>Synced 5 W&B file(s), 0 media file(s), 0 artifact file(s) and 0 other file(s)"
            ],
            "text/plain": [
              "<IPython.core.display.HTML object>"
            ]
          },
          "metadata": {},
          "output_type": "display_data"
        },
        {
          "data": {
            "text/html": [
              "Find logs at: <code>./wandb/run-20230317_142603-te9odd7q/logs</code>"
            ],
            "text/plain": [
              "<IPython.core.display.HTML object>"
            ]
          },
          "metadata": {},
          "output_type": "display_data"
        },
        {
          "name": "stderr",
          "output_type": "stream",
          "text": [
            "\u001b[34m\u001b[1mwandb\u001b[0m: Agent Starting Run: cqwe9nid with config:\n",
            "\u001b[34m\u001b[1mwandb\u001b[0m: \tactivation: tanh\n",
            "\u001b[34m\u001b[1mwandb\u001b[0m: \tbatchSize: 128\n",
            "\u001b[34m\u001b[1mwandb\u001b[0m: \tepochs: 10\n",
            "\u001b[34m\u001b[1mwandb\u001b[0m: \thidLayer: [64, 64, 64]\n",
            "\u001b[34m\u001b[1mwandb\u001b[0m: \tinitForm: random\n",
            "\u001b[34m\u001b[1mwandb\u001b[0m: \tlearningRate: 0.001\n",
            "\u001b[34m\u001b[1mwandb\u001b[0m: \tlossFn: square_loss\n",
            "\u001b[34m\u001b[1mwandb\u001b[0m: \toptimiser: mgd\n",
            "\u001b[34m\u001b[1mwandb\u001b[0m: \tweight_decay: 0.0005\n",
            "\u001b[34m\u001b[1mwandb\u001b[0m: \u001b[33mWARNING\u001b[0m Ignored wandb.init() arg project when running a sweep.\n",
            "\u001b[34m\u001b[1mwandb\u001b[0m: \u001b[33mWARNING\u001b[0m Ignored wandb.init() arg entity when running a sweep.\n"
          ]
        },
        {
          "data": {
            "text/html": [
              "Tracking run with wandb version 0.14.0"
            ],
            "text/plain": [
              "<IPython.core.display.HTML object>"
            ]
          },
          "metadata": {},
          "output_type": "display_data"
        },
        {
          "data": {
            "text/html": [
              "Run data is saved locally in <code>/content/wandb/run-20230317_142659-cqwe9nid</code>"
            ],
            "text/plain": [
              "<IPython.core.display.HTML object>"
            ]
          },
          "metadata": {},
          "output_type": "display_data"
        },
        {
          "data": {
            "text/html": [
              "Syncing run <strong><a href='https://wandb.ai/sleya7110/Assignment1DLQ9/runs/cqwe9nid' target=\"_blank\">ancient-sweep-40</a></strong> to <a href='https://wandb.ai/sleya7110/Assignment1DLQ9' target=\"_blank\">Weights & Biases</a> (<a href='https://wandb.me/run' target=\"_blank\">docs</a>)<br/>Sweep page: <a href='https://wandb.ai/sleya7110/Assignment1DLQ9/sweeps/h6gghlmm' target=\"_blank\">https://wandb.ai/sleya7110/Assignment1DLQ9/sweeps/h6gghlmm</a>"
            ],
            "text/plain": [
              "<IPython.core.display.HTML object>"
            ]
          },
          "metadata": {},
          "output_type": "display_data"
        },
        {
          "data": {
            "text/html": [
              " View project at <a href='https://wandb.ai/sleya7110/Assignment1DLQ9' target=\"_blank\">https://wandb.ai/sleya7110/Assignment1DLQ9</a>"
            ],
            "text/plain": [
              "<IPython.core.display.HTML object>"
            ]
          },
          "metadata": {},
          "output_type": "display_data"
        },
        {
          "data": {
            "text/html": [
              " View sweep at <a href='https://wandb.ai/sleya7110/Assignment1DLQ9/sweeps/h6gghlmm' target=\"_blank\">https://wandb.ai/sleya7110/Assignment1DLQ9/sweeps/h6gghlmm</a>"
            ],
            "text/plain": [
              "<IPython.core.display.HTML object>"
            ]
          },
          "metadata": {},
          "output_type": "display_data"
        },
        {
          "data": {
            "text/html": [
              " View run at <a href='https://wandb.ai/sleya7110/Assignment1DLQ9/runs/cqwe9nid' target=\"_blank\">https://wandb.ai/sleya7110/Assignment1DLQ9/runs/cqwe9nid</a>"
            ],
            "text/plain": [
              "<IPython.core.display.HTML object>"
            ]
          },
          "metadata": {},
          "output_type": "display_data"
        },
        {
          "name": "stdout",
          "output_type": "stream",
          "text": [
            "W length= 4\n",
            "B length= 4\n",
            "W shape= (10, 64)\n",
            "B shape= (10, 1)\n",
            "Epoch 0: training_accuracy = 10.02 %, training_loss= 0.45601  ,Validation accuracy = 9.83 ,Validation loss = 0.45655\n",
            "Epoch 1: training_accuracy = 10.02 %, training_loss= 0.45209  ,Validation accuracy = 9.83 ,Validation loss = 0.45242\n",
            "Epoch 2: training_accuracy = 10.09 %, training_loss= 0.45054  ,Validation accuracy = 9.17 ,Validation loss = 0.45072\n",
            "Epoch 3: training_accuracy = 10.09 %, training_loss= 0.45009  ,Validation accuracy = 9.17 ,Validation loss = 0.45018\n",
            "Epoch 4: training_accuracy = 10.09 %, training_loss= 0.45000  ,Validation accuracy = 9.17 ,Validation loss = 0.45004\n",
            "Epoch 5: training_accuracy = 10.09 %, training_loss= 0.44998  ,Validation accuracy = 9.17 ,Validation loss = 0.45000\n",
            "Epoch 6: training_accuracy = 10.09 %, training_loss= 0.44997  ,Validation accuracy = 9.17 ,Validation loss = 0.44999\n",
            "Epoch 7: training_accuracy = 10.09 %, training_loss= 0.44996  ,Validation accuracy = 9.17 ,Validation loss = 0.44998\n",
            "Epoch 8: training_accuracy = 10.09 %, training_loss= 0.44996  ,Validation accuracy = 9.17 ,Validation loss = 0.44997\n",
            "Epoch 9: training_accuracy = 10.09 %, training_loss= 0.44995  ,Validation accuracy = 9.17 ,Validation loss = 0.44997\n"
          ]
        },
        {
          "data": {
            "text/html": [
              "Waiting for W&B process to finish... <strong style=\"color:green\">(success).</strong>"
            ],
            "text/plain": [
              "<IPython.core.display.HTML object>"
            ]
          },
          "metadata": {},
          "output_type": "display_data"
        },
        {
          "data": {
            "application/vnd.jupyter.widget-view+json": {
              "model_id": "e6d53cfd577345ecbb3ec0b3a1f5fa99",
              "version_major": 2,
              "version_minor": 0
            },
            "text/plain": [
              "VBox(children=(Label(value='0.001 MB of 0.001 MB uploaded (0.000 MB deduped)\\r'), FloatProgress(value=1.0, max…"
            ]
          },
          "metadata": {},
          "output_type": "display_data"
        },
        {
          "data": {
            "text/html": [
              "<style>\n",
              "    table.wandb td:nth-child(1) { padding: 0 10px; text-align: left ; width: auto;} td:nth-child(2) {text-align: left ; width: 100%}\n",
              "    .wandb-row { display: flex; flex-direction: row; flex-wrap: wrap; justify-content: flex-start; width: 100% }\n",
              "    .wandb-col { display: flex; flex-direction: column; flex-basis: 100%; flex: 1; padding: 10px; }\n",
              "    </style>\n",
              "<div class=\"wandb-row\"><div class=\"wandb-col\"><h3>Run history:</h3><br/><table class=\"wandb\"><tr><td>accuracy</td><td>▁▁████████</td></tr><tr><td>steps</td><td>▁▁▁▁▁▁▁▁▁▁</td></tr><tr><td>train_loss</td><td>█▃▂▁▁▁▁▁▁▁</td></tr><tr><td>val_accuracy</td><td>██▁▁▁▁▁▁▁▁</td></tr><tr><td>val_loss</td><td>█▄▂▁▁▁▁▁▁▁</td></tr></table><br/></div><div class=\"wandb-col\"><h3>Run summary:</h3><br/><table class=\"wandb\"><tr><td>accuracy</td><td>10.093</td></tr><tr><td>steps</td><td>10</td></tr><tr><td>train_loss</td><td>0.44995</td></tr><tr><td>val_accuracy</td><td>9.167</td></tr><tr><td>val_loss</td><td>0.44997</td></tr></table><br/></div></div>"
            ],
            "text/plain": [
              "<IPython.core.display.HTML object>"
            ]
          },
          "metadata": {},
          "output_type": "display_data"
        },
        {
          "data": {
            "text/html": [
              " View run <strong style=\"color:#cdcd00\">ancient-sweep-40</strong> at: <a href='https://wandb.ai/sleya7110/Assignment1DLQ9/runs/cqwe9nid' target=\"_blank\">https://wandb.ai/sleya7110/Assignment1DLQ9/runs/cqwe9nid</a><br/>Synced 5 W&B file(s), 0 media file(s), 0 artifact file(s) and 0 other file(s)"
            ],
            "text/plain": [
              "<IPython.core.display.HTML object>"
            ]
          },
          "metadata": {},
          "output_type": "display_data"
        },
        {
          "data": {
            "text/html": [
              "Find logs at: <code>./wandb/run-20230317_142659-cqwe9nid/logs</code>"
            ],
            "text/plain": [
              "<IPython.core.display.HTML object>"
            ]
          },
          "metadata": {},
          "output_type": "display_data"
        },
        {
          "name": "stderr",
          "output_type": "stream",
          "text": [
            "\u001b[34m\u001b[1mwandb\u001b[0m: Agent Starting Run: 6jvauak7 with config:\n",
            "\u001b[34m\u001b[1mwandb\u001b[0m: \tactivation: sigmoid\n",
            "\u001b[34m\u001b[1mwandb\u001b[0m: \tbatchSize: 128\n",
            "\u001b[34m\u001b[1mwandb\u001b[0m: \tepochs: 50\n",
            "\u001b[34m\u001b[1mwandb\u001b[0m: \thidLayer: [64, 64, 64]\n",
            "\u001b[34m\u001b[1mwandb\u001b[0m: \tinitForm: random\n",
            "\u001b[34m\u001b[1mwandb\u001b[0m: \tlearningRate: 0.001\n",
            "\u001b[34m\u001b[1mwandb\u001b[0m: \tlossFn: square_loss\n",
            "\u001b[34m\u001b[1mwandb\u001b[0m: \toptimiser: adam\n",
            "\u001b[34m\u001b[1mwandb\u001b[0m: \tweight_decay: 0\n",
            "\u001b[34m\u001b[1mwandb\u001b[0m: \u001b[33mWARNING\u001b[0m Ignored wandb.init() arg project when running a sweep.\n",
            "\u001b[34m\u001b[1mwandb\u001b[0m: \u001b[33mWARNING\u001b[0m Ignored wandb.init() arg entity when running a sweep.\n"
          ]
        },
        {
          "data": {
            "text/html": [
              "Tracking run with wandb version 0.14.0"
            ],
            "text/plain": [
              "<IPython.core.display.HTML object>"
            ]
          },
          "metadata": {},
          "output_type": "display_data"
        },
        {
          "data": {
            "text/html": [
              "Run data is saved locally in <code>/content/wandb/run-20230317_142805-6jvauak7</code>"
            ],
            "text/plain": [
              "<IPython.core.display.HTML object>"
            ]
          },
          "metadata": {},
          "output_type": "display_data"
        },
        {
          "data": {
            "text/html": [
              "Syncing run <strong><a href='https://wandb.ai/sleya7110/Assignment1DLQ9/runs/6jvauak7' target=\"_blank\">wandering-sweep-41</a></strong> to <a href='https://wandb.ai/sleya7110/Assignment1DLQ9' target=\"_blank\">Weights & Biases</a> (<a href='https://wandb.me/run' target=\"_blank\">docs</a>)<br/>Sweep page: <a href='https://wandb.ai/sleya7110/Assignment1DLQ9/sweeps/h6gghlmm' target=\"_blank\">https://wandb.ai/sleya7110/Assignment1DLQ9/sweeps/h6gghlmm</a>"
            ],
            "text/plain": [
              "<IPython.core.display.HTML object>"
            ]
          },
          "metadata": {},
          "output_type": "display_data"
        },
        {
          "data": {
            "text/html": [
              " View project at <a href='https://wandb.ai/sleya7110/Assignment1DLQ9' target=\"_blank\">https://wandb.ai/sleya7110/Assignment1DLQ9</a>"
            ],
            "text/plain": [
              "<IPython.core.display.HTML object>"
            ]
          },
          "metadata": {},
          "output_type": "display_data"
        },
        {
          "data": {
            "text/html": [
              " View sweep at <a href='https://wandb.ai/sleya7110/Assignment1DLQ9/sweeps/h6gghlmm' target=\"_blank\">https://wandb.ai/sleya7110/Assignment1DLQ9/sweeps/h6gghlmm</a>"
            ],
            "text/plain": [
              "<IPython.core.display.HTML object>"
            ]
          },
          "metadata": {},
          "output_type": "display_data"
        },
        {
          "data": {
            "text/html": [
              " View run at <a href='https://wandb.ai/sleya7110/Assignment1DLQ9/runs/6jvauak7' target=\"_blank\">https://wandb.ai/sleya7110/Assignment1DLQ9/runs/6jvauak7</a>"
            ],
            "text/plain": [
              "<IPython.core.display.HTML object>"
            ]
          },
          "metadata": {},
          "output_type": "display_data"
        },
        {
          "name": "stdout",
          "output_type": "stream",
          "text": [
            "W length= 4\n",
            "B length= 4\n",
            "W shape= (10, 64)\n",
            "B shape= (10, 1)\n",
            "Epoch 0: training_accuracy = 9.96 %, training_loss= 0.45000  ,Validation accuracy = 10.35 ,Validation loss = 0.44995\n",
            "Epoch 1: training_accuracy = 16.50 %, training_loss= 0.44999  ,Validation accuracy = 16.32 ,Validation loss = 0.44996\n",
            "Epoch 2: training_accuracy = 9.98 %, training_loss= 0.44998  ,Validation accuracy = 10.37 ,Validation loss = 0.44996\n",
            "Epoch 3: training_accuracy = 9.96 %, training_loss= 0.44998  ,Validation accuracy = 10.35 ,Validation loss = 0.44996\n",
            "Epoch 4: training_accuracy = 9.96 %, training_loss= 0.44997  ,Validation accuracy = 10.35 ,Validation loss = 0.44996\n",
            "Epoch 5: training_accuracy = 9.96 %, training_loss= 0.44997  ,Validation accuracy = 10.35 ,Validation loss = 0.44995\n",
            "Epoch 6: training_accuracy = 9.96 %, training_loss= 0.44997  ,Validation accuracy = 10.35 ,Validation loss = 0.44995\n",
            "Epoch 7: training_accuracy = 9.96 %, training_loss= 0.44997  ,Validation accuracy = 10.35 ,Validation loss = 0.44995\n",
            "Epoch 8: training_accuracy = 9.96 %, training_loss= 0.44997  ,Validation accuracy = 10.35 ,Validation loss = 0.44995\n",
            "Epoch 9: training_accuracy = 9.96 %, training_loss= 0.44997  ,Validation accuracy = 10.35 ,Validation loss = 0.44995\n",
            "Epoch 10: training_accuracy = 9.96 %, training_loss= 0.44997  ,Validation accuracy = 10.35 ,Validation loss = 0.44995\n",
            "Epoch 11: training_accuracy = 9.96 %, training_loss= 0.44997  ,Validation accuracy = 10.35 ,Validation loss = 0.44995\n",
            "Epoch 12: training_accuracy = 9.96 %, training_loss= 0.44997  ,Validation accuracy = 10.35 ,Validation loss = 0.44995\n",
            "Epoch 13: training_accuracy = 9.96 %, training_loss= 0.44997  ,Validation accuracy = 10.35 ,Validation loss = 0.44995\n",
            "Epoch 14: training_accuracy = 9.96 %, training_loss= 0.44997  ,Validation accuracy = 10.35 ,Validation loss = 0.44995\n",
            "Epoch 15: training_accuracy = 9.96 %, training_loss= 0.44997  ,Validation accuracy = 10.35 ,Validation loss = 0.44995\n",
            "Epoch 16: training_accuracy = 9.96 %, training_loss= 0.44997  ,Validation accuracy = 10.35 ,Validation loss = 0.44995\n",
            "Epoch 17: training_accuracy = 9.96 %, training_loss= 0.44997  ,Validation accuracy = 10.35 ,Validation loss = 0.44995\n",
            "Epoch 18: training_accuracy = 9.96 %, training_loss= 0.44997  ,Validation accuracy = 10.35 ,Validation loss = 0.44995\n",
            "Epoch 19: training_accuracy = 9.96 %, training_loss= 0.44997  ,Validation accuracy = 10.35 ,Validation loss = 0.44995\n",
            "Epoch 20: training_accuracy = 9.96 %, training_loss= 0.44997  ,Validation accuracy = 10.35 ,Validation loss = 0.44995\n",
            "Epoch 21: training_accuracy = 9.96 %, training_loss= 0.44997  ,Validation accuracy = 10.35 ,Validation loss = 0.44995\n",
            "Epoch 22: training_accuracy = 9.96 %, training_loss= 0.44997  ,Validation accuracy = 10.35 ,Validation loss = 0.44995\n",
            "Epoch 23: training_accuracy = 9.96 %, training_loss= 0.44997  ,Validation accuracy = 10.35 ,Validation loss = 0.44995\n",
            "Epoch 24: training_accuracy = 9.96 %, training_loss= 0.44997  ,Validation accuracy = 10.35 ,Validation loss = 0.44995\n",
            "Epoch 25: training_accuracy = 9.96 %, training_loss= 0.44997  ,Validation accuracy = 10.35 ,Validation loss = 0.44995\n",
            "Epoch 26: training_accuracy = 9.96 %, training_loss= 0.44997  ,Validation accuracy = 10.35 ,Validation loss = 0.44995\n",
            "Epoch 27: training_accuracy = 9.96 %, training_loss= 0.44997  ,Validation accuracy = 10.35 ,Validation loss = 0.44995\n",
            "Epoch 28: training_accuracy = 9.96 %, training_loss= 0.44997  ,Validation accuracy = 10.35 ,Validation loss = 0.44995\n",
            "Epoch 29: training_accuracy = 9.96 %, training_loss= 0.44997  ,Validation accuracy = 10.35 ,Validation loss = 0.44995\n",
            "Epoch 30: training_accuracy = 9.96 %, training_loss= 0.44997  ,Validation accuracy = 10.35 ,Validation loss = 0.44995\n",
            "Epoch 31: training_accuracy = 9.96 %, training_loss= 0.44997  ,Validation accuracy = 10.35 ,Validation loss = 0.44995\n",
            "Epoch 32: training_accuracy = 9.96 %, training_loss= 0.44997  ,Validation accuracy = 10.35 ,Validation loss = 0.44995\n",
            "Epoch 33: training_accuracy = 9.96 %, training_loss= 0.44997  ,Validation accuracy = 10.35 ,Validation loss = 0.44995\n",
            "Epoch 34: training_accuracy = 9.96 %, training_loss= 0.44997  ,Validation accuracy = 10.35 ,Validation loss = 0.44995\n",
            "Epoch 35: training_accuracy = 9.96 %, training_loss= 0.44997  ,Validation accuracy = 10.35 ,Validation loss = 0.44995\n",
            "Epoch 36: training_accuracy = 9.96 %, training_loss= 0.44997  ,Validation accuracy = 10.35 ,Validation loss = 0.44995\n",
            "Epoch 37: training_accuracy = 9.96 %, training_loss= 0.44997  ,Validation accuracy = 10.35 ,Validation loss = 0.44995\n",
            "Epoch 38: training_accuracy = 9.96 %, training_loss= 0.44997  ,Validation accuracy = 10.35 ,Validation loss = 0.44995\n",
            "Epoch 39: training_accuracy = 9.96 %, training_loss= 0.44997  ,Validation accuracy = 10.35 ,Validation loss = 0.44995\n",
            "Epoch 40: training_accuracy = 9.96 %, training_loss= 0.44997  ,Validation accuracy = 10.35 ,Validation loss = 0.44995\n",
            "Epoch 41: training_accuracy = 9.96 %, training_loss= 0.44997  ,Validation accuracy = 10.35 ,Validation loss = 0.44995\n",
            "Epoch 42: training_accuracy = 9.96 %, training_loss= 0.44997  ,Validation accuracy = 10.35 ,Validation loss = 0.44995\n",
            "Epoch 43: training_accuracy = 9.96 %, training_loss= 0.44997  ,Validation accuracy = 10.35 ,Validation loss = 0.44995\n",
            "Epoch 44: training_accuracy = 9.96 %, training_loss= 0.44997  ,Validation accuracy = 10.35 ,Validation loss = 0.44995\n",
            "Epoch 45: training_accuracy = 9.96 %, training_loss= 0.44997  ,Validation accuracy = 10.35 ,Validation loss = 0.44995\n",
            "Epoch 46: training_accuracy = 9.96 %, training_loss= 0.44997  ,Validation accuracy = 10.35 ,Validation loss = 0.44995\n",
            "Epoch 47: training_accuracy = 9.96 %, training_loss= 0.44997  ,Validation accuracy = 10.35 ,Validation loss = 0.44995\n",
            "Epoch 48: training_accuracy = 9.96 %, training_loss= 0.44998  ,Validation accuracy = 10.35 ,Validation loss = 0.44995\n",
            "Epoch 49: training_accuracy = 9.96 %, training_loss= 0.44998  ,Validation accuracy = 10.35 ,Validation loss = 0.44995\n"
          ]
        },
        {
          "data": {
            "text/html": [
              "Waiting for W&B process to finish... <strong style=\"color:green\">(success).</strong>"
            ],
            "text/plain": [
              "<IPython.core.display.HTML object>"
            ]
          },
          "metadata": {},
          "output_type": "display_data"
        },
        {
          "data": {
            "application/vnd.jupyter.widget-view+json": {
              "model_id": "0888677784d24c15a6f798a639fca393",
              "version_major": 2,
              "version_minor": 0
            },
            "text/plain": [
              "VBox(children=(Label(value='0.001 MB of 0.001 MB uploaded (0.000 MB deduped)\\r'), FloatProgress(value=1.0, max…"
            ]
          },
          "metadata": {},
          "output_type": "display_data"
        },
        {
          "data": {
            "text/html": [
              "<style>\n",
              "    table.wandb td:nth-child(1) { padding: 0 10px; text-align: left ; width: auto;} td:nth-child(2) {text-align: left ; width: 100%}\n",
              "    .wandb-row { display: flex; flex-direction: row; flex-wrap: wrap; justify-content: flex-start; width: 100% }\n",
              "    .wandb-col { display: flex; flex-direction: column; flex-basis: 100%; flex: 1; padding: 10px; }\n",
              "    </style>\n",
              "<div class=\"wandb-row\"><div class=\"wandb-col\"><h3>Run history:</h3><br/><table class=\"wandb\"><tr><td>accuracy</td><td>▁█▁▁▁▁▁▁▁▁▁▁▁▁▁▁▁▁▁▁▁▁▁▁▁▁▁▁▁▁▁▁▁▁▁▁▁▁▁▁</td></tr><tr><td>steps</td><td>▁▁▁▁▁▁▁▁▁▁▁▁▁▁▁▁▁▁▁▁▁▁▁▁▁▁▁▁▁▁▁▁▁▁▁▁▁▁▁▁</td></tr><tr><td>train_loss</td><td>█▅▃▂▁▁▁▁▁▁▁▁▁▁▁▁▁▁▁▁▁▁▁▁▁▂▂▂▂▂▂▂▂▂▂▂▂▂▂▂</td></tr><tr><td>val_accuracy</td><td>▁█▁▁▁▁▁▁▁▁▁▁▁▁▁▁▁▁▁▁▁▁▁▁▁▁▁▁▁▁▁▁▁▁▁▁▁▁▁▁</td></tr><tr><td>val_loss</td><td>▁█▇▆▅▅▅▅▅▅▅▅▅▅▅▅▅▅▅▄▄▄▄▄▄▄▄▄▄▄▄▄▄▄▄▄▄▄▄▄</td></tr></table><br/></div><div class=\"wandb-col\"><h3>Run summary:</h3><br/><table class=\"wandb\"><tr><td>accuracy</td><td>9.961</td></tr><tr><td>steps</td><td>50</td></tr><tr><td>train_loss</td><td>0.44998</td></tr><tr><td>val_accuracy</td><td>10.35</td></tr><tr><td>val_loss</td><td>0.44995</td></tr></table><br/></div></div>"
            ],
            "text/plain": [
              "<IPython.core.display.HTML object>"
            ]
          },
          "metadata": {},
          "output_type": "display_data"
        },
        {
          "data": {
            "text/html": [
              " View run <strong style=\"color:#cdcd00\">wandering-sweep-41</strong> at: <a href='https://wandb.ai/sleya7110/Assignment1DLQ9/runs/6jvauak7' target=\"_blank\">https://wandb.ai/sleya7110/Assignment1DLQ9/runs/6jvauak7</a><br/>Synced 5 W&B file(s), 0 media file(s), 0 artifact file(s) and 0 other file(s)"
            ],
            "text/plain": [
              "<IPython.core.display.HTML object>"
            ]
          },
          "metadata": {},
          "output_type": "display_data"
        },
        {
          "data": {
            "text/html": [
              "Find logs at: <code>./wandb/run-20230317_142805-6jvauak7/logs</code>"
            ],
            "text/plain": [
              "<IPython.core.display.HTML object>"
            ]
          },
          "metadata": {},
          "output_type": "display_data"
        },
        {
          "name": "stderr",
          "output_type": "stream",
          "text": [
            "\u001b[34m\u001b[1mwandb\u001b[0m: Agent Starting Run: fwuuz1i3 with config:\n",
            "\u001b[34m\u001b[1mwandb\u001b[0m: \tactivation: relu\n",
            "\u001b[34m\u001b[1mwandb\u001b[0m: \tbatchSize: 64\n",
            "\u001b[34m\u001b[1mwandb\u001b[0m: \tepochs: 50\n",
            "\u001b[34m\u001b[1mwandb\u001b[0m: \thidLayer: [128, 128, 128]\n",
            "\u001b[34m\u001b[1mwandb\u001b[0m: \tinitForm: random\n",
            "\u001b[34m\u001b[1mwandb\u001b[0m: \tlearningRate: 0.001\n",
            "\u001b[34m\u001b[1mwandb\u001b[0m: \tlossFn: square_loss\n",
            "\u001b[34m\u001b[1mwandb\u001b[0m: \toptimiser: ngd\n",
            "\u001b[34m\u001b[1mwandb\u001b[0m: \tweight_decay: 0.0005\n",
            "\u001b[34m\u001b[1mwandb\u001b[0m: \u001b[33mWARNING\u001b[0m Ignored wandb.init() arg project when running a sweep.\n",
            "\u001b[34m\u001b[1mwandb\u001b[0m: \u001b[33mWARNING\u001b[0m Ignored wandb.init() arg entity when running a sweep.\n"
          ]
        },
        {
          "data": {
            "text/html": [
              "Tracking run with wandb version 0.14.0"
            ],
            "text/plain": [
              "<IPython.core.display.HTML object>"
            ]
          },
          "metadata": {},
          "output_type": "display_data"
        },
        {
          "data": {
            "text/html": [
              "Run data is saved locally in <code>/content/wandb/run-20230317_143233-fwuuz1i3</code>"
            ],
            "text/plain": [
              "<IPython.core.display.HTML object>"
            ]
          },
          "metadata": {},
          "output_type": "display_data"
        },
        {
          "data": {
            "text/html": [
              "Syncing run <strong><a href='https://wandb.ai/sleya7110/Assignment1DLQ9/runs/fwuuz1i3' target=\"_blank\">wobbly-sweep-42</a></strong> to <a href='https://wandb.ai/sleya7110/Assignment1DLQ9' target=\"_blank\">Weights & Biases</a> (<a href='https://wandb.me/run' target=\"_blank\">docs</a>)<br/>Sweep page: <a href='https://wandb.ai/sleya7110/Assignment1DLQ9/sweeps/h6gghlmm' target=\"_blank\">https://wandb.ai/sleya7110/Assignment1DLQ9/sweeps/h6gghlmm</a>"
            ],
            "text/plain": [
              "<IPython.core.display.HTML object>"
            ]
          },
          "metadata": {},
          "output_type": "display_data"
        },
        {
          "data": {
            "text/html": [
              " View project at <a href='https://wandb.ai/sleya7110/Assignment1DLQ9' target=\"_blank\">https://wandb.ai/sleya7110/Assignment1DLQ9</a>"
            ],
            "text/plain": [
              "<IPython.core.display.HTML object>"
            ]
          },
          "metadata": {},
          "output_type": "display_data"
        },
        {
          "data": {
            "text/html": [
              " View sweep at <a href='https://wandb.ai/sleya7110/Assignment1DLQ9/sweeps/h6gghlmm' target=\"_blank\">https://wandb.ai/sleya7110/Assignment1DLQ9/sweeps/h6gghlmm</a>"
            ],
            "text/plain": [
              "<IPython.core.display.HTML object>"
            ]
          },
          "metadata": {},
          "output_type": "display_data"
        },
        {
          "data": {
            "text/html": [
              " View run at <a href='https://wandb.ai/sleya7110/Assignment1DLQ9/runs/fwuuz1i3' target=\"_blank\">https://wandb.ai/sleya7110/Assignment1DLQ9/runs/fwuuz1i3</a>"
            ],
            "text/plain": [
              "<IPython.core.display.HTML object>"
            ]
          },
          "metadata": {},
          "output_type": "display_data"
        },
        {
          "name": "stdout",
          "output_type": "stream",
          "text": [
            "W length= 4\n",
            "B length= 4\n",
            "W shape= (10, 128)\n",
            "B shape= (10, 1)\n",
            "Epoch 0: training_accuracy = 14.54 %, training_loss= 0.44555  ,Validation accuracy = 14.05 ,Validation loss = 0.44543\n",
            "Epoch 1: training_accuracy = 18.37 %, training_loss= 0.44431  ,Validation accuracy = 17.73 ,Validation loss = 0.44417\n",
            "Epoch 2: training_accuracy = 18.30 %, training_loss= 0.44314  ,Validation accuracy = 17.73 ,Validation loss = 0.44298\n",
            "Epoch 3: training_accuracy = 18.29 %, training_loss= 0.44205  ,Validation accuracy = 17.75 ,Validation loss = 0.44186\n",
            "Epoch 4: training_accuracy = 18.21 %, training_loss= 0.44102  ,Validation accuracy = 17.57 ,Validation loss = 0.44080\n",
            "Epoch 5: training_accuracy = 17.94 %, training_loss= 0.44005  ,Validation accuracy = 17.17 ,Validation loss = 0.43981\n",
            "Epoch 6: training_accuracy = 17.40 %, training_loss= 0.43915  ,Validation accuracy = 17.10 ,Validation loss = 0.43888\n",
            "Epoch 7: training_accuracy = 16.40 %, training_loss= 0.43830  ,Validation accuracy = 16.22 ,Validation loss = 0.43801\n",
            "Epoch 8: training_accuracy = 15.06 %, training_loss= 0.43750  ,Validation accuracy = 15.25 ,Validation loss = 0.43719\n",
            "Epoch 9: training_accuracy = 16.06 %, training_loss= 0.43675  ,Validation accuracy = 16.32 ,Validation loss = 0.43642\n",
            "Epoch 10: training_accuracy = 17.73 %, training_loss= 0.43605  ,Validation accuracy = 18.38 ,Validation loss = 0.43569\n",
            "Epoch 11: training_accuracy = 17.77 %, training_loss= 0.43540  ,Validation accuracy = 18.30 ,Validation loss = 0.43502\n",
            "Epoch 12: training_accuracy = 17.84 %, training_loss= 0.43478  ,Validation accuracy = 18.42 ,Validation loss = 0.43438\n",
            "Epoch 13: training_accuracy = 17.86 %, training_loss= 0.43419  ,Validation accuracy = 18.45 ,Validation loss = 0.43377\n",
            "Epoch 14: training_accuracy = 17.90 %, training_loss= 0.43364  ,Validation accuracy = 18.50 ,Validation loss = 0.43321\n",
            "Epoch 15: training_accuracy = 17.98 %, training_loss= 0.43312  ,Validation accuracy = 18.60 ,Validation loss = 0.43267\n",
            "Epoch 16: training_accuracy = 18.01 %, training_loss= 0.43263  ,Validation accuracy = 18.62 ,Validation loss = 0.43216\n",
            "Epoch 17: training_accuracy = 18.06 %, training_loss= 0.43217  ,Validation accuracy = 18.65 ,Validation loss = 0.43168\n",
            "Epoch 18: training_accuracy = 18.10 %, training_loss= 0.43173  ,Validation accuracy = 18.68 ,Validation loss = 0.43123\n",
            "Epoch 19: training_accuracy = 18.32 %, training_loss= 0.43131  ,Validation accuracy = 18.92 ,Validation loss = 0.43079\n",
            "Epoch 20: training_accuracy = 18.55 %, training_loss= 0.43091  ,Validation accuracy = 19.20 ,Validation loss = 0.43038\n",
            "Epoch 21: training_accuracy = 18.80 %, training_loss= 0.43054  ,Validation accuracy = 19.55 ,Validation loss = 0.42999\n",
            "Epoch 22: training_accuracy = 19.06 %, training_loss= 0.43018  ,Validation accuracy = 19.77 ,Validation loss = 0.42962\n",
            "Epoch 23: training_accuracy = 19.30 %, training_loss= 0.42983  ,Validation accuracy = 20.18 ,Validation loss = 0.42926\n",
            "Epoch 24: training_accuracy = 19.49 %, training_loss= 0.42950  ,Validation accuracy = 20.35 ,Validation loss = 0.42892\n",
            "Epoch 25: training_accuracy = 19.68 %, training_loss= 0.42919  ,Validation accuracy = 20.57 ,Validation loss = 0.42860\n",
            "Epoch 26: training_accuracy = 19.84 %, training_loss= 0.42889  ,Validation accuracy = 20.95 ,Validation loss = 0.42829\n",
            "Epoch 27: training_accuracy = 19.99 %, training_loss= 0.42860  ,Validation accuracy = 21.07 ,Validation loss = 0.42799\n",
            "Epoch 28: training_accuracy = 20.16 %, training_loss= 0.42833  ,Validation accuracy = 21.33 ,Validation loss = 0.42770\n",
            "Epoch 29: training_accuracy = 20.34 %, training_loss= 0.42806  ,Validation accuracy = 21.62 ,Validation loss = 0.42743\n",
            "Epoch 30: training_accuracy = 20.49 %, training_loss= 0.42781  ,Validation accuracy = 21.70 ,Validation loss = 0.42716\n",
            "Epoch 31: training_accuracy = 20.63 %, training_loss= 0.42756  ,Validation accuracy = 21.90 ,Validation loss = 0.42691\n",
            "Epoch 32: training_accuracy = 20.78 %, training_loss= 0.42733  ,Validation accuracy = 22.17 ,Validation loss = 0.42667\n",
            "Epoch 33: training_accuracy = 20.92 %, training_loss= 0.42710  ,Validation accuracy = 22.27 ,Validation loss = 0.42643\n",
            "Epoch 34: training_accuracy = 21.14 %, training_loss= 0.42688  ,Validation accuracy = 22.38 ,Validation loss = 0.42620\n",
            "Epoch 35: training_accuracy = 21.24 %, training_loss= 0.42667  ,Validation accuracy = 22.53 ,Validation loss = 0.42598\n",
            "Epoch 36: training_accuracy = 21.40 %, training_loss= 0.42647  ,Validation accuracy = 22.70 ,Validation loss = 0.42577\n",
            "Epoch 37: training_accuracy = 21.53 %, training_loss= 0.42627  ,Validation accuracy = 22.93 ,Validation loss = 0.42557\n",
            "Epoch 38: training_accuracy = 21.62 %, training_loss= 0.42608  ,Validation accuracy = 23.00 ,Validation loss = 0.42537\n",
            "Epoch 39: training_accuracy = 21.74 %, training_loss= 0.42590  ,Validation accuracy = 23.15 ,Validation loss = 0.42518\n",
            "Epoch 40: training_accuracy = 21.86 %, training_loss= 0.42572  ,Validation accuracy = 23.12 ,Validation loss = 0.42500\n",
            "Epoch 41: training_accuracy = 21.94 %, training_loss= 0.42555  ,Validation accuracy = 23.20 ,Validation loss = 0.42482\n",
            "Epoch 42: training_accuracy = 22.03 %, training_loss= 0.42538  ,Validation accuracy = 23.32 ,Validation loss = 0.42464\n",
            "Epoch 43: training_accuracy = 22.15 %, training_loss= 0.42522  ,Validation accuracy = 23.37 ,Validation loss = 0.42447\n",
            "Epoch 44: training_accuracy = 22.28 %, training_loss= 0.42507  ,Validation accuracy = 23.40 ,Validation loss = 0.42431\n",
            "Epoch 45: training_accuracy = 22.41 %, training_loss= 0.42491  ,Validation accuracy = 23.40 ,Validation loss = 0.42415\n",
            "Epoch 46: training_accuracy = 22.52 %, training_loss= 0.42477  ,Validation accuracy = 23.55 ,Validation loss = 0.42400\n",
            "Epoch 47: training_accuracy = 22.62 %, training_loss= 0.42462  ,Validation accuracy = 23.60 ,Validation loss = 0.42385\n",
            "Epoch 48: training_accuracy = 22.69 %, training_loss= 0.42449  ,Validation accuracy = 23.68 ,Validation loss = 0.42370\n",
            "Epoch 49: training_accuracy = 22.77 %, training_loss= 0.42435  ,Validation accuracy = 23.77 ,Validation loss = 0.42356\n"
          ]
        },
        {
          "data": {
            "text/html": [
              "Waiting for W&B process to finish... <strong style=\"color:green\">(success).</strong>"
            ],
            "text/plain": [
              "<IPython.core.display.HTML object>"
            ]
          },
          "metadata": {},
          "output_type": "display_data"
        },
        {
          "data": {
            "application/vnd.jupyter.widget-view+json": {
              "model_id": "926cb0a52f614227a622d0b1a26c5d3e",
              "version_major": 2,
              "version_minor": 0
            },
            "text/plain": [
              "VBox(children=(Label(value='0.001 MB of 0.014 MB uploaded (0.000 MB deduped)\\r'), FloatProgress(value=0.045340…"
            ]
          },
          "metadata": {},
          "output_type": "display_data"
        },
        {
          "data": {
            "text/html": [
              "<style>\n",
              "    table.wandb td:nth-child(1) { padding: 0 10px; text-align: left ; width: auto;} td:nth-child(2) {text-align: left ; width: 100%}\n",
              "    .wandb-row { display: flex; flex-direction: row; flex-wrap: wrap; justify-content: flex-start; width: 100% }\n",
              "    .wandb-col { display: flex; flex-direction: column; flex-basis: 100%; flex: 1; padding: 10px; }\n",
              "    </style>\n",
              "<div class=\"wandb-row\"><div class=\"wandb-col\"><h3>Run history:</h3><br/><table class=\"wandb\"><tr><td>accuracy</td><td>▁▄▄▄▄▃▃▁▄▄▄▄▄▄▄▄▄▅▅▅▅▆▆▆▆▆▆▆▇▇▇▇▇▇▇▇████</td></tr><tr><td>steps</td><td>▁▁▁▁▁▁▁▁▁▁▁▁▁▁▁▁▁▁▁▁▁▁▁▁▁▁▁▁▁▁▁▁▁▁▁▁▁▁▁▁</td></tr><tr><td>train_loss</td><td>██▇▇▆▆▆▅▅▅▄▄▄▄▄▃▃▃▃▃▃▂▂▂▂▂▂▂▂▂▂▂▁▁▁▁▁▁▁▁</td></tr><tr><td>val_accuracy</td><td>▁▄▄▄▃▃▃▂▄▄▄▄▄▄▄▄▅▅▅▅▆▆▆▆▇▇▇▇▇▇▇▇████████</td></tr><tr><td>val_loss</td><td>██▇▇▆▆▆▅▅▅▄▄▄▄▄▃▃▃▃▃▃▃▂▂▂▂▂▂▂▂▂▂▁▁▁▁▁▁▁▁</td></tr></table><br/></div><div class=\"wandb-col\"><h3>Run summary:</h3><br/><table class=\"wandb\"><tr><td>accuracy</td><td>22.774</td></tr><tr><td>steps</td><td>50</td></tr><tr><td>train_loss</td><td>0.42435</td></tr><tr><td>val_accuracy</td><td>23.767</td></tr><tr><td>val_loss</td><td>0.42356</td></tr></table><br/></div></div>"
            ],
            "text/plain": [
              "<IPython.core.display.HTML object>"
            ]
          },
          "metadata": {},
          "output_type": "display_data"
        },
        {
          "data": {
            "text/html": [
              " View run <strong style=\"color:#cdcd00\">wobbly-sweep-42</strong> at: <a href='https://wandb.ai/sleya7110/Assignment1DLQ9/runs/fwuuz1i3' target=\"_blank\">https://wandb.ai/sleya7110/Assignment1DLQ9/runs/fwuuz1i3</a><br/>Synced 5 W&B file(s), 0 media file(s), 0 artifact file(s) and 0 other file(s)"
            ],
            "text/plain": [
              "<IPython.core.display.HTML object>"
            ]
          },
          "metadata": {},
          "output_type": "display_data"
        },
        {
          "data": {
            "text/html": [
              "Find logs at: <code>./wandb/run-20230317_143233-fwuuz1i3/logs</code>"
            ],
            "text/plain": [
              "<IPython.core.display.HTML object>"
            ]
          },
          "metadata": {},
          "output_type": "display_data"
        },
        {
          "name": "stderr",
          "output_type": "stream",
          "text": [
            "\u001b[34m\u001b[1mwandb\u001b[0m: Agent Starting Run: nmac634d with config:\n",
            "\u001b[34m\u001b[1mwandb\u001b[0m: \tactivation: tanh\n",
            "\u001b[34m\u001b[1mwandb\u001b[0m: \tbatchSize: 128\n",
            "\u001b[34m\u001b[1mwandb\u001b[0m: \tepochs: 50\n",
            "\u001b[34m\u001b[1mwandb\u001b[0m: \thidLayer: [64, 64, 64]\n",
            "\u001b[34m\u001b[1mwandb\u001b[0m: \tinitForm: random\n",
            "\u001b[34m\u001b[1mwandb\u001b[0m: \tlearningRate: 0.01\n",
            "\u001b[34m\u001b[1mwandb\u001b[0m: \tlossFn: square_loss\n",
            "\u001b[34m\u001b[1mwandb\u001b[0m: \toptimiser: mgd\n",
            "\u001b[34m\u001b[1mwandb\u001b[0m: \tweight_decay: 0\n",
            "\u001b[34m\u001b[1mwandb\u001b[0m: \u001b[33mWARNING\u001b[0m Ignored wandb.init() arg project when running a sweep.\n",
            "\u001b[34m\u001b[1mwandb\u001b[0m: \u001b[33mWARNING\u001b[0m Ignored wandb.init() arg entity when running a sweep.\n"
          ]
        },
        {
          "data": {
            "text/html": [
              "Tracking run with wandb version 0.14.0"
            ],
            "text/plain": [
              "<IPython.core.display.HTML object>"
            ]
          },
          "metadata": {},
          "output_type": "display_data"
        },
        {
          "data": {
            "text/html": [
              "Run data is saved locally in <code>/content/wandb/run-20230317_144114-nmac634d</code>"
            ],
            "text/plain": [
              "<IPython.core.display.HTML object>"
            ]
          },
          "metadata": {},
          "output_type": "display_data"
        },
        {
          "data": {
            "text/html": [
              "Syncing run <strong><a href='https://wandb.ai/sleya7110/Assignment1DLQ9/runs/nmac634d' target=\"_blank\">silvery-sweep-43</a></strong> to <a href='https://wandb.ai/sleya7110/Assignment1DLQ9' target=\"_blank\">Weights & Biases</a> (<a href='https://wandb.me/run' target=\"_blank\">docs</a>)<br/>Sweep page: <a href='https://wandb.ai/sleya7110/Assignment1DLQ9/sweeps/h6gghlmm' target=\"_blank\">https://wandb.ai/sleya7110/Assignment1DLQ9/sweeps/h6gghlmm</a>"
            ],
            "text/plain": [
              "<IPython.core.display.HTML object>"
            ]
          },
          "metadata": {},
          "output_type": "display_data"
        },
        {
          "data": {
            "text/html": [
              " View project at <a href='https://wandb.ai/sleya7110/Assignment1DLQ9' target=\"_blank\">https://wandb.ai/sleya7110/Assignment1DLQ9</a>"
            ],
            "text/plain": [
              "<IPython.core.display.HTML object>"
            ]
          },
          "metadata": {},
          "output_type": "display_data"
        },
        {
          "data": {
            "text/html": [
              " View sweep at <a href='https://wandb.ai/sleya7110/Assignment1DLQ9/sweeps/h6gghlmm' target=\"_blank\">https://wandb.ai/sleya7110/Assignment1DLQ9/sweeps/h6gghlmm</a>"
            ],
            "text/plain": [
              "<IPython.core.display.HTML object>"
            ]
          },
          "metadata": {},
          "output_type": "display_data"
        },
        {
          "data": {
            "text/html": [
              " View run at <a href='https://wandb.ai/sleya7110/Assignment1DLQ9/runs/nmac634d' target=\"_blank\">https://wandb.ai/sleya7110/Assignment1DLQ9/runs/nmac634d</a>"
            ],
            "text/plain": [
              "<IPython.core.display.HTML object>"
            ]
          },
          "metadata": {},
          "output_type": "display_data"
        },
        {
          "name": "stdout",
          "output_type": "stream",
          "text": [
            "W length= 4\n",
            "B length= 4\n",
            "W shape= (10, 64)\n",
            "B shape= (10, 1)\n",
            "Epoch 0: training_accuracy = 9.96 %, training_loss= 0.44995  ,Validation accuracy = 10.35 ,Validation loss = 0.44993\n",
            "Epoch 1: training_accuracy = 9.96 %, training_loss= 0.44988  ,Validation accuracy = 10.35 ,Validation loss = 0.44986\n",
            "Epoch 2: training_accuracy = 9.96 %, training_loss= 0.44981  ,Validation accuracy = 10.35 ,Validation loss = 0.44978\n",
            "Epoch 3: training_accuracy = 9.96 %, training_loss= 0.44974  ,Validation accuracy = 10.35 ,Validation loss = 0.44971\n",
            "Epoch 4: training_accuracy = 9.96 %, training_loss= 0.44967  ,Validation accuracy = 10.35 ,Validation loss = 0.44964\n",
            "Epoch 5: training_accuracy = 9.97 %, training_loss= 0.44960  ,Validation accuracy = 10.37 ,Validation loss = 0.44957\n",
            "Epoch 6: training_accuracy = 9.98 %, training_loss= 0.44953  ,Validation accuracy = 10.37 ,Validation loss = 0.44950\n",
            "Epoch 7: training_accuracy = 10.00 %, training_loss= 0.44945  ,Validation accuracy = 10.37 ,Validation loss = 0.44942\n",
            "Epoch 8: training_accuracy = 10.06 %, training_loss= 0.44938  ,Validation accuracy = 10.38 ,Validation loss = 0.44935\n",
            "Epoch 9: training_accuracy = 10.17 %, training_loss= 0.44931  ,Validation accuracy = 10.50 ,Validation loss = 0.44928\n",
            "Epoch 10: training_accuracy = 11.04 %, training_loss= 0.44924  ,Validation accuracy = 11.28 ,Validation loss = 0.44921\n",
            "Epoch 11: training_accuracy = 12.51 %, training_loss= 0.44917  ,Validation accuracy = 12.77 ,Validation loss = 0.44913\n",
            "Epoch 12: training_accuracy = 13.25 %, training_loss= 0.44910  ,Validation accuracy = 13.55 ,Validation loss = 0.44906\n",
            "Epoch 13: training_accuracy = 13.66 %, training_loss= 0.44903  ,Validation accuracy = 14.17 ,Validation loss = 0.44899\n",
            "Epoch 14: training_accuracy = 14.08 %, training_loss= 0.44896  ,Validation accuracy = 14.53 ,Validation loss = 0.44892\n",
            "Epoch 15: training_accuracy = 14.38 %, training_loss= 0.44889  ,Validation accuracy = 14.85 ,Validation loss = 0.44885\n",
            "Epoch 16: training_accuracy = 14.65 %, training_loss= 0.44882  ,Validation accuracy = 15.17 ,Validation loss = 0.44877\n",
            "Epoch 17: training_accuracy = 14.91 %, training_loss= 0.44875  ,Validation accuracy = 15.45 ,Validation loss = 0.44870\n",
            "Epoch 18: training_accuracy = 15.14 %, training_loss= 0.44868  ,Validation accuracy = 15.75 ,Validation loss = 0.44863\n"
          ]
        }
      ],
      "source": [
        "import warnings\n",
        "warnings.filterwarnings(\"ignore\", category=np.VisibleDeprecationWarning)\n",
        "wandb.agent(sweep_id, train, count=150)"
      ]
    },
    {
      "cell_type": "code",
      "execution_count": null,
      "metadata": {
        "id": "1xfjeSSxitAU"
      },
      "outputs": [],
      "source": []
    }
  ],
  "metadata": {
    "accelerator": "GPU",
    "colab": {
      "provenance": []
    },
    "gpuClass": "standard",
    "kernelspec": {
      "display_name": "Python 3",
      "language": "python",
      "name": "python3"
    },
    "language_info": {
      "codemirror_mode": {
        "name": "ipython",
        "version": 3
      },
      "file_extension": ".py",
      "mimetype": "text/x-python",
      "name": "python",
      "nbconvert_exporter": "python",
      "pygments_lexer": "ipython3",
      "version": "3.10.6"
    }
  },
  "nbformat": 4,
  "nbformat_minor": 0
}